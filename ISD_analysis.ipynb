{
 "cells": [
  {
   "cell_type": "code",
   "execution_count": 3,
   "metadata": {
    "vscode": {
     "languageId": "r"
    }
   },
   "outputs": [
    {
     "name": "stderr",
     "output_type": "stream",
     "text": [
      "-- \u001b[1mAttaching core tidyverse packages\u001b[22m ------------------------ tidyverse 2.0.0 --\n",
      "\u001b[32mv\u001b[39m \u001b[34mdplyr    \u001b[39m 1.1.4     \u001b[32mv\u001b[39m \u001b[34mreadr    \u001b[39m 2.1.5\n",
      "\u001b[32mv\u001b[39m \u001b[34mforcats  \u001b[39m 1.0.0     \u001b[32mv\u001b[39m \u001b[34mstringr  \u001b[39m 1.5.0\n",
      "\u001b[32mv\u001b[39m \u001b[34mggplot2  \u001b[39m 3.4.2     \u001b[32mv\u001b[39m \u001b[34mtibble   \u001b[39m 3.2.1\n",
      "\u001b[32mv\u001b[39m \u001b[34mlubridate\u001b[39m 1.9.3     \u001b[32mv\u001b[39m \u001b[34mtidyr    \u001b[39m 1.3.1\n",
      "\u001b[32mv\u001b[39m \u001b[34mpurrr    \u001b[39m 1.0.2     \n",
      "-- \u001b[1mConflicts\u001b[22m ------------------------------------------ tidyverse_conflicts() --\n",
      "\u001b[31mx\u001b[39m \u001b[34mdplyr\u001b[39m::\u001b[32mfilter()\u001b[39m masks \u001b[34mstats\u001b[39m::filter()\n",
      "\u001b[31mx\u001b[39m \u001b[34mdplyr\u001b[39m::\u001b[32mlag()\u001b[39m    masks \u001b[34mstats\u001b[39m::lag()\n",
      "\u001b[36mi\u001b[39m Use the conflicted package (\u001b[3m\u001b[34m<http://conflicted.r-lib.org/>\u001b[39m\u001b[23m) to force all conflicts to become errors\n",
      "\n",
      "Attaching package: 'data.table'\n",
      "\n",
      "\n",
      "The following objects are masked from 'package:lubridate':\n",
      "\n",
      "    hour, isoweek, mday, minute, month, quarter, second, wday, week,\n",
      "    yday, year\n",
      "\n",
      "\n",
      "The following objects are masked from 'package:dplyr':\n",
      "\n",
      "    between, first, last\n",
      "\n",
      "\n",
      "The following object is masked from 'package:purrr':\n",
      "\n",
      "    transpose\n",
      "\n",
      "\n"
     ]
    }
   ],
   "source": [
    "library(tidyverse)\n",
    "library(dplyr)\n",
    "library(readr)\n",
    "library(data.table)\n",
    "library(purrr)"
   ]
  },
  {
   "cell_type": "markdown",
   "metadata": {},
   "source": [
    "## ISD Dataset analysis\n",
    "\n",
    "This notebook attempts to answer the following questions, using Chris' list of toxic terms:\n",
    "- What percentage of tweets at each user of interest is toxic?\n",
    "- Is there a gender disparity between rates of toxicity? IE, does one gender experience a greater percentage of toxic tweets?\n",
    "- What percentage of tweets from each category of users of interest are toxic?\n",
    "\n",
    "Note that due to the size of the dataset some cells might take a painfully long time to run. I tried my best to cut down on execution time, but this is the best I could do. \n",
    "\n",
    "I exclude retweets from this analysis due to them not adding any new textual info. It would be nice, however, to perhaps analyze what kinds of tweets are being retweeted. "
   ]
  },
  {
   "cell_type": "code",
   "execution_count": 4,
   "metadata": {
    "vscode": {
     "languageId": "r"
    }
   },
   "outputs": [],
   "source": [
    "UBC_ISD <- fread(\"UBC-ISD.csv\", encoding = \"UTF-8\")"
   ]
  },
  {
   "cell_type": "code",
   "execution_count": 5,
   "metadata": {
    "vscode": {
     "languageId": "r"
    }
   },
   "outputs": [],
   "source": [
    "UBC_ISD_text <- UBC_ISD |>\n",
    "select(\"twitter.tweet/text\")|>\n",
    "rename(text=\"twitter.tweet/text\")|>\n",
    "mutate_all(na_if,\"\")|>\n",
    "drop_na()|>\n",
    "distinct() #removes retweets\n"
   ]
  },
  {
   "cell_type": "code",
   "execution_count": 6,
   "metadata": {
    "vscode": {
     "languageId": "r"
    }
   },
   "outputs": [],
   "source": [
    "terms <- c('fuck', 'dirty', 'stupid', 'idiot', 'asshole', 'bastard', 'nasty', 'whore', 'slut', 'skank', 'cunt', 'bitch', 'motherfucker', 'go to hell', 'wimp', 'coward', 'moron', 'traitor', 'shut up', 'shut the fuck up', 'stfu', 'piece of shit', 'ignorant', 'clown', 'ccpvirus', 'chinese coronavirus', 'chinavirus', 'china virus', 'fuckchina', 'nukechina', 'bombchina', 'deathtochina', 'chinesevirus', 'fake lab wuhan', 'china weapon', 'china bioweapon', 'zionazi', 'Soros virus', 'blood libel', 'nwovirus', 'new world order', 'sacrifice children', 'jew world order', 'liar', 'yellow star', 'israel virus', 'israelvirus', 'rothschild covid', 'kalergi plan', 'jail', 'locked up', 'evil.', 'is evil', 'so evil', 'pure evil', 'an evil', 'evil wom', 'evil man', 'evil witch', 'is evil', 'are evil', 'that evil', 'very evil', 'tyrant', 'tyranny', 'dictator', 'tv doctor', 'twitter doctor', 'murder', 'murderer', 'eugenic', 'satan', 'Nazi', 'non-human', 'sterile', 'slave', 'crooked', 'corrupt', 'shill', 'liar', 'lying', 'killer', 'fraud', 'big pharma', 'pharma puppet', 'Nuremberg', 'crimes against humanity', 'genocide', 'child abuse', 'covid hoax', 'covid fake', 'virus hoax', 'gates virus', 'bioweapon', 'secret elite', 'depopulation', 'save our children', 'scamdemic', 'plandemic')\n",
    "terms <- paste0(\" \", terms)\n",
    "pattern <- paste(terms, collapse = \"|\")"
   ]
  },
  {
   "cell_type": "code",
   "execution_count": 13,
   "metadata": {
    "vscode": {
     "languageId": "r"
    }
   },
   "outputs": [],
   "source": [
    "\n",
    "users <- c(\"adriandix\", \"AlikaMD\", \"AmyGreerKalisz\", \"angie_rasmussen\", \"AnnaBlakney\", \n",
    "           \"AntibioticDoc\", \"asapscience\", \"ASPphysician\", \"atRachelGilmore\", \"binhanv\", \n",
    "           \"BirinderNarang\", \"blackdocscanada\", \"BogochIsaac\", \"bornk\", \"carlyweeks\", \n",
    "           \"CaulfieldTim\", \"CDCofBC\", \"cdube_sante\", \"cfpcceo\", \"ChiefSciCan\", \"cmcovidtf\", \n",
    "           \"CMOH_Alberta\", \"CMOH_NL\", \"conquercovid19\", \"COVID_19_Canada\", \"COVIDSciOntario\", \n",
    "           \"CPHO_Canada\", \"ctouzin\", \"CTV_AvisFavaro\", \"DeNovo_Fatima\", \"deonandan\", \"drfisman\", \n",
    "           \"Dr_ChrisSimpson\", \"drgigiosler\", \"DrKaliBarrett\", \"drmwarner\", \"drsusanshaw\", \n",
    "           \"DrVivianS\", \"egpayne\", \"epdevilla\", \"ErnieHudsonPEI\", \"everetthindley\", \"First10EM\", \n",
    "           \"GermHunterMD\", \"glenpyle\", \"heysciencesam\", \"hgagneTVA\", \"IDEpiPhD\", \"imgrund\", \n",
    "           \"iPreetBrar\", \"IrfanDhalla\", \"j_mcelroy\", \"jasonfherring\", \"jfrketich\", \"jkwan_md\", \n",
    "           \"Johnrockdoc\", \"JuliaWongCBC\", \"juliegreenMLA\", \"Justin_Ling\", \"jyangstar\", \"KashPrime\", \n",
    "           \"KatharineSmart\", \"Kevin_Parent\", \"KindrachuckJason\", \"KrishanaSankar\", \"kwadwo777\", \n",
    "           \"LaurenPelley\", \"LisaBarrettID\", \"McGillOSS\", \"MerrimanPaul\", \"MichaelSchwandt\", \n",
    "           \"MLAStefanson\", \"moirawyton\", \"moriartylabs\", \"MPaiMD\", \"NaheedD\", \"NathanStall\", \n",
    "           \"NightShiftMD\", \"NoLore\", \"OttawaHealth\", \"paimadhu\", \"PattyHajdu\", \"picardonhealth\", \n",
    "           \"RicharLisa\", \"roussin_brent\", \"sabaeitizaz\", \"sabiVM\", \"SammyG_MD\", \"sarperotto\", \n",
    "           \"SciChefCan\", \"sciencemonkeyca\", \"ScienceUpFirst\", \"sdbaral\", \"shandro\", \"SharkawyMD\", \n",
    "           \"shazmamithani\", \"ShephardDorothy\", \"srinmurthy99\", \"SteiniBrown\", \"theresaboyle\", \n",
    "           \"thisisourshotca\", \"TorontoIDDOC\", \"UbakaOgbogu\", \"VaxHuntersCan\", \"VeraEtches\", \n",
    "           \"VikCBC\", \"wickdchiq\", \"zachchurchhill\", \"zchangla\", \"DrKathleenRoss1\")\n",
    "\n",
    "# Creating an empty list to store the dataframes\n",
    "negative_proportions <- list()\n",
    "total_entries <- nrow(UBC_ISD_text)\n",
    "#filtering tweets for each user and adding a column for hate speech: value of 1 if row contains hate speech, 0 if not.\n",
    "filter_tweets <- function(user) {\n",
    "\n",
    "  filtered_data <- UBC_ISD_text |>\n",
    "    filter(grepl(user, text, ignore.case = TRUE)) |>\n",
    "    mutate(negative = as.integer(grepl(pattern, text, ignore.case = TRUE)))\n",
    "\n",
    "  negative_entries <- nrow(filtered_data |> filter(negative == 1))\n",
    "\n",
    "  percent_negative <- (negative_entries / total_entries) * 100\n",
    "\n",
    "  return(percent_negative)\n",
    "}\n",
    "\n",
    "# Looping through each user and storing the negative percentage in the list\n",
    "for (user in users) {\n",
    "  negative_proportions[[user]] <- filter_tweets(user)\n",
    "}\n"
   ]
  },
  {
   "cell_type": "markdown",
   "metadata": {},
   "source": [
    "To view each individual's percentage, run `negative_proprtions$username`. Example:"
   ]
  },
  {
   "cell_type": "code",
   "execution_count": 11,
   "metadata": {
    "vscode": {
     "languageId": "r"
    }
   },
   "outputs": [
    {
     "data": {
      "text/html": [
       "0.134419499788769"
      ],
      "text/latex": [
       "0.134419499788769"
      ],
      "text/markdown": [
       "0.134419499788769"
      ],
      "text/plain": [
       "[1] 0.1344195"
      ]
     },
     "metadata": {},
     "output_type": "display_data"
    }
   ],
   "source": [
    "negative_proportions$adriandix"
   ]
  },
  {
   "cell_type": "code",
   "execution_count": 12,
   "metadata": {
    "vscode": {
     "languageId": "r"
    }
   },
   "outputs": [],
   "source": [
    "user_csv <- data.frame(\n",
    "  user = c(\"adriandix\", \"AlikaMD\", \"AmyGreerKalisz\", \"angie_rasmussen\", \"AnnaBlakney\", \n",
    "           \"AntibioticDoc\", \"asapscience\", \"ASPphysician\", \"atRachelGilmore\", \"binhanv\", \n",
    "           \"BirinderNarang\", \"blackdocscanada\", \"BogochIsaac\", \"bornk\", \"carlyweeks\", \n",
    "           \"CaulfieldTim\", \"CDCofBC\", \"cdube_sante\", \"cfpcceo\", \"ChiefSciCan\", \"cmcovidtf\", \n",
    "           \"CMOH_Alberta\", \"CMOH_NL\", \"conquercovid19\", \"COVID_19_Canada\", \"COVIDSciOntario\", \n",
    "           \"CPHO_Canada\", \"ctouzin\", \"CTV_AvisFavaro\", \"DeNovo_Fatima\", \"deonandan\", \"drfisman\", \n",
    "           \"Dr_ChrisSimpson\", \"drgigiosler\", \"DrKaliBarrett\", \"drmwarner\", \"drsusanshaw\", \n",
    "           \"DrVivianS\", \"egpayne\", \"epdevilla\", \"ErnieHudsonPEI\", \"everetthindley\", \"First10EM\", \n",
    "           \"GermHunterMD\", \"glenpyle\", \"heysciencesam\", \"hgagneTVA\", \"IDEpiPhD\", \"imgrund\", \n",
    "           \"iPreetBrar\", \"IrfanDhalla\", \"j_mcelroy\", \"jasonfherring\", \"jfrketich\", \"jkwan_md\", \n",
    "           \"Johnrockdoc\", \"JuliaWongCBC\", \"juliegreenMLA\", \"Justin_Ling\", \"jyangstar\", \"KashPrime\", \n",
    "           \"KatharineSmart\", \"Kevin_Parent\", \"KindrachuckJason\", \"KrishanaSankar\", \"kwadwo777\", \n",
    "           \"LaurenPelley\", \"LisaBarrettID\", \"McGillOSS\", \"MerrimanPaul\", \"MichaelSchwandt\", \n",
    "           \"MLAStefanson\", \"moirawyton\", \"moriartylabs\", \"MPaiMD\", \"NaheedD\", \"NathanStall\", \n",
    "           \"NightShiftMD\", \"NoLore\", \"OttawaHealth\", \"paimadhu\", \"PattyHajdu\", \"picardonhealth\", \n",
    "           \"RicharLisa\", \"roussin_brent\", \"sabaeitizaz\", \"sabiVM\", \"SammyG_MD\", \"sarperotto\", \n",
    "           \"SciChefCan\", \"sciencemonkeyca\", \"ScienceUpFirst\", \"sdbaral\", \"shandro\", \"SharkawyMD\", \n",
    "           \"shazmamithani\", \"ShephardDorothy\", \"srinmurthy99\", \"SteiniBrown\", \"theresaboyle\", \n",
    "           \"thisisourshotca\", \"TorontoIDDOC\", \"UbakaOgbogu\", \"VaxHuntersCan\", \"VeraEtches\", \n",
    "           \"VikCBC\", \"wickdchiq\", \"zachchurchhill\", \"zchangla\", \"DrKathleenRoss1\"),\n",
    "  value = c(negative_proportions$adriandix, negative_proportions$AlikaMD, negative_proportions$AmyGreerKalisz, \n",
    "            negative_proportions$angie_rasmussen, negative_proportions$AnnaBlakney, negative_proportions$AntibioticDoc, \n",
    "            negative_proportions$asapscience, negative_proportions$ASPphysician, negative_proportions$atRachelGilmore, \n",
    "            negative_proportions$binhanv, negative_proportions$BirinderNarang, negative_proportions$blackdocscanada, \n",
    "            negative_proportions$BogochIsaac, negative_proportions$bornk, negative_proportions$carlyweeks, \n",
    "            negative_proportions$CaulfieldTim, negative_proportions$CDCofBC, negative_proportions$cdube_sante, \n",
    "            negative_proportions$cfpcceo, negative_proportions$ChiefSciCan, negative_proportions$cmcovidtf, \n",
    "            negative_proportions$CMOH_Alberta, negative_proportions$CMOH_NL, negative_proportions$conquercovid19, \n",
    "            negative_proportions$COVID_19_Canada, negative_proportions$COVIDSciOntario, negative_proportions$CPHO_Canada, \n",
    "            negative_proportions$ctouzin, negative_proportions$CTV_AvisFavaro, negative_proportions$DeNovo_Fatima, \n",
    "            negative_proportions$deonandan, negative_proportions$drfisman, negative_proportions$Dr_ChrisSimpson, \n",
    "            negative_proportions$drgigiosler, negative_proportions$DrKaliBarrett, negative_proportions$drmwarner, \n",
    "            negative_proportions$drsusanshaw, negative_proportions$DrVivianS, negative_proportions$egpayne, \n",
    "            negative_proportions$epdevilla, negative_proportions$ErnieHudsonPEI, negative_proportions$everetthindley, \n",
    "            negative_proportions$First10EM, negative_proportions$GermHunterMD, negative_proportions$glenpyle, \n",
    "            negative_proportions$heysciencesam, negative_proportions$hgagneTVA, negative_proportions$IDEpiPhD, \n",
    "            negative_proportions$imgrund, negative_proportions$iPreetBrar, negative_proportions$IrfanDhalla, \n",
    "            negative_proportions$j_mcelroy, negative_proportions$jasonfherring, negative_proportions$jfrketich, \n",
    "            negative_proportions$jkwan_md, negative_proportions$Johnrockdoc, negative_proportions$JuliaWongCBC, \n",
    "            negative_proportions$juliegreenMLA, negative_proportions$Justin_Ling, negative_proportions$jyangstar, \n",
    "            negative_proportions$KashPrime, negative_proportions$KatharineSmart, negative_proportions$Kevin_Parent, \n",
    "            negative_proportions$KindrachuckJason, negative_proportions$KrishanaSankar, negative_proportions$kwadwo777, \n",
    "            negative_proportions$LaurenPelley, negative_proportions$LisaBarrettID, negative_proportions$McGillOSS, \n",
    "            negative_proportions$MerrimanPaul, negative_proportions$MichaelSchwandt, negative_proportions$MLAStefanson, \n",
    "            negative_proportions$moirawyton, negative_proportions$moriartylabs, negative_proportions$MPaiMD, \n",
    "            negative_proportions$NaheedD, negative_proportions$NathanStall, negative_proportions$NightShiftMD, \n",
    "            negative_proportions$NoLore, negative_proportions$OttawaHealth, negative_proportions$paimadhu, \n",
    "            negative_proportions$PattyHajdu, negative_proportions$picardonhealth, negative_proportions$RicharLisa, \n",
    "            negative_proportions$roussin_brent, negative_proportions$sabaeitizaz, negative_proportions$sabiVM, \n",
    "            negative_proportions$SammyG_MD, negative_proportions$sarperotto, negative_proportions$SciChefCan, \n",
    "            negative_proportions$sciencemonkeyca, negative_proportions$ScienceUpFirst, negative_proportions$sdbaral, \n",
    "            negative_proportions$shandro, negative_proportions$SharkawyMD, negative_proportions$shazmamithani, \n",
    "            negative_proportions$ShephardDorothy, negative_proportions$srinmurthy99, negative_proportions$SteiniBrown, \n",
    "            negative_proportions$theresaboyle, negative_proportions$thisisourshotca, negative_proportions$TorontoIDDOC, \n",
    "            negative_proportions$UbakaOgbogu, negative_proportions$VaxHuntersCan, negative_proportions$VeraEtches, \n",
    "            negative_proportions$VikCBC, negative_proportions$wickdchiq, negative_proportions$zachchurchhill, \n",
    "            negative_proportions$zchangla, negative_proportions$DrKathleenRoss1)\n",
    ")\n",
    "\n",
    "write.csv(user_csv, \"ISD_toxicity.csv\")\n"
   ]
  },
  {
   "cell_type": "markdown",
   "metadata": {},
   "source": [
    "**Gender bias analysis**: \n",
    "\n",
    "What percentage of all tweets directed at women are toxic? At men?\n",
    "\n",
    "run `women_df` and `men_df` for the results."
   ]
  },
  {
   "cell_type": "code",
   "execution_count": null,
   "metadata": {
    "vscode": {
     "languageId": "r"
    }
   },
   "outputs": [],
   "source": [
    "UBC_ISD_text <- UBC_ISD |>\n",
    "select(\"twitter.tweet/text\")|>\n",
    "rename(text=\"twitter.tweet/text\")|>\n",
    "mutate_all(na_if,\"\")|>\n",
    "drop_na()|>\n",
    "distinct() #removes retweets"
   ]
  },
  {
   "cell_type": "code",
   "execution_count": null,
   "metadata": {
    "vscode": {
     "languageId": "r"
    }
   },
   "outputs": [
    {
     "data": {
      "text/html": [
       "4.52898312969096"
      ],
      "text/latex": [
       "4.52898312969096"
      ],
      "text/markdown": [
       "4.52898312969096"
      ],
      "text/plain": [
       "[1] 4.528983"
      ]
     },
     "metadata": {},
     "output_type": "display_data"
    }
   ],
   "source": [
    "men <- list(\"adriandix\", \"AlikaMD\", \"ASPphysician\", \"BogochIsaac\", \"CaulfieldTim\", \n",
    "            \"cdube_sante\", \"deonandan\", \"Dr_ChrisSimpson\", \"drfisman\", \"drmwarner\", \n",
    "            \"ErnieHudsonPEI\", \"everetthindley\", \"First10EM\", \"GermHunterMD\", \"imgrund\", \n",
    "            \"IrfanDhalla\", \"j_mcelroy\", \"jasonfherring\", \"Johnrockdoc\", \"Justin_Ling\", \n",
    "            \"KashPrime\", \"Kevin_Parent\", \"KindrachuckJason\", \"kwadwo777\", \"MerrimanPaul\", \n",
    "            \"NaheedD\", \"NathanStall\", \"NightShiftMD\", \"paimadhu\", \"picardonhealth\", \n",
    "            \"roussin_brent\", \"SammyG_MD\", \"sciencemonkeyca\", \"sdbaral\", \"shandro\", \n",
    "            \"srinmurthy99\", \"SteiniBrown\", \"TorontoIDDOC\", \"UbakaOgbogu\", \"VikCBC\", \n",
    "            \"zachchurchhill\", \"zchangla\")\n",
    "          \n",
    "\n",
    "men_df <- UBC_ISD_text %>%\n",
    "  filter(grepl(paste(men, collapse = \"|\"), text))|> #filtering for rows containing men\n",
    "  mutate(negative = as.integer(grepl(pattern, text, ignore.case = TRUE))) #adding row for hate speech \n",
    "\n",
    "total_entries_men <- nrow(men_df)    \n",
    "negative_entries_men <- nrow(men_df |> filter(negative == 1))\n",
    "men_pct_neg <- negative_entries_men/total_entries_men*100\n",
    "\n",
    "men_pct_neg\n"
   ]
  },
  {
   "cell_type": "code",
   "execution_count": null,
   "metadata": {
    "vscode": {
     "languageId": "r"
    }
   },
   "outputs": [
    {
     "data": {
      "text/html": [
       "6.22940265081949"
      ],
      "text/latex": [
       "6.22940265081949"
      ],
      "text/markdown": [
       "6.22940265081949"
      ],
      "text/plain": [
       "[1] 6.229403"
      ]
     },
     "metadata": {},
     "output_type": "display_data"
    }
   ],
   "source": [
    "women <- list(\"AmyGreerKalisz\", \"angie_rasmussen\", \"AnnaBlakney\", \"AntibioticDoc\", \"binhanv\", \n",
    "              \"bornk\", \"carlyweeks\", \"ChiefSciCan\", \"CMOH_Alberta\", \"CMOH_NL\", \"CPHO_Canada\", \n",
    "              \"ctouzin\", \"CTV_AvisFavaro\", \"DeNovo_Fatima\", \"drgigiosler\", \"DrKaliBarrett\", \n",
    "              \"drsusanshaw\", \"DrVivianS\", \"egpayne\", \"epdevilla\", \"glenpyle\", \"heysciencesam\", \n",
    "              \"IDEpiPhD\", \"iPreetBrar\", \"jfrketich\", \"jkwan_md\", \"JuliaWongCBC\", \"juliegreenMLA\", \n",
    "              \"jyangstar\", \"KatharineSmart\", \"KrishanaSankar\", \"LaurenPelley\", \"LisaBarrettID\", \n",
    "              \"MLAStefanson\", \"moriartylabs\", \"moirawyton\", \"MPaiMD\", \"NoLore\", \"PattyHajdu\", \n",
    "              \"RicharLisa\", \"sabiVM\", \"SciChefCan\", \"sarperotto\", \"shazmamithani\", \"ShephardDorothy\", \n",
    "              \"theresaboyle\", \"VeraEtches\", \"wickdchiq\", \"DrKathleenRoss1\")\n",
    "\n",
    "women_df <- UBC_ISD_text %>%\n",
    "  filter(grepl(paste(women, collapse = \"|\"), text))|>\n",
    "  mutate(negative = as.integer(grepl(pattern, text, ignore.case = TRUE)))\n",
    "\n",
    "total_entries_women <- nrow(women_df)    \n",
    "negative_entries_women <- nrow(women_df |> filter(negative == 1))\n",
    "women_pct_neg <- negative_entries_women/total_entries_women*100\n",
    "\n",
    "women_pct_neg"
   ]
  },
  {
   "cell_type": "code",
   "execution_count": null,
   "metadata": {
    "vscode": {
     "languageId": "r"
    }
   },
   "outputs": [
    {
     "name": "stderr",
     "output_type": "stream",
     "text": [
      "\u001b[1m\u001b[22mSaving 6.67 x 6.67 in image\n"
     ]
    },
    {
     "data": {
      "image/png": "[encoded data removed]",
      "text/plain": [
       "plot without title"
      ]
     },
     "metadata": {
      "image/png": {
       "height": 420,
       "width": 420
      }
     },
     "output_type": "display_data"
    }
   ],
   "source": [
    "gender_metrics <- data.frame(gender=c(\"male\",\"female\"),value=c(men_pct_neg,women_pct_neg))\n",
    "\n",
    "gender_graph <- gender_metrics |>\n",
    "ggplot(aes(x=gender,y=value, fill=gender))+ \n",
    "    geom_bar(stat=\"identity\",color=\"#cc1111\", linewidth=1, alpha=0.8)+\n",
    "    scale_fill_manual(values=c(\"#e092d3\", \"#5e49b0\"))+\n",
    "    theme(axis.text.x = element_text(angle = 0, vjust=1), legend.position = \"none\")+\n",
    "    labs(y=\"percentage (out of 100)\", x=\"Gender\", subtitle = \"From ISD dataset and dictionary\")+\n",
    "    ggtitle(\"Percentage of Tweets Directed at each Gender That Are Toxic\")+\n",
    "    theme_bw()\n",
    "\n",
    "gender_graph\n",
    "\n",
    "ggsave(\"gender_bias_ISD.png\")"
   ]
  },
  {
   "cell_type": "markdown",
   "metadata": {},
   "source": [
    "**Category analysis**\n",
    "\n",
    "What percentage of tweets to each category of user are toxic? Run `category_metrics` for the result."
   ]
  },
  {
   "cell_type": "code",
   "execution_count": null,
   "metadata": {
    "vscode": {
     "languageId": "r"
    }
   },
   "outputs": [
    {
     "name": "stderr",
     "output_type": "stream",
     "text": [
      "\u001b[1mRows: \u001b[22m\u001b[34m155\u001b[39m \u001b[1mColumns: \u001b[22m\u001b[34m6\u001b[39m\n",
      "\u001b[36m--\u001b[39m \u001b[1mColumn specification\u001b[22m \u001b[36m--------------------------------------------------------\u001b[39m\n",
      "\u001b[1mDelimiter:\u001b[22m \",\"\n",
      "\u001b[31mchr\u001b[39m (6): Handle, Name, Category, Category - simplified, Gender, Description\n",
      "\n",
      "\u001b[36mi\u001b[39m Use `spec()` to retrieve the full column specification for this data.\n",
      "\u001b[36mi\u001b[39m Specify the column types or set `show_col_types = FALSE` to quiet this message.\n"
     ]
    }
   ],
   "source": [
    "health_communicators_roles <- read_csv(\"Health Communicators - List(Communicators).csv\")"
   ]
  },
  {
   "cell_type": "code",
   "execution_count": null,
   "metadata": {
    "vscode": {
     "languageId": "r"
    }
   },
   "outputs": [],
   "source": [
    "UBC_ISD_text <- UBC_ISD |>\n",
    "select(\"twitter.tweet/text\")|>\n",
    "rename(text=\"twitter.tweet/text\")|>\n",
    "mutate_all(na_if,\"\")|>\n",
    "drop_na()|>\n",
    "distinct() #removes retweets"
   ]
  },
  {
   "cell_type": "code",
   "execution_count": null,
   "metadata": {
    "vscode": {
     "languageId": "r"
    }
   },
   "outputs": [],
   "source": [
    "health_communicators_roles <- health_communicators_roles |>\n",
    "select(Handle, \"Category - simplified\")|>\n",
    "rename(Category=\"Category - simplified\")"
   ]
  },
  {
   "cell_type": "code",
   "execution_count": null,
   "metadata": {
    "vscode": {
     "languageId": "r"
    }
   },
   "outputs": [],
   "source": [
    "#converting everything to lists\n",
    "\n",
    "medical_professional <- health_communicators_roles|>\n",
    "filter(Category==\"Medical professional\")|>\n",
    "  mutate(Handle = str_remove(Handle, \"@\"))|>\n",
    "  select(Handle)|>\n",
    "  rename(\"medical_professional\"=Handle)|>\n",
    "  as.list()|>\n",
    "  paste(collapse = \"', '\")\n",
    "\n",
    "expert_university <- health_communicators_roles|>\n",
    "filter(Category==\"Expert - university\")|>\n",
    "  mutate(Handle = str_remove(Handle, \"@\"))|>\n",
    "  select(Handle)|>\n",
    "  rename(expert_university=Handle)|>\n",
    "  as.list()|>\n",
    "  paste(collapse = \"', '\")\n",
    "\n",
    "politician <- health_communicators_roles |>\n",
    "  filter(Category == \"Politician\")|>\n",
    "  mutate(Handle = str_remove(Handle, \"@\"))|>\n",
    "  select(Handle)|>\n",
    "  rename(politician=Handle)|>\n",
    "  as.list()|>\n",
    "  paste(collapse = \"', '\")\n",
    "\n",
    "journalist <- health_communicators_roles |>\n",
    "  filter(Category == \"Journalist\")|>\n",
    "  mutate(Handle = str_remove(Handle, \"@\"))|>\n",
    "  select(Handle)|>\n",
    "  rename(journalist=Handle)|>\n",
    "  as.list()|>\n",
    "  paste(collapse = \"', '\")\n",
    "\n",
    "civil_society_groups <- health_communicators_roles |>\n",
    "  filter(Category == \"Civil society groups\")|>\n",
    "  mutate(Handle = str_remove(Handle, \"@\"))|>\n",
    "  select(Handle)|>\n",
    "  rename(civil_society_groups=Handle)|>\n",
    "  as.list()|>\n",
    "  paste(collapse = \"', '\")\n",
    "\n",
    "expert <- health_communicators_roles |>\n",
    "  filter(Category == \"Expert\")|>\n",
    "  mutate(Handle = str_remove(Handle, \"@\"))|>\n",
    "  select(Handle)|>\n",
    "  rename(expert=Handle)|>\n",
    "  as.list()|>\n",
    "  paste(collapse = \"', '\")\n",
    "\n",
    "health_official <- health_communicators_roles |>\n",
    "  filter(Category == \"Health official\")|>\n",
    "  mutate(Handle = str_remove(Handle, \"@\"))|>\n",
    "  select(Handle)|>\n",
    "  rename(health_official=Handle)|>\n",
    "  as.list()|>\n",
    "  paste(collapse = \"', '\")"
   ]
  },
  {
   "cell_type": "code",
   "execution_count": null,
   "metadata": {
    "vscode": {
     "languageId": "r"
    }
   },
   "outputs": [],
   "source": [
    "health_official <- c(\"CDCofBC\", \"ChiefSciCan\", \"CMOH_Alberta\", \"CMOH_NL\", \"CPHO_Canada\", \"epdevilla\", \"OttawaHealth\", \"roussin_brent\", \"StrangRobert\", \"VeraEtches\")\n",
    "expert <- c(\"BogochIsaac\", \"CaulfieldTim\", \"DeNovo_Fatima\", \"deonandan\", \"DFisman\", \"Dr_ChrisSimpson\", \"drgigiosler\", \"DrKaliBarrett\", \"drmwarner\", \"drsusanshaw\", \"DrVivianS\", \"First10EM\", \"GermHunterID\", \"goaliegirlmom31\", \"heysciencesam\", \"IDEpiPhD\", \"imgrund\", \"iPreetBrar\", \"IrfanDhalla\", \"jkwan_md\", \"jonathanstea\", \"KashPrime\", \"Kevin__Parent\", \"KindrachukJason\", \"KrishanaSankar\", \"kwadwo777\", \"LisaBarrettID\", \"MoriartyLab\", \"MPaiMD\", \"NaheedD\", \"NathanStall\", \"paimadhu\", \"RicharLisa\", \"sabivm\", \"SammyG_MD\", \"SciChefCan\", \"sdbaral\", \"SharkawyMD\", \"shazmamithani\", \"SteiniBrown\", \"TorontoIDDOC\", \"UbakaOgbogu\", \"zchagla\")\n",
    "civil_society_groups <- c(\"blackdocscanada\", \"cmcovidtf\", \"conquercovid19\", \"COVID_19_Canada\", \"COVIDSciOntario\", \"McGillOSS\", \"sacovidtf\", \"ScienceUpFirst\", \"thisisourshotca\", \"VaxHuntersCan\")\n",
    "journalist <- c(\"asapscience\", \"binhanv\", \"carlyweeks\", \"ctouzin\", \"CTV_AvisFavaro\", \"egpayne\", \"j_mcelroy\", \"jasonfherring\", \"jfrketich\", \"JWongGlobalNews\", \"jyangstar\", \"LaurenPelley\", \"NightShiftMD\", \"NoLore\", \"picardonhealth\", \"sharon_kirkey\", \"theresaboyle\", \"VikCBC\")\n",
    "politician <- c(\"adriandix\", \"cdube_sante\", \"celliottability\", \"ErnieHudsonPEI\", \"everetthindley\", \"Johnrockdoc\", \"juliegreenMLA\", \"MerrimanPaul\", \"MLAStefanson\", \"PattyHajdu\", \"shandro\", \"ShephardDorothy\", \"zachchurchill\")\n",
    "expert_university <- c(\"AmyGreerKalisz\", \"angie_rasmussen\", \"AnnaBlakney\", \"AntibioticDoc\", \"ASPphysician\")\n",
    "medical_professional<- c(\"AlikaMD\")"
   ]
  },
  {
   "cell_type": "code",
   "execution_count": null,
   "metadata": {
    "vscode": {
     "languageId": "r"
    }
   },
   "outputs": [],
   "source": [
    "\n",
    "\n",
    "# Filter the dataset for entries containing any of the health officials\n",
    "health_official_df <- UBC_ISD_text %>%\n",
    "  filter(grepl(paste(health_official, collapse = \"|\"), text, ignore.case = TRUE))|>\n",
    "  mutate(negative = as.integer(grepl(pattern, text, ignore.case = TRUE)))\n",
    "total_entries_health_official <- nrow(health_official_df)\n",
    "negative_entries_health_official <- nrow(health_official_df |> filter(negative == 1))\n",
    "health_official_pct_neg <- negative_entries_health_official / total_entries_health_official * 100\n",
    "\n",
    "expert_df <- UBC_ISD_text|>\n",
    "  filter(grepl(paste(expert, collapse = \"|\"), text, ignore.case = TRUE))|>\n",
    "  mutate(negative = as.integer(grepl(pattern, text, ignore.case = TRUE)))\n",
    "total_entries_expert <- nrow(expert_df)    \n",
    "negative_entries_expert <- nrow(expert_df |> filter(negative == 1))\n",
    "expert_pct_neg <- negative_entries_expert/total_entries_expert*100\n",
    "\n",
    "civil_society_groups_df <- UBC_ISD_text|>\n",
    "  filter(grepl(paste(civil_society_groups, collapse = \"|\"), text, ignore.case = TRUE))|>\n",
    "  mutate(negative = as.integer(grepl(pattern, text, ignore.case = TRUE)))\n",
    "total_entries_civil_society_groups <- nrow(civil_society_groups_df)    \n",
    "negative_entries_civil_society_groups <- nrow(civil_society_groups_df |> filter(negative == 1))\n",
    "civil_society_groups_pct_neg <- negative_entries_civil_society_groups/total_entries_civil_society_groups*100\n",
    "\n",
    "journalist_df <- UBC_ISD_text|>\n",
    "  filter(grepl(paste(journalist, collapse = \"|\"), text, ignore.case = TRUE))|>\n",
    "  mutate(negative = as.integer(grepl(pattern, text, ignore.case = TRUE)))\n",
    "total_entries_journalist <- nrow(journalist_df)    \n",
    "negative_entries_journalist <- nrow(journalist_df |> filter(negative == 1))\n",
    "journalist_pct_neg <- negative_entries_journalist/total_entries_journalist*100\n",
    "\n",
    "politician_df <- UBC_ISD_text|>\n",
    "  filter(grepl(paste(women, collapse = \"|\"), text, ignore.case = TRUE))|>\n",
    "  mutate(negative = as.integer(grepl(pattern, text, ignore.case = TRUE)))\n",
    "total_entries_politician <- nrow(politician_df)    \n",
    "negative_entries_politician <- nrow(politician_df |> filter(negative == 1))\n",
    "politician_pct_neg <- negative_entries_politician/total_entries_politician*100\n",
    "\n",
    "expert_university_df <- UBC_ISD_text|>\n",
    "  filter(grepl(paste(expert_university, collapse = \"|\"), text, ignore.case = TRUE))|>\n",
    "  mutate(negative = as.integer(grepl(pattern, text, ignore.case = TRUE)))\n",
    "total_entries_expert_university <- nrow(expert_university_df)    \n",
    "negative_entries_expert_university <- nrow(expert_university_df |> filter(negative == 1))\n",
    "expert_university_pct_neg <- negative_entries_expert_university/total_entries_expert_university*100\n",
    "\n",
    "medical_professional_df <- UBC_ISD_text|>\n",
    "  filter(grepl(paste(medical_professional, collapse = \"|\"), text, ignore.case = TRUE))|>\n",
    "  mutate(negative = as.integer(grepl(pattern, text, ignore.case = TRUE)))\n",
    "total_entries_medical_professional<- nrow(medical_professional_df)    \n",
    "negative_entries_medical_professional <- nrow(medical_professional_df |> filter(negative == 1))\n",
    "medical_professional_pct_neg <- negative_entries_medical_professional/total_entries_medical_professional*100\n"
   ]
  },
  {
   "cell_type": "code",
   "execution_count": null,
   "metadata": {
    "vscode": {
     "languageId": "r"
    }
   },
   "outputs": [],
   "source": [
    "category_metrics <- data.frame(category=c(\"health_official\", \"expert\", \"civil_society_groups\", \"journalist\", \"politician\", \"expert_university\",\"medical_professional\"),\n",
    "                                value=c(health_official_pct_neg, expert_pct_neg, civil_society_groups_pct_neg, journalist_pct_neg, politician_pct_neg,expert_university_pct_neg,medical_professional_pct_neg))\n",
    "\n",
    "write.csv(category_metrics, \"category_metrics_ISD\")\n"
   ]
  },
  {
   "cell_type": "code",
   "execution_count": null,
   "metadata": {
    "vscode": {
     "languageId": "r"
    }
   },
   "outputs": [
    {
     "data": {
      "image/png": "[encoded data removed]",
      "text/plain": [
       "plot without title"
      ]
     },
     "metadata": {
      "image/png": {
       "height": 420,
       "width": 420
      }
     },
     "output_type": "display_data"
    }
   ],
   "source": [
    "library(RColorBrewer)\n",
    "category_graph <- category_metrics|>\n",
    "ggplot(aes(x=category,y=value, fill=category))+ \n",
    "    geom_bar(stat=\"identity\",color=\"#a60000\", linewidth=1, alpha=0.8)+\n",
    "    scale_fill_brewer(palette = \"PuRd\")+\n",
    "    theme(axis.text.x = element_text(angle = 0, vjust=1), legend.position = \"none\")+\n",
    "    labs(y=\"percentage (out of 100)\", x=\"category of twitter user\", subtitle = \"From ISD dataset and dictionary\")+\n",
    "    ggtitle(\"Percentage of Tweets Directred at Each Category of Twitter User That Are Toxic\")+\n",
    "    theme_bw()+\n",
    "    theme(legend.position=\"none\")\n",
    "category_graph\n",
    "\n",
    "ggsave(\"category_hate_terms_ISD.png\", width=10, height=5)"
   ]
  }
 ],
 "metadata": {
  "kernelspec": {
   "display_name": "R",
   "language": "R",
   "name": "ir"
  },
  "language_info": {
   "codemirror_mode": "r",
   "file_extension": ".r",
   "mimetype": "text/x-r-source",
   "name": "R",
   "pygments_lexer": "r",
   "version": "4.1.3"
  }
 },
 "nbformat": 4,
 "nbformat_minor": 2
}
