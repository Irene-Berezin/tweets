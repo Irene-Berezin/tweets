{
 "cells": [
  {
   "cell_type": "code",
   "execution_count": 1,
   "id": "805610e8-e09b-4dff-aa14-5860206ad786",
   "metadata": {},
   "outputs": [
    {
     "data": {
      "text/plain": [
       "19"
      ]
     },
     "execution_count": 1,
     "metadata": {},
     "output_type": "execute_result"
    }
   ],
   "source": [
    "3 * 4 + 7 "
   ]
  },
  {
   "cell_type": "code",
   "execution_count": 2,
   "id": "5537dc36-128c-4cb4-b280-0ef24f013caa",
   "metadata": {},
   "outputs": [
    {
     "data": {
      "text/plain": [
       "4.5"
      ]
     },
     "execution_count": 2,
     "metadata": {},
     "output_type": "execute_result"
    }
   ],
   "source": [
    "3 * 1.5"
   ]
  },
  {
   "cell_type": "code",
   "execution_count": 3,
   "id": "0bd8efe4-6d30-41fc-be2d-c7d39f6bc6f3",
   "metadata": {},
   "outputs": [
    {
     "data": {
      "text/plain": [
       "4.0"
      ]
     },
     "execution_count": 3,
     "metadata": {},
     "output_type": "execute_result"
    }
   ],
   "source": [
    "4 * 1.0"
   ]
  },
  {
   "cell_type": "code",
   "execution_count": 5,
   "id": "2b08e8da-4653-45c4-82d4-61c0c27571ad",
   "metadata": {},
   "outputs": [
    {
     "data": {
      "text/plain": [
       "3.0"
      ]
     },
     "execution_count": 5,
     "metadata": {},
     "output_type": "execute_result"
    }
   ],
   "source": [
    "4.0 / 2.0 + 1.0\n"
   ]
  },
  {
   "cell_type": "code",
   "execution_count": 6,
   "id": "83a145b5-5269-4943-a2dc-495d9d64fd04",
   "metadata": {},
   "outputs": [
    {
     "data": {
      "text/plain": [
       "8.0"
      ]
     },
     "execution_count": 6,
     "metadata": {},
     "output_type": "execute_result"
    }
   ],
   "source": [
    "10 / 2 + 3 "
   ]
  },
  {
   "cell_type": "code",
   "execution_count": 7,
   "id": "6fb51a57-c9ed-40c2-a9ee-ed0c30a887fa",
   "metadata": {},
   "outputs": [
    {
     "data": {
      "text/plain": [
       "8.0"
      ]
     },
     "execution_count": 7,
     "metadata": {},
     "output_type": "execute_result"
    }
   ],
   "source": [
    "10 / 2 + 3 "
   ]
  },
  {
   "cell_type": "code",
   "execution_count": 8,
   "id": "db1d8f3d-a516-473a-b9c5-f40dc99b6259",
   "metadata": {},
   "outputs": [
    {
     "data": {
      "text/plain": [
       "19"
      ]
     },
     "execution_count": 8,
     "metadata": {},
     "output_type": "execute_result"
    }
   ],
   "source": [
    "3 * 4 + 7"
   ]
  },
  {
   "cell_type": "code",
   "execution_count": 9,
   "id": "901e01ba-4502-4d3a-957d-eb0018656ebe",
   "metadata": {},
   "outputs": [
    {
     "data": {
      "text/plain": [
       "True"
      ]
     },
     "execution_count": 9,
     "metadata": {},
     "output_type": "execute_result"
    }
   ],
   "source": [
    "10.0 > 9.999"
   ]
  },
  {
   "cell_type": "code",
   "execution_count": 10,
   "id": "c2a64637-aaca-488f-8fd4-9b480b19815f",
   "metadata": {},
   "outputs": [
    {
     "data": {
      "text/plain": [
       "True"
      ]
     },
     "execution_count": 10,
     "metadata": {},
     "output_type": "execute_result"
    }
   ],
   "source": [
    "3 == 3.0"
   ]
  },
  {
   "cell_type": "code",
   "execution_count": 11,
   "id": "a837b524-c63c-41cb-a86e-6c36b818ddf3",
   "metadata": {},
   "outputs": [
    {
     "data": {
      "text/plain": [
       "True"
      ]
     },
     "execution_count": 11,
     "metadata": {},
     "output_type": "execute_result"
    }
   ],
   "source": [
    "5.0 == 5.0"
   ]
  },
  {
   "cell_type": "code",
   "execution_count": 12,
   "id": "45b376e4-5c5d-4605-9832-395ec1cdaaac",
   "metadata": {},
   "outputs": [
    {
     "data": {
      "text/plain": [
       "True"
      ]
     },
     "execution_count": 12,
     "metadata": {},
     "output_type": "execute_result"
    }
   ],
   "source": [
    "1.0 + 1.0 == 2.0"
   ]
  },
  {
   "cell_type": "code",
   "execution_count": 13,
   "id": "e03e14ad-63d5-4f3b-8ec1-4d6a08bd9e61",
   "metadata": {},
   "outputs": [
    {
     "data": {
      "text/plain": [
       "True"
      ]
     },
     "execution_count": 13,
     "metadata": {},
     "output_type": "execute_result"
    }
   ],
   "source": [
    "not False"
   ]
  },
  {
   "cell_type": "code",
   "execution_count": 14,
   "id": "0dff259b-373d-4f9f-ad6d-70c05dc5801e",
   "metadata": {},
   "outputs": [
    {
     "data": {
      "text/plain": [
       "False"
      ]
     },
     "execution_count": 14,
     "metadata": {},
     "output_type": "execute_result"
    }
   ],
   "source": [
    "not (10 < 20)"
   ]
  },
  {
   "cell_type": "code",
   "execution_count": 15,
   "id": "6ab7cdf5-7f7b-4744-9e40-1034f2d8a2e1",
   "metadata": {},
   "outputs": [
    {
     "data": {
      "text/plain": [
       "True"
      ]
     },
     "execution_count": 15,
     "metadata": {},
     "output_type": "execute_result"
    }
   ],
   "source": [
    "4.0 == 3 + 1 "
   ]
  },
  {
   "cell_type": "code",
   "execution_count": 16,
   "id": "f5297448-1fe5-4188-8e6b-2dda672930e2",
   "metadata": {},
   "outputs": [
    {
     "data": {
      "text/plain": [
       "True"
      ]
     },
     "execution_count": 16,
     "metadata": {},
     "output_type": "execute_result"
    }
   ],
   "source": [
    "3.0 != 4.0"
   ]
  },
  {
   "cell_type": "code",
   "execution_count": 17,
   "id": "0e57f754-ac48-4c8a-8fa3-8635d044c62a",
   "metadata": {},
   "outputs": [
    {
     "data": {
      "text/plain": [
       "True"
      ]
     },
     "execution_count": 17,
     "metadata": {},
     "output_type": "execute_result"
    }
   ],
   "source": [
    "False or True"
   ]
  },
  {
   "cell_type": "code",
   "execution_count": 18,
   "id": "8940a74b-b86d-4a36-ab9b-5846115c1830",
   "metadata": {},
   "outputs": [
    {
     "data": {
      "text/plain": [
       "True"
      ]
     },
     "execution_count": 18,
     "metadata": {},
     "output_type": "execute_result"
    }
   ],
   "source": [
    "(4 < 8 and 3 + 1 == 4) or 1 != 2 "
   ]
  },
  {
   "cell_type": "code",
   "execution_count": 22,
   "id": "6a55dfbf-a011-4e13-804a-a9baea2b5648",
   "metadata": {},
   "outputs": [
    {
     "name": "stdout",
     "output_type": "stream",
     "text": [
      "5\n",
      "4\n",
      "True\n",
      "6\n",
      "2\n",
      "6\n"
     ]
    }
   ],
   "source": [
    "a = 3\n",
    "print(a + 2)\n",
    "a = a + 1\n",
    "print(a)\n",
    "b = 2\n",
    "print(a == 4) \n",
    "print(a + b)    \n",
    "a = a + b\n",
    "print(b)      \n",
    "print(a)"
   ]
  },
  {
   "cell_type": "code",
   "execution_count": 23,
   "id": "e9289d2d-a089-4fb1-90d9-5b65b644feba",
   "metadata": {},
   "outputs": [],
   "source": [
    "x = 1\n",
    "y = 4"
   ]
  },
  {
   "cell_type": "code",
   "execution_count": 25,
   "id": "80460d9c-645e-4cd1-8336-02b045cff990",
   "metadata": {},
   "outputs": [
    {
     "name": "stdout",
     "output_type": "stream",
     "text": [
      "5\n",
      "False\n",
      "3\n",
      "5\n",
      "2\n"
     ]
    }
   ],
   "source": [
    "x = 1\n",
    "y = 4        \n",
    "print(x + 4)\n",
    "y = 2\n",
    "print(y == 4)       \n",
    "print(x + y)     \n",
    "x = y + 3\n",
    "print(x)       \n",
    "print(y)      \n"
   ]
  },
  {
   "cell_type": "code",
   "execution_count": 26,
   "id": "6ecf5dcc-6323-4e5b-a688-c2fe0dec9e3c",
   "metadata": {},
   "outputs": [
    {
     "data": {
      "text/plain": [
       "'hellohellohello'"
      ]
     },
     "execution_count": 26,
     "metadata": {},
     "output_type": "execute_result"
    }
   ],
   "source": [
    "'hello' * 3 "
   ]
  },
  {
   "cell_type": "code",
   "execution_count": 27,
   "id": "c2ea721f-f357-4145-82fa-313aadf2033f",
   "metadata": {},
   "outputs": [
    {
     "ename": "TypeError",
     "evalue": "can only concatenate str (not \"float\") to str",
     "output_type": "error",
     "traceback": [
      "\u001b[1;31m---------------------------------------------------------------------------\u001b[0m",
      "\u001b[1;31mTypeError\u001b[0m                                 Traceback (most recent call last)",
      "Cell \u001b[1;32mIn[27], line 1\u001b[0m\n\u001b[1;32m----> 1\u001b[0m \u001b[38;5;124;43m'\u001b[39;49m\u001b[38;5;124;43mhello\u001b[39;49m\u001b[38;5;124;43m'\u001b[39;49m\u001b[43m \u001b[49m\u001b[38;5;241;43m+\u001b[39;49m\u001b[43m \u001b[49m\u001b[38;5;241;43m3.0\u001b[39;49m\n",
      "\u001b[1;31mTypeError\u001b[0m: can only concatenate str (not \"float\") to str"
     ]
    }
   ],
   "source": [
    "'hello' + 3.0"
   ]
  },
  {
   "cell_type": "code",
   "execution_count": 28,
   "id": "4c36a38f-dcb5-41cd-88a5-5170ddf44a14",
   "metadata": {},
   "outputs": [
    {
     "ename": "TypeError",
     "evalue": "can't multiply sequence by non-int of type 'str'",
     "output_type": "error",
     "traceback": [
      "\u001b[1;31m---------------------------------------------------------------------------\u001b[0m",
      "\u001b[1;31mTypeError\u001b[0m                                 Traceback (most recent call last)",
      "Cell \u001b[1;32mIn[28], line 1\u001b[0m\n\u001b[1;32m----> 1\u001b[0m \u001b[38;5;124;43m'\u001b[39;49m\u001b[38;5;124;43mhello\u001b[39;49m\u001b[38;5;124;43m'\u001b[39;49m\u001b[43m \u001b[49m\u001b[38;5;241;43m*\u001b[39;49m\u001b[43m \u001b[49m\u001b[38;5;124;43m'\u001b[39;49m\u001b[38;5;124;43m3\u001b[39;49m\u001b[38;5;124;43m'\u001b[39;49m\n",
      "\u001b[1;31mTypeError\u001b[0m: can't multiply sequence by non-int of type 'str'"
     ]
    }
   ],
   "source": [
    "'hello' * '3'"
   ]
  },
  {
   "cell_type": "code",
   "execution_count": 29,
   "id": "914bd97e-4f7c-478d-98b4-5876f0c1c5e3",
   "metadata": {},
   "outputs": [
    {
     "data": {
      "text/plain": [
       "'r'"
      ]
     },
     "execution_count": 29,
     "metadata": {},
     "output_type": "execute_result"
    }
   ],
   "source": [
    "'world'[2] "
   ]
  },
  {
   "cell_type": "code",
   "execution_count": 30,
   "id": "4a5bb041-105a-4891-92f8-f2feca02507e",
   "metadata": {},
   "outputs": [
    {
     "data": {
      "text/plain": [
       "'wo'"
      ]
     },
     "execution_count": 30,
     "metadata": {},
     "output_type": "execute_result"
    }
   ],
   "source": [
    "'world'[:2]"
   ]
  },
  {
   "cell_type": "code",
   "execution_count": 31,
   "id": "67511f4e-5190-4492-bfe9-3cccc37ef181",
   "metadata": {},
   "outputs": [
    {
     "data": {
      "text/plain": [
       "'rld'"
      ]
     },
     "execution_count": 31,
     "metadata": {},
     "output_type": "execute_result"
    }
   ],
   "source": [
    "'world'[2:]"
   ]
  },
  {
   "cell_type": "code",
   "execution_count": 32,
   "id": "d4bd7f7a-770f-4a55-ba01-e88742888292",
   "metadata": {},
   "outputs": [
    {
     "data": {
      "text/plain": [
       "'d'"
      ]
     },
     "execution_count": 32,
     "metadata": {},
     "output_type": "execute_result"
    }
   ],
   "source": [
    "'helloworld'[-1]"
   ]
  },
  {
   "cell_type": "code",
   "execution_count": 33,
   "id": "aa3885dc-d54b-4ee9-b25f-290d1a1e231a",
   "metadata": {},
   "outputs": [],
   "source": [
    "value = 13\n",
    "result = 'default'\n",
    "\n",
    "if value == 7:\n",
    "    result = 'lucky'\n",
    "elif value == 13:\n",
    "    result = 'unlucky'\n",
    "else:\n",
    "    result = 'boring'"
   ]
  },
  {
   "cell_type": "code",
   "execution_count": 34,
   "id": "7e7add4f-0183-45a7-9ab9-0ad418428bd9",
   "metadata": {},
   "outputs": [
    {
     "name": "stdout",
     "output_type": "stream",
     "text": [
      "unlucky\n"
     ]
    }
   ],
   "source": [
    "print(result)"
   ]
  },
  {
   "cell_type": "code",
   "execution_count": 35,
   "id": "191218af-5537-4f36-9f34-d8679610cc45",
   "metadata": {},
   "outputs": [
    {
     "name": "stdout",
     "output_type": "stream",
     "text": [
      "too hot\n"
     ]
    }
   ],
   "source": [
    "temp = 35.0\n",
    "result = 'default'\n",
    "\n",
    "if temp < 10.0:\n",
    "    result = 'too cold'\n",
    "elif temp > 25.0:\n",
    "    result = 'too hot'\n",
    "elif temp > 30.0:\n",
    "    result = 'way too hot'\n",
    "else:\n",
    "    result = 'just right'\n",
    "\n",
    "print(result)"
   ]
  },
  {
   "cell_type": "code",
   "execution_count": 36,
   "id": "dd843c53-5c94-4d3a-bdcf-41bd7f18d1b1",
   "metadata": {},
   "outputs": [
    {
     "data": {
      "text/plain": [
       "int"
      ]
     },
     "execution_count": 36,
     "metadata": {},
     "output_type": "execute_result"
    }
   ],
   "source": [
    "n = 2\n",
    "type(n)"
   ]
  },
  {
   "cell_type": "code",
   "execution_count": 53,
   "id": "b632c28b-90a7-4d34-837b-18ceae9aa5ea",
   "metadata": {},
   "outputs": [
    {
     "data": {
      "text/plain": [
       "'not a valid number!'"
      ]
     },
     "execution_count": 53,
     "metadata": {},
     "output_type": "execute_result"
    }
   ],
   "source": [
    "n = \"hi\"\n",
    "def add_two(n: int) -> int:\n",
    "    \"\"\"\n",
    "    returns n doubled\n",
    "    \"\"\"\n",
    "    if type(n) != bool:\n",
    "        if type(n) != int:\n",
    "            return  'not a valid number!'\n",
    "        else: \n",
    "            return n + 2\n",
    "    else:\n",
    "        return n + 2\n",
    "\n",
    "add_two(n) "
   ]
  },
  {
   "cell_type": "code",
   "execution_count": 54,
   "id": "cce819d0-9f3e-46e5-98ac-d022f4d23963",
   "metadata": {},
   "outputs": [
    {
     "data": {
      "text/plain": [
       "16.0"
      ]
     },
     "execution_count": 54,
     "metadata": {},
     "output_type": "execute_result"
    }
   ],
   "source": [
    "3.0 * (10.0 / 5.0) + 10.0"
   ]
  },
  {
   "cell_type": "code",
   "execution_count": null,
   "id": "2faa12d5-f252-40a8-946d-c9c9a9c52099",
   "metadata": {},
   "outputs": [],
   "source": []
  }
 ],
 "metadata": {
  "kernelspec": {
   "display_name": "Python 3 (ipykernel)",
   "language": "python",
   "name": "python3"
  },
  "language_info": {
   "codemirror_mode": {
    "name": "ipython",
    "version": 3
   },
   "file_extension": ".py",
   "mimetype": "text/x-python",
   "name": "python",
   "nbconvert_exporter": "python",
   "pygments_lexer": "ipython3",
   "version": "3.12.4"
  }
 },
 "nbformat": 4,
 "nbformat_minor": 5
}
