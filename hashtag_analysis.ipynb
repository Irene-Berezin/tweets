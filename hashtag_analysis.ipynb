{
 "cells": [
  {
   "cell_type": "code",
   "execution_count": null,
   "metadata": {
    "vscode": {
     "languageId": "r"
    }
   },
   "outputs": [],
   "source": [
    "library(tidyverse)\n",
    "library(data.table)\n",
    "library(dplyr)\n",
    "library(stringr)\n",
    "library(lubridate)\n",
    "library(repr)"
   ]
  },
  {
   "cell_type": "code",
   "execution_count": null,
   "metadata": {
    "vscode": {
     "languageId": "r"
    }
   },
   "outputs": [],
   "source": [
    "twitter_csv <- fread(\"UBC-ISD.csv\", encoding=\"UTF-8\")"
   ]
  },
  {
   "cell_type": "code",
   "execution_count": null,
   "metadata": {
    "vscode": {
     "languageId": "r"
    }
   },
   "outputs": [],
   "source": [
    "#cleanup, extracting only tweets\n",
    "\n",
    "twitter_data <- twitter_csv |>\n",
    "select(starts_with(\"twitter\"))\n",
    "\n",
    "colnames(twitter_data) <- str_replace(colnames(twitter_data), \"twitter.tweet/\", \"\")\n",
    "colnames(twitter_data) <- str_replace(colnames(twitter_data), \"twitter.user/\", \"\")\n",
    "\n",
    "\n",
    "colnames(twitter_data)"
   ]
  },
  {
   "cell_type": "code",
   "execution_count": null,
   "metadata": {
    "vscode": {
     "languageId": "r"
    }
   },
   "outputs": [],
   "source": [
    "twitter_info<- twitter_data |>\n",
    "select(\"originalText\", \"text\", \"possiblySensitive\", \"screenName\", \"created\")"
   ]
  },
  {
   "cell_type": "code",
   "execution_count": null,
   "metadata": {
    "vscode": {
     "languageId": "r"
    }
   },
   "outputs": [],
   "source": [
    "\n",
    "extract_hashtags <- function(x) {\n",
    "  hashtags <- str_extract_all(x, \"#\\\\S+\")\n",
    "  return(unlist(hashtags))\n",
    "}"
   ]
  },
  {
   "cell_type": "code",
   "execution_count": null,
   "metadata": {
    "vscode": {
     "languageId": "r"
    }
   },
   "outputs": [],
   "source": [
    "#extracting hashtags, cleaning them \n",
    "\n",
    "twitter_info <- twitter_info |>\n",
    "  mutate(hashtags = lapply(text, extract_hashtags))|>\n",
    "  unnest(hashtags)|>\n",
    "  mutate(hashtags = str_replace_all(hashtags, \"\\\\.$\", \"\"))|>\n",
    "  filter(hashtags != \"character(0)\")"
   ]
  },
  {
   "cell_type": "code",
   "execution_count": null,
   "metadata": {
    "vscode": {
     "languageId": "r"
    }
   },
   "outputs": [],
   "source": [
    "# finding top hashtags\n",
    "\n",
    "cleaned_hashtags <- twitter_info|>\n",
    "select(hashtags)|>\n",
    "group_by(hashtags)|>\n",
    "summarize(count = n())|>\n",
    "arrange(desc(count))\n",
    "\n",
    "write.csv(cleaned_hashtags, \"cleaned_hashtags.csv\")\n"
   ]
  },
  {
   "cell_type": "code",
   "execution_count": null,
   "metadata": {
    "vscode": {
     "languageId": "r"
    }
   },
   "outputs": [],
   "source": [
    "#cleaning up dates for plotting\n",
    "\n",
    "twitter_time_adjusted <- twitter_info |>\n",
    "filter(hashtags %in% c(\"#COVID19\",\"#COVID19ON\",\"#vhcON\",\"#COVID19Vaccine\"))|>\n",
    "mutate(created = round_date(created, unit = \"day\"))|>\n",
    "group_by(created, hashtags)|>\n",
    "summarise(freq = n())|>\n",
    "ungroup()\n"
   ]
  },
  {
   "cell_type": "code",
   "execution_count": null,
   "metadata": {
    "vscode": {
     "languageId": "r"
    }
   },
   "outputs": [],
   "source": [
    "\n",
    "options(repr.plot.width=12, repr.plot.height=6) \n",
    "\n",
    "graph <- twitter_time_adjusted|>\n",
    "    ggplot(aes(x=created, y=freq, color=hashtags))+geom_point(alpha=0.2)+\n",
    "    geom_smooth(aes(group=hashtags), span=0.05, method=\"loess\", se=FALSE, size=0.5)+\n",
    "    scale_x_datetime(date_breaks = \"1 month\", date_labels = \"%b %Y\")+\n",
    "    theme(aspect.ratio=1/2, axis.text.x = element_text(angle=45, hjust = 1))+\n",
    "    labs(\n",
    "        title=\"Usage of the Four Most Popular Covid-Related Hashtags\", \n",
    "       subtitle=\"Drawn from UBC-ISD Dataset\",\n",
    "       y=\"Frequency (# of Tweets)\", \n",
    "       x=\"Date\",\n",
    "       color=NULL\n",
    "       )+\n",
    "    theme_bw()+\n",
    "    scale_color_manual(\n",
    "        name=\"\", \n",
    "        values = c(\"#COVID19\"=\"#ca2c2c\", \"#COVID19ON\"=\"#da69be\", \"#COVID19Vaccine\"=\"#24bf8e\", \"#vhcON\"=\"#3867e9\")\n",
    "        )\n",
    "\n",
    "graph\n",
    "\n",
    "ggsave(\"Hashtag_Usage.png\", width=10, height=5)\n",
    "\n"
   ]
  }
 ],
 "metadata": {
  "kernelspec": {
   "display_name": "R",
   "language": "R",
   "name": "ir"
  },
  "language_info": {
   "codemirror_mode": "r",
   "file_extension": ".r",
   "mimetype": "text/x-r-source",
   "name": "R",
   "pygments_lexer": "r",
   "version": "4.1.3"
  }
 },
 "nbformat": 4,
 "nbformat_minor": 2
}
