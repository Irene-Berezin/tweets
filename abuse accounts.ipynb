{
 "cells": [
  {
   "cell_type": "code",
   "execution_count": null,
   "metadata": {
    "vscode": {
     "languageId": "r"
    }
   },
   "outputs": [],
   "source": [
    "library(tidyverse)\n",
    "library(data.table)\n",
    "library(dplyr)\n",
    "library(stringr)"
   ]
  },
  {
   "cell_type": "code",
   "execution_count": null,
   "metadata": {
    "vscode": {
     "languageId": "r"
    }
   },
   "outputs": [],
   "source": [
    "twitter_csv <- fread(\"UBC-ISD.csv\", encoding=\"UTF-8\")"
   ]
  },
  {
   "cell_type": "code",
   "execution_count": null,
   "metadata": {
    "vscode": {
     "languageId": "r"
    }
   },
   "outputs": [],
   "source": [
    "\n",
    "twitter_data <- twitter_csv |>\n",
    "select(starts_with(\"twitter\"))\n",
    "\n",
    "colnames(twitter_data) <- str_replace(colnames(twitter_data), \"twitter.tweet/\", \"\")\n",
    "colnames(twitter_data) <- str_replace(colnames(twitter_data), \"twitter.user/\", \"\")\n",
    "\n",
    "\n",
    "colnames(twitter_data)"
   ]
  },
  {
   "cell_type": "code",
   "execution_count": null,
   "metadata": {
    "vscode": {
     "languageId": "r"
    }
   },
   "outputs": [],
   "source": [
    "twitter_info<- twitter_data |>\n",
    "select(\"originalText\", \"text\", \"possiblySensitive\", \"screenName\", \"created\")"
   ]
  },
  {
   "cell_type": "code",
   "execution_count": null,
   "metadata": {
    "vscode": {
     "languageId": "r"
    }
   },
   "outputs": [],
   "source": [
    "library(stringr)\n",
    "\n",
    "extract_hashtags <- function(x) {\n",
    "  hashtags <- str_extract_all(x, \"#\\\\S+\")\n",
    "  return(unlist(hashtags))\n",
    "}"
   ]
  },
  {
   "cell_type": "code",
   "execution_count": null,
   "metadata": {
    "vscode": {
     "languageId": "r"
    }
   },
   "outputs": [],
   "source": [
    "\n",
    "twitter_info <- twitter_info |>\n",
    "  mutate(hashtags = lapply(text, extract_hashtags))|>\n",
    "  unnest(hashtags)|>\n",
    "  mutate(hashtags = str_replace_all(hashtags, \"\\\\.$\", \"\"))|>\n",
    "  filter(hashtags != \"character(0)\")"
   ]
  },
  {
   "cell_type": "code",
   "execution_count": null,
   "metadata": {
    "vscode": {
     "languageId": "r"
    }
   },
   "outputs": [],
   "source": [
    "twitter_info"
   ]
  },
  {
   "cell_type": "code",
   "execution_count": null,
   "metadata": {
    "vscode": {
     "languageId": "r"
    }
   },
   "outputs": [],
   "source": [
    "twitter_info_gg <- twitter_info |>\n",
    "select(created, hashtags)|>\n",
    "group_by(created, hashtags)|>\n",
    "summarise(freq = n())|>\n",
    "ungroup()"
   ]
  },
  {
   "cell_type": "code",
   "execution_count": null,
   "metadata": {
    "vscode": {
     "languageId": "r"
    }
   },
   "outputs": [],
   "source": [
    "twitter_info_graph <- twitter_info_gg|>\n",
    "filter(hashtags %in% c(\"#COVID19\",\"#COVID19ON\",\"#vhc0N\",\"#VHCDose2\",\"#COVID19Vaccine\"))\n",
    "twitter_info_graph"
   ]
  },
  {
   "cell_type": "code",
   "execution_count": null,
   "metadata": {
    "vscode": {
     "languageId": "r"
    }
   },
   "outputs": [],
   "source": []
  },
  {
   "cell_type": "code",
   "execution_count": null,
   "metadata": {
    "vscode": {
     "languageId": "r"
    }
   },
   "outputs": [],
   "source": [
    "library(lubridate)\n",
    "\n",
    "twitter_info_idk$created_rounded <- twitter_info_graph |>\n",
    " mutate(created_rounded = round_date(created, unit = \"week\"))\n"
   ]
  },
  {
   "cell_type": "code",
   "execution_count": null,
   "metadata": {
    "vscode": {
     "languageId": "r"
    }
   },
   "outputs": [],
   "source": [
    "twitter_info_idk"
   ]
  },
  {
   "cell_type": "code",
   "execution_count": null,
   "metadata": {
    "vscode": {
     "languageId": "r"
    }
   },
   "outputs": [],
   "source": [
    "graph <- twitter_info_idk|>\n",
    "ggplot(aes(x=created, y=freq, color=hashtags))+geom_point(alpha=0.1)\n",
    "\n",
    "graph"
   ]
  },
  {
   "cell_type": "code",
   "execution_count": null,
   "metadata": {
    "vscode": {
     "languageId": "r"
    }
   },
   "outputs": [],
   "source": [
    "twitter_info <- twitter_info |>\n",
    "unnest(hashtags)"
   ]
  },
  {
   "cell_type": "code",
   "execution_count": null,
   "metadata": {
    "vscode": {
     "languageId": "r"
    }
   },
   "outputs": [],
   "source": [
    "twitter_info"
   ]
  },
  {
   "cell_type": "code",
   "execution_count": null,
   "metadata": {
    "vscode": {
     "languageId": "r"
    }
   },
   "outputs": [],
   "source": [
    "twitter_info <- twitter_info |>\n",
    "select(created, hashtags)|>\n",
    "group_by(created, hashtags)|>\n",
    "summarise(freq = n())|>\n",
    "ungroup()\n",
    "\n",
    "twitter_info"
   ]
  },
  {
   "cell_type": "code",
   "execution_count": null,
   "metadata": {
    "vscode": {
     "languageId": "r"
    }
   },
   "outputs": [],
   "source": [
    "cleaned_hashtags_2 <- cleaned_hashtags |>\n",
    "group_by(hashtags)|>\n",
    "summarize(count = n())|>\n",
    "arrange(desc(count))\n",
    "\n",
    "write_csv(cleaned_hashtags_2, \"cleaned_hashtags.csv\")"
   ]
  },
  {
   "cell_type": "code",
   "execution_count": null,
   "metadata": {
    "vscode": {
     "languageId": "r"
    }
   },
   "outputs": [],
   "source": [
    "colnames(twitter_data)\n",
    "\n",
    "twitter_data_2 <- twitter_data |>\n",
    "select(\"place\", \"location\", \"name\", \"text\")\n",
    "twitter_data_2"
   ]
  },
  {
   "cell_type": "code",
   "execution_count": null,
   "metadata": {
    "vscode": {
     "languageId": "r"
    }
   },
   "outputs": [],
   "source": []
  }
 ],
 "metadata": {
  "kernelspec": {
   "display_name": "R",
   "language": "R",
   "name": "ir"
  },
  "language_info": {
   "codemirror_mode": "r",
   "file_extension": ".r",
   "mimetype": "text/x-r-source",
   "name": "R",
   "pygments_lexer": "r",
   "version": "4.1.3"
  }
 },
 "nbformat": 4,
 "nbformat_minor": 2
}
