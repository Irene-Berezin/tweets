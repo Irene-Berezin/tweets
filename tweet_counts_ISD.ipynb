{
 "cells": [
  {
   "cell_type": "code",
   "execution_count": 1,
   "metadata": {
    "vscode": {
     "languageId": "r"
    }
   },
   "outputs": [
    {
     "name": "stderr",
     "output_type": "stream",
     "text": [
      "-- \u001b[1mAttaching core tidyverse packages\u001b[22m ------------------------ tidyverse 2.0.0 --\n",
      "\u001b[32mv\u001b[39m \u001b[34mdplyr    \u001b[39m 1.1.4     \u001b[32mv\u001b[39m \u001b[34mreadr    \u001b[39m 2.1.5\n",
      "\u001b[32mv\u001b[39m \u001b[34mforcats  \u001b[39m 1.0.0     \u001b[32mv\u001b[39m \u001b[34mstringr  \u001b[39m 1.5.0\n",
      "\u001b[32mv\u001b[39m \u001b[34mggplot2  \u001b[39m 3.4.2     \u001b[32mv\u001b[39m \u001b[34mtibble   \u001b[39m 3.2.1\n",
      "\u001b[32mv\u001b[39m \u001b[34mlubridate\u001b[39m 1.9.3     \u001b[32mv\u001b[39m \u001b[34mtidyr    \u001b[39m 1.3.1\n",
      "\u001b[32mv\u001b[39m \u001b[34mpurrr    \u001b[39m 1.0.2     \n",
      "-- \u001b[1mConflicts\u001b[22m ------------------------------------------ tidyverse_conflicts() --\n",
      "\u001b[31mx\u001b[39m \u001b[34mdplyr\u001b[39m::\u001b[32mfilter()\u001b[39m masks \u001b[34mstats\u001b[39m::filter()\n",
      "\u001b[31mx\u001b[39m \u001b[34mdplyr\u001b[39m::\u001b[32mlag()\u001b[39m    masks \u001b[34mstats\u001b[39m::lag()\n",
      "\u001b[36mi\u001b[39m Use the conflicted package (\u001b[3m\u001b[34m<http://conflicted.r-lib.org/>\u001b[39m\u001b[23m) to force all conflicts to become errors\n",
      "\n",
      "Attaching package: 'data.table'\n",
      "\n",
      "\n",
      "The following objects are masked from 'package:lubridate':\n",
      "\n",
      "    hour, isoweek, mday, minute, month, quarter, second, wday, week,\n",
      "    yday, year\n",
      "\n",
      "\n",
      "The following objects are masked from 'package:dplyr':\n",
      "\n",
      "    between, first, last\n",
      "\n",
      "\n",
      "The following object is masked from 'package:purrr':\n",
      "\n",
      "    transpose\n",
      "\n",
      "\n"
     ]
    }
   ],
   "source": [
    "library(tidyverse)\n",
    "library(dplyr)\n",
    "library(stringr)\n",
    "library(readr)\n",
    "library(data.table)\n",
    "\n",
    "UBC_ISD <- fread(\"UBC-ISD.csv\", encoding = \"UTF-8\")"
   ]
  },
  {
   "cell_type": "code",
   "execution_count": 2,
   "metadata": {
    "vscode": {
     "languageId": "r"
    }
   },
   "outputs": [
    {
     "data": {
      "text/html": [
       "<table class=\"dataframe\">\n",
       "<caption>A data.table: 1 × 1</caption>\n",
       "<thead>\n",
       "\t<tr><th scope=col>n</th></tr>\n",
       "\t<tr><th scope=col>&lt;int&gt;</th></tr>\n",
       "</thead>\n",
       "<tbody>\n",
       "\t<tr><td>4220994</td></tr>\n",
       "</tbody>\n",
       "</table>\n"
      ],
      "text/latex": [
       "A data.table: 1 × 1\n",
       "\\begin{tabular}{l}\n",
       " n\\\\\n",
       " <int>\\\\\n",
       "\\hline\n",
       "\t 4220994\\\\\n",
       "\\end{tabular}\n"
      ],
      "text/markdown": [
       "\n",
       "A data.table: 1 × 1\n",
       "\n",
       "| n &lt;int&gt; |\n",
       "|---|\n",
       "| 4220994 |\n",
       "\n"
      ],
      "text/plain": [
       "  n      \n",
       "1 4220994"
      ]
     },
     "metadata": {},
     "output_type": "display_data"
    }
   ],
   "source": [
    "UBC_ISD_text <- UBC_ISD|>\n",
    "select(\"twitter.tweet/text\")|>\n",
    "rename(text=\"twitter.tweet/text\")|>\n",
    "mutate_all(na_if,\"\")|>\n",
    "drop_na()\n",
    "\n",
    "count(UBC_ISD_text)\n"
   ]
  },
  {
   "cell_type": "code",
   "execution_count": 17,
   "metadata": {
    "vscode": {
     "languageId": "r"
    }
   },
   "outputs": [],
   "source": [
    "\n",
    "users <- c(\"adriandix\", \"AlikaMD\", \"AmyGreerKalisz\", \"angie_rasmussen\", \"AnnaBlakney\", \n",
    "           \"AntibioticDoc\", \"asapscience\", \"ASPphysician\", \"atRachelGilmore\", \"binhanv\", \n",
    "           \"BirinderNarang\", \"blackdocscanada\", \"BogochIsaac\", \"bornk\", \"carlyweeks\", \n",
    "           \"CaulfieldTim\", \"CDCofBC\", \"cdube_sante\", \"cfpcceo\", \"ChiefSciCan\", \"cmcovidtf\", \n",
    "           \"CMOH_Alberta\", \"CMOH_NL\", \"conquercovid19\", \"COVID_19_Canada\", \"COVIDSciOntario\", \n",
    "           \"CPHO_Canada\", \"ctouzin\", \"CTV_AvisFavaro\", \"DeNovo_Fatima\", \"deonandan\", \"drfisman\", \n",
    "           \"Dr_ChrisSimpson\", \"drgigiosler\", \"DrKaliBarrett\", \"drmwarner\", \"drsusanshaw\", \n",
    "           \"DrVivianS\", \"egpayne\", \"epdevilla\", \"ErnieHudsonPEI\", \"everetthindley\", \"First10EM\", \n",
    "           \"GermHunterMD\", \"glenpyle\", \"heysciencesam\", \"hgagneTVA\", \"IDEpiPhD\", \"imgrund\", \n",
    "           \"iPreetBrar\", \"IrfanDhalla\", \"j_mcelroy\", \"jasonfherring\", \"jfrketich\", \"jkwan_md\", \n",
    "           \"Johnrockdoc\", \"JuliaWongCBC\", \"juliegreenMLA\", \"Justin_Ling\", \"jyangstar\", \"KashPrime\", \n",
    "           \"KatharineSmart\", \"Kevin_Parent\", \"KindrachuckJason\", \"KrishanaSankar\", \"kwadwo777\", \n",
    "           \"LaurenPelley\", \"LisaBarrettID\", \"McGillOSS\", \"MerrimanPaul\", \"MichaelSchwandt\", \n",
    "           \"MLAStefanson\", \"moirawyton\", \"moriartylabs\", \"MPaiMD\", \"NaheedD\", \"NathanStall\", \n",
    "           \"NightShiftMD\", \"NoLore\", \"OttawaHealth\", \"paimadhu\", \"PattyHajdu\", \"picardonhealth\", \n",
    "           \"RicharLisa\", \"roussin_brent\", \"sabaeitizaz\", \"sabiVM\", \"SammyG_MD\", \"sarperotto\", \n",
    "           \"SciChefCan\", \"sciencemonkeyca\", \"ScienceUpFirst\", \"sdbaral\", \"shandro\", \"SharkawyMD\", \n",
    "           \"shazmamithani\", \"ShephardDorothy\", \"srinmurthy99\", \"SteiniBrown\", \"theresaboyle\", \n",
    "           \"thisisourshotca\", \"TorontoIDDOC\", \"UbakaOgbogu\", \"VaxHuntersCan\", \"VeraEtches\", \n",
    "           \"VikCBC\", \"wickdchiq\", \"zachchurchhill\", \"zchangla\", \"DrKathleenRoss1\")\n",
    "\n",
    "#calculating tweet counts and percentages\n",
    "mention_counts <- data.frame(user = users) |>\n",
    "  rowwise() |>\n",
    "  mutate(mentions = sum(str_detect(UBC_ISD_text, paste0(\"@\", user)))) |>\n",
    "  ungroup()|>\n",
    "  mutate(percentage=mentions/4220994*100)\n",
    "\n",
    "mention_counts"
   ]
  }
 ],
 "metadata": {
  "kernelspec": {
   "display_name": "R",
   "language": "R",
   "name": "ir"
  },
  "language_info": {
   "codemirror_mode": "r",
   "file_extension": ".r",
   "mimetype": "text/x-r-source",
   "name": "R",
   "pygments_lexer": "r",
   "version": "4.1.3"
  }
 },
 "nbformat": 4,
 "nbformat_minor": 2
}
