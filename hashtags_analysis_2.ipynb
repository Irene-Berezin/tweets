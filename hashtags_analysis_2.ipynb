{
 "cells": [
  {
   "cell_type": "code",
   "execution_count": null,
   "metadata": {},
   "outputs": [],
   "source": [
    "\n",
    "library(dplyr)\n",
    "library(readr)\n",
    "\n",
    "hashtags_df <- read_csv(\"cleaned_hashtags\"\n",
    "\n",
    "anti_science_hashtags <- c(\n",
    "  '#scam', '#scamdemic', '#antilockdown', '#nolockdowns', '#nomasking', \n",
    "  '#plandemic', '#vaccinehoax', '#covidhoax', '#bigpharma', '#antivaxx', \n",
    "  '#mybodymychoice', '#vaxxed', '#vaccineinjury', '#fakenews', '#medicalfreedom', \n",
    "  '#maskoff', '#stopthesteal', '#truth', '#wewillnotcomply', '#reopen', \n",
    "  '#newworldorder', '#conspiracy', '#nomandates', '#falseflag', '#notreal', \n",
    "  '#freedom', '#expose', '#nosocialdistancing', '#coronahoax', '#saynotovaccine'\n",
    ")\n",
    "\n",
    "pro_science_hashtags <- c(\n",
    "  '#science', '#trustscience', '#vaccineswork', '#maskup', '#socialdistancing', \n",
    "  '#getvaccinated', '#staysafe', '#herdimmunity', '#wearamask', '#followthescience', \n",
    "  '#publichealth', '#scienceisreal', '#staysafestayhome', '#vaccine', '#covidvaccine', \n",
    "  '#immunization', '#flatteningthecurve', '#healthcare', '#inthistogether', '#savelives', \n",
    "  '#pandemicresponse', '#fightcovid', '#stopthespread', '#covidtesting', '#maskmandate', \n",
    "  '#stayhomestaysafe', '#nhsheroes', '#frontlineworkers', '#wearamasksavealife', '#vaccineforall'\n",
    ")"
   ]
  },
  {
   "cell_type": "code",
   "execution_count": null,
   "metadata": {},
   "outputs": [],
   "source": [
    "\n",
    "# Filter the dataframe for anti-science hashtags\n",
    "anti_science_df <- hashtags_df %>%\n",
    "  filter(tolower(hashtags) %in% tolower(anti_science_hashtags))\n",
    "\n",
    "# Get the top 30 anti-science hashtags\n",
    "anti_science_top_30 <- anti_science_df %>%\n",
    "  arrange(desc(count)) %>%\n",
    "  head(30)\n",
    "\n",
    "# Filter the dataframe for pro-science hashtags\n",
    "pro_science_df <- hashtags_df %>%\n",
    "  filter(tolower(hashtags) %in% tolower(pro_science_hashtags))\n",
    "\n",
    "# Get the top 30 pro-science hashtags\n",
    "pro_science_top_30 <- pro_science_df %>%\n",
    "  arrange(desc(count)) %>%\n",
    "  head(30)\n",
    "\n",
    "# Save the results to separate CSV files\n",
    "write_csv(anti_science_top_30, \"anti_science_top_30.csv\")\n",
    "write_csv(pro_science_top_30, \"pro_science_top_30.csv\")\n"
   ]
  }
 ],
 "metadata": {
  "language_info": {
   "name": "python"
  }
 },
 "nbformat": 4,
 "nbformat_minor": 2
}
