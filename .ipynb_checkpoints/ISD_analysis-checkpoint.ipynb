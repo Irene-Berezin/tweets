{
 "cells": [
  {
   "cell_type": "code",
   "execution_count": 2,
   "metadata": {
    "vscode": {
     "languageId": "r"
    }
   },
   "outputs": [
    {
     "name": "stderr",
     "output_type": "stream",
     "text": [
      "-- \u001b[1mAttaching core tidyverse packages\u001b[22m ------------------------ tidyverse 2.0.0 --\n",
      "\u001b[32mv\u001b[39m \u001b[34mdplyr    \u001b[39m 1.1.4     \u001b[32mv\u001b[39m \u001b[34mreadr    \u001b[39m 2.1.5\n",
      "\u001b[32mv\u001b[39m \u001b[34mforcats  \u001b[39m 1.0.0     \u001b[32mv\u001b[39m \u001b[34mstringr  \u001b[39m 1.5.0\n",
      "\u001b[32mv\u001b[39m \u001b[34mggplot2  \u001b[39m 3.5.1     \u001b[32mv\u001b[39m \u001b[34mtibble   \u001b[39m 3.2.1\n",
      "\u001b[32mv\u001b[39m \u001b[34mlubridate\u001b[39m 1.9.3     \u001b[32mv\u001b[39m \u001b[34mtidyr    \u001b[39m 1.3.1\n",
      "\u001b[32mv\u001b[39m \u001b[34mpurrr    \u001b[39m 1.0.2     \n",
      "-- \u001b[1mConflicts\u001b[22m ------------------------------------------ tidyverse_conflicts() --\n",
      "\u001b[31mx\u001b[39m \u001b[34mdplyr\u001b[39m::\u001b[32mfilter()\u001b[39m masks \u001b[34mstats\u001b[39m::filter()\n",
      "\u001b[31mx\u001b[39m \u001b[34mdplyr\u001b[39m::\u001b[32mlag()\u001b[39m    masks \u001b[34mstats\u001b[39m::lag()\n",
      "\u001b[36mi\u001b[39m Use the conflicted package (\u001b[3m\u001b[34m<http://conflicted.r-lib.org/>\u001b[39m\u001b[23m) to force all conflicts to become errors\n",
      "\n",
      "Attaching package: 'data.table'\n",
      "\n",
      "\n",
      "The following objects are masked from 'package:lubridate':\n",
      "\n",
      "    hour, isoweek, mday, minute, month, quarter, second, wday, week,\n",
      "    yday, year\n",
      "\n",
      "\n",
      "The following objects are masked from 'package:dplyr':\n",
      "\n",
      "    between, first, last\n",
      "\n",
      "\n",
      "The following object is masked from 'package:purrr':\n",
      "\n",
      "    transpose\n",
      "\n",
      "\n"
     ]
    }
   ],
   "source": [
    "library(tidyverse)\n",
    "library(dplyr)\n",
    "library(readr)\n",
    "library(data.table)\n",
    "library(purrr)"
   ]
  },
  {
   "cell_type": "markdown",
   "metadata": {},
   "source": [
    "## ISD Dataset analysis\n",
    "\n",
    "This notebook attempts to answer the following questions, using Chris' list of toxic terms:\n",
    "- What percentage of tweets at each user of interest is toxic?\n",
    "- Is there a gender disparity between rates of toxicity? IE, does one gender experience a greater percentage of toxic tweets?\n",
    "- What percentage of tweets from each category of users of interest are toxic?\n",
    "\n",
    "Note that due to the size of the dataset some cells might take a painfully long time to run. I tried my best to cut down on execution time, but this is the best I could do. \n",
    "\n",
    "I exclude retweets from this analysis due to them not adding any new textual info. It would be nice, however, to perhaps analyze what kinds of tweets are being retweeted. "
   ]
  },
  {
   "cell_type": "code",
   "execution_count": 3,
   "metadata": {
    "vscode": {
     "languageId": "r"
    }
   },
   "outputs": [],
   "source": [
    "UBC_ISD <- fread(\"UBC-ISD.csv\", encoding = \"UTF-8\")"
   ]
  },
  {
   "cell_type": "code",
   "execution_count": 4,
   "metadata": {
    "vscode": {
     "languageId": "r"
    }
   },
   "outputs": [],
   "source": [
    "UBC_ISD_text <- UBC_ISD |>\n",
    "select(\"twitter.tweet/text\")|>\n",
    "rename(text=\"twitter.tweet/text\")|>\n",
    "mutate_all(na_if,\"\")|>\n",
    "drop_na()|>\n",
    "distinct() #this removes retweets\n"
   ]
  },
  {
   "cell_type": "code",
   "execution_count": 5,
   "metadata": {
    "vscode": {
     "languageId": "r"
    }
   },
   "outputs": [],
   "source": [
    "terms <- c('fuck', 'dirty', 'stupid', 'idiot', 'asshole', 'bastard', 'nasty', 'whore', 'slut', 'skank', 'cunt', 'bitch', 'motherfucker', 'go to hell', 'wimp', 'coward', 'moron', 'traitor', 'shut up', 'shut the fuck up', 'stfu', 'piece of shit', 'ignorant', 'clown', 'ccpvirus', 'chinese coronavirus', 'chinavirus', 'china virus', 'fuckchina', 'nukechina', 'bombchina', 'deathtochina', 'chinesevirus', 'fake lab wuhan', 'china weapon', 'china bioweapon', 'zionazi', 'Soros virus', 'blood libel', 'nwovirus', 'new world order', 'sacrifice children', 'jew world order', 'liar', 'yellow star', 'israel virus', 'israelvirus', 'rothschild covid', 'kalergi plan', 'jail', 'locked up', 'evil.', 'is evil', 'so evil', 'pure evil', 'an evil', 'evil wom', 'evil man', 'evil witch', 'is evil', 'are evil', 'that evil', 'very evil', 'tyrant', 'tyranny', 'dictator', 'tv doctor', 'twitter doctor', 'murder', 'murderer', 'eugenic', 'satan', 'Nazi', 'non-human', 'sterile', 'slave', 'crooked', 'corrupt', 'shill', 'liar', 'lying', 'killer', 'fraud', 'big pharma', 'pharma puppet', 'Nuremberg', 'crimes against humanity', 'genocide', 'child abuse', 'covid hoax', 'covid fake', 'virus hoax', 'gates virus', 'bioweapon', 'secret elite', 'depopulation', 'save our children')\n",
    "terms <- paste0(\" \", terms)\n",
    "pattern <- paste(terms, collapse = \"|\")"
   ]
  },
  {
   "cell_type": "code",
   "execution_count": 7,
   "metadata": {
    "vscode": {
     "languageId": "r"
    }
   },
   "outputs": [
    {
     "data": {
      "text/html": [
       "<table class=\"dataframe\">\n",
       "<caption>A data.frame: 110 × 3</caption>\n",
       "<thead>\n",
       "\t<tr><th scope=col>user</th><th scope=col>total_negative</th><th scope=col>percent_negative</th></tr>\n",
       "\t<tr><th scope=col>&lt;chr&gt;</th><th scope=col>&lt;int&gt;</th><th scope=col>&lt;dbl&gt;</th></tr>\n",
       "</thead>\n",
       "<tbody>\n",
       "\t<tr><td>shandro        </td><td>3779</td><td>12.476889</td></tr>\n",
       "\t<tr><td>roussin_brent  </td><td> 524</td><td> 9.960084</td></tr>\n",
       "\t<tr><td>SammyG_MD      </td><td>  29</td><td> 9.539474</td></tr>\n",
       "\t<tr><td>atRachelGilmore</td><td>   4</td><td> 9.523810</td></tr>\n",
       "\t<tr><td>epdevilla      </td><td>1071</td><td> 8.880597</td></tr>\n",
       "\t<tr><td>CPHO_Canada    </td><td>5298</td><td> 8.827205</td></tr>\n",
       "\t<tr><td>PattyHajdu     </td><td>3486</td><td> 8.819288</td></tr>\n",
       "\t<tr><td>CMOH_Alberta   </td><td>9873</td><td> 8.344673</td></tr>\n",
       "\t<tr><td>IrfanDhalla    </td><td>1917</td><td> 7.777192</td></tr>\n",
       "\t<tr><td>MLAStefanson   </td><td>  85</td><td> 7.271172</td></tr>\n",
       "\t<tr><td>OttawaHealth   </td><td>1216</td><td> 6.847232</td></tr>\n",
       "\t<tr><td>carlyweeks     </td><td> 136</td><td> 6.729342</td></tr>\n",
       "\t<tr><td>picardonhealth </td><td>2059</td><td> 6.304734</td></tr>\n",
       "\t<tr><td>drmwarner      </td><td>1508</td><td> 6.229088</td></tr>\n",
       "\t<tr><td>COVIDSciOntario</td><td> 601</td><td> 6.156525</td></tr>\n",
       "\t<tr><td>VeraEtches     </td><td> 234</td><td> 5.980066</td></tr>\n",
       "\t<tr><td>NaheedD        </td><td>2456</td><td> 5.967248</td></tr>\n",
       "\t<tr><td>NathanStall    </td><td> 884</td><td> 5.964912</td></tr>\n",
       "\t<tr><td>JuliaWongCBC   </td><td>  34</td><td> 5.923345</td></tr>\n",
       "\t<tr><td>sabaeitizaz    </td><td>   1</td><td> 5.882353</td></tr>\n",
       "\t<tr><td>NightShiftMD   </td><td>1684</td><td> 5.495904</td></tr>\n",
       "\t<tr><td>NoLore         </td><td>1767</td><td> 5.328709</td></tr>\n",
       "\t<tr><td>CTV_AvisFavaro </td><td> 245</td><td> 5.223881</td></tr>\n",
       "\t<tr><td>wickdchiq      </td><td>   5</td><td> 5.208333</td></tr>\n",
       "\t<tr><td>KashPrime      </td><td> 513</td><td> 5.085754</td></tr>\n",
       "\t<tr><td>kwadwo777      </td><td> 587</td><td> 5.025255</td></tr>\n",
       "\t<tr><td>jasonfherring  </td><td> 233</td><td> 4.878559</td></tr>\n",
       "\t<tr><td>adriandix      </td><td>2187</td><td> 4.809024</td></tr>\n",
       "\t<tr><td>jfrketich      </td><td>  55</td><td> 4.803493</td></tr>\n",
       "\t<tr><td>everetthindley </td><td>  14</td><td> 4.516129</td></tr>\n",
       "\t<tr><td>...</td><td>...</td><td>...</td></tr>\n",
       "\t<tr><td>iPreetBrar     </td><td> 12</td><td>1.8181818</td></tr>\n",
       "\t<tr><td>LisaBarrettID  </td><td> 65</td><td>1.7245954</td></tr>\n",
       "\t<tr><td>moirawyton     </td><td>  2</td><td>1.7094017</td></tr>\n",
       "\t<tr><td>CMOH_NL        </td><td> 41</td><td>1.7005392</td></tr>\n",
       "\t<tr><td>deonandan      </td><td> 28</td><td>1.6786571</td></tr>\n",
       "\t<tr><td>drgigiosler    </td><td>  9</td><td>1.5517241</td></tr>\n",
       "\t<tr><td>j_mcelroy      </td><td>639</td><td>1.4732328</td></tr>\n",
       "\t<tr><td>glenpyle       </td><td>  8</td><td>1.3605442</td></tr>\n",
       "\t<tr><td>jkwan_md       </td><td>329</td><td>1.2089810</td></tr>\n",
       "\t<tr><td>DrKathleenRoss1</td><td>  1</td><td>1.2048193</td></tr>\n",
       "\t<tr><td>conquercovid19 </td><td> 13</td><td>1.1882998</td></tr>\n",
       "\t<tr><td>KindrachukJason</td><td> 14</td><td>1.0997643</td></tr>\n",
       "\t<tr><td>hgagneTVA      </td><td>  2</td><td>1.0526316</td></tr>\n",
       "\t<tr><td>MPaiMD         </td><td> 40</td><td>1.0002501</td></tr>\n",
       "\t<tr><td>Kevin__Parent  </td><td> 13</td><td>0.9938838</td></tr>\n",
       "\t<tr><td>bornk          </td><td>  1</td><td>0.9803922</td></tr>\n",
       "\t<tr><td>COVID_19_Canada</td><td> 12</td><td>0.8102633</td></tr>\n",
       "\t<tr><td>VaxHuntersCan  </td><td>393</td><td>0.6429974</td></tr>\n",
       "\t<tr><td>ChiefSciCan    </td><td>  1</td><td>0.3846154</td></tr>\n",
       "\t<tr><td>blackdocscanada</td><td>  1</td><td>0.3816794</td></tr>\n",
       "\t<tr><td>AnnaBlakney    </td><td>  0</td><td>0.0000000</td></tr>\n",
       "\t<tr><td>BirinderNarang </td><td>  0</td><td>0.0000000</td></tr>\n",
       "\t<tr><td>cfpcceo        </td><td>  0</td><td>0.0000000</td></tr>\n",
       "\t<tr><td>ctouzin        </td><td>  0</td><td>0.0000000</td></tr>\n",
       "\t<tr><td>drfisman       </td><td>  0</td><td>0.0000000</td></tr>\n",
       "\t<tr><td>moriartylabs   </td><td>  0</td><td>0.0000000</td></tr>\n",
       "\t<tr><td>sarperotto     </td><td>  0</td><td>0.0000000</td></tr>\n",
       "\t<tr><td>SciChefCan     </td><td>  0</td><td>0.0000000</td></tr>\n",
       "\t<tr><td>sciencemonkeyca</td><td>  0</td><td>0.0000000</td></tr>\n",
       "\t<tr><td>srinmurthy99   </td><td>  0</td><td>0.0000000</td></tr>\n",
       "</tbody>\n",
       "</table>\n"
      ],
      "text/latex": [
       "A data.frame: 110 × 3\n",
       "\\begin{tabular}{lll}\n",
       " user & total\\_negative & percent\\_negative\\\\\n",
       " <chr> & <int> & <dbl>\\\\\n",
       "\\hline\n",
       "\t shandro         & 3779 & 12.476889\\\\\n",
       "\t roussin\\_brent   &  524 &  9.960084\\\\\n",
       "\t SammyG\\_MD       &   29 &  9.539474\\\\\n",
       "\t atRachelGilmore &    4 &  9.523810\\\\\n",
       "\t epdevilla       & 1071 &  8.880597\\\\\n",
       "\t CPHO\\_Canada     & 5298 &  8.827205\\\\\n",
       "\t PattyHajdu      & 3486 &  8.819288\\\\\n",
       "\t CMOH\\_Alberta    & 9873 &  8.344673\\\\\n",
       "\t IrfanDhalla     & 1917 &  7.777192\\\\\n",
       "\t MLAStefanson    &   85 &  7.271172\\\\\n",
       "\t OttawaHealth    & 1216 &  6.847232\\\\\n",
       "\t carlyweeks      &  136 &  6.729342\\\\\n",
       "\t picardonhealth  & 2059 &  6.304734\\\\\n",
       "\t drmwarner       & 1508 &  6.229088\\\\\n",
       "\t COVIDSciOntario &  601 &  6.156525\\\\\n",
       "\t VeraEtches      &  234 &  5.980066\\\\\n",
       "\t NaheedD         & 2456 &  5.967248\\\\\n",
       "\t NathanStall     &  884 &  5.964912\\\\\n",
       "\t JuliaWongCBC    &   34 &  5.923345\\\\\n",
       "\t sabaeitizaz     &    1 &  5.882353\\\\\n",
       "\t NightShiftMD    & 1684 &  5.495904\\\\\n",
       "\t NoLore          & 1767 &  5.328709\\\\\n",
       "\t CTV\\_AvisFavaro  &  245 &  5.223881\\\\\n",
       "\t wickdchiq       &    5 &  5.208333\\\\\n",
       "\t KashPrime       &  513 &  5.085754\\\\\n",
       "\t kwadwo777       &  587 &  5.025255\\\\\n",
       "\t jasonfherring   &  233 &  4.878559\\\\\n",
       "\t adriandix       & 2187 &  4.809024\\\\\n",
       "\t jfrketich       &   55 &  4.803493\\\\\n",
       "\t everetthindley  &   14 &  4.516129\\\\\n",
       "\t ... & ... & ...\\\\\n",
       "\t iPreetBrar      &  12 & 1.8181818\\\\\n",
       "\t LisaBarrettID   &  65 & 1.7245954\\\\\n",
       "\t moirawyton      &   2 & 1.7094017\\\\\n",
       "\t CMOH\\_NL         &  41 & 1.7005392\\\\\n",
       "\t deonandan       &  28 & 1.6786571\\\\\n",
       "\t drgigiosler     &   9 & 1.5517241\\\\\n",
       "\t j\\_mcelroy       & 639 & 1.4732328\\\\\n",
       "\t glenpyle        &   8 & 1.3605442\\\\\n",
       "\t jkwan\\_md        & 329 & 1.2089810\\\\\n",
       "\t DrKathleenRoss1 &   1 & 1.2048193\\\\\n",
       "\t conquercovid19  &  13 & 1.1882998\\\\\n",
       "\t KindrachukJason &  14 & 1.0997643\\\\\n",
       "\t hgagneTVA       &   2 & 1.0526316\\\\\n",
       "\t MPaiMD          &  40 & 1.0002501\\\\\n",
       "\t Kevin\\_\\_Parent   &  13 & 0.9938838\\\\\n",
       "\t bornk           &   1 & 0.9803922\\\\\n",
       "\t COVID\\_19\\_Canada &  12 & 0.8102633\\\\\n",
       "\t VaxHuntersCan   & 393 & 0.6429974\\\\\n",
       "\t ChiefSciCan     &   1 & 0.3846154\\\\\n",
       "\t blackdocscanada &   1 & 0.3816794\\\\\n",
       "\t AnnaBlakney     &   0 & 0.0000000\\\\\n",
       "\t BirinderNarang  &   0 & 0.0000000\\\\\n",
       "\t cfpcceo         &   0 & 0.0000000\\\\\n",
       "\t ctouzin         &   0 & 0.0000000\\\\\n",
       "\t drfisman        &   0 & 0.0000000\\\\\n",
       "\t moriartylabs    &   0 & 0.0000000\\\\\n",
       "\t sarperotto      &   0 & 0.0000000\\\\\n",
       "\t SciChefCan      &   0 & 0.0000000\\\\\n",
       "\t sciencemonkeyca &   0 & 0.0000000\\\\\n",
       "\t srinmurthy99    &   0 & 0.0000000\\\\\n",
       "\\end{tabular}\n"
      ],
      "text/markdown": [
       "\n",
       "A data.frame: 110 × 3\n",
       "\n",
       "| user &lt;chr&gt; | total_negative &lt;int&gt; | percent_negative &lt;dbl&gt; |\n",
       "|---|---|---|\n",
       "| shandro         | 3779 | 12.476889 |\n",
       "| roussin_brent   |  524 |  9.960084 |\n",
       "| SammyG_MD       |   29 |  9.539474 |\n",
       "| atRachelGilmore |    4 |  9.523810 |\n",
       "| epdevilla       | 1071 |  8.880597 |\n",
       "| CPHO_Canada     | 5298 |  8.827205 |\n",
       "| PattyHajdu      | 3486 |  8.819288 |\n",
       "| CMOH_Alberta    | 9873 |  8.344673 |\n",
       "| IrfanDhalla     | 1917 |  7.777192 |\n",
       "| MLAStefanson    |   85 |  7.271172 |\n",
       "| OttawaHealth    | 1216 |  6.847232 |\n",
       "| carlyweeks      |  136 |  6.729342 |\n",
       "| picardonhealth  | 2059 |  6.304734 |\n",
       "| drmwarner       | 1508 |  6.229088 |\n",
       "| COVIDSciOntario |  601 |  6.156525 |\n",
       "| VeraEtches      |  234 |  5.980066 |\n",
       "| NaheedD         | 2456 |  5.967248 |\n",
       "| NathanStall     |  884 |  5.964912 |\n",
       "| JuliaWongCBC    |   34 |  5.923345 |\n",
       "| sabaeitizaz     |    1 |  5.882353 |\n",
       "| NightShiftMD    | 1684 |  5.495904 |\n",
       "| NoLore          | 1767 |  5.328709 |\n",
       "| CTV_AvisFavaro  |  245 |  5.223881 |\n",
       "| wickdchiq       |    5 |  5.208333 |\n",
       "| KashPrime       |  513 |  5.085754 |\n",
       "| kwadwo777       |  587 |  5.025255 |\n",
       "| jasonfherring   |  233 |  4.878559 |\n",
       "| adriandix       | 2187 |  4.809024 |\n",
       "| jfrketich       |   55 |  4.803493 |\n",
       "| everetthindley  |   14 |  4.516129 |\n",
       "| ... | ... | ... |\n",
       "| iPreetBrar      |  12 | 1.8181818 |\n",
       "| LisaBarrettID   |  65 | 1.7245954 |\n",
       "| moirawyton      |   2 | 1.7094017 |\n",
       "| CMOH_NL         |  41 | 1.7005392 |\n",
       "| deonandan       |  28 | 1.6786571 |\n",
       "| drgigiosler     |   9 | 1.5517241 |\n",
       "| j_mcelroy       | 639 | 1.4732328 |\n",
       "| glenpyle        |   8 | 1.3605442 |\n",
       "| jkwan_md        | 329 | 1.2089810 |\n",
       "| DrKathleenRoss1 |   1 | 1.2048193 |\n",
       "| conquercovid19  |  13 | 1.1882998 |\n",
       "| KindrachukJason |  14 | 1.0997643 |\n",
       "| hgagneTVA       |   2 | 1.0526316 |\n",
       "| MPaiMD          |  40 | 1.0002501 |\n",
       "| Kevin__Parent   |  13 | 0.9938838 |\n",
       "| bornk           |   1 | 0.9803922 |\n",
       "| COVID_19_Canada |  12 | 0.8102633 |\n",
       "| VaxHuntersCan   | 393 | 0.6429974 |\n",
       "| ChiefSciCan     |   1 | 0.3846154 |\n",
       "| blackdocscanada |   1 | 0.3816794 |\n",
       "| AnnaBlakney     |   0 | 0.0000000 |\n",
       "| BirinderNarang  |   0 | 0.0000000 |\n",
       "| cfpcceo         |   0 | 0.0000000 |\n",
       "| ctouzin         |   0 | 0.0000000 |\n",
       "| drfisman        |   0 | 0.0000000 |\n",
       "| moriartylabs    |   0 | 0.0000000 |\n",
       "| sarperotto      |   0 | 0.0000000 |\n",
       "| SciChefCan      |   0 | 0.0000000 |\n",
       "| sciencemonkeyca |   0 | 0.0000000 |\n",
       "| srinmurthy99    |   0 | 0.0000000 |\n",
       "\n"
      ],
      "text/plain": [
       "    user            total_negative percent_negative\n",
       "1   shandro         3779           12.476889       \n",
       "2   roussin_brent    524            9.960084       \n",
       "3   SammyG_MD         29            9.539474       \n",
       "4   atRachelGilmore    4            9.523810       \n",
       "5   epdevilla       1071            8.880597       \n",
       "6   CPHO_Canada     5298            8.827205       \n",
       "7   PattyHajdu      3486            8.819288       \n",
       "8   CMOH_Alberta    9873            8.344673       \n",
       "9   IrfanDhalla     1917            7.777192       \n",
       "10  MLAStefanson      85            7.271172       \n",
       "11  OttawaHealth    1216            6.847232       \n",
       "12  carlyweeks       136            6.729342       \n",
       "13  picardonhealth  2059            6.304734       \n",
       "14  drmwarner       1508            6.229088       \n",
       "15  COVIDSciOntario  601            6.156525       \n",
       "16  VeraEtches       234            5.980066       \n",
       "17  NaheedD         2456            5.967248       \n",
       "18  NathanStall      884            5.964912       \n",
       "19  JuliaWongCBC      34            5.923345       \n",
       "20  sabaeitizaz        1            5.882353       \n",
       "21  NightShiftMD    1684            5.495904       \n",
       "22  NoLore          1767            5.328709       \n",
       "23  CTV_AvisFavaro   245            5.223881       \n",
       "24  wickdchiq          5            5.208333       \n",
       "25  KashPrime        513            5.085754       \n",
       "26  kwadwo777        587            5.025255       \n",
       "27  jasonfherring    233            4.878559       \n",
       "28  adriandix       2187            4.809024       \n",
       "29  jfrketich         55            4.803493       \n",
       "30  everetthindley    14            4.516129       \n",
       "... ...             ...            ...             \n",
       "81  iPreetBrar       12            1.8181818       \n",
       "82  LisaBarrettID    65            1.7245954       \n",
       "83  moirawyton        2            1.7094017       \n",
       "84  CMOH_NL          41            1.7005392       \n",
       "85  deonandan        28            1.6786571       \n",
       "86  drgigiosler       9            1.5517241       \n",
       "87  j_mcelroy       639            1.4732328       \n",
       "88  glenpyle          8            1.3605442       \n",
       "89  jkwan_md        329            1.2089810       \n",
       "90  DrKathleenRoss1   1            1.2048193       \n",
       "91  conquercovid19   13            1.1882998       \n",
       "92  KindrachukJason  14            1.0997643       \n",
       "93  hgagneTVA         2            1.0526316       \n",
       "94  MPaiMD           40            1.0002501       \n",
       "95  Kevin__Parent    13            0.9938838       \n",
       "96  bornk             1            0.9803922       \n",
       "97  COVID_19_Canada  12            0.8102633       \n",
       "98  VaxHuntersCan   393            0.6429974       \n",
       "99  ChiefSciCan       1            0.3846154       \n",
       "100 blackdocscanada   1            0.3816794       \n",
       "101 AnnaBlakney       0            0.0000000       \n",
       "102 BirinderNarang    0            0.0000000       \n",
       "103 cfpcceo           0            0.0000000       \n",
       "104 ctouzin           0            0.0000000       \n",
       "105 drfisman          0            0.0000000       \n",
       "106 moriartylabs      0            0.0000000       \n",
       "107 sarperotto        0            0.0000000       \n",
       "108 SciChefCan        0            0.0000000       \n",
       "109 sciencemonkeyca   0            0.0000000       \n",
       "110 srinmurthy99      0            0.0000000       "
      ]
     },
     "metadata": {},
     "output_type": "display_data"
    }
   ],
   "source": [
    "\n",
    "users <- c(\"adriandix\", \"AlikaMD\", \"AmyGreerKalisz\", \"angie_rasmussen\", \"AnnaBlakney\", \n",
    "           \"AntibioticDoc\", \"asapscience\", \"ASPphysician\", \"atRachelGilmore\", \"binhanv\", \n",
    "           \"BirinderNarang\", \"blackdocscanada\", \"BogochIsaac\", \"bornk\", \"carlyweeks\", \n",
    "           \"CaulfieldTim\", \"CDCofBC\", \"cdube_sante\", \"cfpcceo\", \"ChiefSciCan\", \"cmcovidtf\", \n",
    "           \"CMOH_Alberta\", \"CMOH_NL\", \"conquercovid19\", \"COVID_19_Canada\", \"COVIDSciOntario\", \n",
    "           \"CPHO_Canada\", \"ctouzin\", \"CTV_AvisFavaro\", \"DeNovo_Fatima\", \"deonandan\", \"drfisman\", \n",
    "           \"Dr_ChrisSimpson\", \"drgigiosler\", \"DrKaliBarrett\", \"drmwarner\", \"drsusanshaw\", \n",
    "           \"DrVivianS\", \"egpayne\", \"epdevilla\", \"ErnieHudsonPEI\", \"everetthindley\", \"First10EM\", \n",
    "           \"GermHunterMD\", \"glenpyle\", \"heysciencesam\", \"hgagneTVA\", \"IDEpiPhD\", \"imgrund\", \n",
    "           \"iPreetBrar\", \"IrfanDhalla\", \"j_mcelroy\", \"jasonfherring\", \"jfrketich\", \"jkwan_md\", \n",
    "           \"Johnrockdoc\", \"JuliaWongCBC\", \"juliegreenMLA\", \"Justin_Ling\", \"jyangstar\", \"KashPrime\", \n",
    "           \"KatharineSmart\", \"Kevin__Parent\", \"KindrachukJason\", \"KrishanaSankar\", \"kwadwo777\", \n",
    "           \"LaurenPelley\", \"LisaBarrettID\", \"McGillOSS\", \"MerrimanPaul\", \"MichaelSchwandt\", \n",
    "           \"MLAStefanson\", \"moirawyton\", \"moriartylabs\", \"MPaiMD\", \"NaheedD\", \"NathanStall\", \n",
    "           \"NightShiftMD\", \"NoLore\", \"OttawaHealth\", \"paimadhu\", \"PattyHajdu\", \"picardonhealth\", \n",
    "           \"RicharLisa\", \"roussin_brent\", \"sabaeitizaz\", \"sabiVM\", \"SammyG_MD\", \"sarperotto\", \n",
    "           \"SciChefCan\", \"sciencemonkeyca\", \"ScienceUpFirst\", \"sdbaral\", \"shandro\", \"SharkawyMD\", \n",
    "           \"shazmamithani\", \"ShephardDorothy\", \"srinmurthy99\", \"SteiniBrown\", \"theresaboyle\", \n",
    "           \"thisisourshotca\", \"TorontoIDDOC\", \"UbakaOgbogu\", \"VaxHuntersCan\", \"VeraEtches\", \n",
    "           \"VikCBC\", \"wickdchiq\", \"zachchurchill\", \"zchagla\", \"DrKathleenRoss1\")\n",
    "\n",
    "# Creating an empty dataframe to store the results of the for-loop\n",
    "negative_proportions_df <- data.frame(user = character(), \n",
    "                                      total_negative = integer(), \n",
    "                                      percent_negative = numeric(), \n",
    "                                      stringsAsFactors = FALSE)\n",
    "\n",
    "# Filtering tweets for each user and adding columns for hate speech: value of 1 if row contains hate speech, 0 if not\n",
    "filter_tweets <- function(user) {\n",
    "\n",
    "  filtered_data <- UBC_ISD_text |>\n",
    "    filter(grepl(user, text, ignore.case = TRUE)) |>\n",
    "    mutate(negative = as.integer(grepl(pattern, text, ignore.case = TRUE)))\n",
    "\n",
    "  total_user_tweets <- nrow(filtered_data)\n",
    "  negative_entries <- nrow(filtered_data |> filter(negative == 1))\n",
    "\n",
    "  percent_negative <- if (total_user_tweets > 0) (negative_entries / total_user_tweets) * 100 else 0 #incase username has 0 entries\n",
    "\n",
    "  return(data.frame(user = user, total_negative = negative_entries, percent_negative = percent_negative))\n",
    "}\n",
    "\n",
    "# Looping through each user and storing the results in the dataframe\n",
    "for (user in users) {\n",
    "  user_data <- filter_tweets(user)\n",
    "  negative_proportions_df <- rbind(negative_proportions_df, user_data)\n",
    "}\n",
    "\n",
    "\n",
    "negative_proportions_df <- negative_proportions_df|>\n",
    "arrange(desc(percent_negative))\n",
    "\n",
    "# Displaying the dataframe with users, total negative tweets, and percentage of negative tweets\n",
    "negative_proportions_df\n",
    "\n"
   ]
  },
  {
   "cell_type": "code",
   "execution_count": 8,
   "metadata": {
    "vscode": {
     "languageId": "r"
    }
   },
   "outputs": [],
   "source": [
    "write_csv(negative_proportions_df, \"ISD_at_users_toxic_tweets.csv\")"
   ]
  },
  {
   "cell_type": "markdown",
   "metadata": {},
   "source": [
    "**Gender bias analysis**: \n",
    "\n",
    "What percentage of all tweets directed at women are toxic? At men?\n",
    "\n",
    "run `women_df` and `men_df` for the results."
   ]
  },
  {
   "cell_type": "code",
   "execution_count": 32,
   "metadata": {
    "vscode": {
     "languageId": "r"
    }
   },
   "outputs": [],
   "source": [
    "UBC_ISD_text <- UBC_ISD |>\n",
    "select(\"twitter.tweet/text\")|>\n",
    "rename(text=\"twitter.tweet/text\")|>\n",
    "mutate_all(na_if,\"\")|>\n",
    "drop_na()|>\n",
    "distinct() #removes retweets"
   ]
  },
  {
   "cell_type": "code",
   "execution_count": 33,
   "metadata": {
    "vscode": {
     "languageId": "r"
    }
   },
   "outputs": [
    {
     "data": {
      "text/html": [
       "4.52898312969096"
      ],
      "text/latex": [
       "4.52898312969096"
      ],
      "text/markdown": [
       "4.52898312969096"
      ],
      "text/plain": [
       "[1] 4.528983"
      ]
     },
     "metadata": {},
     "output_type": "display_data"
    }
   ],
   "source": [
    "men <- list(\"adriandix\", \"AlikaMD\", \"ASPphysician\", \"BogochIsaac\", \"CaulfieldTim\", \n",
    "            \"cdube_sante\", \"deonandan\", \"Dr_ChrisSimpson\", \"drfisman\", \"drmwarner\", \n",
    "            \"ErnieHudsonPEI\", \"everetthindley\", \"First10EM\", \"GermHunterMD\", \"imgrund\", \n",
    "            \"IrfanDhalla\", \"j_mcelroy\", \"jasonfherring\", \"Johnrockdoc\", \"Justin_Ling\", \n",
    "            \"KashPrime\", \"Kevin__Parent\", \"KindrachuckJason\", \"kwadwo777\", \"MerrimanPaul\", \n",
    "            \"NaheedD\", \"NathanStall\", \"NightShiftMD\", \"paimadhu\", \"picardonhealth\", \n",
    "            \"roussin_brent\", \"SammyG_MD\", \"sciencemonkeyca\", \"sdbaral\", \"shandro\", \n",
    "            \"srinmurthy99\", \"SteiniBrown\", \"TorontoIDDOC\", \"UbakaOgbogu\", \"VikCBC\", \n",
    "            \"zachchurchill\", \"zchagla\")\n",
    "          \n",
    "\n",
    "men_df <- UBC_ISD_text %>%\n",
    "  filter(grepl(paste(men, collapse = \"|\"), text))|> #filtering for rows containing men\n",
    "  mutate(negative = as.integer(grepl(pattern, text, ignore.case = TRUE))) #adding row for hate speech \n",
    "\n",
    "total_entries_men <- nrow(men_df)    \n",
    "negative_entries_men <- nrow(men_df |> filter(negative == 1))\n",
    "men_pct_neg <- negative_entries_men/total_entries_men*100\n",
    "\n",
    "men_pct_neg\n"
   ]
  },
  {
   "cell_type": "code",
   "execution_count": 34,
   "metadata": {
    "vscode": {
     "languageId": "r"
    }
   },
   "outputs": [
    {
     "data": {
      "text/html": [
       "6.22940265081949"
      ],
      "text/latex": [
       "6.22940265081949"
      ],
      "text/markdown": [
       "6.22940265081949"
      ],
      "text/plain": [
       "[1] 6.229403"
      ]
     },
     "metadata": {},
     "output_type": "display_data"
    }
   ],
   "source": [
    "women <- list(\"AmyGreerKalisz\", \"angie_rasmussen\", \"AnnaBlakney\", \"AntibioticDoc\", \"binhanv\", \n",
    "              \"bornk\", \"carlyweeks\", \"ChiefSciCan\", \"CMOH_Alberta\", \"CMOH_NL\", \"CPHO_Canada\", \n",
    "              \"ctouzin\", \"CTV_AvisFavaro\", \"DeNovo_Fatima\", \"drgigiosler\", \"DrKaliBarrett\", \n",
    "              \"drsusanshaw\", \"DrVivianS\", \"egpayne\", \"epdevilla\", \"glenpyle\", \"heysciencesam\", \n",
    "              \"IDEpiPhD\", \"iPreetBrar\", \"jfrketich\", \"jkwan_md\", \"JuliaWongCBC\", \"juliegreenMLA\", \n",
    "              \"jyangstar\", \"KatharineSmart\", \"KrishanaSankar\", \"LaurenPelley\", \"LisaBarrettID\", \n",
    "              \"MLAStefanson\", \"moriartylabs\", \"moirawyton\", \"MPaiMD\", \"NoLore\", \"PattyHajdu\", \n",
    "              \"RicharLisa\", \"sabiVM\", \"SciChefCan\", \"sarperotto\", \"shazmamithani\", \"ShephardDorothy\", \n",
    "              \"theresaboyle\", \"VeraEtches\", \"wickdchiq\", \"DrKathleenRoss1\")\n",
    "\n",
    "women_df <- UBC_ISD_text %>%\n",
    "  filter(grepl(paste(women, collapse = \"|\"), text))|>\n",
    "  mutate(negative = as.integer(grepl(pattern, text, ignore.case = TRUE)))\n",
    "\n",
    "total_entries_women <- nrow(women_df)    \n",
    "negative_entries_women <- nrow(women_df |> filter(negative == 1))\n",
    "women_pct_neg <- negative_entries_women/total_entries_women*100\n",
    "\n",
    "women_pct_neg"
   ]
  },
  {
   "cell_type": "code",
   "execution_count": 44,
   "metadata": {
    "vscode": {
     "languageId": "r"
    }
   },
   "outputs": [
    {
     "name": "stderr",
     "output_type": "stream",
     "text": [
      "\u001b[1m\u001b[22mSaving 6.67 x 6.67 in image\n"
     ]
    },
    {
     "data": {
      "image/png": "[encoded data removed]",
      "text/plain": [
       "plot without title"
      ]
     },
     "metadata": {
      "image/png": {
       "height": 420,
       "width": 420
      }
     },
     "output_type": "display_data"
    }
   ],
   "source": [
    "gender_metrics <- data.frame(gender=c(\"male\",\"female\"),value=c(men_pct_neg,women_pct_neg))\n",
    "\n",
    "gender_graph <- gender_metrics |>\n",
    "ggplot(aes(x=gender,y=value, fill=gender))+ \n",
    "    geom_bar(stat=\"identity\",color=\"#cc1111\", linewidth=1, alpha=0.8)+\n",
    "    scale_fill_manual(values=c(\"#e092d3\", \"#5e49b0\"))+\n",
    "    theme(axis.text.x = element_text(angle = 0, vjust=1), legend.position = \"none\")+\n",
    "    labs(y=\"percentage (out of 100)\", x=\"Gender\", subtitle = \"From ISD dataset and dictionary\")+\n",
    "    ggtitle(\"Percentage of Tweets Directed at each Gender That Are Toxic\")+\n",
    "    theme_bw()\n",
    "\n",
    "gender_graph\n",
    "\n",
    "ggsave(\"gender_bias_ISD.png\")"
   ]
  },
  {
   "cell_type": "markdown",
   "metadata": {},
   "source": [
    "**Category analysis**\n",
    "\n",
    "What percentage of tweets to each category of user are toxic? Run `category_metrics` for the result."
   ]
  },
  {
   "cell_type": "code",
   "execution_count": null,
   "metadata": {
    "vscode": {
     "languageId": "r"
    }
   },
   "outputs": [],
   "source": [
    "health_communicators_roles <- read_csv(\"Health Communicators - List(Communicators).csv\")"
   ]
  },
  {
   "cell_type": "code",
   "execution_count": null,
   "metadata": {
    "vscode": {
     "languageId": "r"
    }
   },
   "outputs": [],
   "source": [
    "UBC_ISD_text <- UBC_ISD |>\n",
    "select(\"twitter.tweet/text\")|>\n",
    "rename(text=\"twitter.tweet/text\")|>\n",
    "mutate_all(na_if,\"\")|>\n",
    "drop_na()|>\n",
    "distinct() #removes retweets"
   ]
  },
  {
   "cell_type": "code",
   "execution_count": null,
   "metadata": {
    "vscode": {
     "languageId": "r"
    }
   },
   "outputs": [],
   "source": [
    "health_communicators_roles <- health_communicators_roles |>\n",
    "select(Handle, \"Category - simplified\")|>\n",
    "rename(Category=\"Category - simplified\")"
   ]
  },
  {
   "cell_type": "code",
   "execution_count": null,
   "metadata": {
    "vscode": {
     "languageId": "r"
    }
   },
   "outputs": [],
   "source": [
    "#converting everything to lists\n",
    "\n",
    "medical_professional <- health_communicators_roles|>\n",
    "filter(Category==\"Medical professional\")|>\n",
    "  mutate(Handle = str_remove(Handle, \"@\"))|>\n",
    "  select(Handle)|>\n",
    "  rename(\"medical_professional\"=Handle)|>\n",
    "  as.list()|>\n",
    "  paste(collapse = \"', '\")\n",
    "\n",
    "expert_university <- health_communicators_roles|>\n",
    "filter(Category==\"Expert - university\")|>\n",
    "  mutate(Handle = str_remove(Handle, \"@\"))|>\n",
    "  select(Handle)|>\n",
    "  rename(expert_university=Handle)|>\n",
    "  as.list()|>\n",
    "  paste(collapse = \"', '\")\n",
    "\n",
    "politician <- health_communicators_roles |>\n",
    "  filter(Category == \"Politician\")|>\n",
    "  mutate(Handle = str_remove(Handle, \"@\"))|>\n",
    "  select(Handle)|>\n",
    "  rename(politician=Handle)|>\n",
    "  as.list()|>\n",
    "  paste(collapse = \"', '\")\n",
    "\n",
    "journalist <- health_communicators_roles |>\n",
    "  filter(Category == \"Journalist\")|>\n",
    "  mutate(Handle = str_remove(Handle, \"@\"))|>\n",
    "  select(Handle)|>\n",
    "  rename(journalist=Handle)|>\n",
    "  as.list()|>\n",
    "  paste(collapse = \"', '\")\n",
    "\n",
    "civil_society_groups <- health_communicators_roles |>\n",
    "  filter(Category == \"Civil society groups\")|>\n",
    "  mutate(Handle = str_remove(Handle, \"@\"))|>\n",
    "  select(Handle)|>\n",
    "  rename(civil_society_groups=Handle)|>\n",
    "  as.list()|>\n",
    "  paste(collapse = \"', '\")\n",
    "\n",
    "expert <- health_communicators_roles |>\n",
    "  filter(Category == \"Expert\")|>\n",
    "  mutate(Handle = str_remove(Handle, \"@\"))|>\n",
    "  select(Handle)|>\n",
    "  rename(expert=Handle)|>\n",
    "  as.list()|>\n",
    "  paste(collapse = \"', '\")\n",
    "\n",
    "health_official <- health_communicators_roles |>\n",
    "  filter(Category == \"Health official\")|>\n",
    "  mutate(Handle = str_remove(Handle, \"@\"))|>\n",
    "  select(Handle)|>\n",
    "  rename(health_official=Handle)|>\n",
    "  as.list()|>\n",
    "  paste(collapse = \"', '\")"
   ]
  },
  {
   "cell_type": "code",
   "execution_count": 36,
   "metadata": {
    "vscode": {
     "languageId": "r"
    }
   },
   "outputs": [],
   "source": [
    "health_official <- c(\"CDCofBC\", \"ChiefSciCan\", \"CMOH_Alberta\", \"CMOH_NL\", \"CPHO_Canada\", \"epdevilla\", \"OttawaHealth\", \"roussin_brent\", \"StrangRobert\", \"VeraEtches\")\n",
    "expert <- c(\"BogochIsaac\", \"CaulfieldTim\", \"DeNovo_Fatima\", \"deonandan\", \"DFisman\", \"Dr_ChrisSimpson\", \"drgigiosler\", \"DrKaliBarrett\", \"drmwarner\", \"drsusanshaw\", \"DrVivianS\", \"First10EM\", \"GermHunterID\", \"goaliegirlmom31\", \"heysciencesam\", \"IDEpiPhD\", \"imgrund\", \"iPreetBrar\", \"IrfanDhalla\", \"jkwan_md\", \"jonathanstea\", \"KashPrime\", \"Kevin__Parent\", \"KindrachukJason\", \"KrishanaSankar\", \"kwadwo777\", \"LisaBarrettID\", \"MoriartyLab\", \"MPaiMD\", \"NaheedD\", \"NathanStall\", \"paimadhu\", \"RicharLisa\", \"sabivm\", \"SammyG_MD\", \"SciChefCan\", \"sdbaral\", \"SharkawyMD\", \"shazmamithani\", \"SteiniBrown\", \"TorontoIDDOC\", \"UbakaOgbogu\", \"zchagla\")\n",
    "civil_society_groups <- c(\"blackdocscanada\", \"cmcovidtf\", \"conquercovid19\", \"COVID_19_Canada\", \"COVIDSciOntario\", \"McGillOSS\", \"sacovidtf\", \"ScienceUpFirst\", \"thisisourshotca\", \"VaxHuntersCan\")\n",
    "journalist <- c(\"asapscience\", \"binhanv\", \"carlyweeks\", \"ctouzin\", \"CTV_AvisFavaro\", \"egpayne\", \"j_mcelroy\", \"jasonfherring\", \"jfrketich\", \"JWongGlobalNews\", \"jyangstar\", \"LaurenPelley\", \"NightShiftMD\", \"NoLore\", \"picardonhealth\", \"sharon_kirkey\", \"theresaboyle\", \"VikCBC\")\n",
    "politician <- c(\"adriandix\", \"cdube_sante\", \"celliottability\", \"ErnieHudsonPEI\", \"everetthindley\", \"Johnrockdoc\", \"juliegreenMLA\", \"MerrimanPaul\", \"MLAStefanson\", \"PattyHajdu\", \"shandro\", \"ShephardDorothy\", \"zachchurcill\")\n",
    "expert_university <- c(\"AmyGreerKalisz\", \"angie_rasmussen\", \"AnnaBlakney\", \"AntibioticDoc\", \"ASPphysician\")\n",
    "medical_professional<- c(\"AlikaMD\")"
   ]
  },
  {
   "cell_type": "code",
   "execution_count": 37,
   "metadata": {
    "vscode": {
     "languageId": "r"
    }
   },
   "outputs": [],
   "source": [
    "\n",
    "\n",
    "# Filter the dataset for entries containing any of the health officials\n",
    "health_official_df <- UBC_ISD_text %>%\n",
    "  filter(grepl(paste(health_official, collapse = \"|\"), text, ignore.case = TRUE))|>\n",
    "  mutate(negative = as.integer(grepl(pattern, text, ignore.case = TRUE)))\n",
    "total_entries_health_official <- nrow(health_official_df)\n",
    "negative_entries_health_official <- nrow(health_official_df |> filter(negative == 1))\n",
    "health_official_pct_neg <- negative_entries_health_official / total_entries_health_official * 100\n",
    "pct_entries_health_official <- nrow(health_official_df)/nrow(UBC_ISD_text)*100\n",
    "\n",
    "expert_df <- UBC_ISD_text|>\n",
    "  filter(grepl(paste(expert, collapse = \"|\"), text, ignore.case = TRUE))|>\n",
    "  mutate(negative = as.integer(grepl(pattern, text, ignore.case = TRUE)))\n",
    "total_entries_expert <- nrow(expert_df)    \n",
    "negative_entries_expert <- nrow(expert_df |> filter(negative == 1))\n",
    "expert_pct_neg <- negative_entries_expert/total_entries_expert*100\n",
    "pct_entries_expert <- nrow(expert_df)/nrow(UBC_ISD_text)*100\n",
    "\n",
    "civil_society_groups_df <- UBC_ISD_text|>\n",
    "  filter(grepl(paste(civil_society_groups, collapse = \"|\"), text, ignore.case = TRUE))|>\n",
    "  mutate(negative = as.integer(grepl(pattern, text, ignore.case = TRUE)))\n",
    "total_entries_civil_society_groups <- nrow(civil_society_groups_df)    \n",
    "negative_entries_civil_society_groups <- nrow(civil_society_groups_df |> filter(negative == 1))\n",
    "civil_society_groups_pct_neg <- negative_entries_civil_society_groups/total_entries_civil_society_groups*100\n",
    "pct_entries_civil_society_groups <- nrow(civil_society_groups_df)/nrow(UBC_ISD_text)*100\n",
    "\n",
    "journalist_df <- UBC_ISD_text|>\n",
    "  filter(grepl(paste(journalist, collapse = \"|\"), text, ignore.case = TRUE))|>\n",
    "  mutate(negative = as.integer(grepl(pattern, text, ignore.case = TRUE)))\n",
    "total_entries_journalist <- nrow(journalist_df)    \n",
    "negative_entries_journalist <- nrow(journalist_df |> filter(negative == 1))\n",
    "journalist_pct_neg <- negative_entries_journalist/total_entries_journalist*100\n",
    "pct_entries_journalist <- nrow(journalist_df)/nrow(UBC_ISD_text)*100\n",
    "\n",
    "politician_df <- UBC_ISD_text|>\n",
    "  filter(grepl(paste(women, collapse = \"|\"), text, ignore.case = TRUE))|>\n",
    "  mutate(negative = as.integer(grepl(pattern, text, ignore.case = TRUE)))\n",
    "total_entries_politician <- nrow(politician_df)    \n",
    "negative_entries_politician <- nrow(politician_df |> filter(negative == 1))\n",
    "politician_pct_neg <- negative_entries_politician/total_entries_politician*100\n",
    "pct_entries_politician <- nrow(politician_df)/nrow(UBC_ISD_text)*100\n",
    "\n",
    "expert_university_df <- UBC_ISD_text|>\n",
    "  filter(grepl(paste(expert_university, collapse = \"|\"), text, ignore.case = TRUE))|>\n",
    "  mutate(negative = as.integer(grepl(pattern, text, ignore.case = TRUE)))\n",
    "total_entries_expert_university <- nrow(expert_university_df)    \n",
    "negative_entries_expert_university <- nrow(expert_university_df |> filter(negative == 1))\n",
    "expert_university_pct_neg <- negative_entries_expert_university/total_entries_expert_university*100\n",
    "pct_entries_expert_university <- nrow(expert_university_df)/nrow(UBC_ISD_text)*100\n",
    "\n",
    "medical_professional_df <- UBC_ISD_text|>\n",
    "  filter(grepl(paste(medical_professional, collapse = \"|\"), text, ignore.case = TRUE))|>\n",
    "  mutate(negative = as.integer(grepl(pattern, text, ignore.case = TRUE)))\n",
    "total_entries_medical_professional<- nrow(medical_professional_df)    \n",
    "negative_entries_medical_professional <- nrow(medical_professional_df |> filter(negative == 1))\n",
    "medical_professional_pct_neg <- negative_entries_medical_professional/total_entries_medical_professional*100\n",
    "pct_entries_medical_professional <- nrow(medical_professional_df)/nrow(UBC_ISD_text)*100\n"
   ]
  },
  {
   "cell_type": "code",
   "execution_count": 43,
   "metadata": {
    "vscode": {
     "languageId": "r"
    }
   },
   "outputs": [
    {
     "data": {
      "text/html": [
       "<table class=\"dataframe\">\n",
       "<caption>A data.frame: 7 × 3</caption>\n",
       "<thead>\n",
       "\t<tr><th scope=col>category</th><th scope=col>percent_toxic</th><th scope=col>percent_total_dst</th></tr>\n",
       "\t<tr><th scope=col>&lt;chr&gt;</th><th scope=col>&lt;dbl&gt;</th><th scope=col>&lt;dbl&gt;</th></tr>\n",
       "</thead>\n",
       "<tbody>\n",
       "\t<tr><td>health_official     </td><td>8.202942</td><td>13.6712251</td></tr>\n",
       "\t<tr><td>expert              </td><td>3.998407</td><td>38.8813128</td></tr>\n",
       "\t<tr><td>civil_society_groups</td><td>1.830094</td><td> 5.5828289</td></tr>\n",
       "\t<tr><td>journalist          </td><td>4.428399</td><td> 9.8949821</td></tr>\n",
       "\t<tr><td>politician          </td><td>6.214809</td><td>26.4392488</td></tr>\n",
       "\t<tr><td>expert_university   </td><td>3.352900</td><td> 3.6036009</td></tr>\n",
       "\t<tr><td>medical_professional</td><td>3.662089</td><td> 0.1464898</td></tr>\n",
       "</tbody>\n",
       "</table>\n"
      ],
      "text/latex": [
       "A data.frame: 7 × 3\n",
       "\\begin{tabular}{lll}\n",
       " category & percent\\_toxic & percent\\_total\\_dst\\\\\n",
       " <chr> & <dbl> & <dbl>\\\\\n",
       "\\hline\n",
       "\t health\\_official      & 8.202942 & 13.6712251\\\\\n",
       "\t expert               & 3.998407 & 38.8813128\\\\\n",
       "\t civil\\_society\\_groups & 1.830094 &  5.5828289\\\\\n",
       "\t journalist           & 4.428399 &  9.8949821\\\\\n",
       "\t politician           & 6.214809 & 26.4392488\\\\\n",
       "\t expert\\_university    & 3.352900 &  3.6036009\\\\\n",
       "\t medical\\_professional & 3.662089 &  0.1464898\\\\\n",
       "\\end{tabular}\n"
      ],
      "text/markdown": [
       "\n",
       "A data.frame: 7 × 3\n",
       "\n",
       "| category &lt;chr&gt; | percent_toxic &lt;dbl&gt; | percent_total_dst &lt;dbl&gt; |\n",
       "|---|---|---|\n",
       "| health_official      | 8.202942 | 13.6712251 |\n",
       "| expert               | 3.998407 | 38.8813128 |\n",
       "| civil_society_groups | 1.830094 |  5.5828289 |\n",
       "| journalist           | 4.428399 |  9.8949821 |\n",
       "| politician           | 6.214809 | 26.4392488 |\n",
       "| expert_university    | 3.352900 |  3.6036009 |\n",
       "| medical_professional | 3.662089 |  0.1464898 |\n",
       "\n"
      ],
      "text/plain": [
       "  category             percent_toxic percent_total_dst\n",
       "1 health_official      8.202942      13.6712251       \n",
       "2 expert               3.998407      38.8813128       \n",
       "3 civil_society_groups 1.830094       5.5828289       \n",
       "4 journalist           4.428399       9.8949821       \n",
       "5 politician           6.214809      26.4392488       \n",
       "6 expert_university    3.352900       3.6036009       \n",
       "7 medical_professional 3.662089       0.1464898       "
      ]
     },
     "metadata": {},
     "output_type": "display_data"
    }
   ],
   "source": [
    "category_metrics <- data.frame(category=c(\"health_official\", \"expert\", \"civil_society_groups\", \"journalist\", \"politician\", \"expert_university\",\"medical_professional\"),\n",
    "                                percent_toxic=c(health_official_pct_neg, expert_pct_neg, civil_society_groups_pct_neg, journalist_pct_neg, politician_pct_neg,expert_university_pct_neg,medical_professional_pct_neg),\n",
    "                                percent_total_dst=c(pct_entries_health_official, pct_entries_expert, pct_entries_civil_society_groups, pct_entries_journalist, pct_entries_politician, pct_entries_expert_university, pct_entries_medical_professional)\n",
    "                                )\n",
    "\n",
    "category_metrics\n",
    "write.csv(category_metrics, \"category_metrics_ISD\")"
   ]
  },
  {
   "cell_type": "code",
   "execution_count": 42,
   "metadata": {
    "vscode": {
     "languageId": "r"
    }
   },
   "outputs": [
    {
     "data": {
      "image/png": "[encoded data removed]",
      "text/plain": [
       "plot without title"
      ]
     },
     "metadata": {
      "image/png": {
       "height": 420,
       "width": 420
      }
     },
     "output_type": "display_data"
    }
   ],
   "source": [
    "library(RColorBrewer)\n",
    "category_graph <- category_metrics|>\n",
    "ggplot(aes(x=category,y=percent_negative, fill=category))+ \n",
    "    geom_bar(stat=\"identity\",color=\"#a60000\", linewidth=1, alpha=0.8)+\n",
    "    scale_fill_brewer(palette = \"PuRd\")+\n",
    "    theme(axis.text.x = element_text(angle = 0, vjust=1), legend.position = \"none\")+\n",
    "    labs(y=\"percentage (out of 100)\", x=\"category of twitter user\", subtitle = \"From ISD dataset and dictionary\")+\n",
    "    ggtitle(\"Percentage of Tweets Directred at Each Category of Twitter User That Are Toxic\")+\n",
    "    theme_bw()+\n",
    "    theme(legend.position=\"none\")\n",
    "category_graph\n",
    "\n",
    "ggsave(\"category_hate_terms_ISD.png\", width=10, height=5)"
   ]
  }
 ],
 "metadata": {
  "kernelspec": {
   "display_name": "R",
   "language": "R",
   "name": "ir"
  },
  "language_info": {
   "codemirror_mode": "r",
   "file_extension": ".r",
   "mimetype": "text/x-r-source",
   "name": "R",
   "pygments_lexer": "r",
   "version": "4.1.3"
  }
 },
 "nbformat": 4,
 "nbformat_minor": 2
}
