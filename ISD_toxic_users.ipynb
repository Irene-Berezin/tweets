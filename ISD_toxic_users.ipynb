{
 "cells": [
  {
   "cell_type": "code",
   "execution_count": null,
   "metadata": {
    "vscode": {
     "languageId": "r"
    }
   },
   "outputs": [],
   "source": [
    "library(tidyverse)\n",
    "library(data.table)\n",
    "library(dplyr)\n",
    "\n",
    "UBC_ISD <- fread(\"UBC-ISD.csv\", encoding = \"UTF-8\")"
   ]
  },
  {
   "cell_type": "code",
   "execution_count": null,
   "metadata": {
    "vscode": {
     "languageId": "r"
    }
   },
   "outputs": [],
   "source": [
    "options(scipen=999) #getting rid of scientific notation, useful for later"
   ]
  },
  {
   "cell_type": "code",
   "execution_count": null,
   "metadata": {
    "vscode": {
     "languageId": "r"
    }
   },
   "outputs": [],
   "source": [
    "UBC_ISD_text <- UBC_ISD |>\n",
    "select(\"twitter.tweet/text\",'twitter.user/followersCount', 'twitter.user/screenName', 'twitter.tweet/favouriteCount')|>\n",
    "rename(text=\"twitter.tweet/text\", followers='twitter.user/followersCount', name='twitter.user/screenName', likes= 'twitter.tweet/favouriteCount')|>\n",
    "distinct() #removes retweets"
   ]
  },
  {
   "cell_type": "code",
   "execution_count": null,
   "metadata": {
    "vscode": {
     "languageId": "r"
    }
   },
   "outputs": [],
   "source": [
    "terms <- c('fuck', 'dirty', 'stupid', 'idiot', 'asshole', 'bastard', 'nasty', 'whore', 'slut', 'skank', 'cunt', 'bitch', 'motherfucker', 'go to hell', 'wimp', 'coward', 'moron', 'traitor', 'shut up', 'shut the fuck up', 'stfu', 'piece of shit', 'ignorant', 'clown', 'ccpvirus', 'chinese coronavirus', 'chinavirus', 'china virus', 'fuckchina', 'nukechina', 'bombchina', 'deathtochina', 'chinesevirus', 'fake lab wuhan', 'china weapon', 'china bioweapon', 'zionazi', 'Soros virus', 'blood libel', 'nwovirus', 'new world order', 'sacrifice children', 'jew world order', 'liar', 'yellow star', 'israel virus', 'israelvirus', 'rothschild covid', 'kalergi plan', 'jail', 'locked up', 'evil.', 'is evil', 'so evil', 'pure evil', 'an evil', 'evil wom', 'evil man', 'evil witch', 'is evil', 'are evil', 'that evil', 'very evil', 'tyrant', 'tyranny', 'dictator', 'tv doctor', 'twitter doctor', 'murder', 'murderer', 'eugenic', 'satan', 'Nazi', 'non-human', 'sterile', 'slave', 'crooked', 'corrupt', 'shill', 'liar', 'lying', 'killer', 'fraud', 'big pharma', 'pharma puppet', 'Nuremberg', 'crimes against humanity', 'genocide', 'child abuse', 'covid hoax', 'covid fake', 'virus hoax', 'gates virus', 'bioweapon', 'secret elite', 'depopulation', 'save our children', 'scamdemic', 'plandemic')\n",
    "terms <- paste0(\" \", terms)\n",
    "pattern <- paste(terms, collapse = \"|\")"
   ]
  },
  {
   "cell_type": "code",
   "execution_count": null,
   "metadata": {
    "vscode": {
     "languageId": "r"
    }
   },
   "outputs": [],
   "source": [
    "UBC_ISD_text$toxicity <- ifelse(grepl(pattern, UBC_ISD_text$text, ignore.case = TRUE), 1, 0)\n"
   ]
  },
  {
   "cell_type": "code",
   "execution_count": null,
   "metadata": {
    "vscode": {
     "languageId": "r"
    }
   },
   "outputs": [],
   "source": [
    "UBC_ISD_text_users <- UBC_ISD_text |>\n",
    "filter(toxicity==1)|>\n",
    "select(name, toxicity)|>\n",
    "group_by(name)|>\n",
    "summarize(toxicity = sum(toxicity))|>\n",
    "arrange(desc(toxicity))|>\n",
    "mutate(color = ifelse(name == \"Wakethefckup3\", \"red\", \"#171724\"))|>\n",
    "mutate(name = factor(name, levels = unique(name)))|>\n",
    "\n",
    "head(50)"
   ]
  },
  {
   "cell_type": "code",
   "execution_count": null,
   "metadata": {
    "vscode": {
     "languageId": "r"
    }
   },
   "outputs": [],
   "source": [
    "\n",
    "\n",
    "graph <- UBC_ISD_text_users |>\n",
    "  ggplot(aes(x = name, y = toxicity, group = 1)) +\n",
    "  geom_line(color = \"#0000ff\", size=1, alpha=0.4) +\n",
    "  geom_point(aes(color = color), size = 2) +\n",
    "  scale_color_identity()+\n",
    "  labs(y=\"amount of hateful tweets\", subtitle=\"Taken from ISD dataset and dictionary\",x=\"author usernames\")+\n",
    "  ggtitle(\"Users with most hateful tweets\")+\n",
    "  annotate(\"text\", x = 8, y = 1600, label = \"user: Wakethefckup3\", color = \"red\", size = 4)+\n",
    "  theme_bw()+\n",
    "  theme(axis.text.x = element_text(angle = 50, hjust = 1, size=7))\n"
   ]
  },
  {
   "cell_type": "code",
   "execution_count": null,
   "metadata": {
    "vscode": {
     "languageId": "r"
    }
   },
   "outputs": [],
   "source": [
    "  graph\n"
   ]
  },
  {
   "cell_type": "code",
   "execution_count": null,
   "metadata": {
    "vscode": {
     "languageId": "r"
    }
   },
   "outputs": [],
   "source": [
    "ggsave(\"ISD_hateful_users.png\")"
   ]
  },
  {
   "cell_type": "code",
   "execution_count": null,
   "metadata": {
    "vscode": {
     "languageId": "r"
    }
   },
   "outputs": [],
   "source": [
    "UBC_ISD_text_users <- UBC_ISD_text |>\n",
    "select(name)|>\n",
    "distinct()|>\n",
    "nrow()\n",
    "\n",
    "UBC_ISD_text_users #total number of users in the dataset"
   ]
  },
  {
   "cell_type": "code",
   "execution_count": null,
   "metadata": {
    "vscode": {
     "languageId": "r"
    }
   },
   "outputs": [],
   "source": [
    "toxic_tweet_distribution <- UBC_ISD_text |>\n",
    "  filter(toxicity == 1) |>\n",
    "  group_by(name) |>\n",
    "  summarise(toxic_tweets = n()) |> #counts # toxic tweets for each user\n",
    "  count(toxic_tweets) |>\n",
    "  mutate(percent = (n / 539385)*100)"
   ]
  },
  {
   "cell_type": "code",
   "execution_count": null,
   "metadata": {
    "vscode": {
     "languageId": "r"
    }
   },
   "outputs": [],
   "source": [
    "write_csv(toxic_tweet_distribution, \"toxic_tweet_distribution_ISD.csv\")"
   ]
  },
  {
   "cell_type": "code",
   "execution_count": null,
   "metadata": {
    "vscode": {
     "languageId": "r"
    }
   },
   "outputs": [],
   "source": [
    "toxic_tweet_distribution"
   ]
  },
  {
   "cell_type": "code",
   "execution_count": null,
   "metadata": {
    "vscode": {
     "languageId": "r"
    }
   },
   "outputs": [],
   "source": [
    "toxic_tweet_distribution_20 <- toxic_tweet_distribution|>\n",
    "head(20)\n",
    "\n",
    "\n",
    "graph_totals <- toxic_tweet_distribution_20 |>\n",
    "  ggplot(aes(x = toxic_tweets, y = n))+\n",
    "  geom_line(color = \"#0000ff\", size=1, alpha=0.4) +\n",
    "  geom_point(aes(), size = 2) +\n",
    "  scale_color_identity()+\n",
    "  labs(y=\"number of authors\", x= \"Amount of hateful tweets per author\",subtitle=\"Taken from ISD dataset and dictionary; truncated at 20 tweets/author\",x=\"number of authors\")+\n",
    "  ggtitle(\"Amount of Authors Having Contributed n Hateful Tweets/author\")+\n",
    "  theme_bw()+\n",
    "  theme(axis.text.x = element_text(angle = 50, hjust = 1, size=7))\n",
    "\n",
    "graph_totals\n",
    "\n",
    "ggsave(\"Amount_of_hateful_tweets_per_author.png\")"
   ]
  },
  {
   "cell_type": "code",
   "execution_count": null,
   "metadata": {
    "vscode": {
     "languageId": "r"
    }
   },
   "outputs": [],
   "source": [
    "graph_totals_percentages <- toxic_tweet_distribution_20 |>\n",
    "  ggplot(aes(x = toxic_tweets, y = percent))+\n",
    "  geom_line(color = \"#0000ff\", size=1, alpha=0.4) +\n",
    "  geom_point(aes(), size = 2) +\n",
    "  scale_color_identity()+\n",
    "  labs(y=\"\", subtitle=\"Taken from ISD dataset and dictionary; truncated at 20 tweets/author\",x=\"number of authors\")+\n",
    "  ggtitle(\"Percentage of authors having contributed n hateful tweets/author\")+\n",
    "  theme_bw()+\n",
    "  theme(axis.text.x = element_text(angle = 50, hjust = 1, size=7))\n",
    "\n",
    "graph_totals_percentages"
   ]
  },
  {
   "cell_type": "code",
   "execution_count": null,
   "metadata": {
    "vscode": {
     "languageId": "r"
    }
   },
   "outputs": [],
   "source": [
    "toxic_tweet_following_mean <- UBC_ISD_text |>\n",
    "  filter(toxicity == 1) |>\n",
    "  group_by(name) |>\n",
    "  summarise(\n",
    "    toxic_tweets = n(),    # Counts toxic tweets for each user\n",
    "    avg_followers = mean(followers, na.rm = TRUE)  # Calculates average follower count per user\n",
    "  ) |> \n",
    "  group_by(toxic_tweets) |>\n",
    "  summarise(\n",
    "    n = n(),  # Number of users with the same number of toxic tweets\n",
    "    avg_followers_per_group = mean(avg_followers, na.rm = TRUE)  # Average followers for each group\n",
    "  ) |>\n",
    "  mutate(percent = (n / 539385) * 100)  # Percentage calculation\n"
   ]
  },
  {
   "cell_type": "code",
   "execution_count": null,
   "metadata": {
    "vscode": {
     "languageId": "r"
    }
   },
   "outputs": [],
   "source": [
    "toxic_tweet_following_max <- UBC_ISD_text |>\n",
    "  filter(toxicity == 1) |>\n",
    "  group_by(name) |>\n",
    "  summarise(\n",
    "    toxic_tweets = n(),    # Counts toxic tweets for each user\n",
    "    avg_followers = max(followers, na.rm = TRUE)  # Calculates average follower count per user\n",
    "  ) |> \n",
    "  group_by(toxic_tweets) |>\n",
    "  summarise(\n",
    "    n = n(),  # Number of users with the same number of toxic tweets\n",
    "    max_followers_per_group = mean(avg_followers, na.rm = TRUE)  # Average followers for each group\n",
    "  ) |>\n",
    "  mutate(percent = (n / 539385) * 100) |> # Percentage calculation\n",
    "  select(max_followers_per_group)"
   ]
  },
  {
   "cell_type": "code",
   "execution_count": null,
   "metadata": {
    "vscode": {
     "languageId": "r"
    }
   },
   "outputs": [],
   "source": [
    "toxic_tweet_following <- cbind(toxic_tweet_following_max, toxic_tweet_following_mean)|>\n",
    "head(25)"
   ]
  },
  {
   "cell_type": "code",
   "execution_count": null,
   "metadata": {
    "vscode": {
     "languageId": "r"
    }
   },
   "outputs": [],
   "source": [
    "following_graph <- toxic_tweet_following |>\n",
    "  ggplot(aes(x = toxic_tweets)) +\n",
    "  geom_point(aes(y = avg_followers_per_group, color = \"Average Followers\"), size=3) +\n",
    "  geom_point(aes(y = max_followers_per_group, color = \"Maximum Followers\"), size=3) +\n",
    "  geom_line(aes(y = avg_followers_per_group, color = \"Average Followers\"), size=1, alpha=0.3) +\n",
    "  geom_line(aes(y = max_followers_per_group, color = \"Maximum Followers\"), size=1, alpha=0.3) +\n",
    "  labs(title = \"The average of the Average and Maximum number of followers per user, for all users, per number of toxic tweets.\",\n",
    "       x = \"Number of Toxic Tweets\", y = \"Followers\", color = \"Legend\", subtitle = \"Taken from ISD Dataset, capped at 25 tweets/user\") +\n",
    "  scale_color_manual(values = c(\"Average Followers\" = \"#4b4bb1\", \"Maximum Followers\" = \"#dc2e2e\"))+\n",
    "  theme_bw()+\n",
    "    geom_segment(aes(x = 3, y = 950, xend = 3, yend = 1300), arrow = arrow(length = unit(0.4, \"cm\")), color = \"black\", size=1) +\n",
    "      annotate(\"text\", x = 5, y = 900, label = \"This point corresponds to\", color = \"black\")+\n",
    "      annotate(\"text\", x = 7, y = 850, label = \"the average of the average number\", color = \"black\")+\n",
    "      annotate(\"text\", x = 6, y = 800, label = \"of followers per user, across\", color = \"black\")+\n",
    "      annotate(\"text\", x = 6, y = 750, label = \"all users with 3 toxic tweets\", color = \"black\")+\n",
    "    geom_segment(aes(x = 3, y = 1800, xend = 3, yend = 1500), arrow = arrow(length = unit(0.4, \"cm\")), color = \"black\", size=1) +\n",
    "      annotate(\"text\", x = 5, y = 2000, label = \"This point corresponds to\", color = \"black\")+\n",
    "      annotate(\"text\", x = 7, y = 1950, label = \"the average of the maximum number\", color = \"black\")+\n",
    "      annotate(\"text\", x = 6, y = 1900, label = \"of followers per user, across\", color = \"black\")+\n",
    "      annotate(\"text\", x = 6, y = 1850, label = \"all users with 3 toxic tweets\", color = \"black\")\n",
    "\n",
    "following_graph\n",
    "\n",
    "ggsave(\"following_graph_ISD.png\", width=10, height=6)\n"
   ]
  },
  {
   "cell_type": "code",
   "execution_count": 97,
   "metadata": {
    "vscode": {
     "languageId": "r"
    }
   },
   "outputs": [
    {
     "data": {
      "image/png": "[encoded data removed]",
      "text/plain": [
       "plot without title"
      ]
     },
     "metadata": {
      "image/png": {
       "height": 420,
       "width": 420
      }
     },
     "output_type": "display_data"
    }
   ],
   "source": [
    "toxic_tweet_following_100 <- cbind(toxic_tweet_following_max, toxic_tweet_following_mean)|>\n",
    "head(50)\n",
    "\n",
    "following_graph_50 <- toxic_tweet_following_100 |>\n",
    "  ggplot(aes(x = toxic_tweets)) +\n",
    "  geom_point(aes(y = avg_followers_per_group, color = \"Average Followers\"), size=3) +\n",
    "  geom_point(aes(y = max_followers_per_group, color = \"Maximum Followers\"), size=3) +\n",
    "  geom_line(aes(y = avg_followers_per_group, color = \"Average Followers\"), size=1, alpha=0.3) +\n",
    "  geom_line(aes(y = max_followers_per_group, color = \"Maximum Followers\"), size=1, alpha=0.3) +\n",
    "  labs(title = \"The average of the Average and Maximum number of followers per user, for all users, per number of toxic tweets.\",\n",
    "       x = \"Number of Toxic Tweets\", y = \"Followers\", color = \"Legend\", subtitle = \"Taken from ISD Dataset, capped at 50 tweets/user\") +\n",
    "  scale_color_manual(values = c(\"Average Followers\" = \"#4b4bb1\", \"Maximum Followers\" = \"#dc2e2e\"))+\n",
    "  geom_segment(aes(x = 27, y = 12500, xend = 37, yend = 16000), arrow = arrow(length = unit(0.3, \"cm\")), color = \"black\", size=1) +\n",
    "  annotate(\"text\", x = 20, y = 12000, label = \"Spikes caused by health communicator\", color = \"black\")+\n",
    "  annotate(\"text\", x = 20, y = 11500, label = \"accounts with large followings\", color = \"black\")+\n",
    "  theme_bw()\n",
    "following_graph_50\n",
    "\n",
    "ggsave(\"following_graph_50_ISD.png\", width=10, height=7)\n",
    "\n"
   ]
  },
  {
   "cell_type": "markdown",
   "metadata": {},
   "source": [
    "What's causing these spikes? \n",
    "\n",
    "Answer: Some of our health communicators with large followings have some toxic tweets themselves!"
   ]
  },
  {
   "cell_type": "code",
   "execution_count": 99,
   "metadata": {
    "vscode": {
     "languageId": "r"
    }
   },
   "outputs": [
    {
     "data": {
      "text/html": [
       "<table class=\"dataframe\">\n",
       "<caption>A tibble: 3 × 3</caption>\n",
       "<thead>\n",
       "\t<tr><th scope=col>name</th><th scope=col>toxic_tweets</th><th scope=col>avg_followers</th></tr>\n",
       "\t<tr><th scope=col>&lt;chr&gt;</th><th scope=col>&lt;int&gt;</th><th scope=col>&lt;int&gt;</th></tr>\n",
       "</thead>\n",
       "<tbody>\n",
       "\t<tr><td>NightShiftMD</td><td>43</td><td>73504</td></tr>\n",
       "\t<tr><td>paimadhu    </td><td>39</td><td>62276</td></tr>\n",
       "\t<tr><td>sdbaral     </td><td>41</td><td>29523</td></tr>\n",
       "</tbody>\n",
       "</table>\n"
      ],
      "text/latex": [
       "A tibble: 3 × 3\n",
       "\\begin{tabular}{lll}\n",
       " name & toxic\\_tweets & avg\\_followers\\\\\n",
       " <chr> & <int> & <int>\\\\\n",
       "\\hline\n",
       "\t NightShiftMD & 43 & 73504\\\\\n",
       "\t paimadhu     & 39 & 62276\\\\\n",
       "\t sdbaral      & 41 & 29523\\\\\n",
       "\\end{tabular}\n"
      ],
      "text/markdown": [
       "\n",
       "A tibble: 3 × 3\n",
       "\n",
       "| name &lt;chr&gt; | toxic_tweets &lt;int&gt; | avg_followers &lt;int&gt; |\n",
       "|---|---|---|\n",
       "| NightShiftMD | 43 | 73504 |\n",
       "| paimadhu     | 39 | 62276 |\n",
       "| sdbaral      | 41 | 29523 |\n",
       "\n"
      ],
      "text/plain": [
       "  name         toxic_tweets avg_followers\n",
       "1 NightShiftMD 43           73504        \n",
       "2 paimadhu     39           62276        \n",
       "3 sdbaral      41           29523        "
      ]
     },
     "metadata": {},
     "output_type": "display_data"
    }
   ],
   "source": [
    "toxic_tweet_following_max_analyze <- UBC_ISD_text |>\n",
    "  filter(toxicity == 1) |>\n",
    "  group_by(name) |>\n",
    "  summarise(\n",
    "    toxic_tweets = n(),    # Counts toxic tweets for each user\n",
    "    avg_followers = max(followers, na.rm = TRUE)  # Calculates average follower count per user\n",
    "  ) |> \n",
    "  filter(avg_followers > 15000,toxic_tweets>35, toxic_tweets<50)\n",
    "  \n",
    "\n",
    "  toxic_tweet_following_max_analyze"
   ]
  },
  {
   "cell_type": "code",
   "execution_count": null,
   "metadata": {
    "vscode": {
     "languageId": "r"
    }
   },
   "outputs": [],
   "source": [
    "toxic_likes <- UBC_ISD_text |>\n",
    "  filter(toxicity == 1) |>\n",
    "  group_by(name) |>\n",
    "  summarise(\n",
    "    toxic_tweets = n(),    # Counts toxic tweets for each user\n",
    "    likes = sum(likes, na.rm = TRUE)  # Calculates average follower count per user\n",
    "  ) |> \n",
    "  group_by(toxic_tweets) |>\n",
    "  summarise(\n",
    "    n = n(),  # Number of users with the same number of toxic tweets\n",
    "    sum_likes_per_group = sum(likes, na.rm = TRUE)  # sum likes\n",
    "  )|>\n",
    "  head(50)\n",
    "\n",
    "  toxic_likes"
   ]
  },
  {
   "cell_type": "code",
   "execution_count": 92,
   "metadata": {
    "vscode": {
     "languageId": "r"
    }
   },
   "outputs": [],
   "source": [
    "likes_plot <- toxic_likes |>\n",
    "  ggplot(aes(x = toxic_tweets))+\n",
    "  geom_line(aes(y=sum_likes_per_group), color = \"#0000ff\", size=1, alpha=0.4) +\n",
    "  geom_point(aes(y=sum_likes_per_group), size = 2) +\n",
    "  labs(y=\"number of likes\", subtitle=\"Taken from ISD dataset and dictionary; truncated at 50 tweets/author\",x=\"number of hate tweets/author\")+\n",
    "  ggtitle(\"Number of total likes per number of hate tweets/author\")+\n",
    "  theme_bw()+\n",
    "  theme(axis.text.x = element_text(angle = 50, hjust = 1, size=7))\n"
   ]
  },
  {
   "cell_type": "code",
   "execution_count": 94,
   "metadata": {
    "vscode": {
     "languageId": "r"
    }
   },
   "outputs": [
    {
     "name": "stderr",
     "output_type": "stream",
     "text": [
      "\u001b[1m\u001b[22mSaving 6.67 x 6.67 in image\n"
     ]
    },
    {
     "data": {
      "image/png": "[encoded data removed]",
      "text/plain": [
       "plot without title"
      ]
     },
     "metadata": {
      "image/png": {
       "height": 420,
       "width": 420
      }
     },
     "output_type": "display_data"
    }
   ],
   "source": [
    "likes_plot\n",
    "\n",
    "ggsave(\"likes_plot_ISD.png\")"
   ]
  },
  {
   "cell_type": "code",
   "execution_count": null,
   "metadata": {
    "vscode": {
     "languageId": "r"
    }
   },
   "outputs": [],
   "source": [
    "toxic_likes_per_author <- UBC_ISD_text |>\n",
    "  filter(toxicity == 1) |>\n",
    "  group_by(name) |>\n",
    "  summarise(\n",
    "    toxic_tweets = n(),    # Counts toxic tweets for each user\n",
    "    likes = sum(likes, na.rm = TRUE)  # Calculates average follower count per user\n",
    "  ) |> \n",
    "  group_by(toxic_tweets) |>\n",
    "  summarise(\n",
    "    n = n(),  # Number of users with the same number of toxic tweets\n",
    "    sum_likes_per_group = sum(likes, na.rm = TRUE)  # sum likes\n",
    "  )|>\n",
    "  mutate(sum_likes_per_n_author = sum_likes_per_group/n)|>\n",
    "  head(50)\n",
    "\n",
    "toxic_likes_per_author"
   ]
  },
  {
   "cell_type": "code",
   "execution_count": 79,
   "metadata": {
    "vscode": {
     "languageId": "r"
    }
   },
   "outputs": [
    {
     "data": {
      "text/html": [
       "<strong>toxic_tweets:</strong> 0.12601475941485"
      ],
      "text/latex": [
       "\\textbf{toxic\\textbackslash{}\\_tweets:} 0.12601475941485"
      ],
      "text/markdown": [
       "**toxic_tweets:** 0.12601475941485"
      ],
      "text/plain": [
       "toxic_tweets \n",
       "   0.1260148 "
      ]
     },
     "metadata": {},
     "output_type": "display_data"
    }
   ],
   "source": [
    "model <- lm(sum_likes_per_n_author ~ toxic_tweets, data = toxic_likes_per_author)\n",
    "\n",
    "coefficients <- coef(model)\n",
    "slope <- coefficients[\"toxic_tweets\"]\n",
    "slope\n"
   ]
  },
  {
   "cell_type": "code",
   "execution_count": 87,
   "metadata": {
    "vscode": {
     "languageId": "r"
    }
   },
   "outputs": [],
   "source": [
    "likes_per_author_plot <- toxic_likes_per_author |>\n",
    "  ggplot(aes(x = toxic_tweets))+\n",
    "  geom_line(aes(y=sum_likes_per_n_author), color = \"#6060f6\", size=1, alpha=0.3) +\n",
    "  geom_point(aes(y=sum_likes_per_n_author), size = 2) +\n",
    "  geom_smooth(aes(y=sum_likes_per_n_author), method = lm,  se=FALSE,  color=\"#bb2626\")+\n",
    "  labs(y=\"number of likes/number of authors\", subtitle=\"Taken from ISD dataset and dictionary; truncated at 50 tweets/author\",x=\"number of hate tweets/author\")+\n",
    "  ggtitle(\"Average number of likes/author, per number of hate tweets/author\")+\n",
    "  theme_bw()+\n",
    "  theme(axis.text.x = element_text(angle = 50, hjust = 1, size=7))+\n",
    "  annotate(\"text\", x = 5, y =5, label = \"b = 0.126\", color = \"black\")"
   ]
  },
  {
   "cell_type": "code",
   "execution_count": 95,
   "metadata": {
    "vscode": {
     "languageId": "r"
    }
   },
   "outputs": [
    {
     "name": "stderr",
     "output_type": "stream",
     "text": [
      "\u001b[1m\u001b[22m`geom_smooth()` using formula = 'y ~ x'\n",
      "\u001b[1m\u001b[22mSaving 6.67 x 6.67 in image\n",
      "\u001b[1m\u001b[22m`geom_smooth()` using formula = 'y ~ x'\n"
     ]
    },
    {
     "data": {
      "image/png": "[encoded data removed]",
      "text/plain": [
       "plot without title"
      ]
     },
     "metadata": {
      "image/png": {
       "height": 420,
       "width": 420
      }
     },
     "output_type": "display_data"
    }
   ],
   "source": [
    "likes_per_author_plot\n",
    "\n",
    "ggsave(\"average_likes_author_ISD.png\")"
   ]
  }
 ],
 "metadata": {
  "kernelspec": {
   "display_name": "R",
   "language": "R",
   "name": "ir"
  },
  "language_info": {
   "codemirror_mode": "r",
   "file_extension": ".r",
   "mimetype": "text/x-r-source",
   "name": "R",
   "pygments_lexer": "r",
   "version": "4.1.3"
  }
 },
 "nbformat": 4,
 "nbformat_minor": 2
}
