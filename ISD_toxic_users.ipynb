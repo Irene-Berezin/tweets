{
 "cells": [
  {
   "cell_type": "code",
   "execution_count": 4,
   "metadata": {
    "vscode": {
     "languageId": "r"
    }
   },
   "outputs": [
    {
     "ename": "ERROR",
     "evalue": "Error in fread(\"UBC-ISD.csv\", encoding = \"UTF-8\"): Opened 6.814GB (7316020036 bytes) file ok but could not memory map it. This is a 64bit process. There is probably not enough contiguous virtual memory available.\n",
     "output_type": "error",
     "traceback": [
      "Error in fread(\"UBC-ISD.csv\", encoding = \"UTF-8\"): Opened 6.814GB (7316020036 bytes) file ok but could not memory map it. This is a 64bit process. There is probably not enough contiguous virtual memory available.\nTraceback:\n",
      "1. fread(\"UBC-ISD.csv\", encoding = \"UTF-8\")"
     ]
    }
   ],
   "source": [
    "library(tidyverse)\n",
    "library(data.table)\n",
    "library(dplyr)\n",
    "\n",
    "UBC_ISD <- fread(\"UBC-ISD.csv\", encoding = \"UTF-8\")"
   ]
  }
 ],
 "metadata": {
  "kernelspec": {
   "display_name": "R",
   "language": "R",
   "name": "ir"
  },
  "language_info": {
   "codemirror_mode": "r",
   "file_extension": ".r",
   "mimetype": "text/x-r-source",
   "name": "R",
   "pygments_lexer": "r",
   "version": "4.1.3"
  }
 },
 "nbformat": 4,
 "nbformat_minor": 2
}
