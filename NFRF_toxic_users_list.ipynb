{
 "cells": [
  {
   "cell_type": "code",
   "execution_count": null,
   "metadata": {
    "vscode": {
     "languageId": "r"
    }
   },
   "outputs": [],
   "source": [
    "library(tidyverse)\n",
    "library(dplyr)\n",
    "\n",
    "\n",
    "adriandix <- read_csv(\"csvs/twitterpho/@adriandix_tweets.csv\")\n",
    "AlikaMD <- read_csv(\"csvs/twitterpho/@AlikaMD_tweets.csv\")\n",
    "AmyGreerKalisz <- read_csv(\"csvs/twitterpho/@AmyGreerKalisz_tweets.csv\")\n",
    "angie_rasmussen <- read_csv(\"csvs/twitterpho/@angie_rasmussen_tweets.csv\")\n",
    "AnnaBlakney <- read_csv(\"csvs/twitterpho/@AnnaBlakney_tweets.csv\")\n",
    "AntibioticDoc <- read_csv(\"csvs/twitterpho/@AntibioticDoc_tweets.csv\")\n",
    "asapscience <- read_csv(\"csvs/twitterpho/@asapscience_tweets.csv\")\n",
    "ASPphysician <- read_csv(\"csvs/twitterpho/@ASPphysician_tweets.csv\")\n",
    "atRachelGilmore <- read_csv(\"csvs/twitterpho/@atRachelGilmore_tweets.csv\")\n",
    "binhanv <- read_csv(\"csvs/twitterpho/@binhanv_tweets.csv\")\n",
    "BirinderNarang <- read_csv(\"csvs/twitterpho/@BirinderNarang_tweets.csv\")\n",
    "blackdocscanada <- read_csv(\"csvs/twitterpho/@blackdocscanada_tweets.csv\")\n",
    "BogochIsaac <- read_csv(\"csvs/twitterpho/@BogochIsaac_tweets.csv\")\n",
    "bornk <- read_csv(\"csvs/twitterpho/@bornk_tweets.csv\")\n",
    "carlyweeks <- read_csv(\"csvs/twitterpho/@carlyweeks_tweets.csv\")\n",
    "CaulfieldTim <- read_csv(\"csvs/twitterpho/@CaulfieldTim_tweets.csv\")\n",
    "CDCofBC <- read_csv(\"csvs/twitterpho/@CDCofBC_tweets.csv\")\n",
    "cdube_sante <- read_csv(\"csvs/twitterpho/@cdube_sante_tweets.csv\")\n",
    "cfpcceo <- read_csv(\"csvs/twitterpho/@cfpcceo_tweets.csv\")\n",
    "ChiefSciCan <- read_csv(\"csvs/twitterpho/@ChiefSciCan_tweets.csv\")\n",
    "cmcovidtf <- read_csv(\"csvs/twitterpho/@cmcovidtf_tweets.csv\")\n",
    "CMOH_Alberta <- read_csv(\"csvs/twitterpho/@CMOH_Alberta_tweets.csv\")\n",
    "CMOH_NL <- read_csv(\"csvs/twitterpho/@CMOH_NL_tweets.csv\")\n",
    "conquercovid19 <- read_csv(\"csvs/twitterpho/@conquercovid19_tweets.csv\")\n",
    "COVID_19_Canada <- read_csv(\"csvs/twitterpho/@COVID_19_Canada_tweets.csv\")\n",
    "COVIDSciOntario <- read_csv(\"csvs/twitterpho/@COVIDSciOntario_tweets.csv\")\n",
    "CPHO_Canada <- read_csv(\"csvs/twitterpho/@CPHO_Canada_tweets.csv\")\n",
    "ctouzin <- read_csv(\"csvs/twitterpho/@ctouzin_tweets.csv\")\n",
    "CTV_AvisFavaro <- read_csv(\"csvs/twitterpho/@CTV_AvisFavaro_tweets.csv\")\n",
    "DeNovo_Fatima <- read_csv(\"csvs/twitterpho/@DeNovo_Fatima_tweets.csv\")\n",
    "deonandan <- read_csv(\"csvs/twitterpho/@deonandan_tweets.csv\")\n",
    "drfisman <- read_csv(\"csvs/twitterpho/@drfisman_tweets.csv\")\n",
    "Dr_ChrisSimpson <- read_csv(\"csvs/twitterpho/@Dr_ChrisSimpson_tweets.csv\")\n",
    "drgigiosler <- read_csv(\"csvs/twitterpho/@drgigiosler_tweets.csv\")\n",
    "DrKaliBarrett <- read_csv(\"csvs/twitterpho/@DrKaliBarrett_tweets.csv\")\n",
    "drmwarner <- read_csv(\"csvs/twitterpho/@drmwarner_tweets.csv\")\n",
    "drsusanshaw <- read_csv(\"csvs/twitterpho/@drsusanshaw_tweets.csv\")\n",
    "DrVivianS <- read_csv(\"csvs/twitterpho/@DrVivianS_tweets.csv\")\n",
    "egpayne <- read_csv(\"csvs/twitterpho/@egpayne_tweets.csv\")\n",
    "epdevilla <- read_csv(\"csvs/twitterpho/@epdevilla_tweets.csv\")\n",
    "ErnieHudsonPEI <- read_csv(\"csvs/twitterpho/@ErnieHudsonPEI_tweets.csv\")\n",
    "everetthindley <- read_csv(\"csvs/twitterpho/@everetthindley_tweets.csv\")\n",
    "First10EM <- read_csv(\"csvs/twitterpho/@First10EM_tweets.csv\")\n",
    "GermHunterMD <- read_csv(\"csvs/twitterpho/@GermHunterMD_tweets.csv\")\n",
    "glenpyle <- read_csv(\"csvs/twitterpho/@glenpyle_tweets.csv\")\n",
    "heysciencesam <- read_csv(\"csvs/twitterpho/@heysciencesam_tweets.csv\")\n",
    "hgagneTVA <- read_csv(\"csvs/twitterpho/@hgagneTVA_tweets.csv\")\n",
    "IDEpiPhD <- read_csv(\"csvs/twitterpho/@IDEpiPhD_tweets.csv\")\n",
    "imgrund <- read_csv(\"csvs/twitterpho/@imgrund_tweets.csv\")\n",
    "iPreetBrar <- read_csv(\"csvs/twitterpho/@iPreetBrar_tweets.csv\")\n",
    "IrfanDhalla <- read_csv(\"csvs/twitterpho/@IrfanDhalla_tweets.csv\")\n",
    "j_mcelroy <- read_csv(\"csvs/twitterpho/@j_mcelroy_tweets.csv\")\n",
    "jasonfherring <- read_csv(\"csvs/twitterpho/@jasonfherring_tweets.csv\")\n",
    "jfrketich <- read_csv(\"csvs/twitterpho/@jfrketich_tweets.csv\")\n",
    "jkwan_md <- read_csv(\"csvs/twitterpho/@jkwan_md_tweets.csv\")\n",
    "Johnrockdoc <- read_csv(\"csvs/twitterpho/@Johnrockdoc_tweets.csv\")\n",
    "JuliaWongCBC <- read_csv(\"csvs/twitterpho/@JuliaWongCBC_tweets.csv\")\n",
    "juliegreenMLA <- read_csv(\"csvs/twitterpho/@juliegreenMLA_tweets.csv\")\n",
    "Justin_Ling <- read_csv(\"csvs/twitterpho/@Justin_Ling_tweets.csv\")\n",
    "jyangstar <- read_csv(\"csvs/twitterpho/@jyangstar_tweets.csv\")\n",
    "KashPrime <- read_csv(\"csvs/twitterpho/@KashPrime_tweets.csv\")\n",
    "KatharineSmart <- read_csv(\"csvs/twitterpho/@KatharineSmart_tweets.csv\")\n",
    "Kevin_Parent <- read_csv(\"csvs/twitterpho/@Kevin__Parent_tweets.csv\")\n",
    "KindrachuckJason <- read_csv(\"csvs/twitterpho/@KindrachukJason_tweets.csv\")\n",
    "KrishanaSankar <- read_csv(\"csvs/twitterpho/@KrishanaSankar_tweets.csv\")\n",
    "kwadwo777 <- read_csv(\"csvs/twitterpho/@kwadwo777_tweets.csv\")\n",
    "LaurenPelley <- read_csv(\"csvs/twitterpho/@LaurenPelley_tweets.csv\")\n",
    "LisaBarrettID <- read_csv(\"csvs/twitterpho/@LisaBarrettID_tweets.csv\")\n",
    "McGillOSS <- read_csv(\"csvs/twitterpho/@McGillOSS_tweets.csv\")\n",
    "MerrimanPaul <- read_csv(\"csvs/twitterpho/@MerrimanPaul_tweets.csv\")\n",
    "MichaelSchwandt <- read_csv(\"csvs/twitterpho/@MichaelSchwandt_tweets.csv\")\n",
    "MLAStefanson <- read_csv(\"csvs/twitterpho/@MLAStefanson_tweets.csv\")\n",
    "moirawyton <- read_csv(\"csvs/twitterpho/@moirawyton_tweets.csv\")\n",
    "moriartylabs <- read_csv(\"csvs/twitterpho/@moriartylabs_tweets.csv\")\n",
    "MPaiMD <- read_csv(\"csvs/twitterpho/@MPaiMD_tweets.csv\")\n",
    "NaheedD <- read_csv(\"csvs/twitterpho/@NaheedD_tweets.csv\")\n",
    "NathanStall <- read_csv(\"csvs/twitterpho/@NathanStall_tweets.csv\")\n",
    "NightShiftMD <- read_csv(\"csvs/twitterpho/@NightShiftMD_tweets.csv\")\n",
    "NoLore <- read_csv(\"csvs/twitterpho/@NoLore_tweets.csv\")\n",
    "OttawaHealth <- read_csv(\"csvs/twitterpho/@OttawaHealth_tweets.csv\")\n",
    "paimadhu <- read_csv(\"csvs/twitterpho/@paimadhu_tweets.csv\")\n",
    "PattyHajdu <- read_csv(\"csvs/twitterpho/@PattyHajdu_tweets.csv\")\n",
    "picardonhealth <- read_csv(\"csvs/twitterpho/@picardonhealth_tweets.csv\")\n",
    "RicharLisa <- read_csv(\"csvs/twitterpho/@RicharLisa_tweets.csv\")\n",
    "roussin_brent <- read_csv(\"csvs/twitterpho/@roussin_brent_tweets.csv\")\n",
    "sabaeitizaz <- read_csv(\"csvs/twitterpho/@sabaeitizaz_tweets.csv\")\n",
    "sabiVM <- read_csv(\"csvs/twitterpho/@sabiVM_tweets.csv\")\n",
    "SammyG_MD <- read_csv(\"csvs/twitterpho/@SammyG_MD_tweets.csv\")\n",
    "sarperotto <- read_csv(\"csvs/twitterpho/@sarperotto_tweets.csv\")\n",
    "SciChefCan <- read_csv(\"csvs/twitterpho/@SciChefCan_tweets.csv\")\n",
    "sciencemonkeyca <- read_csv(\"csvs/twitterpho/@sciencemonkeyca_tweets.csv\")\n",
    "ScienceUpFirst <- read_csv(\"csvs/twitterpho/@ScienceUpFirst_tweets.csv\")\n",
    "sdbaral <- read_csv(\"csvs/twitterpho/@sdbaral_tweets.csv\")\n",
    "shandro <- read_csv(\"csvs/twitterpho/@shandro_tweets.csv\")\n",
    "SharkawyMD <- read_csv(\"csvs/twitterpho/@SharkawyMD_tweets.csv\")\n",
    "shazmamithani <- read_csv(\"csvs/twitterpho/@shazmamithani_tweets.csv\")\n",
    "ShephardDorothy <- read_csv(\"csvs/twitterpho/@ShephardDorothy_tweets.csv\")\n",
    "srinmurthy99 <- read_csv(\"csvs/twitterpho/@srinmurthy99_tweets.csv\")\n",
    "SteiniBrown <- read_csv(\"csvs/twitterpho/@SteiniBrown_tweets.csv\")\n",
    "theresaboyle <- read_csv(\"csvs/twitterpho/@theresaboyle_tweets.csv\")\n",
    "thisisourshotca <- read_csv(\"csvs/twitterpho/@thisisourshotca_tweets.csv\")\n",
    "TorontoIDDOC <- read_csv(\"csvs/twitterpho/@TorontoIDDOC_tweets.csv\")\n",
    "UbakaOgbogu <- read_csv(\"csvs/twitterpho/@UbakaOgbogu_tweets.csv\")\n",
    "VaxHuntersCan <- read_csv(\"csvs/twitterpho/@VaxHuntersCan_tweets.csv\")\n",
    "VeraEtches <- read_csv(\"csvs/twitterpho/@VeraEtches_tweets.csv\")\n",
    "VikCBC <- read_csv(\"csvs/twitterpho/@VikCBC_tweets.csv\")\n",
    "wickdchiq <- read_csv(\"csvs/twitterpho/@wickdchiq_tweets.csv\")\n",
    "zachchurchhill <- read_csv(\"csvs/twitterpho/@zachchurchill_tweets.csv\")\n",
    "zchangla <- read_csv(\"csvs/twitterpho/@zchagla_tweets.csv\")\n",
    "DrKathleenRoss1 <- read_csv(\"csvs/twitterpho/DrKathleenRoss1_tweets.csv\")\n"
   ]
  },
  {
   "cell_type": "code",
   "execution_count": null,
   "metadata": {
    "vscode": {
     "languageId": "r"
    }
   },
   "outputs": [],
   "source": [
    "# placing all datasets in a list\n",
    "df_list <- list(\n",
    "  adriandix, AlikaMD, AmyGreerKalisz, angie_rasmussen, AnnaBlakney, AntibioticDoc,\n",
    "  asapscience, ASPphysician, atRachelGilmore, binhanv, BirinderNarang, blackdocscanada,\n",
    "  BogochIsaac, bornk, carlyweeks, CaulfieldTim, CDCofBC, cdube_sante, cfpcceo, ChiefSciCan,\n",
    "  cmcovidtf, CMOH_Alberta, CMOH_NL, conquercovid19, COVID_19_Canada, COVIDSciOntario,\n",
    "  CPHO_Canada, ctouzin, CTV_AvisFavaro, DeNovo_Fatima, deonandan, drfisman, Dr_ChrisSimpson,\n",
    "  drgigiosler, DrKaliBarrett, drmwarner, drsusanshaw, DrVivianS, egpayne, epdevilla, ErnieHudsonPEI,\n",
    "  everetthindley, First10EM, GermHunterMD, glenpyle, heysciencesam, hgagneTVA, IDEpiPhD, imgrund,\n",
    "  iPreetBrar, IrfanDhalla, j_mcelroy, jasonfherring, jfrketich, jkwan_md, Johnrockdoc, JuliaWongCBC,\n",
    "  juliegreenMLA, Justin_Ling, jyangstar, KashPrime, KatharineSmart, Kevin_Parent, KindrachuckJason,\n",
    "  KrishanaSankar, kwadwo777, LaurenPelley, LisaBarrettID, McGillOSS, MerrimanPaul, MichaelSchwandt,\n",
    "  MLAStefanson, moirawyton, moriartylabs, MPaiMD, NaheedD, NathanStall, NightShiftMD, NoLore, OttawaHealth,\n",
    "  paimadhu, PattyHajdu, picardonhealth, RicharLisa, roussin_brent, sabaeitizaz, sabiVM, SammyG_MD,\n",
    "  sarperotto, SciChefCan, sciencemonkeyca, ScienceUpFirst, sdbaral, shandro, SharkawyMD, shazmamithani,\n",
    "  ShephardDorothy, srinmurthy99, SteiniBrown, theresaboyle, thisisourshotca, TorontoIDDOC, UbakaOgbogu,\n",
    "  VaxHuntersCan, VeraEtches, VikCBC, wickdchiq, zachchurchhill, zchangla, DrKathleenRoss1\n",
    ")"
   ]
  },
  {
   "cell_type": "code",
   "execution_count": null,
   "metadata": {
    "vscode": {
     "languageId": "r"
    }
   },
   "outputs": [],
   "source": [
    "colnames(VikCBC)"
   ]
  },
  {
   "cell_type": "code",
   "execution_count": null,
   "metadata": {
    "vscode": {
     "languageId": "r"
    }
   },
   "outputs": [],
   "source": [
    "terms <- c(\"fuck\", \"dirty\", \"stupid\", \"idiot\", \"asshole\", \"bastard\", \"nasty\", \"whore\", \"slut\", \"skank\", \"cunt\", \"bitch\", \"motherfucker\", \"go to hell\", \"wimp\", \"coward\", \"moron\", \"traitor\", \"shut up\", \"shut the fuck up\", \"stfu\", \"piece of shit\", \"ignorant\", \"clown\", \"ccpvirus\", \"chinese coronavirus\", \"chinavirus\", \"china virus\", \"fuckchina\", \"nukechina\", \"bombchina\", \"deathtochina\", \"chinesevirus\", \"fake lab wuhan\", \"china weapon\", \"china bioweapon\", \"zionazi\", \"Soros virus\", \"blood libel\", \"nwovirus\", \"new world order\", \"sacrifice children\", \"jew world order\", \"liar\", \"yellow star\", \"israel virus\", \"israelvirus\", \"rothschild covid\", \"kalergi plan\", \"jail\", \"locked up\", \"evil.\", \"is evil\", \"so evil\", \"pure evil\", \"an evil\", \"evil wom\", \"evil man\", \"evil witch\", \"is evil\", \"are evil\", \"that evil\", \"very evil\", \"tyrant\", \"tyranny\", \"dictator\", \"tv doctor\", \"twitter doctor\", \"murder\", \"murderer\", \"eugenic\", \"satan\", \"Nazi\", \"non-human\", \"sterile\", \"slave\", \"crooked\", \"corrupt\", \"shill\", \"liar\", \"lying\", \"killer\", \"fraud\", \"big pharma\", \"pharma puppet\", \"Nuremberg\", \"crimes against humanity\", \"genocide\", \"child abuse\", \"covid hoax\", \"covid fake\", \"virus hoax\", \"gates virus\", \"bioweapon\", \"secret elite\", \"depopulation\", \"save our children\", \"scamdemic\", \"plandemic\")\n",
    "terms <- paste0(\" \", terms)\n",
    "pattern <- paste(terms, collapse = \"|\")\n",
    "\n",
    "# Function that finds harassment terms and calculates proportion \n",
    "tox_check <- function(df) {\n",
    "  total_entries <- nrow(df) #getting total n of entries in each df in order to calculate proportion\n",
    "  \n",
    "  # Selecting the text column and create the 'negative' column: value of 0 if does not contain an entry in the list, of terms, value of 1 if it does.\n",
    "  df <- df |>\n",
    "    filter(!startsWith(text, \"RT\")) |>\n",
    "    select(text, author_id)|>\n",
    "    mutate(negative = as.integer(grepl(pattern, text, ignore.case = TRUE)))|>\n",
    "    filter(negative==1)|>\n",
    "    select(author_id, negative)|>\n",
    "    group_by(author_id)|>\n",
    "    summarize(negative_count = sum(negative))|>\n",
    "    arrange(desc(negative_count)) \n",
    "  return(df)\n",
    "}\n",
    "\n",
    "# Applying function defined above using lapply\n",
    "toxicity_scores <- lapply(df_list, tox_check)"
   ]
  },
  {
   "cell_type": "code",
   "execution_count": null,
   "metadata": {
    "vscode": {
     "languageId": "r"
    }
   },
   "outputs": [],
   "source": [
    "\n",
    "# Assign the names of the datasets to the transformed list\n",
    "names(toxicity_scores) <- c(\"adriandix\", \"AlikaMD\", \"AmyGreerKalisz\", \"angie_rasmussen\", \"AnnaBlakney\", \n",
    "                             \"AntibioticDoc\", \"asapscience\", \"ASPphysician\", \"atRachelGilmore\", \"binhanv\", \n",
    "                             \"BirinderNarang\", \"blackdocscanada\", \"BogochIsaac\", \"bornk\", \"carlyweeks\", \n",
    "                             \"CaulfieldTim\", \"CDCofBC\", \"cdube_sante\", \"cfpcceo\", \"ChiefSciCan\", \"cmcovidtf\", \n",
    "                             \"CMOH_Alberta\", \"CMOH_NL\", \"conquercovid19\", \"COVID_19_Canada\", \"COVIDSciOntario\", \n",
    "                             \"CPHO_Canada\", \"ctouzin\", \"CTV_AvisFavaro\", \"DeNovo_Fatima\", \"deonandan\", \"drfisman\", \n",
    "                             \"Dr_ChrisSimpson\", \"drgigiosler\", \"DrKaliBarrett\", \"drmwarner\", \"drsusanshaw\", \n",
    "                             \"DrVivianS\", \"egpayne\", \"epdevilla\", \"ErnieHudsonPEI\", \"everetthindley\", \"First10EM\", \n",
    "                             \"GermHunterMD\", \"glenpyle\", \"heysciencesam\", \"hgagneTVA\", \"IDEpiPhD\", \"imgrund\", \n",
    "                             \"iPreetBrar\", \"IrfanDhalla\", \"j_mcelroy\", \"jasonfherring\", \"jfrketich\", \"jkwan_md\", \n",
    "                             \"Johnrockdoc\", \"JuliaWongCBC\", \"juliegreenMLA\", \"Justin_Ling\", \"jyangstar\", \"KashPrime\", \n",
    "                             \"KatharineSmart\", \"Kevin_Parent\", \"KindrachuckJason\", \"KrishanaSankar\", \"kwadwo777\", \n",
    "                             \"LaurenPelley\", \"LisaBarrettID\", \"McGillOSS\", \"MerrimanPaul\", \"MichaelSchwandt\", \n",
    "                             \"MLAStefanson\", \"moirawyton\", \"moriartylabs\", \"MPaiMD\", \"NaheedD\", \"NathanStall\", \n",
    "                             \"NightShiftMD\", \"NoLore\", \"OttawaHealth\", \"paimadhu\", \"PattyHajdu\", \"picardonhealth\", \n",
    "                             \"RicharLisa\", \"roussin_brent\", \"sabaeitizaz\", \"sabiVM\", \"SammyG_MD\", \"sarperotto\", \n",
    "                             \"SciChefCan\", \"sciencemonkeyca\", \"ScienceUpFirst\", \"sdbaral\", \"shandro\", \"SharkawyMD\", \n",
    "                             \"shazmamithani\", \"ShephardDorothy\", \"srinmurthy99\", \"SteiniBrown\", \"theresaboyle\", \n",
    "                             \"thisisourshotca\", \"TorontoIDDOC\", \"UbakaOgbogu\", \"VaxHuntersCan\", \"VeraEtches\", \n",
    "                             \"VikCBC\", \"wickdchiq\", \"zachchurchhill\", \"zchangla\", \"DrKathleenRoss1\")\n",
    "\n",
    "# Use list2env to assign each element of transformed_list to a variable in the global environment\n",
    "list2env(toxicity_scores, envir = .GlobalEnv)\n"
   ]
  },
  {
   "cell_type": "code",
   "execution_count": null,
   "metadata": {
    "vscode": {
     "languageId": "r"
    }
   },
   "outputs": [],
   "source": [
    "options(scipen=999)"
   ]
  },
  {
   "cell_type": "code",
   "execution_count": null,
   "metadata": {
    "vscode": {
     "languageId": "r"
    }
   },
   "outputs": [],
   "source": [
    "all_users_NFRF <-  bind_rows(adriandix, AlikaMD, AmyGreerKalisz, angie_rasmussen, AnnaBlakney, AntibioticDoc,\n",
    "  asapscience, ASPphysician, atRachelGilmore, binhanv, BirinderNarang, blackdocscanada,\n",
    "  BogochIsaac, bornk, carlyweeks, CaulfieldTim, CDCofBC, cdube_sante, cfpcceo, ChiefSciCan,\n",
    "  cmcovidtf, CMOH_Alberta, CMOH_NL, conquercovid19, COVID_19_Canada, COVIDSciOntario,\n",
    "  CPHO_Canada, ctouzin, CTV_AvisFavaro, DeNovo_Fatima, deonandan, drfisman, Dr_ChrisSimpson,\n",
    "  drgigiosler, DrKaliBarrett, drmwarner, drsusanshaw, DrVivianS, egpayne, epdevilla, ErnieHudsonPEI,\n",
    "  everetthindley, First10EM, GermHunterMD, glenpyle, heysciencesam, hgagneTVA, IDEpiPhD, imgrund,\n",
    "  iPreetBrar, IrfanDhalla, j_mcelroy, jasonfherring, jfrketich, jkwan_md, Johnrockdoc, JuliaWongCBC,\n",
    "  juliegreenMLA, Justin_Ling, jyangstar, KashPrime, KatharineSmart, Kevin_Parent, KindrachuckJason,\n",
    "  KrishanaSankar, kwadwo777, LaurenPelley, LisaBarrettID, McGillOSS, MerrimanPaul, MichaelSchwandt,\n",
    "  MLAStefanson, moirawyton, moriartylabs, MPaiMD, NaheedD, NathanStall, NightShiftMD, NoLore, OttawaHealth,\n",
    "  paimadhu, PattyHajdu, picardonhealth, RicharLisa, roussin_brent, sabaeitizaz, sabiVM, SammyG_MD,\n",
    "  sarperotto, SciChefCan, sciencemonkeyca, ScienceUpFirst, sdbaral, shandro, SharkawyMD, shazmamithani,\n",
    "  ShephardDorothy, srinmurthy99, SteiniBrown, theresaboyle, thisisourshotca, TorontoIDDOC, UbakaOgbogu,\n",
    "  VaxHuntersCan, VeraEtches, VikCBC, wickdchiq, zachchurchhill, zchangla, DrKathleenRoss1)\n",
    "\n"
   ]
  },
  {
   "cell_type": "code",
   "execution_count": null,
   "metadata": {
    "vscode": {
     "languageId": "r"
    }
   },
   "outputs": [],
   "source": [
    "all_users_NFRF <- all_users_NFRF |>\n",
    "arrange(desc(negative_count))|>\n",
    "group_by(author_id)|>\n",
    "summarise(negative_count = sum(negative_count))|>\n",
    "arrange(desc(negative_count))\n",
    "all_users_NFRF\n",
    "\n",
    "write_csv(all_users_NFRF, \"toxic_users_NFRF.csv\")"
   ]
  },
  {
   "cell_type": "code",
   "execution_count": 122,
   "metadata": {
    "vscode": {
     "languageId": "r"
    }
   },
   "outputs": [
    {
     "name": "stderr",
     "output_type": "stream",
     "text": [
      "\u001b[1m\u001b[22mSaving 6.67 x 6.67 in image\n"
     ]
    }
   ],
   "source": [
    "all_users_NFRF_graphing <- all_users_NFRF|>\n",
    "head(50)|>\n",
    "mutate(author_id = as.character(author_id))|>\n",
    "arrange(desc(negative_count))|>\n",
    "mutate(author_id = factor(author_id, levels = unique(author_id)))|>\n",
    "mutate(color = ifelse(author_id == \"386007819\", \"red\", \"#171724\"))|>\n",
    "mutate(index = row_number())\n",
    "\n",
    "graph <- all_users_NFRF_graphing |>\n",
    "  ggplot(aes(x = index, y = negative_count)) +\n",
    "  geom_line(color = \"#0000ff\", size=1, alpha=0.4) +\n",
    "  geom_point(aes(color = color), size = 2) +\n",
    "  scale_color_identity()+\n",
    "  labs(y=\"amount of hateful tweets\", subtitle=\"Taken from NFRF dataset and dictionary\",x=\"author ids\")+\n",
    "  ggtitle(\"Users with most hateful tweets\")+\n",
    "  annotate(\"text\", x = 18, y = 1375, label = \"user_id: 386007819 has posted 1375 hateful tweets\", color = \"red\", size = 4)+\n",
    "  annotate(\"text\", x = 8, y = 450, label = \"339 hateful tweets\", color = \"#000000\", size = 4)+\n",
    "  theme_bw()+\n",
    "  theme(\n",
    "    axis.text.x = element_blank(),\n",
    "    axis.ticks.x = element_blank()\n",
    "  )\n",
    "\n",
    "\n",
    "ggsave(\"hate_users_NFRF_graph.png\")"
   ]
  }
 ],
 "metadata": {
  "kernelspec": {
   "display_name": "R",
   "language": "R",
   "name": "ir"
  },
  "language_info": {
   "codemirror_mode": "r",
   "file_extension": ".r",
   "mimetype": "text/x-r-source",
   "name": "R",
   "pygments_lexer": "r",
   "version": "4.1.3"
  }
 },
 "nbformat": 4,
 "nbformat_minor": 2
}
