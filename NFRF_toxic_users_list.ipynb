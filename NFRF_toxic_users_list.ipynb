{
 "cells": [
  {
   "cell_type": "code",
   "execution_count": null,
   "metadata": {
    "vscode": {
     "languageId": "r"
    }
   },
   "outputs": [],
   "source": [
    "library(tidyverse)\n",
    "library(dplyr)\n",
    "\n",
    "\n",
    "adriandix <- read_csv(\"csvs/twitterpho/@adriandix_tweets.csv\")\n",
    "AlikaMD <- read_csv(\"csvs/twitterpho/@AlikaMD_tweets.csv\")\n",
    "AmyGreerKalisz <- read_csv(\"csvs/twitterpho/@AmyGreerKalisz_tweets.csv\")\n",
    "angie_rasmussen <- read_csv(\"csvs/twitterpho/@angie_rasmussen_tweets.csv\")\n",
    "AnnaBlakney <- read_csv(\"csvs/twitterpho/@AnnaBlakney_tweets.csv\")\n",
    "AntibioticDoc <- read_csv(\"csvs/twitterpho/@AntibioticDoc_tweets.csv\")\n",
    "asapscience <- read_csv(\"csvs/twitterpho/@asapscience_tweets.csv\")\n",
    "ASPphysician <- read_csv(\"csvs/twitterpho/@ASPphysician_tweets.csv\")\n",
    "atRachelGilmore <- read_csv(\"csvs/twitterpho/@atRachelGilmore_tweets.csv\")\n",
    "binhanv <- read_csv(\"csvs/twitterpho/@binhanv_tweets.csv\")\n",
    "BirinderNarang <- read_csv(\"csvs/twitterpho/@BirinderNarang_tweets.csv\")\n",
    "blackdocscanada <- read_csv(\"csvs/twitterpho/@blackdocscanada_tweets.csv\")\n",
    "BogochIsaac <- read_csv(\"csvs/twitterpho/@BogochIsaac_tweets.csv\")\n",
    "bornk <- read_csv(\"csvs/twitterpho/@bornk_tweets.csv\")\n",
    "carlyweeks <- read_csv(\"csvs/twitterpho/@carlyweeks_tweets.csv\")\n",
    "CaulfieldTim <- read_csv(\"csvs/twitterpho/@CaulfieldTim_tweets.csv\")\n",
    "CDCofBC <- read_csv(\"csvs/twitterpho/@CDCofBC_tweets.csv\")\n",
    "cdube_sante <- read_csv(\"csvs/twitterpho/@cdube_sante_tweets.csv\")\n",
    "cfpcceo <- read_csv(\"csvs/twitterpho/@cfpcceo_tweets.csv\")\n",
    "ChiefSciCan <- read_csv(\"csvs/twitterpho/@ChiefSciCan_tweets.csv\")\n",
    "cmcovidtf <- read_csv(\"csvs/twitterpho/@cmcovidtf_tweets.csv\")\n",
    "CMOH_Alberta <- read_csv(\"csvs/twitterpho/@CMOH_Alberta_tweets.csv\")\n",
    "CMOH_NL <- read_csv(\"csvs/twitterpho/@CMOH_NL_tweets.csv\")\n",
    "conquercovid19 <- read_csv(\"csvs/twitterpho/@conquercovid19_tweets.csv\")\n",
    "COVID_19_Canada <- read_csv(\"csvs/twitterpho/@COVID_19_Canada_tweets.csv\")\n",
    "COVIDSciOntario <- read_csv(\"csvs/twitterpho/@COVIDSciOntario_tweets.csv\")\n",
    "CPHO_Canada <- read_csv(\"csvs/twitterpho/@CPHO_Canada_tweets.csv\")\n",
    "ctouzin <- read_csv(\"csvs/twitterpho/@ctouzin_tweets.csv\")\n",
    "CTV_AvisFavaro <- read_csv(\"csvs/twitterpho/@CTV_AvisFavaro_tweets.csv\")\n",
    "DeNovo_Fatima <- read_csv(\"csvs/twitterpho/@DeNovo_Fatima_tweets.csv\")\n",
    "deonandan <- read_csv(\"csvs/twitterpho/@deonandan_tweets.csv\")\n",
    "drfisman <- read_csv(\"csvs/twitterpho/@drfisman_tweets.csv\")\n",
    "Dr_ChrisSimpson <- read_csv(\"csvs/twitterpho/@Dr_ChrisSimpson_tweets.csv\")\n",
    "drgigiosler <- read_csv(\"csvs/twitterpho/@drgigiosler_tweets.csv\")\n",
    "DrKaliBarrett <- read_csv(\"csvs/twitterpho/@DrKaliBarrett_tweets.csv\")\n",
    "drmwarner <- read_csv(\"csvs/twitterpho/@drmwarner_tweets.csv\")\n",
    "drsusanshaw <- read_csv(\"csvs/twitterpho/@drsusanshaw_tweets.csv\")\n",
    "DrVivianS <- read_csv(\"csvs/twitterpho/@DrVivianS_tweets.csv\")\n",
    "egpayne <- read_csv(\"csvs/twitterpho/@egpayne_tweets.csv\")\n",
    "epdevilla <- read_csv(\"csvs/twitterpho/@epdevilla_tweets.csv\")\n",
    "ErnieHudsonPEI <- read_csv(\"csvs/twitterpho/@ErnieHudsonPEI_tweets.csv\")\n",
    "everetthindley <- read_csv(\"csvs/twitterpho/@everetthindley_tweets.csv\")\n",
    "First10EM <- read_csv(\"csvs/twitterpho/@First10EM_tweets.csv\")\n",
    "GermHunterMD <- read_csv(\"csvs/twitterpho/@GermHunterMD_tweets.csv\")\n",
    "glenpyle <- read_csv(\"csvs/twitterpho/@glenpyle_tweets.csv\")\n",
    "heysciencesam <- read_csv(\"csvs/twitterpho/@heysciencesam_tweets.csv\")\n",
    "hgagneTVA <- read_csv(\"csvs/twitterpho/@hgagneTVA_tweets.csv\")\n",
    "IDEpiPhD <- read_csv(\"csvs/twitterpho/@IDEpiPhD_tweets.csv\")\n",
    "imgrund <- read_csv(\"csvs/twitterpho/@imgrund_tweets.csv\")\n",
    "iPreetBrar <- read_csv(\"csvs/twitterpho/@iPreetBrar_tweets.csv\")\n",
    "IrfanDhalla <- read_csv(\"csvs/twitterpho/@IrfanDhalla_tweets.csv\")\n",
    "j_mcelroy <- read_csv(\"csvs/twitterpho/@j_mcelroy_tweets.csv\")\n",
    "jasonfherring <- read_csv(\"csvs/twitterpho/@jasonfherring_tweets.csv\")\n",
    "jfrketich <- read_csv(\"csvs/twitterpho/@jfrketich_tweets.csv\")\n",
    "jkwan_md <- read_csv(\"csvs/twitterpho/@jkwan_md_tweets.csv\")\n",
    "Johnrockdoc <- read_csv(\"csvs/twitterpho/@Johnrockdoc_tweets.csv\")\n",
    "JuliaWongCBC <- read_csv(\"csvs/twitterpho/@JuliaWongCBC_tweets.csv\")\n",
    "juliegreenMLA <- read_csv(\"csvs/twitterpho/@juliegreenMLA_tweets.csv\")\n",
    "Justin_Ling <- read_csv(\"csvs/twitterpho/@Justin_Ling_tweets.csv\")\n",
    "jyangstar <- read_csv(\"csvs/twitterpho/@jyangstar_tweets.csv\")\n",
    "KashPrime <- read_csv(\"csvs/twitterpho/@KashPrime_tweets.csv\")\n",
    "KatharineSmart <- read_csv(\"csvs/twitterpho/@KatharineSmart_tweets.csv\")\n",
    "Kevin_Parent <- read_csv(\"csvs/twitterpho/@Kevin__Parent_tweets.csv\")\n",
    "KindrachuckJason <- read_csv(\"csvs/twitterpho/@KindrachukJason_tweets.csv\")\n",
    "KrishanaSankar <- read_csv(\"csvs/twitterpho/@KrishanaSankar_tweets.csv\")\n",
    "kwadwo777 <- read_csv(\"csvs/twitterpho/@kwadwo777_tweets.csv\")\n",
    "LaurenPelley <- read_csv(\"csvs/twitterpho/@LaurenPelley_tweets.csv\")\n",
    "LisaBarrettID <- read_csv(\"csvs/twitterpho/@LisaBarrettID_tweets.csv\")\n",
    "McGillOSS <- read_csv(\"csvs/twitterpho/@McGillOSS_tweets.csv\")\n",
    "MerrimanPaul <- read_csv(\"csvs/twitterpho/@MerrimanPaul_tweets.csv\")\n",
    "MichaelSchwandt <- read_csv(\"csvs/twitterpho/@MichaelSchwandt_tweets.csv\")\n",
    "MLAStefanson <- read_csv(\"csvs/twitterpho/@MLAStefanson_tweets.csv\")\n",
    "moirawyton <- read_csv(\"csvs/twitterpho/@moirawyton_tweets.csv\")\n",
    "moriartylabs <- read_csv(\"csvs/twitterpho/@moriartylabs_tweets.csv\")\n",
    "MPaiMD <- read_csv(\"csvs/twitterpho/@MPaiMD_tweets.csv\")\n",
    "NaheedD <- read_csv(\"csvs/twitterpho/@NaheedD_tweets.csv\")\n",
    "NathanStall <- read_csv(\"csvs/twitterpho/@NathanStall_tweets.csv\")\n",
    "NightShiftMD <- read_csv(\"csvs/twitterpho/@NightShiftMD_tweets.csv\")\n",
    "NoLore <- read_csv(\"csvs/twitterpho/@NoLore_tweets.csv\")\n",
    "OttawaHealth <- read_csv(\"csvs/twitterpho/@OttawaHealth_tweets.csv\")\n",
    "paimadhu <- read_csv(\"csvs/twitterpho/@paimadhu_tweets.csv\")\n",
    "PattyHajdu <- read_csv(\"csvs/twitterpho/@PattyHajdu_tweets.csv\")\n",
    "picardonhealth <- read_csv(\"csvs/twitterpho/@picardonhealth_tweets.csv\")\n",
    "RicharLisa <- read_csv(\"csvs/twitterpho/@RicharLisa_tweets.csv\")\n",
    "roussin_brent <- read_csv(\"csvs/twitterpho/@roussin_brent_tweets.csv\")\n",
    "sabaeitizaz <- read_csv(\"csvs/twitterpho/@sabaeitizaz_tweets.csv\")\n",
    "sabiVM <- read_csv(\"csvs/twitterpho/@sabiVM_tweets.csv\")\n",
    "SammyG_MD <- read_csv(\"csvs/twitterpho/@SammyG_MD_tweets.csv\")\n",
    "sarperotto <- read_csv(\"csvs/twitterpho/@sarperotto_tweets.csv\")\n",
    "SciChefCan <- read_csv(\"csvs/twitterpho/@SciChefCan_tweets.csv\")\n",
    "sciencemonkeyca <- read_csv(\"csvs/twitterpho/@sciencemonkeyca_tweets.csv\")\n",
    "ScienceUpFirst <- read_csv(\"csvs/twitterpho/@ScienceUpFirst_tweets.csv\")\n",
    "sdbaral <- read_csv(\"csvs/twitterpho/@sdbaral_tweets.csv\")\n",
    "shandro <- read_csv(\"csvs/twitterpho/@shandro_tweets.csv\")\n",
    "SharkawyMD <- read_csv(\"csvs/twitterpho/@SharkawyMD_tweets.csv\")\n",
    "shazmamithani <- read_csv(\"csvs/twitterpho/@shazmamithani_tweets.csv\")\n",
    "ShephardDorothy <- read_csv(\"csvs/twitterpho/@ShephardDorothy_tweets.csv\")\n",
    "srinmurthy99 <- read_csv(\"csvs/twitterpho/@srinmurthy99_tweets.csv\")\n",
    "SteiniBrown <- read_csv(\"csvs/twitterpho/@SteiniBrown_tweets.csv\")\n",
    "theresaboyle <- read_csv(\"csvs/twitterpho/@theresaboyle_tweets.csv\")\n",
    "thisisourshotca <- read_csv(\"csvs/twitterpho/@thisisourshotca_tweets.csv\")\n",
    "TorontoIDDOC <- read_csv(\"csvs/twitterpho/@TorontoIDDOC_tweets.csv\")\n",
    "UbakaOgbogu <- read_csv(\"csvs/twitterpho/@UbakaOgbogu_tweets.csv\")\n",
    "VaxHuntersCan <- read_csv(\"csvs/twitterpho/@VaxHuntersCan_tweets.csv\")\n",
    "VeraEtches <- read_csv(\"csvs/twitterpho/@VeraEtches_tweets.csv\")\n",
    "VikCBC <- read_csv(\"csvs/twitterpho/@VikCBC_tweets.csv\")\n",
    "wickdchiq <- read_csv(\"csvs/twitterpho/@wickdchiq_tweets.csv\")\n",
    "zachchurchhill <- read_csv(\"csvs/twitterpho/@zachchurchill_tweets.csv\")\n",
    "zchangla <- read_csv(\"csvs/twitterpho/@zchagla_tweets.csv\")\n",
    "DrKathleenRoss1 <- read_csv(\"csvs/twitterpho/DrKathleenRoss1_tweets.csv\")\n"
   ]
  },
  {
   "cell_type": "code",
   "execution_count": null,
   "metadata": {
    "vscode": {
     "languageId": "r"
    }
   },
   "outputs": [],
   "source": [
    "# placing all datasets in a list\n",
    "df_list <- list(\n",
    "  adriandix, AlikaMD, AmyGreerKalisz, angie_rasmussen, AnnaBlakney, AntibioticDoc,\n",
    "  asapscience, ASPphysician, atRachelGilmore, binhanv, BirinderNarang, blackdocscanada,\n",
    "  BogochIsaac, bornk, carlyweeks, CaulfieldTim, CDCofBC, cdube_sante, cfpcceo, ChiefSciCan,\n",
    "  cmcovidtf, CMOH_Alberta, CMOH_NL, conquercovid19, COVID_19_Canada, COVIDSciOntario,\n",
    "  CPHO_Canada, ctouzin, CTV_AvisFavaro, DeNovo_Fatima, deonandan, drfisman, Dr_ChrisSimpson,\n",
    "  drgigiosler, DrKaliBarrett, drmwarner, drsusanshaw, DrVivianS, egpayne, epdevilla, ErnieHudsonPEI,\n",
    "  everetthindley, First10EM, GermHunterMD, glenpyle, heysciencesam, hgagneTVA, IDEpiPhD, imgrund,\n",
    "  iPreetBrar, IrfanDhalla, j_mcelroy, jasonfherring, jfrketich, jkwan_md, Johnrockdoc, JuliaWongCBC,\n",
    "  juliegreenMLA, Justin_Ling, jyangstar, KashPrime, KatharineSmart, Kevin_Parent, KindrachuckJason,\n",
    "  KrishanaSankar, kwadwo777, LaurenPelley, LisaBarrettID, McGillOSS, MerrimanPaul, MichaelSchwandt,\n",
    "  MLAStefanson, moirawyton, moriartylabs, MPaiMD, NaheedD, NathanStall, NightShiftMD, NoLore, OttawaHealth,\n",
    "  paimadhu, PattyHajdu, picardonhealth, RicharLisa, roussin_brent, sabaeitizaz, sabiVM, SammyG_MD,\n",
    "  sarperotto, SciChefCan, sciencemonkeyca, ScienceUpFirst, sdbaral, shandro, SharkawyMD, shazmamithani,\n",
    "  ShephardDorothy, srinmurthy99, SteiniBrown, theresaboyle, thisisourshotca, TorontoIDDOC, UbakaOgbogu,\n",
    "  VaxHuntersCan, VeraEtches, VikCBC, wickdchiq, zachchurchhill, zchangla, DrKathleenRoss1\n",
    ")"
   ]
  },
  {
   "cell_type": "code",
   "execution_count": null,
   "metadata": {
    "vscode": {
     "languageId": "r"
    }
   },
   "outputs": [],
   "source": [
    "colnames(VikCBC)"
   ]
  },
  {
   "cell_type": "code",
   "execution_count": null,
   "metadata": {
    "vscode": {
     "languageId": "r"
    }
   },
   "outputs": [],
   "source": [
    "terms <- c(\"fuck\", \"dirty\", \"stupid\", \"idiot\", \"asshole\", \"bastard\", \"nasty\", \"whore\", \"slut\", \"skank\", \"cunt\", \"bitch\", \"motherfucker\", \"go to hell\", \"wimp\", \"coward\", \"moron\", \"traitor\", \"shut up\", \"shut the fuck up\", \"stfu\", \"piece of shit\", \"ignorant\", \"clown\", \"ccpvirus\", \"chinese coronavirus\", \"chinavirus\", \"china virus\", \"fuckchina\", \"nukechina\", \"bombchina\", \"deathtochina\", \"chinesevirus\", \"fake lab wuhan\", \"china weapon\", \"china bioweapon\", \"zionazi\", \"Soros virus\", \"blood libel\", \"nwovirus\", \"new world order\", \"sacrifice children\", \"jew world order\", \"liar\", \"yellow star\", \"israel virus\", \"israelvirus\", \"rothschild covid\", \"kalergi plan\", \"jail\", \"locked up\", \"evil.\", \"is evil\", \"so evil\", \"pure evil\", \"an evil\", \"evil wom\", \"evil man\", \"evil witch\", \"is evil\", \"are evil\", \"that evil\", \"very evil\", \"tyrant\", \"tyranny\", \"dictator\", \"tv doctor\", \"twitter doctor\", \"murder\", \"murderer\", \"eugenic\", \"satan\", \"Nazi\", \"non-human\", \"sterile\", \"slave\", \"crooked\", \"corrupt\", \"shill\", \"liar\", \"lying\", \"killer\", \"fraud\", \"big pharma\", \"pharma puppet\", \"Nuremberg\", \"crimes against humanity\", \"genocide\", \"child abuse\", \"covid hoax\", \"covid fake\", \"virus hoax\", \"gates virus\", \"bioweapon\", \"secret elite\", \"depopulation\", \"save our children\", \"scamdemic\", \"plandemic\")\n",
    "terms <- paste0(\" \", terms)\n",
    "pattern <- paste(terms, collapse = \"|\")\n",
    "\n",
    "# Function that finds harassment terms and calculates proportion \n",
    "tox_check <- function(df) {\n",
    "  total_entries <- nrow(df) #getting total n of entries in each df in order to calculate proportion\n",
    "  \n",
    "  # Selecting the text column and create the 'negative' column: value of 0 if does not contain an entry in the list, of terms, value of 1 if it does.\n",
    "  df <- df |>\n",
    "    filter(!startsWith(text, \"RT\")) |>\n",
    "    select(text, author_id, id, public_metrics_like_count, public_metrics_impression_count)|>\n",
    "    mutate(negative = as.integer(grepl(pattern, text, ignore.case = TRUE)))|>\n",
    "    filter(negative==1)\n",
    "  return(df)\n",
    "}\n",
    "\n",
    "# Applying function defined above using lapply\n",
    "toxicity_scores <- lapply(df_list, tox_check)"
   ]
  },
  {
   "cell_type": "code",
   "execution_count": null,
   "metadata": {
    "vscode": {
     "languageId": "r"
    }
   },
   "outputs": [],
   "source": []
  },
  {
   "cell_type": "code",
   "execution_count": null,
   "metadata": {
    "vscode": {
     "languageId": "r"
    }
   },
   "outputs": [],
   "source": [
    "\n",
    "# Assign the names of the datasets to the transformed list\n",
    "names(toxicity_scores) <- c(\"adriandix\", \"AlikaMD\", \"AmyGreerKalisz\", \"angie_rasmussen\", \"AnnaBlakney\", \n",
    "                             \"AntibioticDoc\", \"asapscience\", \"ASPphysician\", \"atRachelGilmore\", \"binhanv\", \n",
    "                             \"BirinderNarang\", \"blackdocscanada\", \"BogochIsaac\", \"bornk\", \"carlyweeks\", \n",
    "                             \"CaulfieldTim\", \"CDCofBC\", \"cdube_sante\", \"cfpcceo\", \"ChiefSciCan\", \"cmcovidtf\", \n",
    "                             \"CMOH_Alberta\", \"CMOH_NL\", \"conquercovid19\", \"COVID_19_Canada\", \"COVIDSciOntario\", \n",
    "                             \"CPHO_Canada\", \"ctouzin\", \"CTV_AvisFavaro\", \"DeNovo_Fatima\", \"deonandan\", \"drfisman\", \n",
    "                             \"Dr_ChrisSimpson\", \"drgigiosler\", \"DrKaliBarrett\", \"drmwarner\", \"drsusanshaw\", \n",
    "                             \"DrVivianS\", \"egpayne\", \"epdevilla\", \"ErnieHudsonPEI\", \"everetthindley\", \"First10EM\", \n",
    "                             \"GermHunterMD\", \"glenpyle\", \"heysciencesam\", \"hgagneTVA\", \"IDEpiPhD\", \"imgrund\", \n",
    "                             \"iPreetBrar\", \"IrfanDhalla\", \"j_mcelroy\", \"jasonfherring\", \"jfrketich\", \"jkwan_md\", \n",
    "                             \"Johnrockdoc\", \"JuliaWongCBC\", \"juliegreenMLA\", \"Justin_Ling\", \"jyangstar\", \"KashPrime\", \n",
    "                             \"KatharineSmart\", \"Kevin_Parent\", \"KindrachuckJason\", \"KrishanaSankar\", \"kwadwo777\", \n",
    "                             \"LaurenPelley\", \"LisaBarrettID\", \"McGillOSS\", \"MerrimanPaul\", \"MichaelSchwandt\", \n",
    "                             \"MLAStefanson\", \"moirawyton\", \"moriartylabs\", \"MPaiMD\", \"NaheedD\", \"NathanStall\", \n",
    "                             \"NightShiftMD\", \"NoLore\", \"OttawaHealth\", \"paimadhu\", \"PattyHajdu\", \"picardonhealth\", \n",
    "                             \"RicharLisa\", \"roussin_brent\", \"sabaeitizaz\", \"sabiVM\", \"SammyG_MD\", \"sarperotto\", \n",
    "                             \"SciChefCan\", \"sciencemonkeyca\", \"ScienceUpFirst\", \"sdbaral\", \"shandro\", \"SharkawyMD\", \n",
    "                             \"shazmamithani\", \"ShephardDorothy\", \"srinmurthy99\", \"SteiniBrown\", \"theresaboyle\", \n",
    "                             \"thisisourshotca\", \"TorontoIDDOC\", \"UbakaOgbogu\", \"VaxHuntersCan\", \"VeraEtches\", \n",
    "                             \"VikCBC\", \"wickdchiq\", \"zachchurchhill\", \"zchangla\", \"DrKathleenRoss1\")\n",
    "\n",
    "# Use list2env to assign each element of transformed_list to a variable in the global environment\n",
    "list2env(toxicity_scores, envir = .GlobalEnv)\n"
   ]
  },
  {
   "cell_type": "code",
   "execution_count": null,
   "metadata": {
    "vscode": {
     "languageId": "r"
    }
   },
   "outputs": [],
   "source": [
    "options(scipen=999)"
   ]
  },
  {
   "cell_type": "code",
   "execution_count": 61,
   "metadata": {
    "vscode": {
     "languageId": "r"
    }
   },
   "outputs": [],
   "source": [
    "all_users_NFRF <-  bind_rows(adriandix, AlikaMD, AmyGreerKalisz, angie_rasmussen, AnnaBlakney, AntibioticDoc,\n",
    "  asapscience, ASPphysician, atRachelGilmore, binhanv, BirinderNarang, blackdocscanada,\n",
    "  BogochIsaac, bornk, carlyweeks, CaulfieldTim, CDCofBC, cdube_sante, cfpcceo, ChiefSciCan,\n",
    "  cmcovidtf, CMOH_Alberta, CMOH_NL, conquercovid19, COVID_19_Canada, COVIDSciOntario,\n",
    "  CPHO_Canada, ctouzin, CTV_AvisFavaro, DeNovo_Fatima, deonandan, drfisman, Dr_ChrisSimpson,\n",
    "  drgigiosler, DrKaliBarrett, drmwarner, drsusanshaw, DrVivianS, egpayne, epdevilla, ErnieHudsonPEI,\n",
    "  everetthindley, First10EM, GermHunterMD, glenpyle, heysciencesam, hgagneTVA, IDEpiPhD, imgrund,\n",
    "  iPreetBrar, IrfanDhalla, j_mcelroy, jasonfherring, jfrketich, jkwan_md, Johnrockdoc, JuliaWongCBC,\n",
    "  juliegreenMLA, Justin_Ling, jyangstar, KashPrime, KatharineSmart, Kevin_Parent, KindrachuckJason,\n",
    "  KrishanaSankar, kwadwo777, LaurenPelley, LisaBarrettID, McGillOSS, MerrimanPaul, MichaelSchwandt,\n",
    "  MLAStefanson, moirawyton, moriartylabs, MPaiMD, NaheedD, NathanStall, NightShiftMD, NoLore, OttawaHealth,\n",
    "  paimadhu, PattyHajdu, picardonhealth, RicharLisa, roussin_brent, sabaeitizaz, sabiVM, SammyG_MD,\n",
    "  sarperotto, SciChefCan, sciencemonkeyca, ScienceUpFirst, sdbaral, shandro, SharkawyMD, shazmamithani,\n",
    "  ShephardDorothy, srinmurthy99, SteiniBrown, theresaboyle, thisisourshotca, TorontoIDDOC, UbakaOgbogu,\n",
    "  VaxHuntersCan, VeraEtches, VikCBC, wickdchiq, zachchurchhill, zchangla, DrKathleenRoss1)\n",
    "\n"
   ]
  },
  {
   "cell_type": "code",
   "execution_count": 62,
   "metadata": {
    "vscode": {
     "languageId": "r"
    }
   },
   "outputs": [
    {
     "data": {
      "text/html": [
       "<table class=\"dataframe\">\n",
       "<caption>A tibble: 130 × 3</caption>\n",
       "<thead>\n",
       "\t<tr><th scope=col>toxic_tweets</th><th scope=col>n</th><th scope=col>percent</th></tr>\n",
       "\t<tr><th scope=col>&lt;int&gt;</th><th scope=col>&lt;int&gt;</th><th scope=col>&lt;dbl&gt;</th></tr>\n",
       "</thead>\n",
       "<tbody>\n",
       "\t<tr><td> 1</td><td>45441</td><td>8.424594677</td></tr>\n",
       "\t<tr><td> 2</td><td>11349</td><td>2.104062961</td></tr>\n",
       "\t<tr><td> 3</td><td> 5038</td><td>0.934026716</td></tr>\n",
       "\t<tr><td> 4</td><td> 2982</td><td>0.552851859</td></tr>\n",
       "\t<tr><td> 5</td><td> 1966</td><td>0.364489187</td></tr>\n",
       "\t<tr><td> 6</td><td> 1339</td><td>0.248245687</td></tr>\n",
       "\t<tr><td> 7</td><td>  959</td><td>0.177795081</td></tr>\n",
       "\t<tr><td> 8</td><td>  792</td><td>0.146833894</td></tr>\n",
       "\t<tr><td> 9</td><td>  575</td><td>0.106602890</td></tr>\n",
       "\t<tr><td>10</td><td>  471</td><td>0.087321672</td></tr>\n",
       "\t<tr><td>11</td><td>  379</td><td>0.070265209</td></tr>\n",
       "\t<tr><td>12</td><td>  335</td><td>0.062107771</td></tr>\n",
       "\t<tr><td>13</td><td>  265</td><td>0.049130028</td></tr>\n",
       "\t<tr><td>14</td><td>  225</td><td>0.041714174</td></tr>\n",
       "\t<tr><td>15</td><td>  217</td><td>0.040231004</td></tr>\n",
       "\t<tr><td>16</td><td>  166</td><td>0.030775791</td></tr>\n",
       "\t<tr><td>17</td><td>  137</td><td>0.025399297</td></tr>\n",
       "\t<tr><td>18</td><td>  126</td><td>0.023359938</td></tr>\n",
       "\t<tr><td>19</td><td>  124</td><td>0.022989145</td></tr>\n",
       "\t<tr><td>20</td><td>   90</td><td>0.016685670</td></tr>\n",
       "\t<tr><td>21</td><td>   70</td><td>0.012977743</td></tr>\n",
       "\t<tr><td>22</td><td>   76</td><td>0.014090121</td></tr>\n",
       "\t<tr><td>23</td><td>   72</td><td>0.013348536</td></tr>\n",
       "\t<tr><td>24</td><td>   62</td><td>0.011494573</td></tr>\n",
       "\t<tr><td>25</td><td>   67</td><td>0.012421554</td></tr>\n",
       "\t<tr><td>26</td><td>   61</td><td>0.011309176</td></tr>\n",
       "\t<tr><td>27</td><td>   46</td><td>0.008528231</td></tr>\n",
       "\t<tr><td>28</td><td>   53</td><td>0.009826006</td></tr>\n",
       "\t<tr><td>29</td><td>   43</td><td>0.007972042</td></tr>\n",
       "\t<tr><td>30</td><td>   25</td><td>0.004634908</td></tr>\n",
       "\t<tr><td>...</td><td>...</td><td>...</td></tr>\n",
       "\t<tr><td> 117</td><td>1</td><td>0.0001853963</td></tr>\n",
       "\t<tr><td> 120</td><td>1</td><td>0.0001853963</td></tr>\n",
       "\t<tr><td> 121</td><td>2</td><td>0.0003707927</td></tr>\n",
       "\t<tr><td> 124</td><td>1</td><td>0.0001853963</td></tr>\n",
       "\t<tr><td> 131</td><td>1</td><td>0.0001853963</td></tr>\n",
       "\t<tr><td> 132</td><td>1</td><td>0.0001853963</td></tr>\n",
       "\t<tr><td> 133</td><td>1</td><td>0.0001853963</td></tr>\n",
       "\t<tr><td> 136</td><td>1</td><td>0.0001853963</td></tr>\n",
       "\t<tr><td> 139</td><td>1</td><td>0.0001853963</td></tr>\n",
       "\t<tr><td> 140</td><td>1</td><td>0.0001853963</td></tr>\n",
       "\t<tr><td> 142</td><td>1</td><td>0.0001853963</td></tr>\n",
       "\t<tr><td> 147</td><td>2</td><td>0.0003707927</td></tr>\n",
       "\t<tr><td> 149</td><td>2</td><td>0.0003707927</td></tr>\n",
       "\t<tr><td> 150</td><td>1</td><td>0.0001853963</td></tr>\n",
       "\t<tr><td> 153</td><td>1</td><td>0.0001853963</td></tr>\n",
       "\t<tr><td> 162</td><td>1</td><td>0.0001853963</td></tr>\n",
       "\t<tr><td> 168</td><td>1</td><td>0.0001853963</td></tr>\n",
       "\t<tr><td> 177</td><td>1</td><td>0.0001853963</td></tr>\n",
       "\t<tr><td> 190</td><td>2</td><td>0.0003707927</td></tr>\n",
       "\t<tr><td> 194</td><td>1</td><td>0.0001853963</td></tr>\n",
       "\t<tr><td> 195</td><td>1</td><td>0.0001853963</td></tr>\n",
       "\t<tr><td> 218</td><td>1</td><td>0.0001853963</td></tr>\n",
       "\t<tr><td> 234</td><td>1</td><td>0.0001853963</td></tr>\n",
       "\t<tr><td> 236</td><td>1</td><td>0.0001853963</td></tr>\n",
       "\t<tr><td> 247</td><td>1</td><td>0.0001853963</td></tr>\n",
       "\t<tr><td> 302</td><td>1</td><td>0.0001853963</td></tr>\n",
       "\t<tr><td> 310</td><td>1</td><td>0.0001853963</td></tr>\n",
       "\t<tr><td> 390</td><td>1</td><td>0.0001853963</td></tr>\n",
       "\t<tr><td> 399</td><td>1</td><td>0.0001853963</td></tr>\n",
       "\t<tr><td>1375</td><td>1</td><td>0.0001853963</td></tr>\n",
       "</tbody>\n",
       "</table>\n"
      ],
      "text/latex": [
       "A tibble: 130 × 3\n",
       "\\begin{tabular}{lll}\n",
       " toxic\\_tweets & n & percent\\\\\n",
       " <int> & <int> & <dbl>\\\\\n",
       "\\hline\n",
       "\t  1 & 45441 & 8.424594677\\\\\n",
       "\t  2 & 11349 & 2.104062961\\\\\n",
       "\t  3 &  5038 & 0.934026716\\\\\n",
       "\t  4 &  2982 & 0.552851859\\\\\n",
       "\t  5 &  1966 & 0.364489187\\\\\n",
       "\t  6 &  1339 & 0.248245687\\\\\n",
       "\t  7 &   959 & 0.177795081\\\\\n",
       "\t  8 &   792 & 0.146833894\\\\\n",
       "\t  9 &   575 & 0.106602890\\\\\n",
       "\t 10 &   471 & 0.087321672\\\\\n",
       "\t 11 &   379 & 0.070265209\\\\\n",
       "\t 12 &   335 & 0.062107771\\\\\n",
       "\t 13 &   265 & 0.049130028\\\\\n",
       "\t 14 &   225 & 0.041714174\\\\\n",
       "\t 15 &   217 & 0.040231004\\\\\n",
       "\t 16 &   166 & 0.030775791\\\\\n",
       "\t 17 &   137 & 0.025399297\\\\\n",
       "\t 18 &   126 & 0.023359938\\\\\n",
       "\t 19 &   124 & 0.022989145\\\\\n",
       "\t 20 &    90 & 0.016685670\\\\\n",
       "\t 21 &    70 & 0.012977743\\\\\n",
       "\t 22 &    76 & 0.014090121\\\\\n",
       "\t 23 &    72 & 0.013348536\\\\\n",
       "\t 24 &    62 & 0.011494573\\\\\n",
       "\t 25 &    67 & 0.012421554\\\\\n",
       "\t 26 &    61 & 0.011309176\\\\\n",
       "\t 27 &    46 & 0.008528231\\\\\n",
       "\t 28 &    53 & 0.009826006\\\\\n",
       "\t 29 &    43 & 0.007972042\\\\\n",
       "\t 30 &    25 & 0.004634908\\\\\n",
       "\t ... & ... & ...\\\\\n",
       "\t  117 & 1 & 0.0001853963\\\\\n",
       "\t  120 & 1 & 0.0001853963\\\\\n",
       "\t  121 & 2 & 0.0003707927\\\\\n",
       "\t  124 & 1 & 0.0001853963\\\\\n",
       "\t  131 & 1 & 0.0001853963\\\\\n",
       "\t  132 & 1 & 0.0001853963\\\\\n",
       "\t  133 & 1 & 0.0001853963\\\\\n",
       "\t  136 & 1 & 0.0001853963\\\\\n",
       "\t  139 & 1 & 0.0001853963\\\\\n",
       "\t  140 & 1 & 0.0001853963\\\\\n",
       "\t  142 & 1 & 0.0001853963\\\\\n",
       "\t  147 & 2 & 0.0003707927\\\\\n",
       "\t  149 & 2 & 0.0003707927\\\\\n",
       "\t  150 & 1 & 0.0001853963\\\\\n",
       "\t  153 & 1 & 0.0001853963\\\\\n",
       "\t  162 & 1 & 0.0001853963\\\\\n",
       "\t  168 & 1 & 0.0001853963\\\\\n",
       "\t  177 & 1 & 0.0001853963\\\\\n",
       "\t  190 & 2 & 0.0003707927\\\\\n",
       "\t  194 & 1 & 0.0001853963\\\\\n",
       "\t  195 & 1 & 0.0001853963\\\\\n",
       "\t  218 & 1 & 0.0001853963\\\\\n",
       "\t  234 & 1 & 0.0001853963\\\\\n",
       "\t  236 & 1 & 0.0001853963\\\\\n",
       "\t  247 & 1 & 0.0001853963\\\\\n",
       "\t  302 & 1 & 0.0001853963\\\\\n",
       "\t  310 & 1 & 0.0001853963\\\\\n",
       "\t  390 & 1 & 0.0001853963\\\\\n",
       "\t  399 & 1 & 0.0001853963\\\\\n",
       "\t 1375 & 1 & 0.0001853963\\\\\n",
       "\\end{tabular}\n"
      ],
      "text/markdown": [
       "\n",
       "A tibble: 130 × 3\n",
       "\n",
       "| toxic_tweets &lt;int&gt; | n &lt;int&gt; | percent &lt;dbl&gt; |\n",
       "|---|---|---|\n",
       "|  1 | 45441 | 8.424594677 |\n",
       "|  2 | 11349 | 2.104062961 |\n",
       "|  3 |  5038 | 0.934026716 |\n",
       "|  4 |  2982 | 0.552851859 |\n",
       "|  5 |  1966 | 0.364489187 |\n",
       "|  6 |  1339 | 0.248245687 |\n",
       "|  7 |   959 | 0.177795081 |\n",
       "|  8 |   792 | 0.146833894 |\n",
       "|  9 |   575 | 0.106602890 |\n",
       "| 10 |   471 | 0.087321672 |\n",
       "| 11 |   379 | 0.070265209 |\n",
       "| 12 |   335 | 0.062107771 |\n",
       "| 13 |   265 | 0.049130028 |\n",
       "| 14 |   225 | 0.041714174 |\n",
       "| 15 |   217 | 0.040231004 |\n",
       "| 16 |   166 | 0.030775791 |\n",
       "| 17 |   137 | 0.025399297 |\n",
       "| 18 |   126 | 0.023359938 |\n",
       "| 19 |   124 | 0.022989145 |\n",
       "| 20 |    90 | 0.016685670 |\n",
       "| 21 |    70 | 0.012977743 |\n",
       "| 22 |    76 | 0.014090121 |\n",
       "| 23 |    72 | 0.013348536 |\n",
       "| 24 |    62 | 0.011494573 |\n",
       "| 25 |    67 | 0.012421554 |\n",
       "| 26 |    61 | 0.011309176 |\n",
       "| 27 |    46 | 0.008528231 |\n",
       "| 28 |    53 | 0.009826006 |\n",
       "| 29 |    43 | 0.007972042 |\n",
       "| 30 |    25 | 0.004634908 |\n",
       "| ... | ... | ... |\n",
       "|  117 | 1 | 0.0001853963 |\n",
       "|  120 | 1 | 0.0001853963 |\n",
       "|  121 | 2 | 0.0003707927 |\n",
       "|  124 | 1 | 0.0001853963 |\n",
       "|  131 | 1 | 0.0001853963 |\n",
       "|  132 | 1 | 0.0001853963 |\n",
       "|  133 | 1 | 0.0001853963 |\n",
       "|  136 | 1 | 0.0001853963 |\n",
       "|  139 | 1 | 0.0001853963 |\n",
       "|  140 | 1 | 0.0001853963 |\n",
       "|  142 | 1 | 0.0001853963 |\n",
       "|  147 | 2 | 0.0003707927 |\n",
       "|  149 | 2 | 0.0003707927 |\n",
       "|  150 | 1 | 0.0001853963 |\n",
       "|  153 | 1 | 0.0001853963 |\n",
       "|  162 | 1 | 0.0001853963 |\n",
       "|  168 | 1 | 0.0001853963 |\n",
       "|  177 | 1 | 0.0001853963 |\n",
       "|  190 | 2 | 0.0003707927 |\n",
       "|  194 | 1 | 0.0001853963 |\n",
       "|  195 | 1 | 0.0001853963 |\n",
       "|  218 | 1 | 0.0001853963 |\n",
       "|  234 | 1 | 0.0001853963 |\n",
       "|  236 | 1 | 0.0001853963 |\n",
       "|  247 | 1 | 0.0001853963 |\n",
       "|  302 | 1 | 0.0001853963 |\n",
       "|  310 | 1 | 0.0001853963 |\n",
       "|  390 | 1 | 0.0001853963 |\n",
       "|  399 | 1 | 0.0001853963 |\n",
       "| 1375 | 1 | 0.0001853963 |\n",
       "\n"
      ],
      "text/plain": [
       "    toxic_tweets n     percent     \n",
       "1    1           45441 8.424594677 \n",
       "2    2           11349 2.104062961 \n",
       "3    3            5038 0.934026716 \n",
       "4    4            2982 0.552851859 \n",
       "5    5            1966 0.364489187 \n",
       "6    6            1339 0.248245687 \n",
       "7    7             959 0.177795081 \n",
       "8    8             792 0.146833894 \n",
       "9    9             575 0.106602890 \n",
       "10  10             471 0.087321672 \n",
       "11  11             379 0.070265209 \n",
       "12  12             335 0.062107771 \n",
       "13  13             265 0.049130028 \n",
       "14  14             225 0.041714174 \n",
       "15  15             217 0.040231004 \n",
       "16  16             166 0.030775791 \n",
       "17  17             137 0.025399297 \n",
       "18  18             126 0.023359938 \n",
       "19  19             124 0.022989145 \n",
       "20  20              90 0.016685670 \n",
       "21  21              70 0.012977743 \n",
       "22  22              76 0.014090121 \n",
       "23  23              72 0.013348536 \n",
       "24  24              62 0.011494573 \n",
       "25  25              67 0.012421554 \n",
       "26  26              61 0.011309176 \n",
       "27  27              46 0.008528231 \n",
       "28  28              53 0.009826006 \n",
       "29  29              43 0.007972042 \n",
       "30  30              25 0.004634908 \n",
       "... ...          ...   ...         \n",
       "101  117         1     0.0001853963\n",
       "102  120         1     0.0001853963\n",
       "103  121         2     0.0003707927\n",
       "104  124         1     0.0001853963\n",
       "105  131         1     0.0001853963\n",
       "106  132         1     0.0001853963\n",
       "107  133         1     0.0001853963\n",
       "108  136         1     0.0001853963\n",
       "109  139         1     0.0001853963\n",
       "110  140         1     0.0001853963\n",
       "111  142         1     0.0001853963\n",
       "112  147         2     0.0003707927\n",
       "113  149         2     0.0003707927\n",
       "114  150         1     0.0001853963\n",
       "115  153         1     0.0001853963\n",
       "116  162         1     0.0001853963\n",
       "117  168         1     0.0001853963\n",
       "118  177         1     0.0001853963\n",
       "119  190         2     0.0003707927\n",
       "120  194         1     0.0001853963\n",
       "121  195         1     0.0001853963\n",
       "122  218         1     0.0001853963\n",
       "123  234         1     0.0001853963\n",
       "124  236         1     0.0001853963\n",
       "125  247         1     0.0001853963\n",
       "126  302         1     0.0001853963\n",
       "127  310         1     0.0001853963\n",
       "128  390         1     0.0001853963\n",
       "129  399         1     0.0001853963\n",
       "130 1375         1     0.0001853963"
      ]
     },
     "metadata": {},
     "output_type": "display_data"
    }
   ],
   "source": [
    "all_users_NFRF <- all_users_NFRF |>\n",
    " filter(negative == 1) |>\n",
    "  group_by(author_id) |>\n",
    "  summarise(toxic_tweets = n()) |> #counts # toxic tweets for each user\n",
    "  count(toxic_tweets) |>\n",
    "  mutate(percent = (n / 539385)*100)\n",
    "\n",
    "all_users_NFRF \n",
    "write_csv(all_users_NFRF, \"toxic_tweet_distribution_NFRF.csv\")"
   ]
  },
  {
   "cell_type": "code",
   "execution_count": 57,
   "metadata": {
    "vscode": {
     "languageId": "r"
    }
   },
   "outputs": [],
   "source": [
    "all_users_NFRF_20 <- all_users_NFRF|>\n",
    "head(20)\n",
    "\n",
    "\n",
    "graph_totals <- all_users_NFRF_20 |>\n",
    "  ggplot(aes(x = toxic_tweets, y = n))+\n",
    "  geom_line(color = \"#0000ff\", size=1, alpha=0.4) +\n",
    "  geom_point(aes(), size = 2) +\n",
    "  scale_color_identity()+\n",
    "  labs(y=\"number of authors\", x= \"Amount of hateful tweets per author\",subtitle=\"Taken from NFRF dataset and dictionary; truncated at 20 tweets/author\",x=\"number of authors\")+\n",
    "  ggtitle(\"Amount of Authors Having Contributed n Hateful Tweets/author\")+\n",
    "  theme_bw()+\n",
    "  theme(axis.text.x = element_text(angle = 50, hjust = 1, size=7))"
   ]
  },
  {
   "cell_type": "code",
   "execution_count": 59,
   "metadata": {
    "vscode": {
     "languageId": "r"
    }
   },
   "outputs": [
    {
     "name": "stderr",
     "output_type": "stream",
     "text": [
      "\u001b[1m\u001b[22mSaving 6.67 x 6.67 in image\n"
     ]
    },
    {
     "data": {
      "image/png": "[encoded data removed]",
      "text/plain": [
       "plot without title"
      ]
     },
     "metadata": {
      "image/png": {
       "height": 420,
       "width": 420
      }
     },
     "output_type": "display_data"
    }
   ],
   "source": [
    "graph_totals \n",
    "\n",
    "ggsave(\"Amount_of_hateful_tweets_per_author_NFRF.png\")"
   ]
  },
  {
   "cell_type": "code",
   "execution_count": null,
   "metadata": {
    "vscode": {
     "languageId": "r"
    }
   },
   "outputs": [],
   "source": [
    "all_users_NFRF_graphing <- all_users_NFRF|>\n",
    "head(50)|>\n",
    "mutate(author_id = as.character(author_id))|>\n",
    "arrange(desc(negative_count))|>\n",
    "mutate(author_id = factor(author_id, levels = unique(author_id)))|>\n",
    "mutate(color = ifelse(author_id == \"386007819\", \"red\", \"#171724\"))|>\n",
    "mutate(index = row_number())\n",
    "\n",
    "graph <- all_users_NFRF_graphing |>\n",
    "  ggplot(aes(x = index, y = negative_count)) +\n",
    "  geom_line(color = \"#0000ff\", size=1, alpha=0.4) +\n",
    "  geom_point(aes(color = color), size = 2) +\n",
    "  scale_color_identity()+\n",
    "  labs(y=\"amount of hateful tweets\", subtitle=\"Taken from NFRF dataset and dictionary\",x=\"author ids\")+\n",
    "  ggtitle(\"Users with most hateful tweets\")+\n",
    "  annotate(\"text\", x = 18, y = 1375, label = \"user_id: 386007819 has posted 1375 hateful tweets\", color = \"red\", size = 4)+\n",
    "  annotate(\"text\", x = 8, y = 450, label = \"339 hateful tweets\", color = \"#000000\", size = 4)+\n",
    "  theme_bw()+\n",
    "  theme(\n",
    "    axis.text.x = element_blank(),\n",
    "    axis.ticks.x = element_blank()\n",
    "  )\n",
    "\n",
    "\n",
    "ggsave(\"hate_users_NFRF_graph.png\")"
   ]
  },
  {
   "cell_type": "code",
   "execution_count": null,
   "metadata": {
    "vscode": {
     "languageId": "r"
    }
   },
   "outputs": [],
   "source": [
    "toxic_likes <- all_users_NFRF |>\n",
    "  filter(negative == 1) |>\n",
    "  group_by(author_id) |>\n",
    "  summarise(\n",
    "    negative = n(),    # Counts toxic tweets for each user\n",
    "    likes = sum(public_metrics_like_count, na.rm = TRUE),\n",
    "    impressions = sum(public_metrics_impression_count, na.rm = TRUE)  # Calculates average follower count per user\n",
    "  ) |> \n",
    "  group_by(negative) |>\n",
    "  summarise(\n",
    "    n = n(),  # Number of users with the same number of toxic tweets\n",
    "    sum_likes_per_group = sum(likes, na.rm = TRUE),\n",
    "    sum_impressions_per_group = sum(impressions, na.rm = TRUE)  # sum likes\n",
    "  )|>\n",
    "  head(50)\n",
    "\n",
    "  toxic_likes"
   ]
  },
  {
   "cell_type": "code",
   "execution_count": null,
   "metadata": {
    "vscode": {
     "languageId": "r"
    }
   },
   "outputs": [],
   "source": [
    "\n",
    "likes_impressions_graph <- toxic_likes|>\n",
    "  ggplot(aes(x=negative))+\n",
    "  geom_ribbon(aes(ymin = sum_likes_per_group, ymax = sum_impressions_per_group), fill = \"pink\", alpha = 0.3) +\n",
    "  geom_line(aes(y=sum_likes_per_group, color = \"Likes\"), size=1, alpha=0.4) +\n",
    "  geom_point(aes(y=sum_likes_per_group, color = \"Likes\"), size = 2) +\n",
    "  geom_line(aes(y=sum_impressions_per_group, color = \"Impressions\"), size=1, alpha=0.4) +\n",
    "  geom_point(aes(y=sum_impressions_per_group, color = \"Impressions\"), size = 2) +\n",
    "  labs(y=\"Number of Likes and Impressions\", \n",
    "       subtitle=\"Taken from NFRF dataset and dictionary; truncated at 50 tweets/author; y axis scaled logarithmically\",\n",
    "       x=\"Number of Hate Tweets/Author\") +\n",
    "  ggtitle(\"Number of Total Likes and Impressions per Number of Hate Tweets/Author\") +\n",
    "  theme_bw() +\n",
    "  theme(axis.text.x = element_text(angle = 50, hjust = 1, size=7)) +\n",
    "  scale_color_manual(values = c(\"Likes\" = \"#0000ff\", \"Impressions\" = \"#b23a44\")) +\n",
    "  guides(color=guide_legend(title=\"Metric\"))+\n",
    "  scale_y_log10()+\n",
    "  annotate(\"text\", x = 25, y = 1000000, label = \"large difference between number of impressions and likes\", color = \"#000000\", size = 4)+\n",
    "  annotate(\"text\", x = 16.5, y = 700000, label = \"for users with little hate tweets\", color = \"#000000\", size = 4)"
   ]
  },
  {
   "cell_type": "code",
   "execution_count": null,
   "metadata": {
    "vscode": {
     "languageId": "r"
    }
   },
   "outputs": [],
   "source": [
    "likes_impressions_graph\n",
    "\n",
    "ggsave(\"likes_vs_impressions_NFRF_50.png\", width=10, height=6)"
   ]
  },
  {
   "cell_type": "code",
   "execution_count": null,
   "metadata": {
    "vscode": {
     "languageId": "r"
    }
   },
   "outputs": [],
   "source": [
    "toxic_likes_10 <- toxic_likes|>\n",
    "head(10)\n",
    "\n",
    "\n",
    "likes_impressions_graph_10 <- toxic_likes_10 |>\n",
    "  ggplot(aes(x=negative))+\n",
    "  geom_ribbon(aes(ymin = sum_likes_per_group, ymax = sum_impressions_per_group), fill = \"pink\", alpha = 0.3) +\n",
    "  geom_line(aes(y=sum_likes_per_group, color = \"Likes\"), size=1, alpha=0.4) +\n",
    "  geom_point(aes(y=sum_likes_per_group, color = \"Likes\"), size = 2) +\n",
    "  geom_line(aes(y=sum_impressions_per_group, color = \"Impressions\"), size=1, alpha=0.4) +\n",
    "  geom_point(aes(y=sum_impressions_per_group, color = \"Impressions\"), size = 2) +\n",
    "  labs(y=\"Number of Likes and Impressions\", \n",
    "       subtitle=\"Taken from NFRF dataset and dictionary; truncated at 10 tweets/author\",\n",
    "       x=\"Number of Hate Tweets/Author\") +\n",
    "  ggtitle(\"Number of Total Likes and Impressions per Number of Hate Tweets/Author\") +\n",
    "  theme_bw() +\n",
    "  theme(axis.text.x = element_text(angle = 50, hjust = 1, size=7)) +\n",
    "  scale_color_manual(values = c(\"Likes\" = \"#0000ff\", \"Impressions\" = \"#b23a44\")) +\n",
    "  guides(color=guide_legend(title=\"Metric\"))\n",
    "\n",
    "print(likes_impressions_graph)\n"
   ]
  },
  {
   "cell_type": "code",
   "execution_count": null,
   "metadata": {
    "vscode": {
     "languageId": "r"
    }
   },
   "outputs": [],
   "source": [
    "likes_impressions_graph_10\n",
    "\n",
    "ggsave(\"likes_vs_impressions_NFRF_10.png\")"
   ]
  }
 ],
 "metadata": {
  "kernelspec": {
   "display_name": "R",
   "language": "R",
   "name": "ir"
  },
  "language_info": {
   "codemirror_mode": "r",
   "file_extension": ".r",
   "mimetype": "text/x-r-source",
   "name": "R",
   "pygments_lexer": "r",
   "version": "4.1.3"
  }
 },
 "nbformat": 4,
 "nbformat_minor": 2
}
