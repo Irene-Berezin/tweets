{
 "cells": [
  {
   "cell_type": "code",
   "execution_count": null,
   "metadata": {
    "vscode": {
     "languageId": "r"
    }
   },
   "outputs": [],
   "source": [
    "library(tidyverse)\n",
    "library(data.table)\n",
    "library(dplyr)\n",
    "\n",
    "UBC_ISD <- fread(\"UBC-ISD.csv\", encoding = \"UTF-8\")"
   ]
  },
  {
   "cell_type": "code",
   "execution_count": null,
   "metadata": {
    "vscode": {
     "languageId": "r"
    }
   },
   "outputs": [],
   "source": [
    "colnames(UBC_ISD)"
   ]
  },
  {
   "cell_type": "code",
   "execution_count": null,
   "metadata": {
    "vscode": {
     "languageId": "r"
    }
   },
   "outputs": [],
   "source": [
    "UBC_ISD_text <- UBC_ISD |>\n",
    "select(\"twitter.tweet/text\",'twitter.tweet/hashtags')|>\n",
    "rename(text=\"twitter.tweet/text\", hashtags='twitter.tweet/hashtags')|>\n",
    "distinct() #removes retweets"
   ]
  },
  {
   "cell_type": "code",
   "execution_count": null,
   "metadata": {
    "vscode": {
     "languageId": "r"
    }
   },
   "outputs": [],
   "source": [
    "terms <- c('fuck', 'dirty', 'stupid', 'idiot', 'asshole', 'bastard', 'nasty', 'whore', 'slut', 'skank', 'cunt', 'bitch', 'motherfucker', 'go to hell', 'wimp', 'coward', 'moron', 'traitor', 'shut up', 'shut the fuck up', 'stfu', 'piece of shit', 'ignorant', 'clown', 'ccpvirus', 'chinese coronavirus', 'chinavirus', 'china virus', 'fuckchina', 'nukechina', 'bombchina', 'deathtochina', 'chinesevirus', 'fake lab wuhan', 'china weapon', 'china bioweapon', 'zionazi', 'Soros virus', 'blood libel', 'nwovirus', 'new world order', 'sacrifice children', 'jew world order', 'liar', 'yellow star', 'israel virus', 'israelvirus', 'rothschild covid', 'kalergi plan', 'jail', 'locked up', 'evil.', 'is evil', 'so evil', 'pure evil', 'an evil', 'evil wom', 'evil man', 'evil witch', 'is evil', 'are evil', 'that evil', 'very evil', 'tyrant', 'tyranny', 'dictator', 'tv doctor', 'twitter doctor', 'murder', 'murderer', 'eugenic', 'satan', 'Nazi', 'non-human', 'sterile', 'slave', 'crooked', 'corrupt', 'shill', 'liar', 'lying', 'killer', 'fraud', 'big pharma', 'pharma puppet', 'Nuremberg', 'crimes against humanity', 'genocide', 'child abuse', 'covid hoax', 'covid fake', 'virus hoax', 'gates virus', 'bioweapon', 'secret elite', 'depopulation', 'save our children', 'scamdemic', 'plandemic')\n",
    "terms <- paste0(\" \", terms)\n",
    "pattern <- paste(terms, collapse = \"|\")"
   ]
  },
  {
   "cell_type": "code",
   "execution_count": null,
   "metadata": {
    "vscode": {
     "languageId": "r"
    }
   },
   "outputs": [],
   "source": [
    "UBC_ISD_text$toxicity <- ifelse(grepl(pattern, UBC_ISD_text$text, ignore.case = TRUE), 1, 0)"
   ]
  },
  {
   "cell_type": "code",
   "execution_count": null,
   "metadata": {
    "vscode": {
     "languageId": "r"
    }
   },
   "outputs": [],
   "source": [
    "UBC_ISD_text_hashtags <- UBC_ISD_text |>\n",
    "select(hashtags, toxicity)\n",
    "\n",
    "UBC_ISD_text_hashtags$hashtags <- gsub(\"^\\\\[|\\\\]$\", \"\", UBC_ISD_text_hashtags$hashtags)\n",
    "UBC_ISD_text_hashtags <-  UBC_ISD_text_hashtags|>\n",
    "separate_rows(hashtags, sep = \",\\\\s*\")\n",
    "\n",
    "UBC_ISD_text_hashtags$hashtags <- na_if(UBC_ISD_text_hashtags$hashtags, \"\")\n",
    "\n",
    "UBC_ISD_text_hashtags <-  UBC_ISD_text_hashtags|>\n",
    "drop_na()\n",
    "UBC_ISD_text_hashtags"
   ]
  },
  {
   "cell_type": "code",
   "execution_count": null,
   "metadata": {
    "vscode": {
     "languageId": "r"
    }
   },
   "outputs": [],
   "source": [
    "UBC_ISD_text_hashtags_test <- UBC_ISD_text_hashtags|>\n",
    "filter(hashtags == \"AdrianaLagrange\")\n",
    "UBC_ISD_text_hashtags_test"
   ]
  },
  {
   "cell_type": "code",
   "execution_count": null,
   "metadata": {
    "vscode": {
     "languageId": "r"
    }
   },
   "outputs": [],
   "source": [
    "stance_ideology <- stance |>\n",
    "select(!count)\n",
    "stance_ideology$hashtags <- sub(\"#\", \"\", stance_ideology$hashtags)"
   ]
  },
  {
   "cell_type": "code",
   "execution_count": null,
   "metadata": {
    "vscode": {
     "languageId": "r"
    }
   },
   "outputs": [],
   "source": [
    "UBC_ISD_text_hashtags_popular <- UBC_ISD_text_hashtags|>\n",
    "group_by(hashtags)|>\n",
    "summarize(total_tweets = n(),\n",
    "    toxic_tweets = sum(toxicity),\n",
    "    toxic_percentage = (toxic_tweets / total_tweets) * 100)|>\n",
    "  arrange(desc(total_tweets))|>\n",
    "    left_join(stance_ideology, by = \"hashtags\")|>\n",
    "    select(!...1)"
   ]
  },
  {
   "cell_type": "code",
   "execution_count": null,
   "metadata": {
    "vscode": {
     "languageId": "r"
    }
   },
   "outputs": [],
   "source": [
    "UBC_ISD_text_hashtags_popular_test <- UBC_ISD_text_hashtags_popular|>\n",
    "filter(ideology == \"pro\")"
   ]
  },
  {
   "cell_type": "code",
   "execution_count": null,
   "metadata": {
    "vscode": {
     "languageId": "r"
    }
   },
   "outputs": [],
   "source": [
    "UBC_ISD_text_hashtags_popular"
   ]
  },
  {
   "cell_type": "code",
   "execution_count": 57,
   "metadata": {
    "vscode": {
     "languageId": "r"
    }
   },
   "outputs": [],
   "source": [
    "write_csv(UBC_ISD_text_hashtags_popular, \"hashtags_ISD_summary.csv\")"
   ]
  },
  {
   "cell_type": "code",
   "execution_count": null,
   "metadata": {
    "vscode": {
     "languageId": "r"
    }
   },
   "outputs": [],
   "source": [
    "stance"
   ]
  },
  {
   "cell_type": "code",
   "execution_count": null,
   "metadata": {
    "vscode": {
     "languageId": "r"
    }
   },
   "outputs": [],
   "source": [
    "stance <- read_csv(\"cleaned_hashtags_ideology.csv\")\n",
    "\n",
    "stance_pro <- stance|>\n",
    "filter(ideology==\"pro\")|>\n",
    "select(hashtags)\n",
    "stance_pro$hashtags <- sub(\"#\", \"\", stance_pro$hashtags)|>\n",
    "as.list()\n",
    "\n",
    "stance_anti <- stance|>\n",
    "filter(ideology==\"anti\")|>\n",
    "select(hashtags)\n",
    "stance_anti$hashtags <- sub(\"#\", \"\", stance_anti$hashtags)|>\n",
    "as.list()\n",
    "\n",
    "filtered_hashtags_anti <- UBC_ISD_text_hashtags_popular|>\n",
    "filter(UBC_ISD_text_hashtags_popular$hashtags %in% stance_anti$hashtags)\n",
    "filtered_hashtags_anti \n",
    "\n",
    "filtered_hashtags_pro <- UBC_ISD_text_hashtags_popular|>\n",
    "filter(UBC_ISD_text_hashtags_popular$hashtags %in% stance_pro$hashtags)\n",
    "filtered_hashtags_pro"
   ]
  },
  {
   "cell_type": "code",
   "execution_count": null,
   "metadata": {
    "vscode": {
     "languageId": "r"
    }
   },
   "outputs": [],
   "source": [
    "filtered_hashtags_anti <- UBC_ISD_text_hashtags|>\n",
    "filter(UBC_ISD_text_hashtags$hashtags %in% stance_anti$hashtags)|>\n",
    "nrow()\n",
    "\n",
    "filtered_hashtags_anti_toxic <- UBC_ISD_text_hashtags|>\n",
    "filter(UBC_ISD_text_hashtags$hashtags %in% stance_anti$hashtags)|>\n",
    "filter(toxicity==1)|>\n",
    "nrow()\n",
    "\n",
    "filtered_hashtags_pro <- UBC_ISD_text_hashtags|>\n",
    "filter(UBC_ISD_text_hashtags$hashtags %in% stance_pro$hashtags)|>\n",
    "nrow()\n",
    "\n",
    "filtered_hashtags_pro_toxic <- UBC_ISD_text_hashtags|>\n",
    "filter(UBC_ISD_text_hashtags$hashtags %in% stance_pro$hashtags)|>\n",
    "filter(toxicity==1)|>\n",
    "nrow()\n",
    "\n",
    "counts <- data.frame(ideology = c(\"pro restrictions\",\"pro restrictions\",\"anti restrictions\",\"anti restrictions\"),\n",
    "                    type = c(\"total\",\"toxic\",\"total\",\"toxic\"),\n",
    "                    count = c(filtered_hashtags_pro, filtered_hashtags_pro_toxic, filtered_hashtags_anti, filtered_hashtags_anti_toxic)\n",
    ")"
   ]
  },
  {
   "cell_type": "code",
   "execution_count": null,
   "metadata": {
    "vscode": {
     "languageId": "r"
    }
   },
   "outputs": [],
   "source": [
    "counts"
   ]
  },
  {
   "cell_type": "code",
   "execution_count": null,
   "metadata": {
    "vscode": {
     "languageId": "r"
    }
   },
   "outputs": [],
   "source": [
    "colors=c(\"#6f94d9\", \"#cf2020\")\n",
    "\n",
    "counts_graph <- counts|>\n",
    "ggplot(aes(x=ideology, y=count, fill=type))+\n",
    "geom_bar(stat=\"identity\", position = position_dodge(width = 0.5))+\n",
    "scale_fill_manual(values = colors)+\n",
    "ggtitle(\"Number of Toxic Tweets and Non-Toxic Tweets, in Groups Against Versus Pro COVID Restrictions\")+\n",
    "labs(subtitle=\"Taken from ISD dataset\", x=\"Ideology Type\", y=\"Number of toxic tweets and non-toxic tweets\")+\n",
    "theme_bw()\n",
    "\n",
    "counts_graph\n",
    "\n",
    "ggsave(\"Hashtags_ISD.png\",width=10, height=7)"
   ]
  }
 ],
 "metadata": {
  "kernelspec": {
   "display_name": "R",
   "language": "R",
   "name": "ir"
  },
  "language_info": {
   "codemirror_mode": "r",
   "file_extension": ".r",
   "mimetype": "text/x-r-source",
   "name": "R",
   "pygments_lexer": "r",
   "version": "4.1.3"
  }
 },
 "nbformat": 4,
 "nbformat_minor": 2
}
