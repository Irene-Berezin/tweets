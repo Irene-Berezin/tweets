{
 "cells": [
  {
   "cell_type": "code",
   "execution_count": 3,
   "metadata": {
    "vscode": {
     "languageId": "r"
    }
   },
   "outputs": [],
   "source": [
    "library(tidyverse)\n",
    "library(dplyr)\n",
    "library(readr)\n",
    "library(data.table)\n",
    "\n",
    "UBC_ISD <- fread(\"UBC-ISD.csv\", encoding = \"UTF-8\")"
   ]
  },
  {
   "cell_type": "code",
   "execution_count": 2,
   "metadata": {
    "vscode": {
     "languageId": "r"
    }
   },
   "outputs": [
    {
     "name": "stderr",
     "output_type": "stream",
     "text": [
      "-- \u001b[1mAttaching core tidyverse packages\u001b[22m ------------------------ tidyverse 2.0.0 --\n",
      "\u001b[32mv\u001b[39m \u001b[34mdplyr    \u001b[39m 1.1.4     \u001b[32mv\u001b[39m \u001b[34mreadr    \u001b[39m 2.1.5\n",
      "\u001b[32mv\u001b[39m \u001b[34mforcats  \u001b[39m 1.0.0     \u001b[32mv\u001b[39m \u001b[34mstringr  \u001b[39m 1.5.0\n",
      "\u001b[32mv\u001b[39m \u001b[34mggplot2  \u001b[39m 3.4.2     \u001b[32mv\u001b[39m \u001b[34mtibble   \u001b[39m 3.2.1\n",
      "\u001b[32mv\u001b[39m \u001b[34mlubridate\u001b[39m 1.9.3     \u001b[32mv\u001b[39m \u001b[34mtidyr    \u001b[39m 1.3.1\n",
      "\u001b[32mv\u001b[39m \u001b[34mpurrr    \u001b[39m 1.0.2     \n",
      "-- \u001b[1mConflicts\u001b[22m ------------------------------------------ tidyverse_conflicts() --\n",
      "\u001b[31mx\u001b[39m \u001b[34mdplyr\u001b[39m::\u001b[32mfilter()\u001b[39m masks \u001b[34mstats\u001b[39m::filter()\n",
      "\u001b[31mx\u001b[39m \u001b[34mdplyr\u001b[39m::\u001b[32mlag()\u001b[39m    masks \u001b[34mstats\u001b[39m::lag()\n",
      "\u001b[36mi\u001b[39m Use the conflicted package (\u001b[3m\u001b[34m<http://conflicted.r-lib.org/>\u001b[39m\u001b[23m) to force all conflicts to become errors\n",
      "\n",
      "Attaching package: 'data.table'\n",
      "\n",
      "\n",
      "The following objects are masked from 'package:lubridate':\n",
      "\n",
      "    hour, isoweek, mday, minute, month, quarter, second, wday, week,\n",
      "    yday, year\n",
      "\n",
      "\n",
      "The following objects are masked from 'package:dplyr':\n",
      "\n",
      "    between, first, last\n",
      "\n",
      "\n",
      "The following object is masked from 'package:purrr':\n",
      "\n",
      "    transpose\n",
      "\n",
      "\n"
     ]
    }
   ],
   "source": [
    "library(tidyverse)\n",
    "library(dplyr)\n",
    "library(readr)\n",
    "library(data.table)"
   ]
  },
  {
   "cell_type": "code",
   "execution_count": 4,
   "metadata": {
    "vscode": {
     "languageId": "r"
    }
   },
   "outputs": [
    {
     "data": {
      "text/html": [
       "'text'"
      ],
      "text/latex": [
       "'text'"
      ],
      "text/markdown": [
       "'text'"
      ],
      "text/plain": [
       "[1] \"text\""
      ]
     },
     "metadata": {},
     "output_type": "display_data"
    }
   ],
   "source": [
    "twitter_data <- UBC_ISD |>\n",
    "select(\"quoted.twitter.tweet/text\", \"twitter.tweet/text\")|>\n",
    "rename(quoted_text=\"quoted.twitter.tweet/text\")|>\n",
    "rename(text=\"twitter.tweet/text\")\n",
    "\n",
    "twitter_data <- tibble(text = c(twitter_data$quoted_text, twitter_data$text))\n",
    "\n",
    "count(twitter_data)"
   ]
  },
  {
   "cell_type": "code",
   "execution_count": null,
   "metadata": {
    "vscode": {
     "languageId": "r"
    }
   },
   "outputs": [],
   "source": [
    "terms <- c('fuck', 'dirty', 'stupid', 'idiot', 'asshole', 'bastard', 'nasty', 'whore', 'slut', 'skank', 'cunt', 'bitch', 'motherfucker', 'go to hell', 'wimp', 'coward', 'moron', 'traitor', 'shut up', 'shut the fuck up', 'stfu', 'piece of shit', 'ignorant', 'clown', 'ccpvirus', 'chinese coronavirus', 'chinavirus', 'china virus', 'fuckchina', 'nukechina', 'bombchina', 'deathtochina', 'chinesevirus', 'fake lab wuhan', 'china weapon', 'china bioweapon', 'zionazi', 'Soros virus', 'blood libel', 'nwovirus', 'new world order', 'sacrifice children', 'jew world order', 'liar', 'yellow star', 'israel virus', 'israelvirus', 'rothschild covid', 'kalergi plan', 'jail', 'locked up', 'evil.', 'is evil', 'so evil', 'pure evil', 'an evil', 'evil wom', 'evil man', 'evil witch', 'is evil', 'are evil', 'that evil', 'very evil', 'tyrant', 'tyranny', 'dictator', 'tv doctor', 'twitter doctor', 'murder', 'murderer', 'eugenic', 'satan', 'Nazi', 'non-human', 'sterile', 'slave', 'crooked', 'corrupt', 'shill', 'liar', 'lying', 'killer', 'fraud', 'big pharma', 'pharma puppet', 'Nuremberg', 'crimes against humanity', 'genocide', 'child abuse', 'covid hoax', 'covid fake', 'virus hoax', 'gates virus', 'bioweapon', 'secret elite', 'depopulation', 'save our children', 'scamdemic', 'plandemic')\n",
    "terms <- paste0(\" \", terms)\n",
    "pattern <- paste(terms, collapse = \"|\")"
   ]
  },
  {
   "cell_type": "code",
   "execution_count": null,
   "metadata": {
    "vscode": {
     "languageId": "r"
    }
   },
   "outputs": [],
   "source": [
    "\n",
    "# List of users to filter tweets\n",
    "users <- c(\"adriandix\", \"AlikaMD\", \"AmyGreerKalisz\", \"angie_rasmussen\", \"AnnaBlakney\", \n",
    "           \"AntibioticDoc\", \"asapscience\", \"ASPphysician\", \"atRachelGilmore\", \"binhanv\", \n",
    "           \"BirinderNarang\", \"blackdocscanada\", \"BogochIsaac\", \"bornk\", \"carlyweeks\", \n",
    "           \"CaulfieldTim\", \"CDCofBC\", \"cdube_sante\", \"cfpcceo\", \"ChiefSciCan\", \"cmcovidtf\", \n",
    "           \"CMOH_Alberta\", \"CMOH_NL\", \"conquercovid19\", \"COVID_19_Canada\", \"COVIDSciOntario\", \n",
    "           \"CPHO_Canada\", \"ctouzin\", \"CTV_AvisFavaro\", \"DeNovo_Fatima\", \"deonandan\", \"drfisman\", \n",
    "           \"Dr_ChrisSimpson\", \"drgigiosler\", \"DrKaliBarrett\", \"drmwarner\", \"drsusanshaw\", \n",
    "           \"DrVivianS\", \"egpayne\", \"epdevilla\", \"ErnieHudsonPEI\", \"everetthindley\", \"First10EM\", \n",
    "           \"GermHunterMD\", \"glenpyle\", \"heysciencesam\", \"hgagneTVA\", \"IDEpiPhD\", \"imgrund\", \n",
    "           \"iPreetBrar\", \"IrfanDhalla\", \"j_mcelroy\", \"jasonfherring\", \"jfrketich\", \"jkwan_md\", \n",
    "           \"Johnrockdoc\", \"JuliaWongCBC\", \"juliegreenMLA\", \"Justin_Ling\", \"jyangstar\", \"KashPrime\", \n",
    "           \"KatharineSmart\", \"Kevin_Parent\", \"KindrachuckJason\", \"KrishanaSankar\", \"kwadwo777\", \n",
    "           \"LaurenPelley\", \"LisaBarrettID\", \"McGillOSS\", \"MerrimanPaul\", \"MichaelSchwandt\", \n",
    "           \"MLAStefanson\", \"moirawyton\", \"moriartylabs\", \"MPaiMD\", \"NaheedD\", \"NathanStall\", \n",
    "           \"NightShiftMD\", \"NoLore\", \"OttawaHealth\", \"paimadhu\", \"PattyHajdu\", \"picardonhealth\", \n",
    "           \"RicharLisa\", \"roussin_brent\", \"sabaeitizaz\", \"sabiVM\", \"SammyG_MD\", \"sarperotto\", \n",
    "           \"SciChefCan\", \"sciencemonkeyca\", \"ScienceUpFirst\", \"sdbaral\", \"shandro\", \"SharkawyMD\", \n",
    "           \"shazmamithani\", \"ShephardDorothy\", \"srinmurthy99\", \"SteiniBrown\", \"theresaboyle\", \n",
    "           \"thisisourshotca\", \"TorontoIDDOC\", \"UbakaOgbogu\", \"VaxHuntersCan\", \"VeraEtches\", \n",
    "           \"VikCBC\", \"wickdchiq\", \"zachchurchhill\", \"zchangla\", \"DrKathleenRoss1\")\n",
    "\n",
    "# Creating an empty list to store the dataframes\n",
    "tweet_dfs <- list()\n",
    "\n",
    "# Function to filter tweets mentioning a specific user\n",
    "filter_tweets <- function(user) {\n",
    "total_entries <- nrow(df)\n",
    "\n",
    "  twitter_data |> \n",
    "    filter(grepl(user, text, ignore.case = TRUE)) |>\n",
    "    mutate(negative = as.integer(grepl(pattern, text, ignore.case = TRUE)))\n",
    "\n",
    "}\n",
    "\n",
    "# Looping through each user and store the filtered tweets in the list\n",
    "for (user in users) {\n",
    "  tweet_dfs[[user]] <- filter_tweets(user)\n",
    "}\n"
   ]
  },
  {
   "cell_type": "code",
   "execution_count": null,
   "metadata": {
    "vscode": {
     "languageId": "r"
    }
   },
   "outputs": [],
   "source": [
    "\n",
    "# List of users to filter tweets\n",
    "users <- c(\"adriandix\", \"AlikaMD\", \"AmyGreerKalisz\", \"angie_rasmussen\", \"AnnaBlakney\", \n",
    "           \"AntibioticDoc\", \"asapscience\", \"ASPphysician\", \"atRachelGilmore\", \"binhanv\", \n",
    "           \"BirinderNarang\", \"blackdocscanada\", \"BogochIsaac\", \"bornk\", \"carlyweeks\", \n",
    "           \"CaulfieldTim\", \"CDCofBC\", \"cdube_sante\", \"cfpcceo\", \"ChiefSciCan\", \"cmcovidtf\", \n",
    "           \"CMOH_Alberta\", \"CMOH_NL\", \"conquercovid19\", \"COVID_19_Canada\", \"COVIDSciOntario\", \n",
    "           \"CPHO_Canada\", \"ctouzin\", \"CTV_AvisFavaro\", \"DeNovo_Fatima\", \"deonandan\", \"drfisman\", \n",
    "           \"Dr_ChrisSimpson\", \"drgigiosler\", \"DrKaliBarrett\", \"drmwarner\", \"drsusanshaw\", \n",
    "           \"DrVivianS\", \"egpayne\", \"epdevilla\", \"ErnieHudsonPEI\", \"everetthindley\", \"First10EM\", \n",
    "           \"GermHunterMD\", \"glenpyle\", \"heysciencesam\", \"hgagneTVA\", \"IDEpiPhD\", \"imgrund\", \n",
    "           \"iPreetBrar\", \"IrfanDhalla\", \"j_mcelroy\", \"jasonfherring\", \"jfrketich\", \"jkwan_md\", \n",
    "           \"Johnrockdoc\", \"JuliaWongCBC\", \"juliegreenMLA\", \"Justin_Ling\", \"jyangstar\", \"KashPrime\", \n",
    "           \"KatharineSmart\", \"Kevin_Parent\", \"KindrachuckJason\", \"KrishanaSankar\", \"kwadwo777\", \n",
    "           \"LaurenPelley\", \"LisaBarrettID\", \"McGillOSS\", \"MerrimanPaul\", \"MichaelSchwandt\", \n",
    "           \"MLAStefanson\", \"moirawyton\", \"moriartylabs\", \"MPaiMD\", \"NaheedD\", \"NathanStall\", \n",
    "           \"NightShiftMD\", \"NoLore\", \"OttawaHealth\", \"paimadhu\", \"PattyHajdu\", \"picardonhealth\", \n",
    "           \"RicharLisa\", \"roussin_brent\", \"sabaeitizaz\", \"sabiVM\", \"SammyG_MD\", \"sarperotto\", \n",
    "           \"SciChefCan\", \"sciencemonkeyca\", \"ScienceUpFirst\", \"sdbaral\", \"shandro\", \"SharkawyMD\", \n",
    "           \"shazmamithani\", \"ShephardDorothy\", \"srinmurthy99\", \"SteiniBrown\", \"theresaboyle\", \n",
    "           \"thisisourshotca\", \"TorontoIDDOC\", \"UbakaOgbogu\", \"VaxHuntersCan\", \"VeraEtches\", \n",
    "           \"VikCBC\", \"wickdchiq\", \"zachchurchhill\", \"zchangla\", \"DrKathleenRoss1\")\n",
    "\n",
    "# Create an empty list to store the dataframes\n",
    "tweet_dfs <- list()\n",
    "\n",
    "# Function to filter tweets mentioning a specific user\n",
    "filter_tweets <- function(user) {\n",
    "  total_entries <- nrow(twitter_data)\n",
    "  \n",
    "  filtered_data <- twitter_data |>\n",
    "    filter(grepl(user, text, ignore.case = TRUE)) |>\n",
    "    mutate(negative = as.integer(grepl(pattern, text, ignore.case = TRUE)))\n",
    "\n",
    "  negative_entries <- nrow(filtered_data |> filter(negative == 1))\n",
    "\n",
    "  filtered_data <- filtered_data |>\n",
    "    mutate(proportion_negative = negative_entries / total_entries) |>\n",
    "    select(proportion_negative) |>\n",
    "    head(1) |>\n",
    "    as.list()\n",
    "\n",
    "  return(filtered_data)\n",
    "}\n",
    "\n",
    "# Loop through each user and store the filtered tweets in the list\n",
    "for (user in users) {\n",
    "  tweet_dfs$user <- filter_tweets(user)\n",
    "}\n",
    "\n",
    "# Now tweet_dfs contains a dataframe for each user\n"
   ]
  },
  {
   "cell_type": "code",
   "execution_count": null,
   "metadata": {
    "vscode": {
     "languageId": "r"
    }
   },
   "outputs": [],
   "source": [
    "men <- list(\"adriandix\", \"AlikaMD\", \"ASPphysician\", \"BogochIsaac\", \"CaulfieldTim\", \n",
    "            \"cdube_sante\", \"deonandan\", \"Dr_ChrisSimpson\", \"drfisman\", \"drmwarner\", \n",
    "            \"ErnieHudsonPEI\", \"everetthindley\", \"First10EM\", \"GermHunterMD\", \"imgrund\", \n",
    "            \"IrfanDhalla\", \"j_mcelroy\", \"jasonfherring\", \"Johnrockdoc\", \"Justin_Ling\", \n",
    "            \"KashPrime\", \"Kevin_Parent\", \"KindrachuckJason\", \"kwadwo777\", \"MerrimanPaul\", \n",
    "            \"NaheedD\", \"NathanStall\", \"NightShiftMD\", \"paimadhu\", \"picardonhealth\", \n",
    "            \"roussin_brent\", \"SammyG_MD\", \"sciencemonkeyca\", \"sdbaral\", \"shandro\", \n",
    "            \"srinmurthy99\", \"SteiniBrown\", \"TorontoIDDOC\", \"UbakaOgbogu\", \"VikCBC\", \n",
    "            \"zachchurchhill\", \"zchangla\")\n",
    "\n",
    "men_df <- do.call(rbind, lapply(men, function(user) tweet_dfs$user))\n"
   ]
  },
  {
   "cell_type": "code",
   "execution_count": null,
   "metadata": {
    "vscode": {
     "languageId": "r"
    }
   },
   "outputs": [],
   "source": [
    "men_df_1 <- men_df |>\n",
    "filter(negative==1)"
   ]
  },
  {
   "cell_type": "code",
   "execution_count": null,
   "metadata": {
    "vscode": {
     "languageId": "r"
    }
   },
   "outputs": [],
   "source": [
    "men_df_1"
   ]
  },
  {
   "cell_type": "code",
   "execution_count": null,
   "metadata": {
    "vscode": {
     "languageId": "r"
    }
   },
   "outputs": [],
   "source": [
    "women <- list(\"AmyGreerKalisz\", \"angie_rasmussen\", \"AnnaBlakney\", \"AntibioticDoc\", \"binhanv\", \n",
    "              \"bornk\", \"carlyweeks\", \"ChiefSciCan\", \"CMOH_Alberta\", \"CMOH_NL\", \"CPHO_Canada\", \n",
    "              \"ctouzin\", \"CTV_AvisFavaro\", \"DeNovo_Fatima\", \"drgigiosler\", \"DrKaliBarrett\", \n",
    "              \"drsusanshaw\", \"DrVivianS\", \"egpayne\", \"epdevilla\", \"glenpyle\", \"heysciencesam\", \n",
    "              \"IDEpiPhD\", \"iPreetBrar\", \"jfrketich\", \"jkwan_md\", \"JuliaWongCBC\", \"juliegreenMLA\", \n",
    "              \"jyangstar\", \"KatharineSmart\", \"KrishanaSankar\", \"LaurenPelley\", \"LisaBarrettID\", \n",
    "              \"MLAStefanson\", \"moriartylabs\", \"moirawyton\", \"MPaiMD\", \"NoLore\", \"PattyHajdu\", \n",
    "              \"RicharLisa\", \"sabiVM\", \"SciChefCan\", \"sarperotto\", \"shazmamithani\", \"ShephardDorothy\", \n",
    "              \"theresaboyle\", \"VeraEtches\", \"wickdchiq\", \"DrKathleenRoss1\")\n",
    "\n",
    "women_df <- do.call(rbind, lapply(women, function(user) tweet_dfs$user))\n"
   ]
  },
  {
   "cell_type": "code",
   "execution_count": null,
   "metadata": {
    "vscode": {
     "languageId": "r"
    }
   },
   "outputs": [],
   "source": [
    "women_df"
   ]
  },
  {
   "cell_type": "code",
   "execution_count": 70,
   "metadata": {
    "vscode": {
     "languageId": "r"
    }
   },
   "outputs": [
    {
     "name": "stderr",
     "output_type": "stream",
     "text": [
      "\u001b[1mRows: \u001b[22m\u001b[34m155\u001b[39m \u001b[1mColumns: \u001b[22m\u001b[34m6\u001b[39m\n",
      "\u001b[36m--\u001b[39m \u001b[1mColumn specification\u001b[22m \u001b[36m--------------------------------------------------------\u001b[39m\n",
      "\u001b[1mDelimiter:\u001b[22m \",\"\n",
      "\u001b[31mchr\u001b[39m (6): Handle, Name, Category, Category - simplified, Gender, Description\n",
      "\n",
      "\u001b[36mi\u001b[39m Use `spec()` to retrieve the full column specification for this data.\n",
      "\u001b[36mi\u001b[39m Specify the column types or set `show_col_types = FALSE` to quiet this message.\n"
     ]
    }
   ],
   "source": [
    "health_communicators_roles <- read_csv(\"Health Communicators - List(Communicators).csv\")"
   ]
  },
  {
   "cell_type": "code",
   "execution_count": 71,
   "metadata": {
    "vscode": {
     "languageId": "r"
    }
   },
   "outputs": [],
   "source": [
    "health_communicators_roles <- health_communicators_roles |>\n",
    "select(Handle, \"Category - simplified\")|>\n",
    "rename(Category=\"Category - simplified\")\n"
   ]
  },
  {
   "cell_type": "code",
   "execution_count": 74,
   "metadata": {
    "vscode": {
     "languageId": "r"
    }
   },
   "outputs": [],
   "source": [
    "\n",
    "\n",
    "medical_professional <- health_communicators_roles|>\n",
    "filter(Category==\"Medical professional\")|>\n",
    "  mutate(Handle = str_remove(Handle, \"@\"))|>\n",
    "  select(Handle)|>\n",
    "  rename(\"medical_professional\"=Handle)|>\n",
    "  as.list()|>\n",
    "  paste(collapse = \"', '\")\n",
    "\n",
    "expert_university <- health_communicators_roles|>\n",
    "filter(Category==\"Expert - university\")|>\n",
    "  mutate(Handle = str_remove(Handle, \"@\"))|>\n",
    "  select(Handle)|>\n",
    "  rename(expert_university=Handle)|>\n",
    "  as.list()|>\n",
    "  paste(collapse = \"', '\")\n",
    "\n",
    "politician <- health_communicators_roles |>\n",
    "  filter(Category == \"Politician\")|>\n",
    "  mutate(Handle = str_remove(Handle, \"@\"))|>\n",
    "  select(Handle)|>\n",
    "  rename(politician=Handle)|>\n",
    "  as.list()|>\n",
    "  paste(collapse = \"', '\")\n",
    "\n",
    "journalist <- health_communicators_roles |>\n",
    "  filter(Category == \"Journalist\")|>\n",
    "  mutate(Handle = str_remove(Handle, \"@\"))|>\n",
    "  select(Handle)|>\n",
    "  rename(journalist=Handle)|>\n",
    "  as.list()|>\n",
    "  paste(collapse = \"', '\")\n",
    "\n",
    "civil_society_groups <- health_communicators_roles |>\n",
    "  filter(Category == \"Civil society groups\")|>\n",
    "  mutate(Handle = str_remove(Handle, \"@\"))|>\n",
    "  select(Handle)|>\n",
    "  rename(civil_society_groups=Handle)|>\n",
    "  as.list()|>\n",
    "  paste(collapse = \"', '\")\n",
    "\n",
    "expert <- health_communicators_roles |>\n",
    "  filter(Category == \"Expert\")|>\n",
    "  mutate(Handle = str_remove(Handle, \"@\"))|>\n",
    "  select(Handle)|>\n",
    "  rename(expert=Handle)|>\n",
    "  as.list()|>\n",
    "  paste(collapse = \"', '\")\n",
    "\n",
    "health_official <- health_communicators_roles |>\n",
    "  filter(Category == \"Health official\")|>\n",
    "  mutate(Handle = str_remove(Handle, \"@\"))|>\n",
    "  select(Handle)|>\n",
    "  rename(health_official=Handle)|>\n",
    "  as.list()|>\n",
    "  paste(collapse = \"', '\")"
   ]
  },
  {
   "cell_type": "code",
   "execution_count": 78,
   "metadata": {
    "vscode": {
     "languageId": "r"
    }
   },
   "outputs": [
    {
     "data": {
      "text/html": [
       "<ol>\n",
       "\t<li>'CDCofBC'</li>\n",
       "\t<li>'ChiefSciCan'</li>\n",
       "\t<li>'CMOH_Alberta'</li>\n",
       "\t<li>'CMOH_NL'</li>\n",
       "\t<li>'CPHO_Canada'</li>\n",
       "\t<li>'epdevilla'</li>\n",
       "\t<li>'OttawaHealth'</li>\n",
       "\t<li>'roussin_brent'</li>\n",
       "\t<li>'StrangRobert'</li>\n",
       "\t<li>'VeraEtches'</li>\n",
       "</ol>\n"
      ],
      "text/latex": [
       "\\begin{enumerate}\n",
       "\\item 'CDCofBC'\n",
       "\\item 'ChiefSciCan'\n",
       "\\item 'CMOH\\_Alberta'\n",
       "\\item 'CMOH\\_NL'\n",
       "\\item 'CPHO\\_Canada'\n",
       "\\item 'epdevilla'\n",
       "\\item 'OttawaHealth'\n",
       "\\item 'roussin\\_brent'\n",
       "\\item 'StrangRobert'\n",
       "\\item 'VeraEtches'\n",
       "\\end{enumerate}\n"
      ],
      "text/markdown": [
       "1. 'CDCofBC'\n",
       "2. 'ChiefSciCan'\n",
       "3. 'CMOH_Alberta'\n",
       "4. 'CMOH_NL'\n",
       "5. 'CPHO_Canada'\n",
       "6. 'epdevilla'\n",
       "7. 'OttawaHealth'\n",
       "8. 'roussin_brent'\n",
       "9. 'StrangRobert'\n",
       "10. 'VeraEtches'\n",
       "\n",
       "\n"
      ],
      "text/plain": [
       "[[1]]\n",
       "[1] \"CDCofBC\"\n",
       "\n",
       "[[2]]\n",
       "[1] \"ChiefSciCan\"\n",
       "\n",
       "[[3]]\n",
       "[1] \"CMOH_Alberta\"\n",
       "\n",
       "[[4]]\n",
       "[1] \"CMOH_NL\"\n",
       "\n",
       "[[5]]\n",
       "[1] \"CPHO_Canada\"\n",
       "\n",
       "[[6]]\n",
       "[1] \"epdevilla\"\n",
       "\n",
       "[[7]]\n",
       "[1] \"OttawaHealth\"\n",
       "\n",
       "[[8]]\n",
       "[1] \"roussin_brent\"\n",
       "\n",
       "[[9]]\n",
       "[1] \"StrangRobert\"\n",
       "\n",
       "[[10]]\n",
       "[1] \"VeraEtches\"\n"
      ]
     },
     "metadata": {},
     "output_type": "display_data"
    },
    {
     "data": {
      "text/html": [
       "'c(\"BogochIsaac\", \"CaulfieldTim\", \"DeNovo_Fatima\", \"deonandan\", \"DFisman\", \"Dr_ChrisSimpson\", \"drgigiosler\", \"DrKaliBarrett\", \"drmwarner\", \"drsusanshaw\", \"DrVivianS\", \"First10EM\", \"GermHunterID\", \"goaliegirlmom31\", \"heysciencesam\", \"IDEpiPhD\", \"imgrund\", \"iPreetBrar\", \"IrfanDhalla\", \"jkwan_md\", \"jonathanstea\", \"KashPrime\", \"Kevin__Parent\", \"KindrachukJason\", \"KrishanaSankar\", \"kwadwo777\", \"LisaBarrettID\", \"MoriartyLab\", \"MPaiMD\", \"NaheedD\", \"NathanStall\", \"paimadhu\", \"RicharLisa\", \"sabivm\", \"SammyG_MD\", \\n\"SciChefCan\", \"sdbaral\", \"SharkawyMD\", \"shazmamithani\", \"SteiniBrown\", \"TorontoIDDOC\", \"UbakaOgbogu\", \"zchagla\")'"
      ],
      "text/latex": [
       "'c(\"BogochIsaac\", \"CaulfieldTim\", \"DeNovo\\_Fatima\", \"deonandan\", \"DFisman\", \"Dr\\_ChrisSimpson\", \"drgigiosler\", \"DrKaliBarrett\", \"drmwarner\", \"drsusanshaw\", \"DrVivianS\", \"First10EM\", \"GermHunterID\", \"goaliegirlmom31\", \"heysciencesam\", \"IDEpiPhD\", \"imgrund\", \"iPreetBrar\", \"IrfanDhalla\", \"jkwan\\_md\", \"jonathanstea\", \"KashPrime\", \"Kevin\\_\\_Parent\", \"KindrachukJason\", \"KrishanaSankar\", \"kwadwo777\", \"LisaBarrettID\", \"MoriartyLab\", \"MPaiMD\", \"NaheedD\", \"NathanStall\", \"paimadhu\", \"RicharLisa\", \"sabivm\", \"SammyG\\_MD\", \\textbackslash{}n\"SciChefCan\", \"sdbaral\", \"SharkawyMD\", \"shazmamithani\", \"SteiniBrown\", \"TorontoIDDOC\", \"UbakaOgbogu\", \"zchagla\")'"
      ],
      "text/markdown": [
       "'c(\"BogochIsaac\", \"CaulfieldTim\", \"DeNovo_Fatima\", \"deonandan\", \"DFisman\", \"Dr_ChrisSimpson\", \"drgigiosler\", \"DrKaliBarrett\", \"drmwarner\", \"drsusanshaw\", \"DrVivianS\", \"First10EM\", \"GermHunterID\", \"goaliegirlmom31\", \"heysciencesam\", \"IDEpiPhD\", \"imgrund\", \"iPreetBrar\", \"IrfanDhalla\", \"jkwan_md\", \"jonathanstea\", \"KashPrime\", \"Kevin__Parent\", \"KindrachukJason\", \"KrishanaSankar\", \"kwadwo777\", \"LisaBarrettID\", \"MoriartyLab\", \"MPaiMD\", \"NaheedD\", \"NathanStall\", \"paimadhu\", \"RicharLisa\", \"sabivm\", \"SammyG_MD\", \\n\"SciChefCan\", \"sdbaral\", \"SharkawyMD\", \"shazmamithani\", \"SteiniBrown\", \"TorontoIDDOC\", \"UbakaOgbogu\", \"zchagla\")'"
      ],
      "text/plain": [
       "[1] \"c(\\\"BogochIsaac\\\", \\\"CaulfieldTim\\\", \\\"DeNovo_Fatima\\\", \\\"deonandan\\\", \\\"DFisman\\\", \\\"Dr_ChrisSimpson\\\", \\\"drgigiosler\\\", \\\"DrKaliBarrett\\\", \\\"drmwarner\\\", \\\"drsusanshaw\\\", \\\"DrVivianS\\\", \\\"First10EM\\\", \\\"GermHunterID\\\", \\\"goaliegirlmom31\\\", \\\"heysciencesam\\\", \\\"IDEpiPhD\\\", \\\"imgrund\\\", \\\"iPreetBrar\\\", \\\"IrfanDhalla\\\", \\\"jkwan_md\\\", \\\"jonathanstea\\\", \\\"KashPrime\\\", \\\"Kevin__Parent\\\", \\\"KindrachukJason\\\", \\\"KrishanaSankar\\\", \\\"kwadwo777\\\", \\\"LisaBarrettID\\\", \\\"MoriartyLab\\\", \\\"MPaiMD\\\", \\\"NaheedD\\\", \\\"NathanStall\\\", \\\"paimadhu\\\", \\\"RicharLisa\\\", \\\"sabivm\\\", \\\"SammyG_MD\\\", \\n\\\"SciChefCan\\\", \\\"sdbaral\\\", \\\"SharkawyMD\\\", \\\"shazmamithani\\\", \\\"SteiniBrown\\\", \\\"TorontoIDDOC\\\", \\\"UbakaOgbogu\\\", \\\"zchagla\\\")\""
      ]
     },
     "metadata": {},
     "output_type": "display_data"
    },
    {
     "data": {
      "text/html": [
       "'c(\"blackdocscanada\", \"cmcovidtf\", \"conquercovid19\", \"COVID_19_Canada\", \"COVIDSciOntario\", \"McGillOSS\", \"sacovidtf\", \"ScienceUpFirst\", \"thisisourshotca\", \"VaxHuntersCan\")'"
      ],
      "text/latex": [
       "'c(\"blackdocscanada\", \"cmcovidtf\", \"conquercovid19\", \"COVID\\_19\\_Canada\", \"COVIDSciOntario\", \"McGillOSS\", \"sacovidtf\", \"ScienceUpFirst\", \"thisisourshotca\", \"VaxHuntersCan\")'"
      ],
      "text/markdown": [
       "'c(\"blackdocscanada\", \"cmcovidtf\", \"conquercovid19\", \"COVID_19_Canada\", \"COVIDSciOntario\", \"McGillOSS\", \"sacovidtf\", \"ScienceUpFirst\", \"thisisourshotca\", \"VaxHuntersCan\")'"
      ],
      "text/plain": [
       "[1] \"c(\\\"blackdocscanada\\\", \\\"cmcovidtf\\\", \\\"conquercovid19\\\", \\\"COVID_19_Canada\\\", \\\"COVIDSciOntario\\\", \\\"McGillOSS\\\", \\\"sacovidtf\\\", \\\"ScienceUpFirst\\\", \\\"thisisourshotca\\\", \\\"VaxHuntersCan\\\")\""
      ]
     },
     "metadata": {},
     "output_type": "display_data"
    },
    {
     "data": {
      "text/html": [
       "'c(\"asapscience\", \"binhanv\", \"carlyweeks\", \"ctouzin\", \"CTV_AvisFavaro\", \"egpayne\", \"j_mcelroy\", \"jasonfherring\", \"jfrketich\", \"JWongGlobalNews\", \"jyangstar\", \"LaurenPelley\", \"NightShiftMD\", \"NoLore\", \"picardonhealth\", \"sharon_kirkey\", \"theresaboyle\", \"VikCBC\")'"
      ],
      "text/latex": [
       "'c(\"asapscience\", \"binhanv\", \"carlyweeks\", \"ctouzin\", \"CTV\\_AvisFavaro\", \"egpayne\", \"j\\_mcelroy\", \"jasonfherring\", \"jfrketich\", \"JWongGlobalNews\", \"jyangstar\", \"LaurenPelley\", \"NightShiftMD\", \"NoLore\", \"picardonhealth\", \"sharon\\_kirkey\", \"theresaboyle\", \"VikCBC\")'"
      ],
      "text/markdown": [
       "'c(\"asapscience\", \"binhanv\", \"carlyweeks\", \"ctouzin\", \"CTV_AvisFavaro\", \"egpayne\", \"j_mcelroy\", \"jasonfherring\", \"jfrketich\", \"JWongGlobalNews\", \"jyangstar\", \"LaurenPelley\", \"NightShiftMD\", \"NoLore\", \"picardonhealth\", \"sharon_kirkey\", \"theresaboyle\", \"VikCBC\")'"
      ],
      "text/plain": [
       "[1] \"c(\\\"asapscience\\\", \\\"binhanv\\\", \\\"carlyweeks\\\", \\\"ctouzin\\\", \\\"CTV_AvisFavaro\\\", \\\"egpayne\\\", \\\"j_mcelroy\\\", \\\"jasonfherring\\\", \\\"jfrketich\\\", \\\"JWongGlobalNews\\\", \\\"jyangstar\\\", \\\"LaurenPelley\\\", \\\"NightShiftMD\\\", \\\"NoLore\\\", \\\"picardonhealth\\\", \\\"sharon_kirkey\\\", \\\"theresaboyle\\\", \\\"VikCBC\\\")\""
      ]
     },
     "metadata": {},
     "output_type": "display_data"
    },
    {
     "data": {
      "text/html": [
       "'c(\"adriandix\", \"cdube_sante\", \"celliottability\", \"ErnieHudsonPEI\", \"everetthindley\", \"Johnrockdoc\", \"juliegreenMLA\", \"MerrimanPaul\", \"MLAStefanson\", \"PattyHajdu\", \"shandro\", \"ShephardDorothy\", \"zachchurchill\")'"
      ],
      "text/latex": [
       "'c(\"adriandix\", \"cdube\\_sante\", \"celliottability\", \"ErnieHudsonPEI\", \"everetthindley\", \"Johnrockdoc\", \"juliegreenMLA\", \"MerrimanPaul\", \"MLAStefanson\", \"PattyHajdu\", \"shandro\", \"ShephardDorothy\", \"zachchurchill\")'"
      ],
      "text/markdown": [
       "'c(\"adriandix\", \"cdube_sante\", \"celliottability\", \"ErnieHudsonPEI\", \"everetthindley\", \"Johnrockdoc\", \"juliegreenMLA\", \"MerrimanPaul\", \"MLAStefanson\", \"PattyHajdu\", \"shandro\", \"ShephardDorothy\", \"zachchurchill\")'"
      ],
      "text/plain": [
       "[1] \"c(\\\"adriandix\\\", \\\"cdube_sante\\\", \\\"celliottability\\\", \\\"ErnieHudsonPEI\\\", \\\"everetthindley\\\", \\\"Johnrockdoc\\\", \\\"juliegreenMLA\\\", \\\"MerrimanPaul\\\", \\\"MLAStefanson\\\", \\\"PattyHajdu\\\", \\\"shandro\\\", \\\"ShephardDorothy\\\", \\\"zachchurchill\\\")\""
      ]
     },
     "metadata": {},
     "output_type": "display_data"
    },
    {
     "data": {
      "text/html": [
       "'c(\"AmyGreerKalisz\", \"angie_rasmussen\", \"AnnaBlakney\", \"AntibioticDoc\", \"ASPphysician\")'"
      ],
      "text/latex": [
       "'c(\"AmyGreerKalisz\", \"angie\\_rasmussen\", \"AnnaBlakney\", \"AntibioticDoc\", \"ASPphysician\")'"
      ],
      "text/markdown": [
       "'c(\"AmyGreerKalisz\", \"angie_rasmussen\", \"AnnaBlakney\", \"AntibioticDoc\", \"ASPphysician\")'"
      ],
      "text/plain": [
       "[1] \"c(\\\"AmyGreerKalisz\\\", \\\"angie_rasmussen\\\", \\\"AnnaBlakney\\\", \\\"AntibioticDoc\\\", \\\"ASPphysician\\\")\""
      ]
     },
     "metadata": {},
     "output_type": "display_data"
    },
    {
     "data": {
      "text/html": [
       "'AlikaMD'"
      ],
      "text/latex": [
       "'AlikaMD'"
      ],
      "text/markdown": [
       "'AlikaMD'"
      ],
      "text/plain": [
       "[1] \"AlikaMD\""
      ]
     },
     "metadata": {},
     "output_type": "display_data"
    }
   ],
   "source": [
    "health_official\n",
    "expert\n",
    "civil_society_groups\n",
    "journalist\n",
    "politician\n",
    "expert_university \n",
    "medical_professional"
   ]
  },
  {
   "cell_type": "code",
   "execution_count": 77,
   "metadata": {
    "vscode": {
     "languageId": "r"
    }
   },
   "outputs": [
    {
     "data": {
      "text/html": [
       "<ol>\n",
       "\t<li>'CDCofBC'</li>\n",
       "\t<li>'ChiefSciCan'</li>\n",
       "\t<li>'CMOH_Alberta'</li>\n",
       "\t<li>'CMOH_NL'</li>\n",
       "\t<li>'CPHO_Canada'</li>\n",
       "\t<li>'epdevilla'</li>\n",
       "\t<li>'OttawaHealth'</li>\n",
       "\t<li>'roussin_brent'</li>\n",
       "\t<li>'StrangRobert'</li>\n",
       "\t<li>'VeraEtches'</li>\n",
       "</ol>\n"
      ],
      "text/latex": [
       "\\begin{enumerate}\n",
       "\\item 'CDCofBC'\n",
       "\\item 'ChiefSciCan'\n",
       "\\item 'CMOH\\_Alberta'\n",
       "\\item 'CMOH\\_NL'\n",
       "\\item 'CPHO\\_Canada'\n",
       "\\item 'epdevilla'\n",
       "\\item 'OttawaHealth'\n",
       "\\item 'roussin\\_brent'\n",
       "\\item 'StrangRobert'\n",
       "\\item 'VeraEtches'\n",
       "\\end{enumerate}\n"
      ],
      "text/markdown": [
       "1. 'CDCofBC'\n",
       "2. 'ChiefSciCan'\n",
       "3. 'CMOH_Alberta'\n",
       "4. 'CMOH_NL'\n",
       "5. 'CPHO_Canada'\n",
       "6. 'epdevilla'\n",
       "7. 'OttawaHealth'\n",
       "8. 'roussin_brent'\n",
       "9. 'StrangRobert'\n",
       "10. 'VeraEtches'\n",
       "\n",
       "\n"
      ],
      "text/plain": [
       "[[1]]\n",
       "[1] \"CDCofBC\"\n",
       "\n",
       "[[2]]\n",
       "[1] \"ChiefSciCan\"\n",
       "\n",
       "[[3]]\n",
       "[1] \"CMOH_Alberta\"\n",
       "\n",
       "[[4]]\n",
       "[1] \"CMOH_NL\"\n",
       "\n",
       "[[5]]\n",
       "[1] \"CPHO_Canada\"\n",
       "\n",
       "[[6]]\n",
       "[1] \"epdevilla\"\n",
       "\n",
       "[[7]]\n",
       "[1] \"OttawaHealth\"\n",
       "\n",
       "[[8]]\n",
       "[1] \"roussin_brent\"\n",
       "\n",
       "[[9]]\n",
       "[1] \"StrangRobert\"\n",
       "\n",
       "[[10]]\n",
       "[1] \"VeraEtches\"\n"
      ]
     },
     "metadata": {},
     "output_type": "display_data"
    }
   ],
   "source": [
    "health_official <- list(\"CDCofBC\", \"ChiefSciCan\", \"CMOH_Alberta\", \"CMOH_NL\", \"CPHO_Canada\", \"epdevilla\", \"OttawaHealth\", \"roussin_brent\", \"StrangRobert\", \"VeraEtches\")\n",
    "expert <- list(\"BogochIsaac\", \"CaulfieldTim\", \"DeNovo_Fatima\", \"deonandan\", \"DFisman\", \"Dr_ChrisSimpson\", \"drgigiosler\", \"DrKaliBarrett\", \"drmwarner\", \"drsusanshaw\", \"DrVivianS\", \"First10EM\", \"GermHunterID\", \"goaliegirlmom31\", \"heysciencesam\", \"IDEpiPhD\", \"imgrund\", \"iPreetBrar\", \"IrfanDhalla\", \"jkwan_md\", \"jonathanstea\", \"KashPrime\", \"Kevin__Parent\", \"KindrachukJason\", \"KrishanaSankar\", \"kwadwo777\", \"LisaBarrettID\", \"MoriartyLab\", \"MPaiMD\", \"NaheedD\", \"NathanStall\", \"paimadhu\", \"RicharLisa\", \"sabivm\", \"SammyG_MD\", \"SciChefCan\", \"sdbaral\", \"SharkawyMD\", \"shazmamithani\", \"SteiniBrown\", \"TorontoIDDOC\", \"UbakaOgbogu\", \"zchagla\")\n",
    "civil_society_groups <- list(\"blackdocscanada\", \"cmcovidtf\", \"conquercovid19\", \"COVID_19_Canada\", \"COVIDSciOntario\", \"McGillOSS\", \"sacovidtf\", \"ScienceUpFirst\", \"thisisourshotca\", \"VaxHuntersCan\")\n",
    "journalist <- list(\"asapscience\", \"binhanv\", \"carlyweeks\", \"ctouzin\", \"CTV_AvisFavaro\", \"egpayne\", \"j_mcelroy\", \"jasonfherring\", \"jfrketich\", \"JWongGlobalNews\", \"jyangstar\", \"LaurenPelley\", \"NightShiftMD\", \"NoLore\", \"picardonhealth\", \"sharon_kirkey\", \"theresaboyle\", \"VikCBC\")\n",
    "politician <- list(\"adriandix\", \"cdube_sante\", \"celliottability\", \"ErnieHudsonPEI\", \"everetthindley\", \"Johnrockdoc\", \"juliegreenMLA\", \"MerrimanPaul\", \"MLAStefanson\", \"PattyHajdu\", \"shandro\", \"ShephardDorothy\", \"zachchurchill\")\n",
    "expert_university <- list(\"AmyGreerKalisz\", \"angie_rasmussen\", \"AnnaBlakney\", \"AntibioticDoc\", \"ASPphysician\")\n",
    "medical_professional<- list(\"AlikaMD\")"
   ]
  }
 ],
 "metadata": {
  "kernelspec": {
   "display_name": "R",
   "language": "R",
   "name": "ir"
  },
  "language_info": {
   "codemirror_mode": "r",
   "file_extension": ".r",
   "mimetype": "text/x-r-source",
   "name": "R",
   "pygments_lexer": "r",
   "version": "4.1.3"
  }
 },
 "nbformat": 4,
 "nbformat_minor": 2
}
