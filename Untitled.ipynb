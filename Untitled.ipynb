{
 "cells": [
  {
   "cell_type": "code",
   "execution_count": null,
   "metadata": {
    "vscode": {
     "languageId": "r"
    }
   },
   "outputs": [],
   "source": [
    "library(tidyverse)\n",
    "library(dplyr)\n",
    "library(readr)\n",
    "library(data.table)\n",
    "\n",
    "UBC_ISD <- fread(\"UBC-ISD.csv\", encoding = \"utf-8\")"
   ]
  },
  {
   "cell_type": "code",
   "execution_count": null,
   "metadata": {
    "vscode": {
     "languageId": "r"
    }
   },
   "outputs": [],
   "source": [
    "twitter_data <- UBC_ISD |>\n",
    "select(starts_with(\"twitter\"))\n",
    "\n",
    "colnames(twitter_data) <- str_replace(colnames(twitter_data), \"twitter.tweet/\", \"\")\n",
    "colnames(twitter_data) <- str_replace(colnames(twitter_data), \"twitter.user/\", \"\")\n",
    "\n",
    "twitter_data <- twitter_data|>\n",
    "select(text)\n",
    "\n",
    "colnames(twitter_data)"
   ]
  },
  {
   "cell_type": "code",
   "execution_count": null,
   "metadata": {
    "vscode": {
     "languageId": "r"
    }
   },
   "outputs": [],
   "source": [
    "terms <- c('fuck', 'dirty', 'stupid', 'idiot', 'asshole', 'bastard', 'nasty', 'whore', 'slut', 'skank', 'cunt', 'bitch', 'motherfucker', 'go to hell', 'wimp', 'coward', 'moron', 'traitor', 'shut up', 'shut the fuck up', 'stfu', 'piece of shit', 'ignorant', 'clown', 'ccpvirus', 'chinese coronavirus', 'chinavirus', 'china virus', 'fuckchina', 'nukechina', 'bombchina', 'deathtochina', 'chinesevirus', 'fake lab wuhan', 'china weapon', 'china bioweapon', 'zionazi', 'Soros virus', 'blood libel', 'nwovirus', 'new world order', 'sacrifice children', 'jew world order', 'liar', 'yellow star', 'israel virus', 'israelvirus', 'rothschild covid', 'kalergi plan', 'jail', 'locked up', 'evil.', 'is evil', 'so evil', 'pure evil', 'an evil', 'evil wom', 'evil man', 'evil witch', 'is evil', 'are evil', 'that evil', 'very evil', 'tyrant', 'tyranny', 'dictator', 'tv doctor', 'twitter doctor', 'murder', 'murderer', 'eugenic', 'satan', 'Nazi', 'non-human', 'sterile', 'slave', 'crooked', 'corrupt', 'shill', 'liar', 'lying', 'killer', 'fraud', 'big pharma', 'pharma puppet', 'Nuremberg', 'crimes against humanity', 'genocide', 'child abuse', 'covid hoax', 'covid fake', 'virus hoax', 'gates virus', 'bioweapon', 'secret elite', 'depopulation', 'save our children', 'scamdemic', 'plandemic')\n",
    "terms <- paste0(\" \", terms)"
   ]
  },
  {
   "cell_type": "code",
   "execution_count": null,
   "metadata": {
    "vscode": {
     "languageId": "r"
    }
   },
   "outputs": [],
   "source": [
    "# Load necessary libraries\n",
    "install.packages(\"dplyr\")\n",
    "library(dplyr)\n",
    "\n",
    "# List of users to filter tweets\n",
    "users <- c(\"adriandix\", \"AlikaMD\", \"AmyGreerKalisz\", \"angie_rasmussen\", \"AnnaBlakney\", \n",
    "           \"AntibioticDoc\", \"asapscience\", \"ASPphysician\", \"atRachelGilmore\", \"binhanv\", \n",
    "           \"BirinderNarang\", \"blackdocscanada\", \"BogochIsaac\", \"bornk\", \"carlyweeks\", \n",
    "           \"CaulfieldTim\", \"CDCofBC\", \"cdube_sante\", \"cfpcceo\", \"ChiefSciCan\", \"cmcovidtf\", \n",
    "           \"CMOH_Alberta\", \"CMOH_NL\", \"conquercovid19\", \"COVID_19_Canada\", \"COVIDSciOntario\", \n",
    "           \"CPHO_Canada\", \"ctouzin\", \"CTV_AvisFavaro\", \"DeNovo_Fatima\", \"deonandan\", \"drfisman\", \n",
    "           \"Dr_ChrisSimpson\", \"drgigiosler\", \"DrKaliBarrett\", \"drmwarner\", \"drsusanshaw\", \n",
    "           \"DrVivianS\", \"egpayne\", \"epdevilla\", \"ErnieHudsonPEI\", \"everetthindley\", \"First10EM\", \n",
    "           \"GermHunterMD\", \"glenpyle\", \"heysciencesam\", \"hgagneTVA\", \"IDEpiPhD\", \"imgrund\", \n",
    "           \"iPreetBrar\", \"IrfanDhalla\", \"j_mcelroy\", \"jasonfherring\", \"jfrketich\", \"jkwan_md\", \n",
    "           \"Johnrockdoc\", \"JuliaWongCBC\", \"juliegreenMLA\", \"Justin_Ling\", \"jyangstar\", \"KashPrime\", \n",
    "           \"KatharineSmart\", \"Kevin_Parent\", \"KindrachuckJason\", \"KrishanaSankar\", \"kwadwo777\", \n",
    "           \"LaurenPelley\", \"LisaBarrettID\", \"McGillOSS\", \"MerrimanPaul\", \"MichaelSchwandt\", \n",
    "           \"MLAStefanson\", \"moirawyton\", \"moriartylabs\", \"MPaiMD\", \"NaheedD\", \"NathanStall\", \n",
    "           \"NightShiftMD\", \"NoLore\", \"OttawaHealth\", \"paimadhu\", \"PattyHajdu\", \"picardonhealth\", \n",
    "           \"RicharLisa\", \"roussin_brent\", \"sabaeitizaz\", \"sabiVM\", \"SammyG_MD\", \"sarperotto\", \n",
    "           \"SciChefCan\", \"sciencemonkeyca\", \"ScienceUpFirst\", \"sdbaral\", \"shandro\", \"SharkawyMD\", \n",
    "           \"shazmamithani\", \"ShephardDorothy\", \"srinmurthy99\", \"SteiniBrown\", \"theresaboyle\", \n",
    "           \"thisisourshotca\", \"TorontoIDDOC\", \"UbakaOgbogu\", \"VaxHuntersCan\", \"VeraEtches\", \n",
    "           \"VikCBC\", \"wickdchiq\", \"zachchurchhill\", \"zchangla\", \"DrKathleenRoss1\")\n",
    "\n",
    "# Create an empty list to store the dataframes\n",
    "tweet_dfs <- list()\n",
    "\n",
    "\n",
    "terms <- c('fuck', 'dirty', 'stupid', 'idiot', 'asshole', 'bastard', 'nasty', 'whore', 'slut', 'skank', 'cunt', 'bitch', 'motherfucker', 'go to hell', 'wimp', 'coward', 'moron', 'traitor', 'shut up', 'shut the fuck up', 'stfu', 'piece of shit', 'ignorant', 'clown', 'ccpvirus', 'chinese coronavirus', 'chinavirus', 'china virus', 'fuckchina', 'nukechina', 'bombchina', 'deathtochina', 'chinesevirus', 'fake lab wuhan', 'china weapon', 'china bioweapon', 'zionazi', 'Soros virus', 'blood libel', 'nwovirus', 'new world order', 'sacrifice children', 'jew world order', 'liar', 'yellow star', 'israel virus', 'israelvirus', 'rothschild covid', 'kalergi plan', 'jail', 'locked up', 'evil.', 'is evil', 'so evil', 'pure evil', 'an evil', 'evil wom', 'evil man', 'evil witch', 'is evil', 'are evil', 'that evil', 'very evil', 'tyrant', 'tyranny', 'dictator', 'tv doctor', 'twitter doctor', 'murder', 'murderer', 'eugenic', 'satan', 'Nazi', 'non-human', 'sterile', 'slave', 'crooked', 'corrupt', 'shill', 'liar', 'lying', 'killer', 'fraud', 'big pharma', 'pharma puppet', 'Nuremberg', 'crimes against humanity', 'genocide', 'child abuse', 'covid hoax', 'covid fake', 'virus hoax', 'gates virus', 'bioweapon', 'secret elite', 'depopulation', 'save our children', 'scamdemic', 'plandemic')\n",
    "terms <- paste0(\" \", terms)\n",
    "\n",
    "pattern <- paste(terms, collapse = \"|\")\n",
    "# Function to filter tweets mentioning a specific user\n",
    "filter_tweets <- function(user) {\n",
    "total_entries <- nrow(df)\n",
    "\n",
    "  twitter_data |> \n",
    "    filter(grepl(user, text, ignore.case = TRUE)) |>\n",
    "    mutate(negative = as.integer(grepl(pattern, text, ignore.case = TRUE)))\n",
    "\n",
    "}\n",
    "\n",
    "# Loop through each user and store the filtered tweets in the list\n",
    "for (user in users) {\n",
    "  tweet_dfs[[user]] <- filter_tweets(user)\n",
    "}\n",
    "\n",
    "# Now tweet_dfs contains a dataframe for each user\n"
   ]
  },
  {
   "cell_type": "code",
   "execution_count": null,
   "metadata": {
    "vscode": {
     "languageId": "r"
    }
   },
   "outputs": [],
   "source": [
    "# Load necessary libraries\n",
    "install.packages(\"dplyr\")\n",
    "library(dplyr)\n",
    "\n",
    "# List of users to filter tweets\n",
    "users <- c(\"adriandix\", \"AlikaMD\", \"AmyGreerKalisz\", \"angie_rasmussen\", \"AnnaBlakney\", \n",
    "           \"AntibioticDoc\", \"asapscience\", \"ASPphysician\", \"atRachelGilmore\", \"binhanv\", \n",
    "           \"BirinderNarang\", \"blackdocscanada\", \"BogochIsaac\", \"bornk\", \"carlyweeks\", \n",
    "           \"CaulfieldTim\", \"CDCofBC\", \"cdube_sante\", \"cfpcceo\", \"ChiefSciCan\", \"cmcovidtf\", \n",
    "           \"CMOH_Alberta\", \"CMOH_NL\", \"conquercovid19\", \"COVID_19_Canada\", \"COVIDSciOntario\", \n",
    "           \"CPHO_Canada\", \"ctouzin\", \"CTV_AvisFavaro\", \"DeNovo_Fatima\", \"deonandan\", \"drfisman\", \n",
    "           \"Dr_ChrisSimpson\", \"drgigiosler\", \"DrKaliBarrett\", \"drmwarner\", \"drsusanshaw\", \n",
    "           \"DrVivianS\", \"egpayne\", \"epdevilla\", \"ErnieHudsonPEI\", \"everetthindley\", \"First10EM\", \n",
    "           \"GermHunterMD\", \"glenpyle\", \"heysciencesam\", \"hgagneTVA\", \"IDEpiPhD\", \"imgrund\", \n",
    "           \"iPreetBrar\", \"IrfanDhalla\", \"j_mcelroy\", \"jasonfherring\", \"jfrketich\", \"jkwan_md\", \n",
    "           \"Johnrockdoc\", \"JuliaWongCBC\", \"juliegreenMLA\", \"Justin_Ling\", \"jyangstar\", \"KashPrime\", \n",
    "           \"KatharineSmart\", \"Kevin_Parent\", \"KindrachuckJason\", \"KrishanaSankar\", \"kwadwo777\", \n",
    "           \"LaurenPelley\", \"LisaBarrettID\", \"McGillOSS\", \"MerrimanPaul\", \"MichaelSchwandt\", \n",
    "           \"MLAStefanson\", \"moirawyton\", \"moriartylabs\", \"MPaiMD\", \"NaheedD\", \"NathanStall\", \n",
    "           \"NightShiftMD\", \"NoLore\", \"OttawaHealth\", \"paimadhu\", \"PattyHajdu\", \"picardonhealth\", \n",
    "           \"RicharLisa\", \"roussin_brent\", \"sabaeitizaz\", \"sabiVM\", \"SammyG_MD\", \"sarperotto\", \n",
    "           \"SciChefCan\", \"sciencemonkeyca\", \"ScienceUpFirst\", \"sdbaral\", \"shandro\", \"SharkawyMD\", \n",
    "           \"shazmamithani\", \"ShephardDorothy\", \"srinmurthy99\", \"SteiniBrown\", \"theresaboyle\", \n",
    "           \"thisisourshotca\", \"TorontoIDDOC\", \"UbakaOgbogu\", \"VaxHuntersCan\", \"VeraEtches\", \n",
    "           \"VikCBC\", \"wickdchiq\", \"zachchurchhill\", \"zchangla\", \"DrKathleenRoss1\")\n",
    "\n",
    "# Create an empty list to store the dataframes\n",
    "tweet_dfs <- list()\n",
    "\n",
    "# List of negative terms\n",
    "terms <- c('fuck', 'dirty', 'stupid', 'idiot', 'asshole', 'bastard', 'nasty', 'whore', 'slut', 'skank', 'cunt', 'bitch', 'motherfucker', 'go to hell', 'wimp', 'coward', 'moron', 'traitor', 'shut up', 'shut the fuck up', 'stfu', 'piece of shit', 'ignorant', 'clown', 'ccpvirus', 'chinese coronavirus', 'chinavirus', 'china virus', 'fuckchina', 'nukechina', 'bombchina', 'deathtochina', 'chinesevirus', 'fake lab wuhan', 'china weapon', 'china bioweapon', 'zionazi', 'Soros virus', 'blood libel', 'nwovirus', 'new world order', 'sacrifice children', 'jew world order', 'liar', 'yellow star', 'israel virus', 'israelvirus', 'rothschild covid', 'kalergi plan', 'jail', 'locked up', 'evil.', 'is evil', 'so evil', 'pure evil', 'an evil', 'evil wom', 'evil man', 'evil witch', 'is evil', 'are evil', 'that evil', 'very evil', 'tyrant', 'tyranny', 'dictator', 'tv doctor', 'twitter doctor', 'murder', 'murderer', 'eugenic', 'satan', 'Nazi', 'non-human', 'sterile', 'slave', 'crooked', 'corrupt', 'shill', 'liar', 'lying', 'killer', 'fraud', 'big pharma', 'pharma puppet', 'Nuremberg', 'crimes against humanity', 'genocide', 'child abuse', 'covid hoax', 'covid fake', 'virus hoax', 'gates virus', 'bioweapon', 'secret elite', 'depopulation', 'save our children', 'scamdemic', 'plandemic')\n",
    "terms <- paste0(\" \", terms)\n",
    "\n",
    "pattern <- paste(terms, collapse = \"|\")\n",
    "\n",
    "# Function to filter tweets mentioning a specific user\n",
    "filter_tweets <- function(user) {\n",
    "  total_entries <- nrow(twitter_data)\n",
    "  \n",
    "  filtered_data <- twitter_data %>%\n",
    "    filter(grepl(user, text, ignore.case = TRUE)) %>%\n",
    "    mutate(negative = as.integer(grepl(pattern, text, ignore.case = TRUE)))\n",
    "\n",
    "  negative_entries <- nrow(filtered_data %>% filter(negative == 1))\n",
    "\n",
    "  filtered_data <- filtered_data %>%\n",
    "    mutate(proportion_negative = negative_entries / total_entries) %>%\n",
    "    select(proportion_negative) %>%\n",
    "    head(1) %>%\n",
    "    as.list()\n",
    "\n",
    "  return(filtered_data)\n",
    "}\n",
    "\n",
    "# Loop through each user and store the filtered tweets in the list\n",
    "for (user in users) {\n",
    "  tweet_dfs[[user]] <- filter_tweets(user)\n",
    "}\n",
    "\n",
    "# Now tweet_dfs contains a dataframe for each user\n"
   ]
  },
  {
   "cell_type": "code",
   "execution_count": null,
   "metadata": {
    "vscode": {
     "languageId": "r"
    }
   },
   "outputs": [],
   "source": [
    "men <- list(\"adriandix\", \"AlikaMD\", \"ASPphysician\", \"BogochIsaac\", \"CaulfieldTim\", \n",
    "            \"cdube_sante\", \"deonandan\", \"Dr_ChrisSimpson\", \"drfisman\", \"drmwarner\", \n",
    "            \"ErnieHudsonPEI\", \"everetthindley\", \"First10EM\", \"GermHunterMD\", \"imgrund\", \n",
    "            \"IrfanDhalla\", \"j_mcelroy\", \"jasonfherring\", \"Johnrockdoc\", \"Justin_Ling\", \n",
    "            \"KashPrime\", \"Kevin_Parent\", \"KindrachuckJason\", \"kwadwo777\", \"MerrimanPaul\", \n",
    "            \"NaheedD\", \"NathanStall\", \"NightShiftMD\", \"paimadhu\", \"picardonhealth\", \n",
    "            \"roussin_brent\", \"SammyG_MD\", \"sciencemonkeyca\", \"sdbaral\", \"shandro\", \n",
    "            \"srinmurthy99\", \"SteiniBrown\", \"TorontoIDDOC\", \"UbakaOgbogu\", \"VikCBC\", \n",
    "            \"zachchurchhill\", \"zchangla\")\n",
    "\n",
    "men_df <- do.call(rbind, lapply(men, function(user) tweet_dfs[[user]]))\n"
   ]
  },
  {
   "cell_type": "code",
   "execution_count": null,
   "metadata": {
    "vscode": {
     "languageId": "r"
    }
   },
   "outputs": [],
   "source": [
    "men_df_1 <- men_df |>\n",
    "filter(negative==1)"
   ]
  },
  {
   "cell_type": "code",
   "execution_count": null,
   "metadata": {
    "vscode": {
     "languageId": "r"
    }
   },
   "outputs": [],
   "source": [
    "men_df_1"
   ]
  },
  {
   "cell_type": "code",
   "execution_count": null,
   "metadata": {
    "vscode": {
     "languageId": "r"
    }
   },
   "outputs": [],
   "source": [
    "women <- list(\"AmyGreerKalisz\", \"angie_rasmussen\", \"AnnaBlakney\", \"AntibioticDoc\", \"binhanv\", \n",
    "              \"bornk\", \"carlyweeks\", \"ChiefSciCan\", \"CMOH_Alberta\", \"CMOH_NL\", \"CPHO_Canada\", \n",
    "              \"ctouzin\", \"CTV_AvisFavaro\", \"DeNovo_Fatima\", \"drgigiosler\", \"DrKaliBarrett\", \n",
    "              \"drsusanshaw\", \"DrVivianS\", \"egpayne\", \"epdevilla\", \"glenpyle\", \"heysciencesam\", \n",
    "              \"IDEpiPhD\", \"iPreetBrar\", \"jfrketich\", \"jkwan_md\", \"JuliaWongCBC\", \"juliegreenMLA\", \n",
    "              \"jyangstar\", \"KatharineSmart\", \"KrishanaSankar\", \"LaurenPelley\", \"LisaBarrettID\", \n",
    "              \"MLAStefanson\", \"moriartylabs\", \"moirawyton\", \"MPaiMD\", \"NoLore\", \"PattyHajdu\", \n",
    "              \"RicharLisa\", \"sabiVM\", \"SciChefCan\", \"sarperotto\", \"shazmamithani\", \"ShephardDorothy\", \n",
    "              \"theresaboyle\", \"VeraEtches\", \"wickdchiq\", \"DrKathleenRoss1\")\n",
    "\n",
    "women_df <- do.call(rbind, lapply(women, function(user) tweet_dfs[[user]]))\n"
   ]
  },
  {
   "cell_type": "code",
   "execution_count": null,
   "metadata": {
    "vscode": {
     "languageId": "r"
    }
   },
   "outputs": [],
   "source": [
    "women_df"
   ]
  }
 ],
 "metadata": {
  "kernelspec": {
   "display_name": "R",
   "language": "R",
   "name": "ir"
  },
  "language_info": {
   "codemirror_mode": "r",
   "file_extension": ".r",
   "mimetype": "text/x-r-source",
   "name": "R",
   "pygments_lexer": "r",
   "version": "4.1.3"
  }
 },
 "nbformat": 4,
 "nbformat_minor": 2
}
