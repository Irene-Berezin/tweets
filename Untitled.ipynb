{
 "cells": [
  {
   "cell_type": "code",
   "execution_count": 4,
   "metadata": {
    "vscode": {
     "languageId": "r"
    }
   },
   "outputs": [],
   "source": [
    "library(tidyverse)\n",
    "library(dplyr)\n",
    "library(readr)\n",
    "library(data.table)\n",
    "library(purrr)"
   ]
  },
  {
   "cell_type": "markdown",
   "metadata": {},
   "source": [
    "## ISD Dataset analysis\n",
    "\n",
    "This notebook attempts to answer the following questions, using Chris' list of toxic terms:\n",
    "- What percentage of tweets at each user of interest is toxic?\n",
    "- Is there a gender disparity between rates of toxicity? IE, does one gender experience a greater percentage of toxic tweets?\n",
    "- What percentage of tweets from each category of users of interest are toxic?\n",
    "\n",
    "Note that due to the size of the dataset some cells might take a painfully long time to run. I tried my best to cut down on execution time, but this is the best I could do. \n",
    "\n",
    "I exclude retweets from this analysis due to them not adding any new textual info. It would be nice, however, to perhaps analyze what kinds of tweets are being retweeted. "
   ]
  },
  {
   "cell_type": "code",
   "execution_count": 6,
   "metadata": {
    "vscode": {
     "languageId": "r"
    }
   },
   "outputs": [
    {
     "ename": "ERROR",
     "evalue": "Error in fread(\"UBC-ISD.csv\", encoding = \"UTF-8\"): Opened 6.814GB (7316020036 bytes) file ok but could not memory map it. This is a 64bit process. There is probably not enough contiguous virtual memory available.\n",
     "output_type": "error",
     "traceback": [
      "Error in fread(\"UBC-ISD.csv\", encoding = \"UTF-8\"): Opened 6.814GB (7316020036 bytes) file ok but could not memory map it. This is a 64bit process. There is probably not enough contiguous virtual memory available.\nTraceback:\n",
      "1. fread(\"UBC-ISD.csv\", encoding = \"UTF-8\")"
     ]
    }
   ],
   "source": [
    "UBC_ISD <- fread(\"UBC-ISD.csv\", encoding = \"UTF-8\")"
   ]
  },
  {
   "cell_type": "code",
   "execution_count": null,
   "metadata": {
    "vscode": {
     "languageId": "r"
    }
   },
   "outputs": [],
   "source": [
    "UBC_ISD_text <- UBC_ISD |>\n",
    "select(\"twitter.tweet/text\")|>\n",
    "rename(text=\"twitter.tweet/text\")|>\n",
    "mutate_all(na_if,\"\")|>\n",
    "drop_na()|>\n",
    "distinct() #removes retweets\n"
   ]
  },
  {
   "cell_type": "code",
   "execution_count": null,
   "metadata": {
    "vscode": {
     "languageId": "r"
    }
   },
   "outputs": [],
   "source": [
    "terms <- c('fuck', 'dirty', 'stupid', 'idiot', 'asshole', 'bastard', 'nasty', 'whore', 'slut', 'skank', 'cunt', 'bitch', 'motherfucker', 'go to hell', 'wimp', 'coward', 'moron', 'traitor', 'shut up', 'shut the fuck up', 'stfu', 'piece of shit', 'ignorant', 'clown', 'ccpvirus', 'chinese coronavirus', 'chinavirus', 'china virus', 'fuckchina', 'nukechina', 'bombchina', 'deathtochina', 'chinesevirus', 'fake lab wuhan', 'china weapon', 'china bioweapon', 'zionazi', 'Soros virus', 'blood libel', 'nwovirus', 'new world order', 'sacrifice children', 'jew world order', 'liar', 'yellow star', 'israel virus', 'israelvirus', 'rothschild covid', 'kalergi plan', 'jail', 'locked up', 'evil.', 'is evil', 'so evil', 'pure evil', 'an evil', 'evil wom', 'evil man', 'evil witch', 'is evil', 'are evil', 'that evil', 'very evil', 'tyrant', 'tyranny', 'dictator', 'tv doctor', 'twitter doctor', 'murder', 'murderer', 'eugenic', 'satan', 'Nazi', 'non-human', 'sterile', 'slave', 'crooked', 'corrupt', 'shill', 'liar', 'lying', 'killer', 'fraud', 'big pharma', 'pharma puppet', 'Nuremberg', 'crimes against humanity', 'genocide', 'child abuse', 'covid hoax', 'covid fake', 'virus hoax', 'gates virus', 'bioweapon', 'secret elite', 'depopulation', 'save our children', 'scamdemic', 'plandemic')\n",
    "terms <- paste0(\" \", terms)\n",
    "pattern <- paste(terms, collapse = \"|\")"
   ]
  },
  {
   "cell_type": "code",
   "execution_count": 33,
   "metadata": {
    "vscode": {
     "languageId": "r"
    }
   },
   "outputs": [
    {
     "ename": "",
     "evalue": "",
     "output_type": "error",
     "traceback": [
      "\u001b[1;31mThe Kernel crashed while executing code in the current cell or a previous cell. \n",
      "\u001b[1;31mPlease review the code in the cell(s) to identify a possible cause of the failure. \n",
      "\u001b[1;31mClick <a href='https://aka.ms/vscodeJupyterKernelCrash'>here</a> for more info. \n",
      "\u001b[1;31mView Jupyter <a href='command:jupyter.viewOutput'>log</a> for further details."
     ]
    }
   ],
   "source": [
    "\n",
    "# List of users to filter tweets\n",
    "users <- c(\"adriandix\", \"AlikaMD\", \"AmyGreerKalisz\", \"angie_rasmussen\", \"AnnaBlakney\", \n",
    "           \"AntibioticDoc\", \"asapscience\", \"ASPphysician\", \"atRachelGilmore\", \"binhanv\", \n",
    "           \"BirinderNarang\", \"blackdocscanada\", \"BogochIsaac\", \"bornk\", \"carlyweeks\", \n",
    "           \"CaulfieldTim\", \"CDCofBC\", \"cdube_sante\", \"cfpcceo\", \"ChiefSciCan\", \"cmcovidtf\", \n",
    "           \"CMOH_Alberta\", \"CMOH_NL\", \"conquercovid19\", \"COVID_19_Canada\", \"COVIDSciOntario\", \n",
    "           \"CPHO_Canada\", \"ctouzin\", \"CTV_AvisFavaro\", \"DeNovo_Fatima\", \"deonandan\", \"drfisman\", \n",
    "           \"Dr_ChrisSimpson\", \"drgigiosler\", \"DrKaliBarrett\", \"drmwarner\", \"drsusanshaw\", \n",
    "           \"DrVivianS\", \"egpayne\", \"epdevilla\", \"ErnieHudsonPEI\", \"everetthindley\", \"First10EM\", \n",
    "           \"GermHunterMD\", \"glenpyle\", \"heysciencesam\", \"hgagneTVA\", \"IDEpiPhD\", \"imgrund\", \n",
    "           \"iPreetBrar\", \"IrfanDhalla\", \"j_mcelroy\", \"jasonfherring\", \"jfrketich\", \"jkwan_md\", \n",
    "           \"Johnrockdoc\", \"JuliaWongCBC\", \"juliegreenMLA\", \"Justin_Ling\", \"jyangstar\", \"KashPrime\", \n",
    "           \"KatharineSmart\", \"Kevin_Parent\", \"KindrachuckJason\", \"KrishanaSankar\", \"kwadwo777\", \n",
    "           \"LaurenPelley\", \"LisaBarrettID\", \"McGillOSS\", \"MerrimanPaul\", \"MichaelSchwandt\", \n",
    "           \"MLAStefanson\", \"moirawyton\", \"moriartylabs\", \"MPaiMD\", \"NaheedD\", \"NathanStall\", \n",
    "           \"NightShiftMD\", \"NoLore\", \"OttawaHealth\", \"paimadhu\", \"PattyHajdu\", \"picardonhealth\", \n",
    "           \"RicharLisa\", \"roussin_brent\", \"sabaeitizaz\", \"sabiVM\", \"SammyG_MD\", \"sarperotto\", \n",
    "           \"SciChefCan\", \"sciencemonkeyca\", \"ScienceUpFirst\", \"sdbaral\", \"shandro\", \"SharkawyMD\", \n",
    "           \"shazmamithani\", \"ShephardDorothy\", \"srinmurthy99\", \"SteiniBrown\", \"theresaboyle\", \n",
    "           \"thisisourshotca\", \"TorontoIDDOC\", \"UbakaOgbogu\", \"VaxHuntersCan\", \"VeraEtches\", \n",
    "           \"VikCBC\", \"wickdchiq\", \"zachchurchhill\", \"zchangla\", \"DrKathleenRoss1\")\n",
    "\n",
    "# Create an empty list to store the dataframes\n",
    "tweet_dfs <- list()\n",
    "\n",
    "# Function to filter tweets mentioning a specific user\n",
    "filter_tweets <- function(user) {\n",
    "  total_entries <- nrow(UBC_ISD_text)\n",
    "  \n",
    "  filtered_data <- UBC_ISD_text |>\n",
    "    filter(grepl(user, text, ignore.case = TRUE)) |>\n",
    "    mutate(negative = as.integer(grepl(pattern, text, ignore.case = TRUE)))\n",
    "\n",
    "  negative_entries <- nrow(filtered_data |> filter(negative == 1))\n",
    "\n",
    "  filtered_data <- filtered_data |>\n",
    "    mutate(proportion_negative = negative_entries / total_entries*100) |>\n",
    "    select(proportion_negative) |>\n",
    "    head(1) |>\n",
    "    as.list()\n",
    "\n",
    "  return(filtered_data)\n",
    "}\n",
    "\n",
    "# Loop through each user and store the filtered tweets in the list\n",
    "for (user in users) {\n",
    "  tweet_dfs$user <- filter_tweets(user)\n",
    "}\n",
    "\n",
    "# Now tweet_dfs contains a dataframe for each user\n"
   ]
  },
  {
   "cell_type": "code",
   "execution_count": null,
   "metadata": {
    "vscode": {
     "languageId": "r"
    }
   },
   "outputs": [],
   "source": [
    "# List of users to filter tweets\n",
    "users <- c(\"adriandix\", \"AlikaMD\", \"AmyGreerKalisz\", \"angie_rasmussen\", \"AnnaBlakney\", \n",
    "           \"AntibioticDoc\", \"asapscience\", \"ASPphysician\", \"atRachelGilmore\", \"binhanv\", \n",
    "           \"BirinderNarang\", \"blackdocscanada\", \"BogochIsaac\", \"bornk\", \"carlyweeks\", \n",
    "           \"CaulfieldTim\", \"CDCofBC\", \"cdube_sante\", \"cfpcceo\", \"ChiefSciCan\", \"cmcovidtf\", \n",
    "           \"CMOH_Alberta\", \"CMOH_NL\", \"conquercovid19\", \"COVID_19_Canada\", \"COVIDSciOntario\", \n",
    "           \"CPHO_Canada\", \"ctouzin\", \"CTV_AvisFavaro\", \"DeNovo_Fatima\", \"deonandan\", \"drfisman\", \n",
    "           \"Dr_ChrisSimpson\", \"drgigiosler\", \"DrKaliBarrett\", \"drmwarner\", \"drsusanshaw\", \n",
    "           \"DrVivianS\", \"egpayne\", \"epdevilla\", \"ErnieHudsonPEI\", \"everetthindley\", \"First10EM\", \n",
    "           \"GermHunterMD\", \"glenpyle\", \"heysciencesam\", \"hgagneTVA\", \"IDEpiPhD\", \"imgrund\", \n",
    "           \"iPreetBrar\", \"IrfanDhalla\", \"j_mcelroy\", \"jasonfherring\", \"jfrketich\", \"jkwan_md\", \n",
    "           \"Johnrockdoc\", \"JuliaWongCBC\", \"juliegreenMLA\", \"Justin_Ling\", \"jyangstar\", \"KashPrime\", \n",
    "           \"KatharineSmart\", \"Kevin_Parent\", \"KindrachuckJason\", \"KrishanaSankar\", \"kwadwo777\", \n",
    "           \"LaurenPelley\", \"LisaBarrettID\", \"McGillOSS\", \"MerrimanPaul\", \"MichaelSchwandt\", \n",
    "           \"MLAStefanson\", \"moirawyton\", \"moriartylabs\", \"MPaiMD\", \"NaheedD\", \"NathanStall\", \n",
    "           \"NightShiftMD\", \"NoLore\", \"OttawaHealth\", \"paimadhu\", \"PattyHajdu\", \"picardonhealth\", \n",
    "           \"RicharLisa\", \"roussin_brent\", \"sabaeitizaz\", \"sabiVM\", \"SammyG_MD\", \"sarperotto\", \n",
    "           \"SciChefCan\", \"sciencemonkeyca\", \"ScienceUpFirst\", \"sdbaral\", \"shandro\", \"SharkawyMD\", \n",
    "           \"shazmamithani\", \"ShephardDorothy\", \"srinmurthy99\", \"SteiniBrown\", \"theresaboyle\", \n",
    "           \"thisisourshotca\", \"TorontoIDDOC\", \"UbakaOgbogu\", \"VaxHuntersCan\", \"VeraEtches\", \n",
    "           \"VikCBC\", \"wickdchiq\", \"zachchurchhill\", \"zchangla\", \"DrKathleenRoss1\")\n",
    "\n",
    "# Create an empty list to store the negative proportions\n",
    "negative_proportions <- list()\n",
    "\n",
    "# Function to filter tweets mentioning a specific user and calculate the negative proportion\n",
    "filter_tweets <- function(user) {\n",
    "  total_entries <- nrow(UBC_ISD_text)\n",
    "  \n",
    "  filtered_data <- UBC_ISD_text |>\n",
    "    filter(grepl(user, text, ignore.case = TRUE)) |>\n",
    "    mutate(negative = as.integer(grepl(pattern, text, ignore.case = TRUE)))\n",
    "\n",
    "  negative_entries <- nrow(filtered_data |> filter(negative == 1))\n",
    "\n",
    "  proportion_negative <- (negative_entries / total_entries) * 100\n",
    "\n",
    "  return(proportion_negative)\n",
    "}\n",
    "\n",
    "# Loop through each user and store the negative proportion in the list\n",
    "for (user in users) {\n",
    "  negative_proportions[[user]] <- filter_tweets(user)\n",
    "}\n",
    "\n",
    "# Example of how to access the negative proportion for a specific user\n",
    "adriandix_negative_proportion <- negative_proportions[[\"adriandix\"]]\n"
   ]
  },
  {
   "cell_type": "code",
   "execution_count": null,
   "metadata": {
    "vscode": {
     "languageId": "r"
    }
   },
   "outputs": [],
   "source": [
    "tweet_dfs$adriandix"
   ]
  },
  {
   "cell_type": "markdown",
   "metadata": {},
   "source": [
    "**Gender bias analysis**: \n",
    "\n",
    "What percentage of all tweets directed at women are toxic? At men?\n",
    "\n",
    "run `women_df` and `men_df` for the results."
   ]
  },
  {
   "cell_type": "code",
   "execution_count": null,
   "metadata": {
    "vscode": {
     "languageId": "r"
    }
   },
   "outputs": [],
   "source": [
    "men <- list(\"adriandix\", \"AlikaMD\", \"ASPphysician\", \"BogochIsaac\", \"CaulfieldTim\", \n",
    "            \"cdube_sante\", \"deonandan\", \"Dr_ChrisSimpson\", \"drfisman\", \"drmwarner\", \n",
    "            \"ErnieHudsonPEI\", \"everetthindley\", \"First10EM\", \"GermHunterMD\", \"imgrund\", \n",
    "            \"IrfanDhalla\", \"j_mcelroy\", \"jasonfherring\", \"Johnrockdoc\", \"Justin_Ling\", \n",
    "            \"KashPrime\", \"Kevin_Parent\", \"KindrachuckJason\", \"kwadwo777\", \"MerrimanPaul\", \n",
    "            \"NaheedD\", \"NathanStall\", \"NightShiftMD\", \"paimadhu\", \"picardonhealth\", \n",
    "            \"roussin_brent\", \"SammyG_MD\", \"sciencemonkeyca\", \"sdbaral\", \"shandro\", \n",
    "            \"srinmurthy99\", \"SteiniBrown\", \"TorontoIDDOC\", \"UbakaOgbogu\", \"VikCBC\", \n",
    "            \"zachchurchhill\", \"zchangla\")\n",
    "\n",
    "men_df <- do.call(rbind, lapply(men, function(user) tweet_dfs$user))\n"
   ]
  },
  {
   "cell_type": "code",
   "execution_count": null,
   "metadata": {
    "vscode": {
     "languageId": "r"
    }
   },
   "outputs": [],
   "source": [
    "men_df"
   ]
  },
  {
   "cell_type": "code",
   "execution_count": null,
   "metadata": {
    "vscode": {
     "languageId": "r"
    }
   },
   "outputs": [],
   "source": [
    "women <- list(\"AmyGreerKalisz\", \"angie_rasmussen\", \"AnnaBlakney\", \"AntibioticDoc\", \"binhanv\", \n",
    "              \"bornk\", \"carlyweeks\", \"ChiefSciCan\", \"CMOH_Alberta\", \"CMOH_NL\", \"CPHO_Canada\", \n",
    "              \"ctouzin\", \"CTV_AvisFavaro\", \"DeNovo_Fatima\", \"drgigiosler\", \"DrKaliBarrett\", \n",
    "              \"drsusanshaw\", \"DrVivianS\", \"egpayne\", \"epdevilla\", \"glenpyle\", \"heysciencesam\", \n",
    "              \"IDEpiPhD\", \"iPreetBrar\", \"jfrketich\", \"jkwan_md\", \"JuliaWongCBC\", \"juliegreenMLA\", \n",
    "              \"jyangstar\", \"KatharineSmart\", \"KrishanaSankar\", \"LaurenPelley\", \"LisaBarrettID\", \n",
    "              \"MLAStefanson\", \"moriartylabs\", \"moirawyton\", \"MPaiMD\", \"NoLore\", \"PattyHajdu\", \n",
    "              \"RicharLisa\", \"sabiVM\", \"SciChefCan\", \"sarperotto\", \"shazmamithani\", \"ShephardDorothy\", \n",
    "              \"theresaboyle\", \"VeraEtches\", \"wickdchiq\", \"DrKathleenRoss1\")\n",
    "\n",
    "women_df <- do.call(rbind, lapply(women, function(user) tweet_dfs$user))\n"
   ]
  },
  {
   "cell_type": "code",
   "execution_count": null,
   "metadata": {
    "vscode": {
     "languageId": "r"
    }
   },
   "outputs": [],
   "source": []
  },
  {
   "cell_type": "markdown",
   "metadata": {},
   "source": [
    "**Category analysis**\n",
    "\n",
    "What percentage of tweets to each category of user are toxic? Run `category_metrics` for the result."
   ]
  },
  {
   "cell_type": "code",
   "execution_count": null,
   "metadata": {
    "vscode": {
     "languageId": "r"
    }
   },
   "outputs": [],
   "source": [
    "health_communicators_roles <- read_csv(\"Health Communicators - List(Communicators).csv\")"
   ]
  },
  {
   "cell_type": "code",
   "execution_count": null,
   "metadata": {
    "vscode": {
     "languageId": "r"
    }
   },
   "outputs": [],
   "source": [
    "health_communicators_roles <- health_communicators_roles |>\n",
    "select(Handle, \"Category - simplified\")|>\n",
    "rename(Category=\"Category - simplified\")"
   ]
  },
  {
   "cell_type": "code",
   "execution_count": null,
   "metadata": {
    "vscode": {
     "languageId": "r"
    }
   },
   "outputs": [],
   "source": [
    "#converting everything to lists\n",
    "\n",
    "medical_professional <- health_communicators_roles|>\n",
    "filter(Category==\"Medical professional\")|>\n",
    "  mutate(Handle = str_remove(Handle, \"@\"))|>\n",
    "  select(Handle)|>\n",
    "  rename(\"medical_professional\"=Handle)|>\n",
    "  as.list()|>\n",
    "  paste(collapse = \"', '\")\n",
    "\n",
    "expert_university <- health_communicators_roles|>\n",
    "filter(Category==\"Expert - university\")|>\n",
    "  mutate(Handle = str_remove(Handle, \"@\"))|>\n",
    "  select(Handle)|>\n",
    "  rename(expert_university=Handle)|>\n",
    "  as.list()|>\n",
    "  paste(collapse = \"', '\")\n",
    "\n",
    "politician <- health_communicators_roles |>\n",
    "  filter(Category == \"Politician\")|>\n",
    "  mutate(Handle = str_remove(Handle, \"@\"))|>\n",
    "  select(Handle)|>\n",
    "  rename(politician=Handle)|>\n",
    "  as.list()|>\n",
    "  paste(collapse = \"', '\")\n",
    "\n",
    "journalist <- health_communicators_roles |>\n",
    "  filter(Category == \"Journalist\")|>\n",
    "  mutate(Handle = str_remove(Handle, \"@\"))|>\n",
    "  select(Handle)|>\n",
    "  rename(journalist=Handle)|>\n",
    "  as.list()|>\n",
    "  paste(collapse = \"', '\")\n",
    "\n",
    "civil_society_groups <- health_communicators_roles |>\n",
    "  filter(Category == \"Civil society groups\")|>\n",
    "  mutate(Handle = str_remove(Handle, \"@\"))|>\n",
    "  select(Handle)|>\n",
    "  rename(civil_society_groups=Handle)|>\n",
    "  as.list()|>\n",
    "  paste(collapse = \"', '\")\n",
    "\n",
    "expert <- health_communicators_roles |>\n",
    "  filter(Category == \"Expert\")|>\n",
    "  mutate(Handle = str_remove(Handle, \"@\"))|>\n",
    "  select(Handle)|>\n",
    "  rename(expert=Handle)|>\n",
    "  as.list()|>\n",
    "  paste(collapse = \"', '\")\n",
    "\n",
    "health_official <- health_communicators_roles |>\n",
    "  filter(Category == \"Health official\")|>\n",
    "  mutate(Handle = str_remove(Handle, \"@\"))|>\n",
    "  select(Handle)|>\n",
    "  rename(health_official=Handle)|>\n",
    "  as.list()|>\n",
    "  paste(collapse = \"', '\")"
   ]
  },
  {
   "cell_type": "code",
   "execution_count": null,
   "metadata": {
    "vscode": {
     "languageId": "r"
    }
   },
   "outputs": [],
   "source": [
    "health_official <- list(\"CDCofBC\", \"ChiefSciCan\", \"CMOH_Alberta\", \"CMOH_NL\", \"CPHO_Canada\", \"epdevilla\", \"OttawaHealth\", \"roussin_brent\", \"StrangRobert\", \"VeraEtches\")\n",
    "expert <- list(\"BogochIsaac\", \"CaulfieldTim\", \"DeNovo_Fatima\", \"deonandan\", \"DFisman\", \"Dr_ChrisSimpson\", \"drgigiosler\", \"DrKaliBarrett\", \"drmwarner\", \"drsusanshaw\", \"DrVivianS\", \"First10EM\", \"GermHunterID\", \"goaliegirlmom31\", \"heysciencesam\", \"IDEpiPhD\", \"imgrund\", \"iPreetBrar\", \"IrfanDhalla\", \"jkwan_md\", \"jonathanstea\", \"KashPrime\", \"Kevin__Parent\", \"KindrachukJason\", \"KrishanaSankar\", \"kwadwo777\", \"LisaBarrettID\", \"MoriartyLab\", \"MPaiMD\", \"NaheedD\", \"NathanStall\", \"paimadhu\", \"RicharLisa\", \"sabivm\", \"SammyG_MD\", \"SciChefCan\", \"sdbaral\", \"SharkawyMD\", \"shazmamithani\", \"SteiniBrown\", \"TorontoIDDOC\", \"UbakaOgbogu\", \"zchagla\")\n",
    "civil_society_groups <- list(\"blackdocscanada\", \"cmcovidtf\", \"conquercovid19\", \"COVID_19_Canada\", \"COVIDSciOntario\", \"McGillOSS\", \"sacovidtf\", \"ScienceUpFirst\", \"thisisourshotca\", \"VaxHuntersCan\")\n",
    "journalist <- list(\"asapscience\", \"binhanv\", \"carlyweeks\", \"ctouzin\", \"CTV_AvisFavaro\", \"egpayne\", \"j_mcelroy\", \"jasonfherring\", \"jfrketich\", \"JWongGlobalNews\", \"jyangstar\", \"LaurenPelley\", \"NightShiftMD\", \"NoLore\", \"picardonhealth\", \"sharon_kirkey\", \"theresaboyle\", \"VikCBC\")\n",
    "politician <- list(\"adriandix\", \"cdube_sante\", \"celliottability\", \"ErnieHudsonPEI\", \"everetthindley\", \"Johnrockdoc\", \"juliegreenMLA\", \"MerrimanPaul\", \"MLAStefanson\", \"PattyHajdu\", \"shandro\", \"ShephardDorothy\", \"zachchurchill\")\n",
    "expert_university <- list(\"AmyGreerKalisz\", \"angie_rasmussen\", \"AnnaBlakney\", \"AntibioticDoc\", \"ASPphysician\")\n",
    "medical_professional<- list(\"AlikaMD\")"
   ]
  },
  {
   "cell_type": "code",
   "execution_count": null,
   "metadata": {
    "vscode": {
     "languageId": "r"
    }
   },
   "outputs": [],
   "source": [
    "health_official_df <- do.call(rbind, lapply(health_official, function(user) tweet_dfs$user))\n",
    "as.data.frame(health_official_df)\n",
    "expert_df <- do.call(rbind, lapply(expert, function(user) tweet_dfs$user))\n",
    "as.data.frame(expert_df)\n",
    "civil_society_groups_df <- do.call(rbind, lapply(civil_society_groups, function(user) tweet_dfs$user))\n",
    "as.data.frame(civil_society_groups_df)\n",
    "journalist_df <- do.call(rbind, lapply(journalist, function(user) tweet_dfs$user))\n",
    "as.data.frame(journalist_df)\n",
    "politician_df <- do.call(rbind, lapply(politician, function(user) tweet_dfs$user))\n",
    "as.data.frame(politician_df)\n",
    "expert_university_df <- do.call(rbind, lapply(expert_university, function(user) tweet_dfs$user))\n",
    "as.data.frame(expert_university_df)\n",
    "medical_professional_df <- do.call(rbind, lapply(medical_professional, function(user) tweet_dfs$user))\n",
    "as.data.frame(medical_professional_df)\n",
    "\n",
    "category_metrics <- rbind(health_official_df,expert_df,civil_society_groups_df,journalist_df,politician_df,expert_university_df, medical_professional_df)\n",
    "\n"
   ]
  },
  {
   "cell_type": "code",
   "execution_count": null,
   "metadata": {
    "vscode": {
     "languageId": "r"
    }
   },
   "outputs": [],
   "source": [
    "category_visual <- category_metrics|>\n",
    "ggplot(aes(x=count, fill=type))"
   ]
  }
 ],
 "metadata": {
  "kernelspec": {
   "display_name": "R",
   "language": "R",
   "name": "ir"
  },
  "language_info": {
   "codemirror_mode": "r",
   "file_extension": ".r",
   "mimetype": "text/x-r-source",
   "name": "R",
   "pygments_lexer": "r",
   "version": "4.1.3"
  }
 },
 "nbformat": 4,
 "nbformat_minor": 2
}
