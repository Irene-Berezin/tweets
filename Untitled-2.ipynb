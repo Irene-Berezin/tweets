{
 "cells": [
  {
   "cell_type": "code",
   "execution_count": 8,
   "metadata": {
    "vscode": {
     "languageId": "r"
    }
   },
   "outputs": [],
   "source": [
    "library(tidyverse)\n",
    "library(dplyr)\n",
    "library(readr)\n",
    "library(stringr)\n",
    "\n",
    "\n",
    "dataset1 <- data.frame(text = c(\"one cat dog\"))\n",
    "dataset2 <- data.frame(text = c(\"two one dog\"))\n",
    "dataset3 <- data.frame(text=c(\"cat dog rat\"))\n",
    "\n",
    "terms <- c(\"one\",\"two\",\"three\")\n",
    "terms <- paste0(\" \", terms)\n",
    "pattern <- paste(terms, collapse = \"|\")\n",
    "\n",
    "\n",
    "check_words <- function(df, columns, words) {\n",
    "  \n",
    "  pattern <- paste0(\"\\\\b(\", paste(words, collapse = \"|\"), \")\\\\b\")\n",
    "  \n",
    "  df <- df %>%\n",
    "    mutate(word_present = rowSums(sapply(columns, function(col) str_detect(df[[col]], pattern))) > 0)\n",
    "  \n",
    "  total_rows <- nrow(df)\n",
    "  \n",
    "  total_present <- sum(df$word_present)\n",
    "\n",
    "  list(total_rows = total_rows, total_present = total_present)\n",
    "  \n",
    "}"
   ]
  },
  {
   "cell_type": "code",
   "execution_count": 9,
   "metadata": {
    "vscode": {
     "languageId": "r"
    }
   },
   "outputs": [
    {
     "ename": "ERROR",
     "evalue": "\u001b[1m\u001b[33mError\u001b[39m in `mutate()`:\u001b[22m\n\u001b[1m\u001b[22m\u001b[36mi\u001b[39m In argument: `word_present = >...`.\n\u001b[1mCaused by error in `.subset2()`:\u001b[22m\n\u001b[33m!\u001b[39m invalid subscript type 'language'\n",
     "output_type": "error",
     "traceback": [
      "\u001b[1m\u001b[33mError\u001b[39m in `mutate()`:\u001b[22m\n\u001b[1m\u001b[22m\u001b[36mi\u001b[39m In argument: `word_present = >...`.\n\u001b[1mCaused by error in `.subset2()`:\u001b[22m\n\u001b[33m!\u001b[39m invalid subscript type 'language'\nTraceback:\n",
      "1. check_words(dataset1, text, terms)",
      "2. df %>% mutate(word_present = rowSums(sapply(columns, function(col) str_detect(df[[col]], \n .     pattern))) > 0)   # at line 20-21 of file <text>",
      "3. mutate(., word_present = rowSums(sapply(columns, function(col) str_detect(df[[col]], \n .     pattern))) > 0)",
      "4. mutate.data.frame(., word_present = rowSums(sapply(columns, function(col) str_detect(df[[col]], \n .     pattern))) > 0)",
      "5. mutate_cols(.data, dplyr_quosures(...), by)",
      "6. withCallingHandlers(for (i in seq_along(dots)) {\n .     poke_error_context(dots, i, mask = mask)\n .     context_poke(\"column\", old_current_column)\n .     new_columns <- mutate_col(dots[[i]], data, mask, new_columns)\n . }, error = dplyr_error_handler(dots = dots, mask = mask, bullets = mutate_bullets, \n .     error_call = error_call, error_class = \"dplyr:::mutate_error\"), \n .     warning = dplyr_warning_handler(state = warnings_state, mask = mask, \n .         error_call = error_call))",
      "7. mutate_col(dots[[i]], data, mask, new_columns)",
      "8. mask$eval_all_mutate(quo)",
      "9. eval()",
      "10. rowSums(sapply(columns, function(col) str_detect(df[[col]], pattern)))",
      "11. is.data.frame(x)",
      "12. sapply(columns, function(col) str_detect(df[[col]], pattern))",
      "13. lapply(X = X, FUN = FUN, ...)",
      "14. FUN(X[[i]], ...)",
      "15. str_detect(df[[col]], pattern)   # at line 21 of file <text>",
      "16. check_lengths(string, pattern)",
      "17. vctrs::vec_size_common(string = string, pattern = pattern, replacement = replacement, \n  .     .call = error_call)",
      "18. df[[col]]",
      "19. `[[.data.frame`(df, col)",
      "20. (function(x, i, exact) if (is.matrix(i)) as.matrix(x)[[i]] else .subset2(x, \n  .     i, exact = exact))(x, ..., exact = exact)",
      "21. .handleSimpleError(function (cnd) \n  . {\n  .     local_error_context(dots, i = frame[[i_sym]], mask = mask)\n  .     if (inherits(cnd, \"dplyr:::internal_error\")) {\n  .         parent <- error_cnd(message = bullets(cnd))\n  .     }\n  .     else {\n  .         parent <- cnd\n  .     }\n  .     message <- c(cnd_bullet_header(action), i = if (has_active_group_context(mask)) cnd_bullet_cur_group_label())\n  .     abort(message, class = error_class, parent = parent, call = error_call)\n  . }, \"invalid subscript type 'language'\", base::quote(.subset2(x, \n  .     i, exact = exact)))",
      "22. h(simpleError(msg, call))",
      "23. abort(message, class = error_class, parent = parent, call = error_call)",
      "24. signal_abort(cnd, .file)"
     ]
    }
   ],
   "source": [
    "check_words(dataset1, text, terms)"
   ]
  }
 ],
 "metadata": {
  "kernelspec": {
   "display_name": "R",
   "language": "R",
   "name": "ir"
  },
  "language_info": {
   "codemirror_mode": "r",
   "file_extension": ".r",
   "mimetype": "text/x-r-source",
   "name": "R",
   "pygments_lexer": "r",
   "version": "4.1.3"
  }
 },
 "nbformat": 4,
 "nbformat_minor": 2
}
