{
 "cells": [
  {
   "cell_type": "code",
   "execution_count": null,
   "metadata": {
    "vscode": {
     "languageId": "r"
    }
   },
   "outputs": [],
   "source": [
    "library(tidyverse)\n",
    "library(dplyr)\n",
    "\n",
    "\n",
    "adriandix <- read_csv(\"csvs/twitterpho/@adriandix_tweets.csv\")\n",
    "AlikaMD <- read_csv(\"csvs/twitterpho/@AlikaMD_tweets.csv\")\n",
    "AmyGreerKalisz <- read_csv(\"csvs/twitterpho/@AmyGreerKalisz_tweets.csv\")\n",
    "angie_rasmussen <- read_csv(\"csvs/twitterpho/@angie_rasmussen_tweets.csv\")\n",
    "AnnaBlakney <- read_csv(\"csvs/twitterpho/@AnnaBlakney_tweets.csv\")\n",
    "AntibioticDoc <- read_csv(\"csvs/twitterpho/@AntibioticDoc_tweets.csv\")\n",
    "asapscience <- read_csv(\"csvs/twitterpho/@asapscience_tweets.csv\")\n",
    "ASPphysician <- read_csv(\"csvs/twitterpho/@ASPphysician_tweets.csv\")\n",
    "atRachelGilmore <- read_csv(\"csvs/twitterpho/@atRachelGilmore_tweets.csv\")\n",
    "binhanv <- read_csv(\"csvs/twitterpho/@binhanv_tweets.csv\")\n",
    "BirinderNarang <- read_csv(\"csvs/twitterpho/@BirinderNarang_tweets.csv\")\n",
    "blackdocscanada <- read_csv(\"csvs/twitterpho/@blackdocscanada_tweets.csv\")\n",
    "BogochIsaac <- read_csv(\"csvs/twitterpho/@BogochIsaac_tweets.csv\")\n",
    "bornk <- read_csv(\"csvs/twitterpho/@bornk_tweets.csv\")\n",
    "carlyweeks <- read_csv(\"csvs/twitterpho/@carlyweeks_tweets.csv\")\n",
    "CaulfieldTim <- read_csv(\"csvs/twitterpho/@CaulfieldTim_tweets.csv\")\n",
    "CDCofBC <- read_csv(\"csvs/twitterpho/@CDCofBC_tweets.csv\")\n",
    "cdube_sante <- read_csv(\"csvs/twitterpho/@cdube_sante_tweets.csv\")\n",
    "cfpcceo <- read_csv(\"csvs/twitterpho/@cfpcceo_tweets.csv\")\n",
    "ChiefSciCan <- read_csv(\"csvs/twitterpho/@ChiefSciCan_tweets.csv\")\n",
    "cmcovidtf <- read_csv(\"csvs/twitterpho/@cmcovidtf_tweets.csv\")\n",
    "CMOH_Alberta <- read_csv(\"csvs/twitterpho/@CMOH_Alberta_tweets.csv\")\n",
    "CMOH_NL <- read_csv(\"csvs/twitterpho/@CMOH_NL_tweets.csv\")\n",
    "conquercovid19 <- read_csv(\"csvs/twitterpho/@conquercovid19_tweets.csv\")\n",
    "COVID_19_Canada <- read_csv(\"csvs/twitterpho/@COVID_19_Canada_tweets.csv\")\n",
    "COVIDSciOntario <- read_csv(\"csvs/twitterpho/@COVIDSciOntario_tweets.csv\")\n",
    "CPHO_Canada <- read_csv(\"csvs/twitterpho/@CPHO_Canada_tweets.csv\")\n",
    "ctouzin <- read_csv(\"csvs/twitterpho/@ctouzin_tweets.csv\")\n",
    "CTV_AvisFavaro <- read_csv(\"csvs/twitterpho/@CTV_AvisFavaro_tweets.csv\")\n",
    "DeNovo_Fatima <- read_csv(\"csvs/twitterpho/@DeNovo_Fatima_tweets.csv\")\n",
    "deonandan <- read_csv(\"csvs/twitterpho/@deonandan_tweets.csv\")\n",
    "drfisman <- read_csv(\"csvs/twitterpho/@drfisman_tweets.csv\")\n",
    "Dr_ChrisSimpson <- read_csv(\"csvs/twitterpho/@Dr_ChrisSimpson_tweets.csv\")\n",
    "drgigiosler <- read_csv(\"csvs/twitterpho/@drgigiosler_tweets.csv\")\n",
    "DrKaliBarrett <- read_csv(\"csvs/twitterpho/@DrKaliBarrett_tweets.csv\")\n",
    "drmwarner <- read_csv(\"csvs/twitterpho/@drmwarner_tweets.csv\")\n",
    "drsusanshaw <- read_csv(\"csvs/twitterpho/@drsusanshaw_tweets.csv\")\n",
    "DrVivianS <- read_csv(\"csvs/twitterpho/@DrVivianS_tweets.csv\")\n",
    "egpayne <- read_csv(\"csvs/twitterpho/@egpayne_tweets.csv\")\n",
    "epdevilla <- read_csv(\"csvs/twitterpho/@epdevilla_tweets.csv\")\n",
    "ErnieHudsonPEI <- read_csv(\"csvs/twitterpho/@ErnieHudsonPEI_tweets.csv\")\n",
    "everetthindley <- read_csv(\"csvs/twitterpho/@everetthindley_tweets.csv\")\n",
    "First10EM <- read_csv(\"csvs/twitterpho/@First10EM_tweets.csv\")\n",
    "GermHunterMD <- read_csv(\"csvs/twitterpho/@GermHunterMD_tweets.csv\")\n",
    "glenpyle <- read_csv(\"csvs/twitterpho/@glenpyle_tweets.csv\")\n",
    "heysciencesam <- read_csv(\"csvs/twitterpho/@heysciencesam_tweets.csv\")\n",
    "hgagneTVA <- read_csv(\"csvs/twitterpho/@hgagneTVA_tweets.csv\")\n",
    "IDEpiPhD <- read_csv(\"csvs/twitterpho/@IDEpiPhD_tweets.csv\")\n",
    "imgrund <- read_csv(\"csvs/twitterpho/@imgrund_tweets.csv\")\n",
    "iPreetBrar <- read_csv(\"csvs/twitterpho/@iPreetBrar_tweets.csv\")\n",
    "IrfanDhalla <- read_csv(\"csvs/twitterpho/@IrfanDhalla_tweets.csv\")\n",
    "j_mcelroy <- read_csv(\"csvs/twitterpho/@j_mcelroy_tweets.csv\")\n",
    "jasonfherring <- read_csv(\"csvs/twitterpho/@jasonfherring_tweets.csv\")\n",
    "jfrketich <- read_csv(\"csvs/twitterpho/@jfrketich_tweets.csv\")\n",
    "jkwan_md <- read_csv(\"csvs/twitterpho/@jkwan_md_tweets.csv\")\n",
    "Johnrockdoc <- read_csv(\"csvs/twitterpho/@Johnrockdoc_tweets.csv\")\n",
    "JuliaWongCBC <- read_csv(\"csvs/twitterpho/@JuliaWongCBC_tweets.csv\")\n",
    "juliegreenMLA <- read_csv(\"csvs/twitterpho/@juliegreenMLA_tweets.csv\")\n",
    "Justin_Ling <- read_csv(\"csvs/twitterpho/@Justin_Ling_tweets.csv\")\n",
    "jyangstar <- read_csv(\"csvs/twitterpho/@jyangstar_tweets.csv\")\n",
    "KashPrime <- read_csv(\"csvs/twitterpho/@KashPrime_tweets.csv\")\n",
    "KatharineSmart <- read_csv(\"csvs/twitterpho/@KatharineSmart_tweets.csv\")\n",
    "Kevin_Parent <- read_csv(\"csvs/twitterpho/@Kevin__Parent_tweets.csv\")\n",
    "KindrachuckJason <- read_csv(\"csvs/twitterpho/@KindrachukJason_tweets.csv\")\n",
    "KrishanaSankar <- read_csv(\"csvs/twitterpho/@KrishanaSankar_tweets.csv\")\n",
    "kwadwo777 <- read_csv(\"csvs/twitterpho/@kwadwo777_tweets.csv\")\n",
    "LaurenPelley <- read_csv(\"csvs/twitterpho/@LaurenPelley_tweets.csv\")\n",
    "LisaBarrettID <- read_csv(\"csvs/twitterpho/@LisaBarrettID_tweets.csv\")\n",
    "McGillOSS <- read_csv(\"csvs/twitterpho/@McGillOSS_tweets.csv\")\n",
    "MerrimanPaul <- read_csv(\"csvs/twitterpho/@MerrimanPaul_tweets.csv\")\n",
    "MichaelSchwandt <- read_csv(\"csvs/twitterpho/@MichaelSchwandt_tweets.csv\")\n",
    "MLAStefanson <- read_csv(\"csvs/twitterpho/@MLAStefanson_tweets.csv\")\n",
    "moirawyton <- read_csv(\"csvs/twitterpho/@moirawyton_tweets.csv\")\n",
    "moriartylabs <- read_csv(\"csvs/twitterpho/@moriartylabs_tweets.csv\")\n",
    "MPaiMD <- read_csv(\"csvs/twitterpho/@MPaiMD_tweets.csv\")\n",
    "NaheedD <- read_csv(\"csvs/twitterpho/@NaheedD_tweets.csv\")\n",
    "NathanStall <- read_csv(\"csvs/twitterpho/@NathanStall_tweets.csv\")\n",
    "NightShiftMD <- read_csv(\"csvs/twitterpho/@NightShiftMD_tweets.csv\")\n",
    "NoLore <- read_csv(\"csvs/twitterpho/@NoLore_tweets.csv\")\n",
    "OttawaHealth <- read_csv(\"csvs/twitterpho/@OttawaHealth_tweets.csv\")\n",
    "paimadhu <- read_csv(\"csvs/twitterpho/@paimadhu_tweets.csv\")\n",
    "PattyHajdu <- read_csv(\"csvs/twitterpho/@PattyHajdu_tweets.csv\")\n",
    "picardonhealth <- read_csv(\"csvs/twitterpho/@picardonhealth_tweets.csv\")\n",
    "RicharLisa <- read_csv(\"csvs/twitterpho/@RicharLisa_tweets.csv\")\n",
    "roussin_brent <- read_csv(\"csvs/twitterpho/@roussin_brent_tweets.csv\")\n",
    "sabaeitizaz <- read_csv(\"csvs/twitterpho/@sabaeitizaz_tweets.csv\")\n",
    "sabiVM <- read_csv(\"csvs/twitterpho/@sabiVM_tweets.csv\")\n",
    "SammyG_MD <- read_csv(\"csvs/twitterpho/@SammyG_MD_tweets.csv\")\n",
    "sarperotto <- read_csv(\"csvs/twitterpho/@sarperotto_tweets.csv\")\n",
    "SciChefCan <- read_csv(\"csvs/twitterpho/@SciChefCan_tweets.csv\")\n",
    "sciencemonkeyca <- read_csv(\"csvs/twitterpho/@sciencemonkeyca_tweets.csv\")\n",
    "ScienceUpFirst <- read_csv(\"csvs/twitterpho/@ScienceUpFirst_tweets.csv\")\n",
    "sdbaral <- read_csv(\"csvs/twitterpho/@sdbaral_tweets.csv\")\n",
    "shandro <- read_csv(\"csvs/twitterpho/@shandro_tweets.csv\")\n",
    "SharkawyMD <- read_csv(\"csvs/twitterpho/@SharkawyMD_tweets.csv\")\n",
    "shazmamithani <- read_csv(\"csvs/twitterpho/@shazmamithani_tweets.csv\")\n",
    "ShephardDorothy <- read_csv(\"csvs/twitterpho/@ShephardDorothy_tweets.csv\")\n",
    "srinmurthy99 <- read_csv(\"csvs/twitterpho/@srinmurthy99_tweets.csv\")\n",
    "SteiniBrown <- read_csv(\"csvs/twitterpho/@SteiniBrown_tweets.csv\")\n",
    "theresaboyle <- read_csv(\"csvs/twitterpho/@theresaboyle_tweets.csv\")\n",
    "thisisourshotca <- read_csv(\"csvs/twitterpho/@thisisourshotca_tweets.csv\")\n",
    "TorontoIDDOC <- read_csv(\"csvs/twitterpho/@TorontoIDDOC_tweets.csv\")\n",
    "UbakaOgbogu <- read_csv(\"csvs/twitterpho/@UbakaOgbogu_tweets.csv\")\n",
    "VaxHuntersCan <- read_csv(\"csvs/twitterpho/@VaxHuntersCan_tweets.csv\")\n",
    "VeraEtches <- read_csv(\"csvs/twitterpho/@VeraEtches_tweets.csv\")\n",
    "VikCBC <- read_csv(\"csvs/twitterpho/@VikCBC_tweets.csv\")\n",
    "wickdchiq <- read_csv(\"csvs/twitterpho/@wickdchiq_tweets.csv\")\n",
    "zachchurchhill <- read_csv(\"csvs/twitterpho/@zachchurchill_tweets.csv\")\n",
    "zchangla <- read_csv(\"csvs/twitterpho/@zchagla_tweets.csv\")\n",
    "DrKathleenRoss1 <- read_csv(\"csvs/twitterpho/DrKathleenRoss1_tweets.csv\")\n"
   ]
  },
  {
   "cell_type": "code",
   "execution_count": null,
   "metadata": {
    "vscode": {
     "languageId": "r"
    }
   },
   "outputs": [],
   "source": [
    "# placing all datasets in a list\n",
    "df_list <- list(\n",
    "  adriandix, AlikaMD, AmyGreerKalisz, angie_rasmussen, AnnaBlakney, AntibioticDoc,\n",
    "  asapscience, ASPphysician, atRachelGilmore, binhanv, BirinderNarang, blackdocscanada,\n",
    "  BogochIsaac, bornk, carlyweeks, CaulfieldTim, CDCofBC, cdube_sante, cfpcceo, ChiefSciCan,\n",
    "  cmcovidtf, CMOH_Alberta, CMOH_NL, conquercovid19, COVID_19_Canada, COVIDSciOntario,\n",
    "  CPHO_Canada, ctouzin, CTV_AvisFavaro, DeNovo_Fatima, deonandan, drfisman, Dr_ChrisSimpson,\n",
    "  drgigiosler, DrKaliBarrett, drmwarner, drsusanshaw, DrVivianS, egpayne, epdevilla, ErnieHudsonPEI,\n",
    "  everetthindley, First10EM, GermHunterMD, glenpyle, heysciencesam, hgagneTVA, IDEpiPhD, imgrund,\n",
    "  iPreetBrar, IrfanDhalla, j_mcelroy, jasonfherring, jfrketich, jkwan_md, Johnrockdoc, JuliaWongCBC,\n",
    "  juliegreenMLA, Justin_Ling, jyangstar, KashPrime, KatharineSmart, Kevin_Parent, KindrachuckJason,\n",
    "  KrishanaSankar, kwadwo777, LaurenPelley, LisaBarrettID, McGillOSS, MerrimanPaul, MichaelSchwandt,\n",
    "  MLAStefanson, moirawyton, moriartylabs, MPaiMD, NaheedD, NathanStall, NightShiftMD, NoLore, OttawaHealth,\n",
    "  paimadhu, PattyHajdu, picardonhealth, RicharLisa, roussin_brent, sabaeitizaz, sabiVM, SammyG_MD,\n",
    "  sarperotto, SciChefCan, sciencemonkeyca, ScienceUpFirst, sdbaral, shandro, SharkawyMD, shazmamithani,\n",
    "  ShephardDorothy, srinmurthy99, SteiniBrown, theresaboyle, thisisourshotca, TorontoIDDOC, UbakaOgbogu,\n",
    "  VaxHuntersCan, VeraEtches, VikCBC, wickdchiq, zachchurchhill, zchangla, DrKathleenRoss1\n",
    ")\n"
   ]
  },
  {
   "cell_type": "markdown",
   "metadata": {},
   "source": [
    "In this analysis, I remove Retweets from the text count. Delete the cell below if you'd like to keep retweets."
   ]
  },
  {
   "cell_type": "code",
   "execution_count": null,
   "metadata": {
    "vscode": {
     "languageId": "r"
    }
   },
   "outputs": [],
   "source": [
    "\n",
    "\n",
    "# Function to apply the transformation\n",
    "transform_data <- function(df) {\n",
    "  df %>%\n",
    "    filter(!startsWith(text, \"RT\")) |>\n",
    "    select(text)\n",
    "}\n",
    "\n",
    "# Apply the transformation to each dataset in the list\n",
    "transformed_list <- lapply(df_list, transform_data)\n",
    "\n",
    "# Assign the names of the datasets to the transformed list\n",
    "names(transformed_list) <- c(\"adriandix\", \"AlikaMD\", \"AmyGreerKalisz\", \"angie_rasmussen\", \"AnnaBlakney\", \n",
    "                             \"AntibioticDoc\", \"asapscience\", \"ASPphysician\", \"atRachelGilmore\", \"binhanv\", \n",
    "                             \"BirinderNarang\", \"blackdocscanada\", \"BogochIsaac\", \"bornk\", \"carlyweeks\", \n",
    "                             \"CaulfieldTim\", \"CDCofBC\", \"cdube_sante\", \"cfpcceo\", \"ChiefSciCan\", \"cmcovidtf\", \n",
    "                             \"CMOH_Alberta\", \"CMOH_NL\", \"conquercovid19\", \"COVID_19_Canada\", \"COVIDSciOntario\", \n",
    "                             \"CPHO_Canada\", \"ctouzin\", \"CTV_AvisFavaro\", \"DeNovo_Fatima\", \"deonandan\", \"drfisman\", \n",
    "                             \"Dr_ChrisSimpson\", \"drgigiosler\", \"DrKaliBarrett\", \"drmwarner\", \"drsusanshaw\", \n",
    "                             \"DrVivianS\", \"egpayne\", \"epdevilla\", \"ErnieHudsonPEI\", \"everetthindley\", \"First10EM\", \n",
    "                             \"GermHunterMD\", \"glenpyle\", \"heysciencesam\", \"hgagneTVA\", \"IDEpiPhD\", \"imgrund\", \n",
    "                             \"iPreetBrar\", \"IrfanDhalla\", \"j_mcelroy\", \"jasonfherring\", \"jfrketich\", \"jkwan_md\", \n",
    "                             \"Johnrockdoc\", \"JuliaWongCBC\", \"juliegreenMLA\", \"Justin_Ling\", \"jyangstar\", \"KashPrime\", \n",
    "                             \"KatharineSmart\", \"Kevin_Parent\", \"KindrachuckJason\", \"KrishanaSankar\", \"kwadwo777\", \n",
    "                             \"LaurenPelley\", \"LisaBarrettID\", \"McGillOSS\", \"MerrimanPaul\", \"MichaelSchwandt\", \n",
    "                             \"MLAStefanson\", \"moirawyton\", \"moriartylabs\", \"MPaiMD\", \"NaheedD\", \"NathanStall\", \n",
    "                             \"NightShiftMD\", \"NoLore\", \"OttawaHealth\", \"paimadhu\", \"PattyHajdu\", \"picardonhealth\", \n",
    "                             \"RicharLisa\", \"roussin_brent\", \"sabaeitizaz\", \"sabiVM\", \"SammyG_MD\", \"sarperotto\", \n",
    "                             \"SciChefCan\", \"sciencemonkeyca\", \"ScienceUpFirst\", \"sdbaral\", \"shandro\", \"SharkawyMD\", \n",
    "                             \"shazmamithani\", \"ShephardDorothy\", \"srinmurthy99\", \"SteiniBrown\", \"theresaboyle\", \n",
    "                             \"thisisourshotca\", \"TorontoIDDOC\", \"UbakaOgbogu\", \"VaxHuntersCan\", \"VeraEtches\", \n",
    "                             \"VikCBC\", \"wickdchiq\", \"zachchurchhill\", \"zchangla\", \"DrKathleenRoss1\")\n",
    "\n",
    "# Use list2env to assign each element of transformed_list to a variable in the global environment\n",
    "list2env(transformed_list, envir = .GlobalEnv)\n"
   ]
  },
  {
   "cell_type": "code",
   "execution_count": null,
   "metadata": {
    "vscode": {
     "languageId": "r"
    }
   },
   "outputs": [],
   "source": [
    "terms <- c(\"fuck\", \"dirty\", \"stupid\", \"idiot\", \"asshole\", \"bastard\", \"nasty\", \"whore\", \"slut\", \"skank\", \"cunt\", \"bitch\", \"motherfucker\", \"go to hell\", \"wimp\", \"coward\", \"moron\", \"traitor\", \"shut up\", \"shut the fuck up\", \"stfu\", \"piece of shit\", \"ignorant\", \"clown\", \"ccpvirus\", \"chinese coronavirus\", \"chinavirus\", \"china virus\", \"fuckchina\", \"nukechina\", \"bombchina\", \"deathtochina\", \"chinesevirus\", \"fake lab wuhan\", \"china weapon\", \"china bioweapon\", \"zionazi\", \"Soros virus\", \"blood libel\", \"nwovirus\", \"new world order\", \"sacrifice children\", \"jew world order\", \"liar\", \"yellow star\", \"israel virus\", \"israelvirus\", \"rothschild covid\", \"kalergi plan\", \"jail\", \"locked up\", \"evil.\", \"is evil\", \"so evil\", \"pure evil\", \"an evil\", \"evil wom\", \"evil man\", \"evil witch\", \"is evil\", \"are evil\", \"that evil\", \"very evil\", \"tyrant\", \"tyranny\", \"dictator\", \"tv doctor\", \"twitter doctor\", \"murder\", \"murderer\", \"eugenic\", \"satan\", \"Nazi\", \"non-human\", \"sterile\", \"slave\", \"crooked\", \"corrupt\", \"shill\", \"liar\", \"lying\", \"killer\", \"fraud\", \"big pharma\", \"pharma puppet\", \"Nuremberg\", \"crimes against humanity\", \"genocide\", \"child abuse\", \"covid hoax\", \"covid fake\", \"virus hoax\", \"gates virus\", \"bioweapon\", \"secret elite\", \"depopulation\", \"save our children\", \"scamdemic\", \"plandemic\")\n",
    "terms <- paste0(\" \", terms)\n",
    "pattern <- paste(terms, collapse = \"|\")"
   ]
  },
  {
   "cell_type": "markdown",
   "metadata": {},
   "source": [
    "**Health official category analysis**"
   ]
  },
  {
   "cell_type": "code",
   "execution_count": null,
   "metadata": {
    "vscode": {
     "languageId": "r"
    }
   },
   "outputs": [],
   "source": [
    "health_officials <- bind_rows(CDCofBC, ChiefSciCan, CMOH_Alberta, CMOH_NL, CPHO_Canada, epdevilla, OttawaHealth, roussin_brent, VeraEtches)\n",
    "\n",
    "\n",
    "expert <- bind_rows(BogochIsaac, CaulfieldTim, DeNovo_Fatima, deonandan, drfisman, Dr_ChrisSimpson, drgigiosler, DrKaliBarrett, drmwarner, drsusanshaw, DrVivianS, First10EM, GermHunterMD, heysciencesam, IDEpiPhD, imgrund, iPreetBrar, IrfanDhalla, jkwan_md, KashPrime, Kevin_Parent, KindrachuckJason, KrishanaSankar, kwadwo777, LisaBarrettID, moriartylabs, MPaiMD, NaheedD, NathanStall, paimadhu, RicharLisa, sabiVM, SammyG_MD, SciChefCan, sdbaral, SharkawyMD, shazmamithani, SteiniBrown, TorontoIDDOC, UbakaOgbogu, zchangla)\n",
    "\n",
    "civil_society_groups <- bind_rows(blackdocscanada, cmcovidtf, conquercovid19, COVID_19_Canada, COVIDSciOntario, McGillOSS, ScienceUpFirst, thisisourshotca, VaxHuntersCan)\n",
    "\n",
    "journalist <- bind_rows(asapscience, binhanv, carlyweeks, ctouzin, CTV_AvisFavaro, egpayne, j_mcelroy, jasonfherring, jfrketich, JuliaWongCBC, jyangstar, LaurenPelley, NightShiftMD, NoLore, picardonhealth, theresaboyle, VikCBC)\n",
    "\n",
    "\n",
    "politician <- bind_rows(adriandix, cdube_sante, ErnieHudsonPEI, everetthindley, Johnrockdoc, juliegreenMLA, MerrimanPaul, MLAStefanson, PattyHajdu, shandro, ShephardDorothy, zachchurchhill)\n",
    "\n",
    "expert_university <- bind_rows(AmyGreerKalisz, angie_rasmussen, AnnaBlakney, AntibioticDoc, ASPphysician)\n",
    "\n",
    "\n",
    "medical_professional<- AlikaMD \n"
   ]
  },
  {
   "cell_type": "code",
   "execution_count": 29,
   "metadata": {
    "vscode": {
     "languageId": "r"
    }
   },
   "outputs": [],
   "source": [
    "health_officials_df <- health_officials |>\n",
    "    mutate(negative = as.integer(grepl(pattern, text, ignore.case = TRUE)))\n",
    "total_entries_health_official <- nrow(health_officials_df)\n",
    "negative_entries_health_official <- nrow(health_officials_df |> filter(negative == 1))\n",
    "health_official_pct_neg <- negative_entries_health_official / total_entries_health_official * 100\n",
    "\n",
    "expert_df <- expert|>\n",
    "    mutate(negative = as.integer(grepl(pattern, text, ignore.case = TRUE)))\n",
    "total_entries_expert <- nrow(expert_df)    \n",
    "negative_entries_expert <- nrow(expert_df |> filter(negative == 1))\n",
    "expert_pct_neg <- negative_entries_expert/total_entries_expert*100\n",
    "\n",
    "civil_society_groups_df <- civil_society_groups|>\n",
    "    mutate(negative = as.integer(grepl(pattern, text, ignore.case = TRUE)))\n",
    "total_entries_civil_society_groups <- nrow(civil_society_groups_df)    \n",
    "negative_entries_civil_society_groups <- nrow(civil_society_groups_df |> filter(negative == 1))\n",
    "civil_society_groups_pct_neg <- negative_entries_civil_society_groups/total_entries_civil_society_groups*100\n",
    "\n",
    "journalist_df <-  journalist|>\n",
    "    mutate(negative = as.integer(grepl(pattern, text, ignore.case = TRUE)))\n",
    "total_entries_journalist <- nrow(journalist_df)    \n",
    "negative_entries_journalist <- nrow(journalist_df |> filter(negative == 1))\n",
    "journalist_pct_neg <- negative_entries_journalist/total_entries_journalist*100\n",
    "\n",
    "politician_df <- politician|>\n",
    "    mutate(negative = as.integer(grepl(pattern, text, ignore.case = TRUE)))\n",
    "total_entries_politician <- nrow(politician_df)    \n",
    "negative_entries_politician <- nrow(politician_df |> filter(negative == 1))\n",
    "politician_pct_neg <- negative_entries_politician/total_entries_politician*100\n",
    "\n",
    "expert_university_df <- expert_university|>\n",
    "    mutate(negative = as.integer(grepl(pattern, text, ignore.case = TRUE)))\n",
    "total_entries_expert_university <- nrow(expert_university_df)    \n",
    "negative_entries_expert_university <- nrow(expert_university_df |> filter(negative == 1))\n",
    "expert_university_pct_neg <- negative_entries_expert_university/total_entries_expert_university*100\n",
    "\n",
    "medical_professional_df <- medical_professional|>\n",
    "    mutate(negative = as.integer(grepl(pattern, text, ignore.case = TRUE)))\n",
    "total_entries_medical_professional<- nrow(medical_professional_df)    \n",
    "negative_entries_medical_professional <- nrow(medical_professional_df |> filter(negative == 1))\n",
    "medical_professional_pct_neg <- negative_entries_medical_professional/total_entries_medical_professional*100"
   ]
  },
  {
   "cell_type": "code",
   "execution_count": 37,
   "metadata": {
    "vscode": {
     "languageId": "r"
    }
   },
   "outputs": [],
   "source": [
    "category_metrics <- data.frame(category=c(\"health_official\", \"expert\", \"civil_society_groups\", \"journalist\", \"politician\", \"expert_university\",\"medical_professional\"),\n",
    "                                value=c(health_official_pct_neg, expert_pct_neg, civil_society_groups_pct_neg, journalist_pct_neg, politician_pct_neg,expert_university_pct_neg,medical_professional_pct_neg))\n",
    "\n",
    "write.csv(category_metrics, \"category_metrics_NFRF\")"
   ]
  },
  {
   "cell_type": "code",
   "execution_count": 36,
   "metadata": {
    "vscode": {
     "languageId": "r"
    }
   },
   "outputs": [
    {
     "data": {
      "image/png": "[encoded data removed]",
      "text/plain": [
       "plot without title"
      ]
     },
     "metadata": {
      "image/png": {
       "height": 420,
       "width": 420
      }
     },
     "output_type": "display_data"
    }
   ],
   "source": [
    "library(RColorBrewer)\n",
    "category_graph <- category_metrics|>\n",
    "ggplot(aes(x=category,y=value, fill=category))+ \n",
    "    geom_bar(stat=\"identity\",color=\"#a60000\", linewidth=1, alpha=0.8)+\n",
    "    scale_fill_brewer(palette = \"PuRd\")+\n",
    "    theme(axis.text.x = element_text(angle = 0, vjust=1))+\n",
    "    labs(y=\"percentage (out of 100)\", x=\"category of twitter user\", subtitle = \"From NFRF dataset and dictionary\")+\n",
    "    ggtitle(\"Percentage of Tweets Directred at Each Category of Twitter User That Are Toxic\")+\n",
    "    theme_bw()+\n",
    "    theme(legend.position=\"none\")\n",
    "category_graph\n",
    "\n",
    "ggsave(\"category_hate_terms_NFRF.png\", width=10, height=5)"
   ]
  },
  {
   "cell_type": "markdown",
   "metadata": {},
   "source": [
    "**Gender bias analysis**"
   ]
  },
  {
   "cell_type": "code",
   "execution_count": 38,
   "metadata": {
    "vscode": {
     "languageId": "r"
    }
   },
   "outputs": [
    {
     "name": "stderr",
     "output_type": "stream",
     "text": [
      "\u001b[1mRows: \u001b[22m\u001b[34m162\u001b[39m \u001b[1mColumns: \u001b[22m\u001b[34m2\u001b[39m\n",
      "\u001b[36m--\u001b[39m \u001b[1mColumn specification\u001b[22m \u001b[36m--------------------------------------------------------\u001b[39m\n",
      "\u001b[1mDelimiter:\u001b[22m \",\"\n",
      "\u001b[31mchr\u001b[39m (2): Handle, Gender\n",
      "\n",
      "\u001b[36mi\u001b[39m Use `spec()` to retrieve the full column specification for this data.\n",
      "\u001b[36mi\u001b[39m Specify the column types or set `show_col_types = FALSE` to quiet this message.\n"
     ]
    }
   ],
   "source": [
    "\n",
    "health_communicators <- read_csv(\"health_communicators.csv\")\n",
    "\n",
    "health_communicators_male <- health_communicators %>%\n",
    "  filter(Gender == \"M\") %>%\n",
    "  select(Handle) %>%\n",
    "  mutate(Handle = gsub(\"@\", \"\", Handle)) %>%\n",
    "  pull(Handle)\n",
    "\n",
    "health_communicators_female <- health_communicators %>%\n",
    "  filter(Gender == \"W\") %>%\n",
    "  select(Handle) %>%\n",
    "  mutate(Handle = gsub(\"@\", \"\", Handle)) %>%\n",
    "  pull(Handle)"
   ]
  },
  {
   "cell_type": "code",
   "execution_count": 40,
   "metadata": {
    "vscode": {
     "languageId": "r"
    }
   },
   "outputs": [],
   "source": [
    "women <- bind_rows(AmyGreerKalisz, angie_rasmussen, AnnaBlakney, AntibioticDoc, binhanv, bornk, carlyweeks, ChiefSciCan, CMOH_Alberta, CMOH_NL, CPHO_Canada, ctouzin, CTV_AvisFavaro, DeNovo_Fatima, drgigiosler, DrKaliBarrett, drsusanshaw, DrVivianS, egpayne, epdevilla, glenpyle, heysciencesam, IDEpiPhD, iPreetBrar, jfrketich, jkwan_md, JuliaWongCBC, juliegreenMLA, jyangstar, KatharineSmart, KrishanaSankar, LaurenPelley, LisaBarrettID, MLAStefanson, moriartylabs, moirawyton, MPaiMD, NoLore, PattyHajdu, RicharLisa, sabiVM, SciChefCan, sarperotto, shazmamithani, ShephardDorothy, theresaboyle, VeraEtches, wickdchiq, DrKathleenRoss1)\n",
    "\n",
    "\n",
    "men <- bind_rows(adriandix, AlikaMD, ASPphysician, BogochIsaac, CaulfieldTim, cdube_sante, deonandan, Dr_ChrisSimpson, drfisman, drmwarner, ErnieHudsonPEI, everetthindley, First10EM, GermHunterMD, imgrund, IrfanDhalla, j_mcelroy, jasonfherring, Johnrockdoc, Justin_Ling, KashPrime, Kevin_Parent, KindrachuckJason, kwadwo777, MerrimanPaul, NaheedD, NathanStall, NightShiftMD, paimadhu, picardonhealth, roussin_brent, SammyG_MD, sciencemonkeyca, sdbaral, shandro, srinmurthy99, SteiniBrown, TorontoIDDOC, UbakaOgbogu, VikCBC, zachchurchhill, zchangla)\n",
    "\n"
   ]
  },
  {
   "cell_type": "code",
   "execution_count": 44,
   "metadata": {
    "vscode": {
     "languageId": "r"
    }
   },
   "outputs": [
    {
     "data": {
      "text/html": [
       "4.55305129679041"
      ],
      "text/latex": [
       "4.55305129679041"
      ],
      "text/markdown": [
       "4.55305129679041"
      ],
      "text/plain": [
       "[1] 4.553051"
      ]
     },
     "metadata": {},
     "output_type": "display_data"
    },
    {
     "data": {
      "text/html": [
       "2.28368952529664"
      ],
      "text/latex": [
       "2.28368952529664"
      ],
      "text/markdown": [
       "2.28368952529664"
      ],
      "text/plain": [
       "[1] 2.28369"
      ]
     },
     "metadata": {},
     "output_type": "display_data"
    }
   ],
   "source": [
    "male_info <- merged_df_men |>\n",
    "  mutate(negative = as.integer(grepl(pattern, text, ignore.case = TRUE)))\n",
    "total_entries_men <- nrow(male_info)    \n",
    "negative_entries_men <- nrow(male_info |> filter(negative == 1))\n",
    "men_pct_neg <- negative_entries_men/total_entries_men*100\n",
    "\n",
    "female_info <- merged_df |>\n",
    "  mutate(negative = as.integer(grepl(pattern, text, ignore.case = TRUE)))\n",
    "total_entries_women <- nrow(male_info)    \n",
    "negative_entries_women <- nrow(female_info |> filter(negative == 1))\n",
    "women_pct_neg <- negative_entries_women/total_entries_women*100\n",
    "\n",
    "men_pct_neg\n",
    "women_pct_neg"
   ]
  },
  {
   "cell_type": "code",
   "execution_count": 47,
   "metadata": {
    "vscode": {
     "languageId": "r"
    }
   },
   "outputs": [
    {
     "name": "stderr",
     "output_type": "stream",
     "text": [
      "\u001b[1m\u001b[22mSaving 6.67 x 6.67 in image\n"
     ]
    },
    {
     "data": {
      "image/png": "[encoded data removed]",
      "text/plain": [
       "plot without title"
      ]
     },
     "metadata": {
      "image/png": {
       "height": 420,
       "width": 420
      }
     },
     "output_type": "display_data"
    }
   ],
   "source": [
    "gender_metrics <- data.frame(gender=c(\"male\",\"female\"),value=c(men_pct_neg,women_pct_neg))\n",
    "\n",
    "gender_graph <- gender_metrics |>\n",
    "ggplot(aes(x=gender,y=value, fill=gender))+ \n",
    "    geom_bar(stat=\"identity\",color=\"#cc1111\", linewidth=1, alpha=0.8)+\n",
    "    scale_fill_manual(values=c(\"#e092d3\", \"#5e49b0\"))+\n",
    "    theme(axis.text.x = element_text(angle = 0, vjust=1), legend.position = \"none\")+\n",
    "    labs(y=\"percentage (out of 100)\", x=\"Gender\", subtitle = \"From NFRF dataset and dictionary\")+\n",
    "    ggtitle(\"Percentage of Tweets Directed at each Gender That Are Toxic\")+\n",
    "    theme_bw()+\n",
    "     theme(legend.position=\"none\")\n",
    "\n",
    "gender_graph\n",
    "\n",
    "ggsave(\"gender_bias_NFRF.png\")\n"
   ]
  },
  {
   "cell_type": "markdown",
   "metadata": {},
   "source": [
    "**Individual users toxicity analysis**"
   ]
  },
  {
   "cell_type": "code",
   "execution_count": 50,
   "metadata": {
    "vscode": {
     "languageId": "r"
    }
   },
   "outputs": [
    {
     "data": {
      "text/plain": [
       "<environment: R_GlobalEnv>"
      ]
     },
     "metadata": {},
     "output_type": "display_data"
    }
   ],
   "source": [
    "#this cell applies a bunch of transformations to each dataset so will take a while to run (~20 min)\n",
    "#there are likely faster ways of doing this but this is what I figured out\n",
    "\n",
    "pattern <- paste(terms, collapse = \"|\")\n",
    "\n",
    "# Function that finds harassment terms and calculates proportion \n",
    "transform_data <- function(df) {\n",
    "  total_entries <- nrow(df) #getting total n of entries in each df in order to calculate proportion\n",
    "  \n",
    "  # Selecting the text column and create the 'negative' column: value of 0 if does not contain an entry in the list, of terms, value of 1 if it does.\n",
    "  df <- df %>%\n",
    "    select(text) %>%\n",
    "    mutate(negative = as.integer(grepl(pattern, text, ignore.case = TRUE)))\n",
    "\n",
    "\n",
    "  negative_entries <- nrow(df |> filter(negative == 1))\n",
    "\n",
    "  df <- df %>% #getting the proportion of harrassment tweets relative to the entire df, for each df\n",
    "    mutate(proportion_negative = negative_entries / total_entries*100)|>\n",
    "    select(proportion_negative)|>\n",
    "    head(1)|>\n",
    "    as.list()\n",
    "  \n",
    "  return(df)\n",
    "}\n",
    "\n",
    "# Applying function defined above using lapply\n",
    "transformed_list <- lapply(df_list, transform_data)\n",
    "\n",
    "#side-effect of using this function is that for some reason it converts the name of each df to an integer; \n",
    "#converting the names of each dataset from integer values back to the original names using list2env\n",
    "names(transformed_list) <- c(\"adriandix\", \"AlikaMD\", \"AmyGreerKalisz\", \"angie_rasmussen\", \"AnnaBlakney\", \n",
    "                             \"AntibioticDoc\", \"asapscience\", \"ASPphysician\", \"atRachelGilmore\", \"binhanv\", \n",
    "                             \"BirinderNarang\", \"blackdocscanada\", \"BogochIsaac\", \"bornk\", \"carlyweeks\", \n",
    "                             \"CaulfieldTim\", \"CDCofBC\", \"cdube_sante\", \"cfpcceo\", \"ChiefSciCan\", \"cmcovidtf\", \n",
    "                             \"CMOH_Alberta\", \"CMOH_NL\", \"conquercovid19\", \"COVID_19_Canada\", \"COVIDSciOntario\", \n",
    "                             \"CPHO_Canada\", \"ctouzin\", \"CTV_AvisFavaro\", \"DeNovo_Fatima\", \"deonandan\", \"drfisman\", \n",
    "                             \"Dr_ChrisSimpson\", \"drgigiosler\", \"DrKaliBarrett\", \"drmwarner\", \"drsusanshaw\", \n",
    "                             \"DrVivianS\", \"egpayne\", \"epdevilla\", \"ErnieHudsonPEI\", \"everetthindley\", \"First10EM\", \n",
    "                             \"GermHunterMD\", \"glenpyle\", \"heysciencesam\", \"hgagneTVA\", \"IDEpiPhD\", \"imgrund\", \n",
    "                             \"iPreetBrar\", \"IrfanDhalla\", \"j_mcelroy\", \"jasonfherring\", \"jfrketich\", \"jkwan_md\", \n",
    "                             \"Johnrockdoc\", \"JuliaWongCBC\", \"juliegreenMLA\", \"Justin_Ling\", \"jyangstar\", \"KashPrime\", \n",
    "                             \"KatharineSmart\", \"Kevin_Parent\", \"KindrachuckJason\", \"KrishanaSankar\", \"kwadwo777\", \n",
    "                             \"LaurenPelley\", \"LisaBarrettID\", \"McGillOSS\", \"MerrimanPaul\", \"MichaelSchwandt\", \n",
    "                             \"MLAStefanson\", \"moirawyton\", \"moriartylabs\", \"MPaiMD\", \"NaheedD\", \"NathanStall\", \n",
    "                             \"NightShiftMD\", \"NoLore\", \"OttawaHealth\", \"paimadhu\", \"PattyHajdu\", \"picardonhealth\", \n",
    "                             \"RicharLisa\", \"roussin_brent\", \"sabaeitizaz\", \"sabiVM\", \"SammyG_MD\", \"sarperotto\", \n",
    "                             \"SciChefCan\", \"sciencemonkeyca\", \"ScienceUpFirst\", \"sdbaral\", \"shandro\", \"SharkawyMD\", \n",
    "                             \"shazmamithani\", \"ShephardDorothy\", \"srinmurthy99\", \"SteiniBrown\", \"theresaboyle\", \n",
    "                             \"thisisourshotca\", \"TorontoIDDOC\", \"UbakaOgbogu\", \"VaxHuntersCan\", \"VeraEtches\", \n",
    "                             \"VikCBC\", \"wickdchiq\", \"zachchurchhill\", \"zchangla\", \"DrKathleenRoss1\")\n",
    "\n",
    "list2env(transformed_list, envir = .GlobalEnv)\n"
   ]
  },
  {
   "cell_type": "code",
   "execution_count": 55,
   "metadata": {
    "vscode": {
     "languageId": "r"
    }
   },
   "outputs": [],
   "source": [
    "for (name in names(transformed_list)) {\n",
    "  assign(name, transformed_list[[name]]$proportion_negative)\n",
    "} #changing output from list to numeric value"
   ]
  },
  {
   "cell_type": "markdown",
   "metadata": {},
   "source": [
    "To view the proportion for each individual, enter their name, example:"
   ]
  },
  {
   "cell_type": "code",
   "execution_count": 59,
   "metadata": {
    "vscode": {
     "languageId": "r"
    }
   },
   "outputs": [
    {
     "data": {
      "text/html": [
       "1.4880552193985"
      ],
      "text/latex": [
       "1.4880552193985"
      ],
      "text/markdown": [
       "1.4880552193985"
      ],
      "text/plain": [
       "[1] 1.488055"
      ]
     },
     "metadata": {},
     "output_type": "display_data"
    }
   ],
   "source": [
    "AlikaMD"
   ]
  },
  {
   "cell_type": "code",
   "execution_count": 57,
   "metadata": {
    "vscode": {
     "languageId": "r"
    }
   },
   "outputs": [],
   "source": [
    "percentage_csv <- data.frame(names = c(\"adriandix\", \"AlikaMD\", \"AmyGreerKalisz\", \"angie_rasmussen\", \"AnnaBlakney\", \n",
    "                             \"AntibioticDoc\", \"asapscience\", \"ASPphysician\", \"atRachelGilmore\", \"binhanv\", \n",
    "                             \"BirinderNarang\", \"blackdocscanada\", \"BogochIsaac\", \"bornk\", \"carlyweeks\", \n",
    "                             \"CaulfieldTim\", \"CDCofBC\", \"cdube_sante\", \"cfpcceo\", \"ChiefSciCan\", \"cmcovidtf\", \n",
    "                             \"CMOH_Alberta\", \"CMOH_NL\", \"conquercovid19\", \"COVID_19_Canada\", \"COVIDSciOntario\", \n",
    "                             \"CPHO_Canada\", \"ctouzin\", \"CTV_AvisFavaro\", \"DeNovo_Fatima\", \"deonandan\", \"drfisman\", \n",
    "                             \"Dr_ChrisSimpson\", \"drgigiosler\", \"DrKaliBarrett\", \"drmwarner\", \"drsusanshaw\", \n",
    "                             \"DrVivianS\", \"egpayne\", \"epdevilla\", \"ErnieHudsonPEI\", \"everetthindley\", \"First10EM\", \n",
    "                             \"GermHunterMD\", \"glenpyle\", \"heysciencesam\", \"hgagneTVA\", \"IDEpiPhD\", \"imgrund\", \n",
    "                             \"iPreetBrar\", \"IrfanDhalla\", \"j_mcelroy\", \"jasonfherring\", \"jfrketich\", \"jkwan_md\", \n",
    "                             \"Johnrockdoc\", \"JuliaWongCBC\", \"juliegreenMLA\", \"Justin_Ling\", \"jyangstar\", \"KashPrime\", \n",
    "                             \"KatharineSmart\", \"Kevin_Parent\", \"KindrachuckJason\", \"KrishanaSankar\", \"kwadwo777\", \n",
    "                             \"LaurenPelley\", \"LisaBarrettID\", \"McGillOSS\", \"MerrimanPaul\", \"MichaelSchwandt\", \n",
    "                             \"MLAStefanson\", \"moirawyton\", \"moriartylabs\", \"MPaiMD\", \"NaheedD\", \"NathanStall\", \n",
    "                             \"NightShiftMD\", \"NoLore\", \"OttawaHealth\", \"paimadhu\", \"PattyHajdu\", \"picardonhealth\", \n",
    "                             \"RicharLisa\", \"roussin_brent\", \"sabaeitizaz\", \"sabiVM\", \"SammyG_MD\", \"sarperotto\", \n",
    "                             \"SciChefCan\", \"sciencemonkeyca\", \"ScienceUpFirst\", \"sdbaral\", \"shandro\", \"SharkawyMD\", \n",
    "                             \"shazmamithani\", \"ShephardDorothy\", \"srinmurthy99\", \"SteiniBrown\", \"theresaboyle\", \n",
    "                             \"thisisourshotca\", \"TorontoIDDOC\", \"UbakaOgbogu\", \"VaxHuntersCan\", \"VeraEtches\", \n",
    "                             \"VikCBC\", \"wickdchiq\", \"zachchurchhill\", \"zchangla\", \"DrKathleenRoss1\"),\n",
    "                             values = c(adriandix, AlikaMD, AmyGreerKalisz, angie_rasmussen, AnnaBlakney, AntibioticDoc,\n",
    "  asapscience, ASPphysician, atRachelGilmore, binhanv, BirinderNarang, blackdocscanada,\n",
    "  BogochIsaac, bornk, carlyweeks, CaulfieldTim, CDCofBC, cdube_sante, cfpcceo, ChiefSciCan,\n",
    "  cmcovidtf, CMOH_Alberta, CMOH_NL, conquercovid19, COVID_19_Canada, COVIDSciOntario,\n",
    "  CPHO_Canada, ctouzin, CTV_AvisFavaro, DeNovo_Fatima, deonandan, drfisman, Dr_ChrisSimpson,\n",
    "  drgigiosler, DrKaliBarrett, drmwarner, drsusanshaw, DrVivianS, egpayne, epdevilla, ErnieHudsonPEI,\n",
    "  everetthindley, First10EM, GermHunterMD, glenpyle, heysciencesam, hgagneTVA, IDEpiPhD, imgrund,\n",
    "  iPreetBrar, IrfanDhalla, j_mcelroy, jasonfherring, jfrketich, jkwan_md, Johnrockdoc, JuliaWongCBC,\n",
    "  juliegreenMLA, Justin_Ling, jyangstar, KashPrime, KatharineSmart, Kevin_Parent, KindrachuckJason,\n",
    "  KrishanaSankar, kwadwo777, LaurenPelley, LisaBarrettID, McGillOSS, MerrimanPaul, MichaelSchwandt,\n",
    "  MLAStefanson, moirawyton, moriartylabs, MPaiMD, NaheedD, NathanStall, NightShiftMD, NoLore, OttawaHealth,\n",
    "  paimadhu, PattyHajdu, picardonhealth, RicharLisa, roussin_brent, sabaeitizaz, sabiVM, SammyG_MD,\n",
    "  sarperotto, SciChefCan, sciencemonkeyca, ScienceUpFirst, sdbaral, shandro, SharkawyMD, shazmamithani,\n",
    "  ShephardDorothy, srinmurthy99, SteiniBrown, theresaboyle, thisisourshotca, TorontoIDDOC, UbakaOgbogu,\n",
    "  VaxHuntersCan, VeraEtches, VikCBC, wickdchiq, zachchurchhill, zchangla, DrKathleenRoss1))\n",
    "\n",
    "write.csv(percentage_csv, \"NFRF_percentages.csv\")\n",
    "  "
   ]
  },
  {
   "cell_type": "code",
   "execution_count": 58,
   "metadata": {
    "vscode": {
     "languageId": "r"
    }
   },
   "outputs": [
    {
     "data": {
      "text/html": [
       "<table class=\"dataframe\">\n",
       "<caption>A data.frame: 110 × 2</caption>\n",
       "<thead>\n",
       "\t<tr><th scope=col>names</th><th scope=col>values</th></tr>\n",
       "\t<tr><th scope=col>&lt;chr&gt;</th><th scope=col>&lt;dbl&gt;</th></tr>\n",
       "</thead>\n",
       "<tbody>\n",
       "\t<tr><td>adriandix      </td><td>3.4162971</td></tr>\n",
       "\t<tr><td>AlikaMD        </td><td>1.4880552</td></tr>\n",
       "\t<tr><td>AmyGreerKalisz </td><td>1.3942202</td></tr>\n",
       "\t<tr><td>angie_rasmussen</td><td>2.0119058</td></tr>\n",
       "\t<tr><td>AnnaBlakney    </td><td>0.2371542</td></tr>\n",
       "\t<tr><td>AntibioticDoc  </td><td>2.7234474</td></tr>\n",
       "\t<tr><td>asapscience    </td><td>1.9421033</td></tr>\n",
       "\t<tr><td>ASPphysician   </td><td>1.2203877</td></tr>\n",
       "\t<tr><td>atRachelGilmore</td><td>6.0635279</td></tr>\n",
       "\t<tr><td>binhanv        </td><td>0.0000000</td></tr>\n",
       "\t<tr><td>BirinderNarang </td><td>2.2090657</td></tr>\n",
       "\t<tr><td>blackdocscanada</td><td>0.5960569</td></tr>\n",
       "\t<tr><td>BogochIsaac    </td><td>3.2020160</td></tr>\n",
       "\t<tr><td>bornk          </td><td>0.6589786</td></tr>\n",
       "\t<tr><td>carlyweeks     </td><td>2.2806432</td></tr>\n",
       "\t<tr><td>CaulfieldTim   </td><td>4.0615928</td></tr>\n",
       "\t<tr><td>CDCofBC        </td><td>2.6004984</td></tr>\n",
       "\t<tr><td>cdube_sante    </td><td>1.9851911</td></tr>\n",
       "\t<tr><td>cfpcceo        </td><td>0.6760910</td></tr>\n",
       "\t<tr><td>ChiefSciCan    </td><td>2.0011517</td></tr>\n",
       "\t<tr><td>cmcovidtf      </td><td>0.0000000</td></tr>\n",
       "\t<tr><td>CMOH_Alberta   </td><td>5.0288900</td></tr>\n",
       "\t<tr><td>CMOH_NL        </td><td>3.4236004</td></tr>\n",
       "\t<tr><td>conquercovid19 </td><td>0.2314815</td></tr>\n",
       "\t<tr><td>COVID_19_Canada</td><td>0.1886461</td></tr>\n",
       "\t<tr><td>COVIDSciOntario</td><td>2.4965289</td></tr>\n",
       "\t<tr><td>CPHO_Canada    </td><td>5.4408748</td></tr>\n",
       "\t<tr><td>ctouzin        </td><td>0.4175365</td></tr>\n",
       "\t<tr><td>CTV_AvisFavaro </td><td>1.7448201</td></tr>\n",
       "\t<tr><td>DeNovo_Fatima  </td><td>2.3435443</td></tr>\n",
       "\t<tr><td>...</td><td>...</td></tr>\n",
       "\t<tr><td>paimadhu       </td><td>1.5529640</td></tr>\n",
       "\t<tr><td>PattyHajdu     </td><td>3.6514498</td></tr>\n",
       "\t<tr><td>picardonhealth </td><td>2.4960506</td></tr>\n",
       "\t<tr><td>RicharLisa     </td><td>3.4646136</td></tr>\n",
       "\t<tr><td>roussin_brent  </td><td>6.0188614</td></tr>\n",
       "\t<tr><td>sabaeitizaz    </td><td>4.7436589</td></tr>\n",
       "\t<tr><td>sabiVM         </td><td>1.1353910</td></tr>\n",
       "\t<tr><td>SammyG_MD      </td><td>4.1799182</td></tr>\n",
       "\t<tr><td>sarperotto     </td><td>0.4101593</td></tr>\n",
       "\t<tr><td>SciChefCan     </td><td>0.4843918</td></tr>\n",
       "\t<tr><td>sciencemonkeyca</td><td>1.7881350</td></tr>\n",
       "\t<tr><td>ScienceUpFirst </td><td>3.3549838</td></tr>\n",
       "\t<tr><td>sdbaral        </td><td>2.5969671</td></tr>\n",
       "\t<tr><td>shandro        </td><td>4.6363792</td></tr>\n",
       "\t<tr><td>SharkawyMD     </td><td>2.3467447</td></tr>\n",
       "\t<tr><td>shazmamithani  </td><td>1.5780751</td></tr>\n",
       "\t<tr><td>ShephardDorothy</td><td>2.8291621</td></tr>\n",
       "\t<tr><td>srinmurthy99   </td><td>0.2976190</td></tr>\n",
       "\t<tr><td>SteiniBrown    </td><td>3.0751174</td></tr>\n",
       "\t<tr><td>theresaboyle   </td><td>1.4184694</td></tr>\n",
       "\t<tr><td>thisisourshotca</td><td>2.5090737</td></tr>\n",
       "\t<tr><td>TorontoIDDOC   </td><td>2.0004948</td></tr>\n",
       "\t<tr><td>UbakaOgbogu    </td><td>6.3936859</td></tr>\n",
       "\t<tr><td>VaxHuntersCan  </td><td>0.3124840</td></tr>\n",
       "\t<tr><td>VeraEtches     </td><td>2.7938839</td></tr>\n",
       "\t<tr><td>VikCBC         </td><td>1.7743980</td></tr>\n",
       "\t<tr><td>wickdchiq      </td><td>5.8401209</td></tr>\n",
       "\t<tr><td>zachchurchhill </td><td>1.7871463</td></tr>\n",
       "\t<tr><td>zchangla       </td><td>1.8694945</td></tr>\n",
       "\t<tr><td>DrKathleenRoss1</td><td>1.3196094</td></tr>\n",
       "</tbody>\n",
       "</table>\n"
      ],
      "text/latex": [
       "A data.frame: 110 × 2\n",
       "\\begin{tabular}{ll}\n",
       " names & values\\\\\n",
       " <chr> & <dbl>\\\\\n",
       "\\hline\n",
       "\t adriandix       & 3.4162971\\\\\n",
       "\t AlikaMD         & 1.4880552\\\\\n",
       "\t AmyGreerKalisz  & 1.3942202\\\\\n",
       "\t angie\\_rasmussen & 2.0119058\\\\\n",
       "\t AnnaBlakney     & 0.2371542\\\\\n",
       "\t AntibioticDoc   & 2.7234474\\\\\n",
       "\t asapscience     & 1.9421033\\\\\n",
       "\t ASPphysician    & 1.2203877\\\\\n",
       "\t atRachelGilmore & 6.0635279\\\\\n",
       "\t binhanv         & 0.0000000\\\\\n",
       "\t BirinderNarang  & 2.2090657\\\\\n",
       "\t blackdocscanada & 0.5960569\\\\\n",
       "\t BogochIsaac     & 3.2020160\\\\\n",
       "\t bornk           & 0.6589786\\\\\n",
       "\t carlyweeks      & 2.2806432\\\\\n",
       "\t CaulfieldTim    & 4.0615928\\\\\n",
       "\t CDCofBC         & 2.6004984\\\\\n",
       "\t cdube\\_sante     & 1.9851911\\\\\n",
       "\t cfpcceo         & 0.6760910\\\\\n",
       "\t ChiefSciCan     & 2.0011517\\\\\n",
       "\t cmcovidtf       & 0.0000000\\\\\n",
       "\t CMOH\\_Alberta    & 5.0288900\\\\\n",
       "\t CMOH\\_NL         & 3.4236004\\\\\n",
       "\t conquercovid19  & 0.2314815\\\\\n",
       "\t COVID\\_19\\_Canada & 0.1886461\\\\\n",
       "\t COVIDSciOntario & 2.4965289\\\\\n",
       "\t CPHO\\_Canada     & 5.4408748\\\\\n",
       "\t ctouzin         & 0.4175365\\\\\n",
       "\t CTV\\_AvisFavaro  & 1.7448201\\\\\n",
       "\t DeNovo\\_Fatima   & 2.3435443\\\\\n",
       "\t ... & ...\\\\\n",
       "\t paimadhu        & 1.5529640\\\\\n",
       "\t PattyHajdu      & 3.6514498\\\\\n",
       "\t picardonhealth  & 2.4960506\\\\\n",
       "\t RicharLisa      & 3.4646136\\\\\n",
       "\t roussin\\_brent   & 6.0188614\\\\\n",
       "\t sabaeitizaz     & 4.7436589\\\\\n",
       "\t sabiVM          & 1.1353910\\\\\n",
       "\t SammyG\\_MD       & 4.1799182\\\\\n",
       "\t sarperotto      & 0.4101593\\\\\n",
       "\t SciChefCan      & 0.4843918\\\\\n",
       "\t sciencemonkeyca & 1.7881350\\\\\n",
       "\t ScienceUpFirst  & 3.3549838\\\\\n",
       "\t sdbaral         & 2.5969671\\\\\n",
       "\t shandro         & 4.6363792\\\\\n",
       "\t SharkawyMD      & 2.3467447\\\\\n",
       "\t shazmamithani   & 1.5780751\\\\\n",
       "\t ShephardDorothy & 2.8291621\\\\\n",
       "\t srinmurthy99    & 0.2976190\\\\\n",
       "\t SteiniBrown     & 3.0751174\\\\\n",
       "\t theresaboyle    & 1.4184694\\\\\n",
       "\t thisisourshotca & 2.5090737\\\\\n",
       "\t TorontoIDDOC    & 2.0004948\\\\\n",
       "\t UbakaOgbogu     & 6.3936859\\\\\n",
       "\t VaxHuntersCan   & 0.3124840\\\\\n",
       "\t VeraEtches      & 2.7938839\\\\\n",
       "\t VikCBC          & 1.7743980\\\\\n",
       "\t wickdchiq       & 5.8401209\\\\\n",
       "\t zachchurchhill  & 1.7871463\\\\\n",
       "\t zchangla        & 1.8694945\\\\\n",
       "\t DrKathleenRoss1 & 1.3196094\\\\\n",
       "\\end{tabular}\n"
      ],
      "text/markdown": [
       "\n",
       "A data.frame: 110 × 2\n",
       "\n",
       "| names &lt;chr&gt; | values &lt;dbl&gt; |\n",
       "|---|---|\n",
       "| adriandix       | 3.4162971 |\n",
       "| AlikaMD         | 1.4880552 |\n",
       "| AmyGreerKalisz  | 1.3942202 |\n",
       "| angie_rasmussen | 2.0119058 |\n",
       "| AnnaBlakney     | 0.2371542 |\n",
       "| AntibioticDoc   | 2.7234474 |\n",
       "| asapscience     | 1.9421033 |\n",
       "| ASPphysician    | 1.2203877 |\n",
       "| atRachelGilmore | 6.0635279 |\n",
       "| binhanv         | 0.0000000 |\n",
       "| BirinderNarang  | 2.2090657 |\n",
       "| blackdocscanada | 0.5960569 |\n",
       "| BogochIsaac     | 3.2020160 |\n",
       "| bornk           | 0.6589786 |\n",
       "| carlyweeks      | 2.2806432 |\n",
       "| CaulfieldTim    | 4.0615928 |\n",
       "| CDCofBC         | 2.6004984 |\n",
       "| cdube_sante     | 1.9851911 |\n",
       "| cfpcceo         | 0.6760910 |\n",
       "| ChiefSciCan     | 2.0011517 |\n",
       "| cmcovidtf       | 0.0000000 |\n",
       "| CMOH_Alberta    | 5.0288900 |\n",
       "| CMOH_NL         | 3.4236004 |\n",
       "| conquercovid19  | 0.2314815 |\n",
       "| COVID_19_Canada | 0.1886461 |\n",
       "| COVIDSciOntario | 2.4965289 |\n",
       "| CPHO_Canada     | 5.4408748 |\n",
       "| ctouzin         | 0.4175365 |\n",
       "| CTV_AvisFavaro  | 1.7448201 |\n",
       "| DeNovo_Fatima   | 2.3435443 |\n",
       "| ... | ... |\n",
       "| paimadhu        | 1.5529640 |\n",
       "| PattyHajdu      | 3.6514498 |\n",
       "| picardonhealth  | 2.4960506 |\n",
       "| RicharLisa      | 3.4646136 |\n",
       "| roussin_brent   | 6.0188614 |\n",
       "| sabaeitizaz     | 4.7436589 |\n",
       "| sabiVM          | 1.1353910 |\n",
       "| SammyG_MD       | 4.1799182 |\n",
       "| sarperotto      | 0.4101593 |\n",
       "| SciChefCan      | 0.4843918 |\n",
       "| sciencemonkeyca | 1.7881350 |\n",
       "| ScienceUpFirst  | 3.3549838 |\n",
       "| sdbaral         | 2.5969671 |\n",
       "| shandro         | 4.6363792 |\n",
       "| SharkawyMD      | 2.3467447 |\n",
       "| shazmamithani   | 1.5780751 |\n",
       "| ShephardDorothy | 2.8291621 |\n",
       "| srinmurthy99    | 0.2976190 |\n",
       "| SteiniBrown     | 3.0751174 |\n",
       "| theresaboyle    | 1.4184694 |\n",
       "| thisisourshotca | 2.5090737 |\n",
       "| TorontoIDDOC    | 2.0004948 |\n",
       "| UbakaOgbogu     | 6.3936859 |\n",
       "| VaxHuntersCan   | 0.3124840 |\n",
       "| VeraEtches      | 2.7938839 |\n",
       "| VikCBC          | 1.7743980 |\n",
       "| wickdchiq       | 5.8401209 |\n",
       "| zachchurchhill  | 1.7871463 |\n",
       "| zchangla        | 1.8694945 |\n",
       "| DrKathleenRoss1 | 1.3196094 |\n",
       "\n"
      ],
      "text/plain": [
       "    names           values   \n",
       "1   adriandix       3.4162971\n",
       "2   AlikaMD         1.4880552\n",
       "3   AmyGreerKalisz  1.3942202\n",
       "4   angie_rasmussen 2.0119058\n",
       "5   AnnaBlakney     0.2371542\n",
       "6   AntibioticDoc   2.7234474\n",
       "7   asapscience     1.9421033\n",
       "8   ASPphysician    1.2203877\n",
       "9   atRachelGilmore 6.0635279\n",
       "10  binhanv         0.0000000\n",
       "11  BirinderNarang  2.2090657\n",
       "12  blackdocscanada 0.5960569\n",
       "13  BogochIsaac     3.2020160\n",
       "14  bornk           0.6589786\n",
       "15  carlyweeks      2.2806432\n",
       "16  CaulfieldTim    4.0615928\n",
       "17  CDCofBC         2.6004984\n",
       "18  cdube_sante     1.9851911\n",
       "19  cfpcceo         0.6760910\n",
       "20  ChiefSciCan     2.0011517\n",
       "21  cmcovidtf       0.0000000\n",
       "22  CMOH_Alberta    5.0288900\n",
       "23  CMOH_NL         3.4236004\n",
       "24  conquercovid19  0.2314815\n",
       "25  COVID_19_Canada 0.1886461\n",
       "26  COVIDSciOntario 2.4965289\n",
       "27  CPHO_Canada     5.4408748\n",
       "28  ctouzin         0.4175365\n",
       "29  CTV_AvisFavaro  1.7448201\n",
       "30  DeNovo_Fatima   2.3435443\n",
       "... ...             ...      \n",
       "81  paimadhu        1.5529640\n",
       "82  PattyHajdu      3.6514498\n",
       "83  picardonhealth  2.4960506\n",
       "84  RicharLisa      3.4646136\n",
       "85  roussin_brent   6.0188614\n",
       "86  sabaeitizaz     4.7436589\n",
       "87  sabiVM          1.1353910\n",
       "88  SammyG_MD       4.1799182\n",
       "89  sarperotto      0.4101593\n",
       "90  SciChefCan      0.4843918\n",
       "91  sciencemonkeyca 1.7881350\n",
       "92  ScienceUpFirst  3.3549838\n",
       "93  sdbaral         2.5969671\n",
       "94  shandro         4.6363792\n",
       "95  SharkawyMD      2.3467447\n",
       "96  shazmamithani   1.5780751\n",
       "97  ShephardDorothy 2.8291621\n",
       "98  srinmurthy99    0.2976190\n",
       "99  SteiniBrown     3.0751174\n",
       "100 theresaboyle    1.4184694\n",
       "101 thisisourshotca 2.5090737\n",
       "102 TorontoIDDOC    2.0004948\n",
       "103 UbakaOgbogu     6.3936859\n",
       "104 VaxHuntersCan   0.3124840\n",
       "105 VeraEtches      2.7938839\n",
       "106 VikCBC          1.7743980\n",
       "107 wickdchiq       5.8401209\n",
       "108 zachchurchhill  1.7871463\n",
       "109 zchangla        1.8694945\n",
       "110 DrKathleenRoss1 1.3196094"
      ]
     },
     "metadata": {},
     "output_type": "display_data"
    }
   ],
   "source": [
    "percentage_csv"
   ]
  }
 ],
 "metadata": {
  "kernelspec": {
   "display_name": "R",
   "language": "R",
   "name": "ir"
  },
  "language_info": {
   "codemirror_mode": "r",
   "file_extension": ".r",
   "mimetype": "text/x-r-source",
   "name": "R",
   "pygments_lexer": "r",
   "version": "4.1.3"
  }
 },
 "nbformat": 4,
 "nbformat_minor": 2
}
