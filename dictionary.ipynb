{
 "cells": [
  {
   "cell_type": "code",
   "execution_count": null,
   "metadata": {
    "vscode": {
     "languageId": "r"
    }
   },
   "outputs": [],
   "source": [
    "library(tidyverse)\n",
    "library(data.table)\n",
    "library(dplyr)\n",
    "library(stringr)\n",
    "library(readr)\n",
    "library(tidyverse)\n",
    "library(RcppParallel)\n",
    "library(quanteda)\n",
    "library(janeaustenr)\n",
    "library(dplyr)\n",
    "library(tidyr)\n",
    "library(tidytext)"
   ]
  },
  {
   "cell_type": "code",
   "execution_count": null,
   "metadata": {
    "vscode": {
     "languageId": "r"
    }
   },
   "outputs": [],
   "source": [
    "twitter_csv <- fread(\"UBC-ISD.csv\", encoding=\"UTF-8\")"
   ]
  },
  {
   "cell_type": "code",
   "execution_count": null,
   "metadata": {
    "vscode": {
     "languageId": "r"
    }
   },
   "outputs": [],
   "source": [
    "terms <- c('fuck', 'dirty', 'stupid', 'idiot', 'asshole', 'bastard', 'nasty', 'whore', 'slut', 'skank', 'cunt', 'bitch', 'motherfucker', 'go to hell', 'wimp', 'coward', 'moron', 'traitor', 'shut up', 'shut the fuck up', 'stfu', 'piece of shit', 'ignorant', 'clown', 'ccpvirus', 'chinese coronavirus', 'chinavirus', 'china virus', 'fuckchina', 'nukechina', 'bombchina', 'deathtochina', 'chinesevirus', 'fake lab wuhan', 'china weapon', 'china bioweapon', 'zionazi', 'Soros virus', 'blood libel', 'nwovirus', 'new world order', 'sacrifice children', 'jew world order', 'liar', 'yellow star', 'israel virus', 'israelvirus', 'rothschild covid', 'kalergi plan', 'jail', 'locked up', 'evil.', 'is evil', 'so evil', 'pure evil', 'an evil', 'evil wom', 'evil man', 'evil witch', 'is evil', 'are evil', 'that evil', 'very evil', 'tyrant', 'tyranny', 'dictator', 'tv doctor', 'twitter doctor', 'murder', 'murderer', 'eugenic', 'satan', 'Nazi', 'non-human', 'sterile', 'slave', 'crooked', 'corrupt', 'shill', 'liar', 'lying', 'killer', 'fraud', 'big pharma', 'pharma puppet', 'Nuremberg', 'crimes against humanity', 'genocide', 'child abuse', 'covid hoax', 'covid fake', 'virus hoax', 'gates virus', 'bioweapon', 'secret elite', 'depopulation', 'save our children', 'scamdemic', 'plandemic')\n",
    "terms <- paste0(\" \", terms)"
   ]
  },
  {
   "cell_type": "code",
   "execution_count": null,
   "metadata": {
    "vscode": {
     "languageId": "r"
    }
   },
   "outputs": [],
   "source": [
    "terms"
   ]
  },
  {
   "cell_type": "code",
   "execution_count": null,
   "metadata": {
    "vscode": {
     "languageId": "r"
    }
   },
   "outputs": [],
   "source": [
    "\n",
    "twitter_data <- twitter_csv |>\n",
    "select(starts_with(\"twitter\"))\n",
    "\n",
    "colnames(twitter_data) <- str_replace(colnames(twitter_data), \"twitter.tweet/\", \"\")\n",
    "colnames(twitter_data) <- str_replace(colnames(twitter_data), \"twitter.user/\", \"\")\n",
    "\n",
    "\n",
    "colnames(twitter_data)"
   ]
  },
  {
   "cell_type": "code",
   "execution_count": null,
   "metadata": {
    "vscode": {
     "languageId": "r"
    }
   },
   "outputs": [],
   "source": [
    "twitter_info<- twitter_data |>\n",
    "select(\"text\", \"created\")"
   ]
  },
  {
   "cell_type": "code",
   "execution_count": null,
   "metadata": {
    "vscode": {
     "languageId": "r"
    }
   },
   "outputs": [],
   "source": [
    "pattern <- paste(terms, collapse = \"|\")\n",
    "\n",
    "twitter_info <- twitter_info |>\n",
    "  mutate(negative = as.integer(grepl(pattern, text, ignore.case = TRUE)))"
   ]
  },
  {
   "cell_type": "code",
   "execution_count": null,
   "metadata": {
    "vscode": {
     "languageId": "r"
    }
   },
   "outputs": [],
   "source": [
    "twitter_info"
   ]
  },
  {
   "cell_type": "code",
   "execution_count": null,
   "metadata": {
    "vscode": {
     "languageId": "r"
    }
   },
   "outputs": [],
   "source": [
    "extract_hashtags <- function(x) {\n",
    "  hashtags <- str_extract_all(x, \"#\\\\S+\")\n",
    "  return(unlist(hashtags))\n",
    "}"
   ]
  },
  {
   "cell_type": "code",
   "execution_count": null,
   "metadata": {
    "vscode": {
     "languageId": "r"
    }
   },
   "outputs": [],
   "source": [
    "library(tidyverse)"
   ]
  },
  {
   "cell_type": "code",
   "execution_count": null,
   "metadata": {
    "vscode": {
     "languageId": "r"
    }
   },
   "outputs": [],
   "source": [
    "twitter_info <- twitter_info |>\n",
    "  mutate(hashtags = lapply(text, extract_hashtags))|>\n",
    "  unnest(hashtags)|>\n",
    "  mutate(hashtags = str_replace_all(hashtags, \"\\\\.$\", \"\"))|>\n",
    "  filter(hashtags != \"character(0)\")"
   ]
  },
  {
   "cell_type": "code",
   "execution_count": null,
   "metadata": {
    "vscode": {
     "languageId": "r"
    }
   },
   "outputs": [],
   "source": [
    "twitter_graphing <- twitter_info |>\n",
    "select(created, negative)|>\n",
    "mutate(created = round_date(created, unit = \"day\"))|>\n",
    "group_by(created)|>\n",
    "summarise(freq = n())|>\n",
    "ungroup()"
   ]
  },
  {
   "cell_type": "code",
   "execution_count": null,
   "metadata": {
    "vscode": {
     "languageId": "r"
    }
   },
   "outputs": [],
   "source": [
    "twitter_graphing"
   ]
  },
  {
   "cell_type": "code",
   "execution_count": null,
   "metadata": {
    "vscode": {
     "languageId": "r"
    }
   },
   "outputs": [],
   "source": [
    "options(repr.plot.width=12, repr.plot.height=6) \n",
    "\n",
    "graph <- twitter_graphing|>\n",
    "    ggplot(aes(x=created, y=freq))+geom_point(alpha=0.3, color=\"#f08f84\")+\n",
    "    geom_smooth(aes(), span=0.1, method=\"loess\", se=FALSE, size=1, color=\"#bd3526\")+\n",
    "    scale_x_datetime(date_breaks = \"1 month\", date_labels = \"%b %Y\")+\n",
    "    theme(aspect.ratio=1/2, axis.text.x = element_text(angle=45, hjust = 1))+\n",
    "    theme_bw()+\n",
    "    labs(\n",
    "        title=\"Frequency of toxic tweets in ISD Dataset\", \n",
    "       subtitle=\"Dictionary-Based Approach\",\n",
    "       y=\"Frequency (# of Tweets)\", \n",
    "       x=\"Date\",\n",
    "       color=NULL\n",
    "       )\n",
    "graph\n",
    "\n",
    "ggsave(\"toxic_tweets_dictionary_span.png\", width=10, height=5)"
   ]
  }
 ],
 "metadata": {
  "kernelspec": {
   "display_name": "R",
   "language": "R",
   "name": "ir"
  },
  "language_info": {
   "codemirror_mode": "r",
   "file_extension": ".r",
   "mimetype": "text/x-r-source",
   "name": "R",
   "pygments_lexer": "r",
   "version": "4.1.3"
  }
 },
 "nbformat": 4,
 "nbformat_minor": 2
}
